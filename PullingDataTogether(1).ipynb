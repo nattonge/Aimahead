{
 "cells": [
  {
   "cell_type": "markdown",
   "id": "96928f18",
   "metadata": {},
   "source": [
    "# Setup"
   ]
  },
  {
   "cell_type": "code",
   "execution_count": 22,
   "id": "37f710f5",
   "metadata": {
    "scrolled": true
   },
   "outputs": [
    {
     "name": "stderr",
     "output_type": "stream",
     "text": [
      "── \u001b[1mAttaching core tidyverse packages\u001b[22m ──────────────────────── tidyverse 2.0.0 ──\n",
      "\u001b[32m✔\u001b[39m \u001b[34mforcats  \u001b[39m 1.0.0     \u001b[32m✔\u001b[39m \u001b[34mpurrr    \u001b[39m 1.0.2\n",
      "\u001b[32m✔\u001b[39m \u001b[34mggplot2  \u001b[39m 3.5.0     \u001b[32m✔\u001b[39m \u001b[34mreadr    \u001b[39m 2.1.5\n",
      "\u001b[32m✔\u001b[39m \u001b[34mlubridate\u001b[39m 1.9.3     \u001b[32m✔\u001b[39m \u001b[34mtibble   \u001b[39m 3.2.1\n",
      "── \u001b[1mConflicts\u001b[22m ────────────────────────────────────────── tidyverse_conflicts() ──\n",
      "\u001b[31m✖\u001b[39m \u001b[34mdplyr\u001b[39m::\u001b[32mfilter()\u001b[39m masks \u001b[34mstats\u001b[39m::filter()\n",
      "\u001b[31m✖\u001b[39m \u001b[34mdplyr\u001b[39m::\u001b[32mlag()\u001b[39m    masks \u001b[34mstats\u001b[39m::lag()\n",
      "\u001b[36mℹ\u001b[39m Use the conflicted package (\u001b[3m\u001b[34m<http://conflicted.r-lib.org/>\u001b[39m\u001b[23m) to force all conflicts to become errors\n"
     ]
    },
    {
     "ename": "ERROR",
     "evalue": "Error in library(e0171): there is no package called ‘e0171’\n",
     "output_type": "error",
     "traceback": [
      "Error in library(e0171): there is no package called ‘e0171’\nTraceback:\n",
      "1. library(e0171)"
     ]
    }
   ],
   "source": [
    "#install.packages(\"odbc\")\n",
    "#install.packages(\"DBI\")\n",
    "#install.packages(\"rstudioapi\")\n",
    "\n",
    "library(odbc)\n",
    "library(dplyr)\n",
    "library(stringr)\n",
    "library(tidyr)\n",
    "library(tidyverse)\n",
    "library(ggplot2)\n",
    "library(e0171)"
   ]
  },
  {
   "cell_type": "code",
   "execution_count": null,
   "id": "0bf3581d",
   "metadata": {},
   "outputs": [],
   "source": [
    "#install.packages(\"eeptools\") # to calculate ages\n",
    "#install.packages(\"apaTables\")\n",
    "#install.packages(\"tableone\")\n"
   ]
  },
  {
   "cell_type": "code",
   "execution_count": null,
   "id": "b99b8f29",
   "metadata": {},
   "outputs": [],
   "source": [
    "system(\"sudo su -c 'curl https://packages.microsoft.com/config/rhel/7/prod.repo > /etc/yum.repos.d/mssql-release.repo && exit'\")\n",
    "system(\"sudo yum remove unixODBC-utf16 unixODBC-utf16-devel\")\n",
    "system(\"sudo ACCEPT_EULA=Y yum install -y msodbcsql17\")\n",
    "system(\"sudo ACCEPT_EULA=Y yum install -y mssql-tools\")\n",
    "system(\"echo 'export PATH='$PATH:/opt/mssql-tools/bin'' >> ~/.bashrc\")\n",
    "system(\"source ~/.bashrc\")\n",
    "system(\"sudo yum install -y unixODBC-devel\")"
   ]
  },
  {
   "cell_type": "code",
   "execution_count": null,
   "id": "c9f0bc77",
   "metadata": {},
   "outputs": [],
   "source": [
    "file_path <- '/home/ec2-user/SageMaker/db-credentials.txt'\n",
    "db_creds_df <- read.table(file_path)\n",
    "db_creds <- db_creds_df$V3\n",
    "names(db_creds) <- db_creds_df$V1\n",
    "db_creds <- trimws(db_creds)\n",
    "#db_creds"
   ]
  },
  {
   "cell_type": "code",
   "execution_count": null,
   "id": "c6c112af",
   "metadata": {},
   "outputs": [],
   "source": [
    "# load database\n",
    "db <- 'S35'"
   ]
  },
  {
   "cell_type": "code",
   "execution_count": null,
   "id": "f8533353",
   "metadata": {},
   "outputs": [],
   "source": [
    "connection_string = paste0(\"DRIVER={ODBC Driver 17 for SQL Server};\",\n",
    "                          \"SERVER=\", db_creds['host'], ',', db_creds['port'], ';',\n",
    "                          \"DATABASE=\", db, ';',\n",
    "                          \"UID=\", db_creds['username'], ';',\n",
    "                          \"PWD={\", db_creds['password'], \"};\")\n",
    "\n",
    "#connection_string"
   ]
  },
  {
   "cell_type": "code",
   "execution_count": null,
   "id": "ae30ee1d",
   "metadata": {},
   "outputs": [],
   "source": [
    "db_conn <- DBI::dbConnect(odbc::odbc(), .connection_string = connection_string)"
   ]
  },
  {
   "cell_type": "markdown",
   "id": "113b52c8",
   "metadata": {},
   "source": [
    "# ICD names"
   ]
  },
  {
   "cell_type": "markdown",
   "id": "a0b9fc5f",
   "metadata": {},
   "source": [
    "Loading ICD names to join to datasets and filter using keywords"
   ]
  },
  {
   "cell_type": "code",
   "execution_count": null,
   "id": "d2a2f24d",
   "metadata": {
    "scrolled": false
   },
   "outputs": [],
   "source": [
    "icdnames<-dbGetQuery(db_conn, \"select * from S35.dbo.ICDnames;\")\n",
    "icdnames<-icdnames %>% select(-CONCEPT_PATH)"
   ]
  },
  {
   "cell_type": "markdown",
   "id": "b5a8c47f",
   "metadata": {},
   "source": [
    "# DEMOGRAPHICS"
   ]
  },
  {
   "cell_type": "code",
   "execution_count": 122,
   "id": "86adbfae",
   "metadata": {},
   "outputs": [
    {
     "ename": "ERROR",
     "evalue": "Error in h(simpleError(msg, call)): error in evaluating the argument 'conn' in selecting a method for function 'dbGetQuery': object 'db_conn' not found\n",
     "output_type": "error",
     "traceback": [
      "Error in h(simpleError(msg, call)): error in evaluating the argument 'conn' in selecting a method for function 'dbGetQuery': object 'db_conn' not found\nTraceback:\n",
      "1. dbGetQuery(db_conn, \"select * from S35.dbo.phqdemographics;\")",
      "2. .handleSimpleError(function (cond) \n . .Internal(C_tryCatchHelper(addr, 1L, cond)), \"object 'db_conn' not found\", \n .     base::quote(eval(expr, envir, enclos)))",
      "3. h(simpleError(msg, call))"
     ]
    }
   ],
   "source": [
    "#select patient demographics (subsample of 100 pts)\n",
    "demo<-dbGetQuery(db_conn,\"select * from S35.dbo.phqdemographics;\")\n"
   ]
  },
  {
   "cell_type": "markdown",
   "id": "164b1fc2",
   "metadata": {},
   "source": [
    "Selecting only on the Phq-9 which is PRO:ADV0014. PRO:ADV0045 is the PHQ-2. Specificty isn't quite as high as the PHQ9 but there are far more administered."
   ]
  },
  {
   "cell_type": "markdown",
   "id": "1ebe29dc",
   "metadata": {},
   "source": [
    "# Coding the factor levels for Demographic Variables"
   ]
  },
  {
   "cell_type": "code",
   "execution_count": null,
   "id": "2f2f8a8c",
   "metadata": {},
   "outputs": [],
   "source": [
    "demo %>% head()"
   ]
  },
  {
   "cell_type": "code",
   "execution_count": null,
   "id": "ca9fcc6c",
   "metadata": {},
   "outputs": [],
   "source": [
    "library(haven)\n",
    "library(purrr)\n",
    "library(apaTables)"
   ]
  },
  {
   "cell_type": "code",
   "execution_count": null,
   "id": "f8e850bf",
   "metadata": {
    "scrolled": true
   },
   "outputs": [],
   "source": [
    "complete.demo<-complete.df %>% as.matrix() %>% as.data.frame() %>% mutate(\n",
    "    BIRTH_DATE=as_date(BIRTH_DATE),\n",
    "    AdminDate=as_date(AdminDate),\n",
    "Age=age_calc(dob = BIRTH_DATE, enddate = AdminDate, units = \"years\"))  %>% \n",
    "mutate(FPL=case_match(CURRENT_FPL_CD,\"DEM|FPL:<=100\"~\"FPL Below 100\",\"DEM|FPL:151-200\"~\"FPL 151-200\",\"DEM|FPL:UN\"~\"FPL Unknown\",\"DEM|FPL:>200\n",
    "\"~\"FPL Over 200\", \"DEM|FPL:101-150\"~\"FPL 101-150\"),\n",
    " Marital=case_match(MARITAL_STATUS_CD,\"DEM|MARITAL:Other\"~\"Other\",\n",
    "\"DEM|MARITAL:Widowed\"~\"Widowed\",\n",
    "\"DEM|MARITAL:Divorced\"~\"Divorced\",\n",
    "\"DEM|MARITAL:Separated\"~\"Separated\",\n",
    "\"DEM|MARITAL:Domestic Partner\"~\"Domestic Partner\",\n",
    "\"DEM|MARITAL:Significant Other\"~\"Significant Other\",\n",
    "\"DEM|MARITAL:Married\"~\"Married\",\n",
    "\"DEM|MARITAL:Single\"~\"Single\",\n",
    "\"DEM|MARITAL:NI\"~\"Marital NI\"),\n",
    "Gender=case_match(GENDER_CD,\"DEM|GENDER:TG\"~\"Transgender\",\n",
    "\"DEM|GENDER:GQ\"~\"Genderqueer\",\n",
    "\"DEM|GENDER:UN\"~\"Unknown / Missing\",\n",
    "\"DEM|GENDER:OT\"~\"Other\",\n",
    "\"DEM|GENDER:M\"~\"Man\",\n",
    "\"DEM|GENDER:W\"~\"Woman\"),\n",
    "Race=case_match(RACE_CD,\"DEM|RACE:02\"~\"Asian\",\n",
    "\"DEM|RACE:06\"~\"Multiple race\",\n",
    "\"DEM|RACE:01\"~\"American Indian or Alaskan Native\",\n",
    "\"DEM|RACE:05\"~\"White\",\n",
    "\"DEM|RACE:03\"~\"Black or African American\",\n",
    "\"DEM|RACE:07\"~\"Refuse to answer\",\n",
    "\"DEM|RACE:04\"~\"Native Hawaiian or Other Pacific Islander\",\n",
    "\"DEM|RACE:OT\"~\"Other\"),\n",
    "Rural=case_match(RURAL_CD,\"DEM|RURAL:Y\"~\"Yes\",\n",
    "\"DEM|RURAL:N\"~\"No\"),\n",
    "Sex=case_match(SEX_CD,\"DEM|SEX:NI\"~\"Sex No Informatsuion\",\n",
    "\"DEM|SEX:F\"~\"Female\",\n",
    "\"DEM|SEX:M\"~\"Male\",\n",
    "\"DEM|SEX:UN\"~\"Sex Unknown\"),\n",
    "Sexor=case_match(SEXORIENTATION_CD,\"DEM|SEXORIENTATION:GA\"~\"Gay\",\n",
    "\"DEM|SEXORIENTATION:SE\"~\"Something else\",\n",
    "\"DEM|SEXORIENTATION:LE\"~\"Lesbain\",\n",
    "\"DEM|SEXORIENTATION:ST\"~\"Straight\",\n",
    "\"DEM|SEXORIENTATION:MU\"~\"Multiple sexual orientations\",\n",
    "\"DEM|SEXORIENTATION:UN\"~\"Unknown/ Missing\",\n",
    "\"DEM|SEXORIENTATION:BI\"~\"Bisexual\",\n",
    "\"DEM|SEXORIENTATION:QU\"~\"Queer\"))%>% \n",
    "mutate(across(c(HEALTH_SYSTEM_ID,CURRENT_FPL_CD:SEXORIENTATION_CD,FPL:Sexor),~factor(.)))\n"
   ]
  },
  {
   "cell_type": "markdown",
   "id": "db2cf5a9",
   "metadata": {},
   "source": [
    "# PHQ"
   ]
  },
  {
   "cell_type": "markdown",
   "id": "8beaca5e",
   "metadata": {},
   "source": [
    "# CURRENT WORKING BAND"
   ]
  },
  {
   "cell_type": "code",
   "execution_count": null,
   "id": "ac1f459a",
   "metadata": {},
   "outputs": [],
   "source": [
    "phqcomplete<-dbGetQuery(db_conn,\"select * from S35.dbo.phqcomplete;\")"
   ]
  },
  {
   "cell_type": "code",
   "execution_count": null,
   "id": "3dabfdd9",
   "metadata": {},
   "outputs": [],
   "source": [
    "## phqcomplete with depression or hyp filter\n",
    "phqcomplete<-phqcomplete %>% left_join(icdnames)\n"
   ]
  },
  {
   "cell_type": "code",
   "execution_count": null,
   "id": "cb8bbfbc",
   "metadata": {},
   "outputs": [],
   "source": [
    "#playing with doing vitals in the dataset in one go to avoid merge problems\n",
    "phqnewcols<-phqcomplete %>%  mutate(NAME_CHAR=\n",
    "       case_when(\n",
    "       str_detect(NAME_CHAR,\"Depress\")~\"Depressed\",\n",
    "       str_detect(NAME_CHAR,\"Type II|Type 2|Diabetes\")~\"Diabetes\",\n",
    "       str_detect(NAME_CHAR,\"Hyperlipidemia\")~\"Hyperlipidemia\",\n",
    "       str_detect(NAME_CHAR,\"Hypertens\")~\"Hypertension\",\n",
    "       str_detect(NAME_CHAR,\"Obesity\")~\"Obesity\"\n",
    "       #.default=NAME_CHAR\n",
    "       ))%>% mutate(Vitals=\n",
    "      case_when(\n",
    "       str_detect(CONCEPT_CD,\"BMI\")~\"BMI\", \n",
    "       str_detect(CONCEPT_CD,\"SYS\")~\"SystolicBP\", \n",
    "       str_detect(CONCEPT_CD,\"DIAS\")~\"DiastolicBP\",\n",
    "       str_detect(CONCEPT_CD,\"PRO:ADV0039\")~\"Audit\",\n",
    "       str_detect(CONCEPT_CD,\"PRO:ADV0045\")~\"Phq2\",\n",
    "      )) "
   ]
  },
  {
   "cell_type": "code",
   "execution_count": null,
   "id": "c9b9e20d",
   "metadata": {},
   "outputs": [],
   "source": [
    "phqcomplete %>% group_by(NAME_CHAR) %>% tally() %>% arrange(desc(n)) %>% write.csv(\"ConditionTally.csv\")"
   ]
  },
  {
   "cell_type": "code",
   "execution_count": 52,
   "id": "e27efdbd",
   "metadata": {},
   "outputs": [
    {
     "data": {
      "text/html": [
       "<table class=\"dataframe\">\n",
       "<caption>A grouped_df: 2280711 × 4</caption>\n",
       "<thead>\n",
       "\t<tr><th scope=col>phqPT</th><th scope=col>NAME_CHAR</th><th scope=col>phqEnc</th><th scope=col>n</th></tr>\n",
       "\t<tr><th scope=col>&lt;int&gt;</th><th scope=col>&lt;chr&gt;</th><th scope=col>&lt;int&gt;</th><th scope=col>&lt;int&gt;</th></tr>\n",
       "</thead>\n",
       "<tbody>\n",
       "\t<tr><td>10981548</td><td>Hypertension         </td><td>245786550</td><td>1</td></tr>\n",
       "\t<tr><td>10981335</td><td>Anxiety              </td><td>245786399</td><td>1</td></tr>\n",
       "\t<tr><td>10981335</td><td>Obesity              </td><td>245786399</td><td>1</td></tr>\n",
       "\t<tr><td>10981635</td><td>Bipolar              </td><td>245779166</td><td>1</td></tr>\n",
       "\t<tr><td>10981635</td><td>NA                   </td><td>245779166</td><td>1</td></tr>\n",
       "\t<tr><td>10981230</td><td>Depressed            </td><td>245777266</td><td>1</td></tr>\n",
       "\t<tr><td>10981230</td><td>SUD                  </td><td>245777266</td><td>1</td></tr>\n",
       "\t<tr><td>10981285</td><td>Depressed            </td><td>245773709</td><td>1</td></tr>\n",
       "\t<tr><td>10981629</td><td>NA                   </td><td>245772402</td><td>1</td></tr>\n",
       "\t<tr><td>10981540</td><td>Bipolar              </td><td>245769246</td><td>1</td></tr>\n",
       "\t<tr><td>10981540</td><td>SUD                  </td><td>245769246</td><td>2</td></tr>\n",
       "\t<tr><td>10981540</td><td>Bipolar              </td><td>245768373</td><td>1</td></tr>\n",
       "\t<tr><td>10981540</td><td>SUD                  </td><td>245768373</td><td>1</td></tr>\n",
       "\t<tr><td>10981830</td><td>Anxiety              </td><td>245767046</td><td>1</td></tr>\n",
       "\t<tr><td>10981830</td><td>NA                   </td><td>245767046</td><td>1</td></tr>\n",
       "\t<tr><td>10981285</td><td>Depressed            </td><td>245764536</td><td>1</td></tr>\n",
       "\t<tr><td>10981514</td><td>SUD                  </td><td>245764067</td><td>1</td></tr>\n",
       "\t<tr><td>10981627</td><td>Diabetes             </td><td>245761082</td><td>1</td></tr>\n",
       "\t<tr><td>10981627</td><td>SchizophreniaSpectrum</td><td>245761082</td><td>1</td></tr>\n",
       "\t<tr><td>10981691</td><td>Anxiety              </td><td>245755967</td><td>1</td></tr>\n",
       "\t<tr><td>10981691</td><td>Depressed            </td><td>245755967</td><td>1</td></tr>\n",
       "\t<tr><td>10981691</td><td>Diabetes             </td><td>245755967</td><td>1</td></tr>\n",
       "\t<tr><td>10981691</td><td>Hypertension         </td><td>245755967</td><td>1</td></tr>\n",
       "\t<tr><td>10981691</td><td>NA                   </td><td>245755967</td><td>1</td></tr>\n",
       "\t<tr><td>10981916</td><td>Alcohol              </td><td>245748975</td><td>1</td></tr>\n",
       "\t<tr><td>10981916</td><td>Bipolar              </td><td>245748975</td><td>1</td></tr>\n",
       "\t<tr><td>10981916</td><td>Hyperlipidemia       </td><td>245748975</td><td>1</td></tr>\n",
       "\t<tr><td>10981916</td><td>NA                   </td><td>245748975</td><td>1</td></tr>\n",
       "\t<tr><td>10981190</td><td>Hypertension         </td><td>245745705</td><td>1</td></tr>\n",
       "\t<tr><td>10981190</td><td>Obesity              </td><td>245745705</td><td>1</td></tr>\n",
       "\t<tr><td>⋮</td><td>⋮</td><td>⋮</td><td>⋮</td></tr>\n",
       "\t<tr><td>2958506</td><td>Depressed     </td><td>881</td><td>1</td></tr>\n",
       "\t<tr><td>4162429</td><td>Diabetes      </td><td>847</td><td>1</td></tr>\n",
       "\t<tr><td>4162429</td><td>Hyperlipidemia</td><td>847</td><td>1</td></tr>\n",
       "\t<tr><td>3974185</td><td>Depressed     </td><td>815</td><td>1</td></tr>\n",
       "\t<tr><td>2379753</td><td>Anxiety       </td><td>723</td><td>1</td></tr>\n",
       "\t<tr><td>2379753</td><td>Depressed     </td><td>723</td><td>1</td></tr>\n",
       "\t<tr><td>4763034</td><td>Diabetes      </td><td>712</td><td>1</td></tr>\n",
       "\t<tr><td> 364857</td><td>NA            </td><td>709</td><td>1</td></tr>\n",
       "\t<tr><td> 919447</td><td>NA            </td><td>669</td><td>1</td></tr>\n",
       "\t<tr><td> 632599</td><td>Obesity       </td><td>602</td><td>1</td></tr>\n",
       "\t<tr><td>4222659</td><td>Anxiety       </td><td>585</td><td>1</td></tr>\n",
       "\t<tr><td>4222659</td><td>Tobacco       </td><td>585</td><td>1</td></tr>\n",
       "\t<tr><td>5386069</td><td>Anxiety       </td><td>575</td><td>1</td></tr>\n",
       "\t<tr><td>5386069</td><td>SUD           </td><td>575</td><td>1</td></tr>\n",
       "\t<tr><td>4249903</td><td>Anxiety       </td><td>550</td><td>1</td></tr>\n",
       "\t<tr><td>4249903</td><td>Depressed     </td><td>550</td><td>1</td></tr>\n",
       "\t<tr><td>3265028</td><td>Diabetes      </td><td>484</td><td>1</td></tr>\n",
       "\t<tr><td> 307449</td><td>Depressed     </td><td>468</td><td>1</td></tr>\n",
       "\t<tr><td>2886551</td><td>Depressed     </td><td>438</td><td>2</td></tr>\n",
       "\t<tr><td>2886551</td><td>NA            </td><td>438</td><td>1</td></tr>\n",
       "\t<tr><td>6198662</td><td>Depressed     </td><td>350</td><td>1</td></tr>\n",
       "\t<tr><td> 614590</td><td>Depressed     </td><td>330</td><td>1</td></tr>\n",
       "\t<tr><td>3953545</td><td>Tobacco       </td><td>284</td><td>1</td></tr>\n",
       "\t<tr><td>3953545</td><td>NA            </td><td>284</td><td>2</td></tr>\n",
       "\t<tr><td> 153643</td><td>NA            </td><td>258</td><td>2</td></tr>\n",
       "\t<tr><td>3495692</td><td>Depressed     </td><td>206</td><td>1</td></tr>\n",
       "\t<tr><td>4268777</td><td>Anxiety       </td><td>148</td><td>1</td></tr>\n",
       "\t<tr><td>1178906</td><td>Depressed     </td><td> 69</td><td>1</td></tr>\n",
       "\t<tr><td>5337898</td><td>Anxiety       </td><td> 57</td><td>1</td></tr>\n",
       "\t<tr><td>5337898</td><td>Depressed     </td><td> 57</td><td>1</td></tr>\n",
       "</tbody>\n",
       "</table>\n"
      ],
      "text/latex": [
       "A grouped\\_df: 2280711 × 4\n",
       "\\begin{tabular}{llll}\n",
       " phqPT & NAME\\_CHAR & phqEnc & n\\\\\n",
       " <int> & <chr> & <int> & <int>\\\\\n",
       "\\hline\n",
       "\t 10981548 & Hypertension          & 245786550 & 1\\\\\n",
       "\t 10981335 & Anxiety               & 245786399 & 1\\\\\n",
       "\t 10981335 & Obesity               & 245786399 & 1\\\\\n",
       "\t 10981635 & Bipolar               & 245779166 & 1\\\\\n",
       "\t 10981635 & NA                    & 245779166 & 1\\\\\n",
       "\t 10981230 & Depressed             & 245777266 & 1\\\\\n",
       "\t 10981230 & SUD                   & 245777266 & 1\\\\\n",
       "\t 10981285 & Depressed             & 245773709 & 1\\\\\n",
       "\t 10981629 & NA                    & 245772402 & 1\\\\\n",
       "\t 10981540 & Bipolar               & 245769246 & 1\\\\\n",
       "\t 10981540 & SUD                   & 245769246 & 2\\\\\n",
       "\t 10981540 & Bipolar               & 245768373 & 1\\\\\n",
       "\t 10981540 & SUD                   & 245768373 & 1\\\\\n",
       "\t 10981830 & Anxiety               & 245767046 & 1\\\\\n",
       "\t 10981830 & NA                    & 245767046 & 1\\\\\n",
       "\t 10981285 & Depressed             & 245764536 & 1\\\\\n",
       "\t 10981514 & SUD                   & 245764067 & 1\\\\\n",
       "\t 10981627 & Diabetes              & 245761082 & 1\\\\\n",
       "\t 10981627 & SchizophreniaSpectrum & 245761082 & 1\\\\\n",
       "\t 10981691 & Anxiety               & 245755967 & 1\\\\\n",
       "\t 10981691 & Depressed             & 245755967 & 1\\\\\n",
       "\t 10981691 & Diabetes              & 245755967 & 1\\\\\n",
       "\t 10981691 & Hypertension          & 245755967 & 1\\\\\n",
       "\t 10981691 & NA                    & 245755967 & 1\\\\\n",
       "\t 10981916 & Alcohol               & 245748975 & 1\\\\\n",
       "\t 10981916 & Bipolar               & 245748975 & 1\\\\\n",
       "\t 10981916 & Hyperlipidemia        & 245748975 & 1\\\\\n",
       "\t 10981916 & NA                    & 245748975 & 1\\\\\n",
       "\t 10981190 & Hypertension          & 245745705 & 1\\\\\n",
       "\t 10981190 & Obesity               & 245745705 & 1\\\\\n",
       "\t ⋮ & ⋮ & ⋮ & ⋮\\\\\n",
       "\t 2958506 & Depressed      & 881 & 1\\\\\n",
       "\t 4162429 & Diabetes       & 847 & 1\\\\\n",
       "\t 4162429 & Hyperlipidemia & 847 & 1\\\\\n",
       "\t 3974185 & Depressed      & 815 & 1\\\\\n",
       "\t 2379753 & Anxiety        & 723 & 1\\\\\n",
       "\t 2379753 & Depressed      & 723 & 1\\\\\n",
       "\t 4763034 & Diabetes       & 712 & 1\\\\\n",
       "\t  364857 & NA             & 709 & 1\\\\\n",
       "\t  919447 & NA             & 669 & 1\\\\\n",
       "\t  632599 & Obesity        & 602 & 1\\\\\n",
       "\t 4222659 & Anxiety        & 585 & 1\\\\\n",
       "\t 4222659 & Tobacco        & 585 & 1\\\\\n",
       "\t 5386069 & Anxiety        & 575 & 1\\\\\n",
       "\t 5386069 & SUD            & 575 & 1\\\\\n",
       "\t 4249903 & Anxiety        & 550 & 1\\\\\n",
       "\t 4249903 & Depressed      & 550 & 1\\\\\n",
       "\t 3265028 & Diabetes       & 484 & 1\\\\\n",
       "\t  307449 & Depressed      & 468 & 1\\\\\n",
       "\t 2886551 & Depressed      & 438 & 2\\\\\n",
       "\t 2886551 & NA             & 438 & 1\\\\\n",
       "\t 6198662 & Depressed      & 350 & 1\\\\\n",
       "\t  614590 & Depressed      & 330 & 1\\\\\n",
       "\t 3953545 & Tobacco        & 284 & 1\\\\\n",
       "\t 3953545 & NA             & 284 & 2\\\\\n",
       "\t  153643 & NA             & 258 & 2\\\\\n",
       "\t 3495692 & Depressed      & 206 & 1\\\\\n",
       "\t 4268777 & Anxiety        & 148 & 1\\\\\n",
       "\t 1178906 & Depressed      &  69 & 1\\\\\n",
       "\t 5337898 & Anxiety        &  57 & 1\\\\\n",
       "\t 5337898 & Depressed      &  57 & 1\\\\\n",
       "\\end{tabular}\n"
      ],
      "text/markdown": [
       "\n",
       "A grouped_df: 2280711 × 4\n",
       "\n",
       "| phqPT &lt;int&gt; | NAME_CHAR &lt;chr&gt; | phqEnc &lt;int&gt; | n &lt;int&gt; |\n",
       "|---|---|---|---|\n",
       "| 10981548 | Hypertension          | 245786550 | 1 |\n",
       "| 10981335 | Anxiety               | 245786399 | 1 |\n",
       "| 10981335 | Obesity               | 245786399 | 1 |\n",
       "| 10981635 | Bipolar               | 245779166 | 1 |\n",
       "| 10981635 | NA                    | 245779166 | 1 |\n",
       "| 10981230 | Depressed             | 245777266 | 1 |\n",
       "| 10981230 | SUD                   | 245777266 | 1 |\n",
       "| 10981285 | Depressed             | 245773709 | 1 |\n",
       "| 10981629 | NA                    | 245772402 | 1 |\n",
       "| 10981540 | Bipolar               | 245769246 | 1 |\n",
       "| 10981540 | SUD                   | 245769246 | 2 |\n",
       "| 10981540 | Bipolar               | 245768373 | 1 |\n",
       "| 10981540 | SUD                   | 245768373 | 1 |\n",
       "| 10981830 | Anxiety               | 245767046 | 1 |\n",
       "| 10981830 | NA                    | 245767046 | 1 |\n",
       "| 10981285 | Depressed             | 245764536 | 1 |\n",
       "| 10981514 | SUD                   | 245764067 | 1 |\n",
       "| 10981627 | Diabetes              | 245761082 | 1 |\n",
       "| 10981627 | SchizophreniaSpectrum | 245761082 | 1 |\n",
       "| 10981691 | Anxiety               | 245755967 | 1 |\n",
       "| 10981691 | Depressed             | 245755967 | 1 |\n",
       "| 10981691 | Diabetes              | 245755967 | 1 |\n",
       "| 10981691 | Hypertension          | 245755967 | 1 |\n",
       "| 10981691 | NA                    | 245755967 | 1 |\n",
       "| 10981916 | Alcohol               | 245748975 | 1 |\n",
       "| 10981916 | Bipolar               | 245748975 | 1 |\n",
       "| 10981916 | Hyperlipidemia        | 245748975 | 1 |\n",
       "| 10981916 | NA                    | 245748975 | 1 |\n",
       "| 10981190 | Hypertension          | 245745705 | 1 |\n",
       "| 10981190 | Obesity               | 245745705 | 1 |\n",
       "| ⋮ | ⋮ | ⋮ | ⋮ |\n",
       "| 2958506 | Depressed      | 881 | 1 |\n",
       "| 4162429 | Diabetes       | 847 | 1 |\n",
       "| 4162429 | Hyperlipidemia | 847 | 1 |\n",
       "| 3974185 | Depressed      | 815 | 1 |\n",
       "| 2379753 | Anxiety        | 723 | 1 |\n",
       "| 2379753 | Depressed      | 723 | 1 |\n",
       "| 4763034 | Diabetes       | 712 | 1 |\n",
       "|  364857 | NA             | 709 | 1 |\n",
       "|  919447 | NA             | 669 | 1 |\n",
       "|  632599 | Obesity        | 602 | 1 |\n",
       "| 4222659 | Anxiety        | 585 | 1 |\n",
       "| 4222659 | Tobacco        | 585 | 1 |\n",
       "| 5386069 | Anxiety        | 575 | 1 |\n",
       "| 5386069 | SUD            | 575 | 1 |\n",
       "| 4249903 | Anxiety        | 550 | 1 |\n",
       "| 4249903 | Depressed      | 550 | 1 |\n",
       "| 3265028 | Diabetes       | 484 | 1 |\n",
       "|  307449 | Depressed      | 468 | 1 |\n",
       "| 2886551 | Depressed      | 438 | 2 |\n",
       "| 2886551 | NA             | 438 | 1 |\n",
       "| 6198662 | Depressed      | 350 | 1 |\n",
       "|  614590 | Depressed      | 330 | 1 |\n",
       "| 3953545 | Tobacco        | 284 | 1 |\n",
       "| 3953545 | NA             | 284 | 2 |\n",
       "|  153643 | NA             | 258 | 2 |\n",
       "| 3495692 | Depressed      | 206 | 1 |\n",
       "| 4268777 | Anxiety        | 148 | 1 |\n",
       "| 1178906 | Depressed      |  69 | 1 |\n",
       "| 5337898 | Anxiety        |  57 | 1 |\n",
       "| 5337898 | Depressed      |  57 | 1 |\n",
       "\n"
      ],
      "text/plain": [
       "        phqPT    NAME_CHAR             phqEnc    n\n",
       "1       10981548 Hypertension          245786550 1\n",
       "2       10981335 Anxiety               245786399 1\n",
       "3       10981335 Obesity               245786399 1\n",
       "4       10981635 Bipolar               245779166 1\n",
       "5       10981635 NA                    245779166 1\n",
       "6       10981230 Depressed             245777266 1\n",
       "7       10981230 SUD                   245777266 1\n",
       "8       10981285 Depressed             245773709 1\n",
       "9       10981629 NA                    245772402 1\n",
       "10      10981540 Bipolar               245769246 1\n",
       "11      10981540 SUD                   245769246 2\n",
       "12      10981540 Bipolar               245768373 1\n",
       "13      10981540 SUD                   245768373 1\n",
       "14      10981830 Anxiety               245767046 1\n",
       "15      10981830 NA                    245767046 1\n",
       "16      10981285 Depressed             245764536 1\n",
       "17      10981514 SUD                   245764067 1\n",
       "18      10981627 Diabetes              245761082 1\n",
       "19      10981627 SchizophreniaSpectrum 245761082 1\n",
       "20      10981691 Anxiety               245755967 1\n",
       "21      10981691 Depressed             245755967 1\n",
       "22      10981691 Diabetes              245755967 1\n",
       "23      10981691 Hypertension          245755967 1\n",
       "24      10981691 NA                    245755967 1\n",
       "25      10981916 Alcohol               245748975 1\n",
       "26      10981916 Bipolar               245748975 1\n",
       "27      10981916 Hyperlipidemia        245748975 1\n",
       "28      10981916 NA                    245748975 1\n",
       "29      10981190 Hypertension          245745705 1\n",
       "30      10981190 Obesity               245745705 1\n",
       "⋮       ⋮        ⋮                     ⋮         ⋮\n",
       "2280682 2958506  Depressed             881       1\n",
       "2280683 4162429  Diabetes              847       1\n",
       "2280684 4162429  Hyperlipidemia        847       1\n",
       "2280685 3974185  Depressed             815       1\n",
       "2280686 2379753  Anxiety               723       1\n",
       "2280687 2379753  Depressed             723       1\n",
       "2280688 4763034  Diabetes              712       1\n",
       "2280689  364857  NA                    709       1\n",
       "2280690  919447  NA                    669       1\n",
       "2280691  632599  Obesity               602       1\n",
       "2280692 4222659  Anxiety               585       1\n",
       "2280693 4222659  Tobacco               585       1\n",
       "2280694 5386069  Anxiety               575       1\n",
       "2280695 5386069  SUD                   575       1\n",
       "2280696 4249903  Anxiety               550       1\n",
       "2280697 4249903  Depressed             550       1\n",
       "2280698 3265028  Diabetes              484       1\n",
       "2280699  307449  Depressed             468       1\n",
       "2280700 2886551  Depressed             438       2\n",
       "2280701 2886551  NA                    438       1\n",
       "2280702 6198662  Depressed             350       1\n",
       "2280703  614590  Depressed             330       1\n",
       "2280704 3953545  Tobacco               284       1\n",
       "2280705 3953545  NA                    284       2\n",
       "2280706  153643  NA                    258       2\n",
       "2280707 3495692  Depressed             206       1\n",
       "2280708 4268777  Anxiety               148       1\n",
       "2280709 1178906  Depressed              69       1\n",
       "2280710 5337898  Anxiety                57       1\n",
       "2280711 5337898  Depressed              57       1"
      ]
     },
     "metadata": {},
     "output_type": "display_data"
    }
   ],
   "source": [
    "phqalldx %>% filter(TVAL_CHAR==\"Encounter Diagnosis\") %>% group_by(phqPT,NAME_CHAR,phqEnc) %>% tally() %>% arrange(desc(phqEnc))"
   ]
  },
  {
   "cell_type": "code",
   "execution_count": null,
   "id": "5e7ff7bd",
   "metadata": {},
   "outputs": [],
   "source": [
    "# ALTERNATIVE VERSION THAT INCLUDES OTHER DIAGNOSES IN THE SAMPLE\n",
    "phqalldx<-phqcomplete %>%  mutate(NAME_CHAR=\n",
    "       case_when(\n",
    "       str_detect(NAME_CHAR,\"Depress|Dysthymic\")~\"Depressed\",\n",
    "       str_detect(NAME_CHAR,\"Type II|Type 2|Diabetes\")~\"Diabetes\",\n",
    "       str_detect(NAME_CHAR,\"Hyperlipidemia\")~\"Hyperlipidemia\",\n",
    "       str_detect(NAME_CHAR,\"Hypertens\")~\"Hypertension\",\n",
    "       str_detect(NAME_CHAR,\"Obesity\")~\"Obesity\",\n",
    "       str_detect(NAME_CHAR,\"Adjustment\")~\"Adjustment\",      \n",
    "       str_detect(NAME_CHAR,\"Anxiety|Panic|Agoraphobia\")~\"Anxiety\",\n",
    "       str_detect(NAME_CHAR,\"Posttraumatic|Post-traumatic\")~\"PTSD\",\n",
    "       str_detect(NAME_CHAR,\"Sleep|Insomnia|F51\")~\"Sleep\",\n",
    "       str_detect(NAME_CHAR,\"Bipolar|Manic\")~\"Bipolar\",\n",
    "       str_detect(NAME_CHAR,\"Nicotine|Tobacco\")~\"Tobacco\",\n",
    "       str_detect(NAME_CHAR,\"Opioid|F11|F12|F13|F14|F15|F16|F18|F19\")~\"SUD\",\n",
    "       str_detect(NAME_CHAR,\"Alcohol|F10\")~\"Alcohol\",\n",
    "       str_detect(NAME_CHAR,\"Schiz|Delusional|F23|F24|F25|F28|F29\")~\"SchizophreniaSpectrum\",     \n",
    "       str_detect(NAME_CHAR,\"Eating|F50\")~\"EatingDisorders\"    \n",
    "       #.default=NAME_CHAR\n",
    "       ))%>% mutate(Vitals=\n",
    "      case_when(\n",
    "       str_detect(CONCEPT_CD,\"BMI\")~\"BMI\", \n",
    "       str_detect(CONCEPT_CD,\"SYS\")~\"SystolicBP\", \n",
    "       str_detect(CONCEPT_CD,\"DIAS\")~\"DiastolicBP\",\n",
    "       str_detect(CONCEPT_CD,\"PRO:ADV0039\")~\"Audit\",\n",
    "       str_detect(CONCEPT_CD,\"PRO:ADV0045\")~\"Phq2\",\n",
    "      )) "
   ]
  },
  {
   "cell_type": "code",
   "execution_count": null,
   "id": "92ce7c31",
   "metadata": {},
   "outputs": [],
   "source": [
    "#Save file from above in case the kernal crashes\n",
    "save(phqalldx,file=\"phqalldx.RData\")"
   ]
  },
  {
   "cell_type": "code",
   "execution_count": 20,
   "id": "1d2182e3",
   "metadata": {},
   "outputs": [],
   "source": [
    "load('/home/ec2-user/SageMaker/phqalldx.RData')"
   ]
  },
  {
   "cell_type": "code",
   "execution_count": null,
   "id": "c0c3dbc1",
   "metadata": {},
   "outputs": [],
   "source": [
    "# Reducing the size of the dataset for pivoting\n",
    "phqfewercols<-phqalldx  %>%  filter(str_detect(CONCEPT_CD,\"ICD|ADV0014|ADV0045|ADV0039|BMI|SYS|DIAS\"))"
   ]
  },
  {
   "cell_type": "code",
   "execution_count": null,
   "id": "4bbc18a9",
   "metadata": {},
   "outputs": [],
   "source": [
    "phqfewercols %>% nrow() #14921844"
   ]
  },
  {
   "cell_type": "code",
   "execution_count": null,
   "id": "f7934f7a",
   "metadata": {},
   "outputs": [],
   "source": [
    "evenphqfewer<-phqfewercols %>% filter(PhqScore>=10|PhqScore<=4) #limiting to phq extremes to run"
   ]
  },
  {
   "cell_type": "code",
   "execution_count": null,
   "id": "87bc477d",
   "metadata": {},
   "outputs": [],
   "source": [
    "evenphqfewer %>% nrow()"
   ]
  },
  {
   "cell_type": "code",
   "execution_count": null,
   "id": "a6921f08",
   "metadata": {},
   "outputs": [],
   "source": [
    "# rearranging data into wide format: the vitals. formerly phqfewer here\n",
    "phqwide<-phqfewercols %>% unique() %>% mutate(n=1) %>% \n",
    "select(n,phqPT,PhqScore,phqEnc,AdminDate,TVAL_CHAR,NAME_CHAR,INSTANCE_NUM,CONCEPT_CD,NVAL_NUM,HEALTH_SYSTEM_ID,PROVIDER_ID,Vitals)%>% pivot_wider(names_from=Vitals,values_from=NVAL_NUM) "
   ]
  },
  {
   "cell_type": "code",
   "execution_count": null,
   "id": "a35439ab",
   "metadata": {},
   "outputs": [],
   "source": [
    "save(phqwide,file=\"wide_vitals.RData\")"
   ]
  },
  {
   "cell_type": "code",
   "execution_count": 93,
   "id": "93979e07",
   "metadata": {},
   "outputs": [],
   "source": [
    "load('/home/ec2-user/SageMaker/wide_vitals.RData')"
   ]
  },
  {
   "cell_type": "code",
   "execution_count": null,
   "id": "52d131db",
   "metadata": {},
   "outputs": [],
   "source": [
    "#checking data integrity\n",
    "phqwide %>% filter(Audit>1)"
   ]
  },
  {
   "cell_type": "code",
   "execution_count": 94,
   "id": "e975e7d0",
   "metadata": {},
   "outputs": [],
   "source": [
    "# rearranging wide icd codes\n",
    "phqwide<-phqwide%>% \n",
    "select(n,phqPT,PhqScore,phqEnc,AdminDate,NAME_CHAR,INSTANCE_NUM,CONCEPT_CD,HEALTH_SYSTEM_ID,PROVIDER_ID,BMI,SystolicBP,DiastolicBP,Audit,Phq2) %>% pivot_wider(names_from=NAME_CHAR,values_from=n)"
   ]
  },
  {
   "cell_type": "code",
   "execution_count": 95,
   "id": "b51d361a",
   "metadata": {},
   "outputs": [],
   "source": [
    "save(phqwide,file=\"phqwide_icd_fixed.RData\")"
   ]
  },
  {
   "cell_type": "code",
   "execution_count": null,
   "id": "62adc07f",
   "metadata": {},
   "outputs": [],
   "source": [
    "# integrity check again\n",
    "phqwide %>% filter(Depressed==1)"
   ]
  },
  {
   "cell_type": "code",
   "execution_count": 98,
   "id": "9f5a523b",
   "metadata": {},
   "outputs": [
    {
     "data": {
      "text/html": [
       "<table class=\"dataframe\">\n",
       "<caption>A tibble: 13458 × 29</caption>\n",
       "<thead>\n",
       "\t<tr><th scope=col>phqPT</th><th scope=col>PhqScore</th><th scope=col>phqEnc</th><th scope=col>AdminDate</th><th scope=col>INSTANCE_NUM</th><th scope=col>CONCEPT_CD</th><th scope=col>HEALTH_SYSTEM_ID</th><th scope=col>PROVIDER_ID</th><th scope=col>BMI</th><th scope=col>SystolicBP</th><th scope=col>⋯</th><th scope=col>Anxiety</th><th scope=col>Alcohol</th><th scope=col>Sleep</th><th scope=col>SUD</th><th scope=col>Tobacco</th><th scope=col>SchizophreniaSpectrum</th><th scope=col>Adjustment</th><th scope=col>EatingDisorders</th><th scope=col>Hypertension</th><th scope=col>PTSD</th></tr>\n",
       "\t<tr><th scope=col>&lt;int&gt;</th><th scope=col>&lt;dbl&gt;</th><th scope=col>&lt;int&gt;</th><th scope=col>&lt;dttm&gt;</th><th scope=col>&lt;int&gt;</th><th scope=col>&lt;chr&gt;</th><th scope=col>&lt;chr&gt;</th><th scope=col>&lt;chr&gt;</th><th scope=col>&lt;dbl&gt;</th><th scope=col>&lt;dbl&gt;</th><th scope=col>⋯</th><th scope=col>&lt;dbl&gt;</th><th scope=col>&lt;dbl&gt;</th><th scope=col>&lt;dbl&gt;</th><th scope=col>&lt;dbl&gt;</th><th scope=col>&lt;dbl&gt;</th><th scope=col>&lt;dbl&gt;</th><th scope=col>&lt;dbl&gt;</th><th scope=col>&lt;dbl&gt;</th><th scope=col>&lt;dbl&gt;</th><th scope=col>&lt;dbl&gt;</th></tr>\n",
       "</thead>\n",
       "<tbody>\n",
       "\t<tr><td>6877603</td><td> 4</td><td>0</td><td>2015-09-25</td><td>1</td><td>ICD9CM:309.81</td><td>NA</td><td>@</td><td>NA</td><td>NA</td><td>⋯</td><td>NA</td><td>NA</td><td>NA</td><td>NA</td><td>NA</td><td>NA</td><td>NA</td><td>NA</td><td>NA</td><td>1</td></tr>\n",
       "\t<tr><td>6889350</td><td>15</td><td>0</td><td>2015-09-08</td><td>1</td><td>ICD9CM:309.81</td><td>NA</td><td>@</td><td>NA</td><td>NA</td><td>⋯</td><td>NA</td><td>NA</td><td>NA</td><td>NA</td><td>NA</td><td>NA</td><td>NA</td><td>NA</td><td>NA</td><td>1</td></tr>\n",
       "\t<tr><td>6919084</td><td> 5</td><td>0</td><td>2014-12-04</td><td>1</td><td>ICD9CM:309.81</td><td>NA</td><td>@</td><td>NA</td><td>NA</td><td>⋯</td><td>NA</td><td>NA</td><td>NA</td><td>NA</td><td>NA</td><td>NA</td><td>NA</td><td>NA</td><td>NA</td><td>1</td></tr>\n",
       "\t<tr><td>6891971</td><td>10</td><td>0</td><td>2014-10-10</td><td>1</td><td>ICD9CM:309.81</td><td>NA</td><td>@</td><td>NA</td><td>NA</td><td>⋯</td><td>NA</td><td>NA</td><td>NA</td><td>NA</td><td>NA</td><td>NA</td><td>NA</td><td>NA</td><td>NA</td><td>1</td></tr>\n",
       "\t<tr><td>6902091</td><td> 9</td><td>0</td><td>2014-01-24</td><td>1</td><td>ICD9CM:309.81</td><td>NA</td><td>@</td><td>NA</td><td>NA</td><td>⋯</td><td>NA</td><td>NA</td><td>NA</td><td>NA</td><td>NA</td><td>NA</td><td>NA</td><td>NA</td><td>NA</td><td>1</td></tr>\n",
       "\t<tr><td>6900618</td><td> 4</td><td>0</td><td>2015-03-20</td><td>1</td><td>ICD9CM:309.81</td><td>NA</td><td>@</td><td>NA</td><td>NA</td><td>⋯</td><td>NA</td><td>NA</td><td>NA</td><td>NA</td><td>NA</td><td>NA</td><td>NA</td><td>NA</td><td>NA</td><td>1</td></tr>\n",
       "\t<tr><td>6893614</td><td>21</td><td>0</td><td>2013-10-17</td><td>1</td><td>ICD9CM:309.81</td><td>NA</td><td>@</td><td>NA</td><td>NA</td><td>⋯</td><td>NA</td><td>NA</td><td>NA</td><td>NA</td><td>NA</td><td>NA</td><td>NA</td><td>NA</td><td>NA</td><td>1</td></tr>\n",
       "\t<tr><td>6879156</td><td>23</td><td>0</td><td>2014-08-26</td><td>1</td><td>ICD9CM:309.81</td><td>NA</td><td>@</td><td>NA</td><td>NA</td><td>⋯</td><td>NA</td><td>NA</td><td>NA</td><td>NA</td><td>NA</td><td>NA</td><td>NA</td><td>NA</td><td>NA</td><td>1</td></tr>\n",
       "\t<tr><td>6874669</td><td> 3</td><td>0</td><td>2014-05-19</td><td>1</td><td>ICD9CM:309.81</td><td>NA</td><td>@</td><td>NA</td><td>NA</td><td>⋯</td><td>NA</td><td>NA</td><td>NA</td><td>NA</td><td>NA</td><td>NA</td><td>NA</td><td>NA</td><td>NA</td><td>1</td></tr>\n",
       "\t<tr><td>6914138</td><td>16</td><td>0</td><td>2015-02-04</td><td>1</td><td>ICD9CM:309.81</td><td>NA</td><td>@</td><td>NA</td><td>NA</td><td>⋯</td><td>NA</td><td>NA</td><td>NA</td><td>NA</td><td>NA</td><td>NA</td><td>NA</td><td>NA</td><td>NA</td><td>1</td></tr>\n",
       "\t<tr><td>6913455</td><td>11</td><td>0</td><td>2015-04-07</td><td>1</td><td>ICD9CM:309.81</td><td>NA</td><td>@</td><td>NA</td><td>NA</td><td>⋯</td><td>NA</td><td>NA</td><td>NA</td><td>NA</td><td>NA</td><td>NA</td><td>NA</td><td>NA</td><td>NA</td><td>1</td></tr>\n",
       "\t<tr><td>6878933</td><td> 8</td><td>0</td><td>2014-10-27</td><td>1</td><td>ICD9CM:309.81</td><td>NA</td><td>@</td><td>NA</td><td>NA</td><td>⋯</td><td>NA</td><td>NA</td><td>NA</td><td>NA</td><td>NA</td><td>NA</td><td>NA</td><td>NA</td><td>NA</td><td>1</td></tr>\n",
       "\t<tr><td>6884796</td><td>19</td><td>0</td><td>2015-02-02</td><td>1</td><td>ICD9CM:309.81</td><td>NA</td><td>@</td><td>NA</td><td>NA</td><td>⋯</td><td>NA</td><td>NA</td><td>NA</td><td>NA</td><td>NA</td><td>NA</td><td>NA</td><td>NA</td><td>NA</td><td>1</td></tr>\n",
       "\t<tr><td>6893705</td><td> 7</td><td>0</td><td>2014-04-17</td><td>1</td><td>ICD9CM:309.81</td><td>NA</td><td>@</td><td>NA</td><td>NA</td><td>⋯</td><td>NA</td><td>NA</td><td>NA</td><td>NA</td><td>NA</td><td>NA</td><td>NA</td><td>NA</td><td>NA</td><td>1</td></tr>\n",
       "\t<tr><td>6916768</td><td> 9</td><td>0</td><td>2013-03-29</td><td>1</td><td>ICD9CM:309.81</td><td>NA</td><td>@</td><td>NA</td><td>NA</td><td>⋯</td><td>NA</td><td>NA</td><td>NA</td><td>NA</td><td>NA</td><td>NA</td><td>NA</td><td>NA</td><td>NA</td><td>1</td></tr>\n",
       "\t<tr><td>6879575</td><td>19</td><td>0</td><td>2015-01-14</td><td>1</td><td>ICD9CM:309.81</td><td>NA</td><td>@</td><td>NA</td><td>NA</td><td>⋯</td><td>NA</td><td>NA</td><td>NA</td><td>NA</td><td>NA</td><td>NA</td><td>NA</td><td>NA</td><td>NA</td><td>1</td></tr>\n",
       "\t<tr><td>6887089</td><td> 6</td><td>0</td><td>2014-09-30</td><td>1</td><td>ICD9CM:309.81</td><td>NA</td><td>@</td><td>NA</td><td>NA</td><td>⋯</td><td>NA</td><td>NA</td><td>NA</td><td>NA</td><td>NA</td><td>NA</td><td>NA</td><td>NA</td><td>NA</td><td>1</td></tr>\n",
       "\t<tr><td>6909421</td><td> 0</td><td>0</td><td>2013-12-27</td><td>1</td><td>ICD9CM:309.81</td><td>NA</td><td>@</td><td>NA</td><td>NA</td><td>⋯</td><td>NA</td><td>NA</td><td>NA</td><td>NA</td><td>NA</td><td>NA</td><td>NA</td><td>NA</td><td>NA</td><td>1</td></tr>\n",
       "\t<tr><td>6915927</td><td> 6</td><td>0</td><td>2014-01-17</td><td>1</td><td>ICD9CM:309.81</td><td>NA</td><td>@</td><td>NA</td><td>NA</td><td>⋯</td><td>NA</td><td>NA</td><td>NA</td><td>NA</td><td>NA</td><td>NA</td><td>NA</td><td>NA</td><td>NA</td><td>1</td></tr>\n",
       "\t<tr><td>6913524</td><td> 8</td><td>0</td><td>2015-04-17</td><td>1</td><td>ICD9CM:309.81</td><td>NA</td><td>@</td><td>NA</td><td>NA</td><td>⋯</td><td>NA</td><td>NA</td><td>NA</td><td>NA</td><td>NA</td><td>NA</td><td>NA</td><td>NA</td><td>NA</td><td>1</td></tr>\n",
       "\t<tr><td>6874659</td><td>17</td><td>0</td><td>2014-09-11</td><td>1</td><td>ICD9CM:309.81</td><td>NA</td><td>@</td><td>NA</td><td>NA</td><td>⋯</td><td>NA</td><td>NA</td><td>NA</td><td>NA</td><td>NA</td><td>NA</td><td>NA</td><td>NA</td><td>NA</td><td>1</td></tr>\n",
       "\t<tr><td>6916684</td><td> 1</td><td>0</td><td>2015-08-26</td><td>1</td><td>ICD9CM:309.81</td><td>NA</td><td>@</td><td>NA</td><td>NA</td><td>⋯</td><td>NA</td><td>NA</td><td>NA</td><td>NA</td><td>NA</td><td>NA</td><td>NA</td><td>NA</td><td>NA</td><td>1</td></tr>\n",
       "\t<tr><td>6880286</td><td> 1</td><td>0</td><td>2015-06-26</td><td>1</td><td>ICD9CM:309.81</td><td>NA</td><td>@</td><td>NA</td><td>NA</td><td>⋯</td><td>NA</td><td>NA</td><td>NA</td><td>NA</td><td>NA</td><td>NA</td><td>NA</td><td>NA</td><td>NA</td><td>1</td></tr>\n",
       "\t<tr><td>6893651</td><td>14</td><td>0</td><td>2015-05-19</td><td>1</td><td>ICD9CM:309.81</td><td>NA</td><td>@</td><td>NA</td><td>NA</td><td>⋯</td><td>NA</td><td>NA</td><td>NA</td><td>NA</td><td>NA</td><td>NA</td><td>NA</td><td>NA</td><td>NA</td><td>1</td></tr>\n",
       "\t<tr><td>6885253</td><td>20</td><td>0</td><td>2013-05-10</td><td>1</td><td>ICD9CM:309.81</td><td>NA</td><td>@</td><td>NA</td><td>NA</td><td>⋯</td><td>NA</td><td>NA</td><td>NA</td><td>NA</td><td>NA</td><td>NA</td><td>NA</td><td>NA</td><td>NA</td><td>1</td></tr>\n",
       "\t<tr><td>6904288</td><td>15</td><td>0</td><td>2015-08-13</td><td>1</td><td>ICD9CM:309.81</td><td>NA</td><td>@</td><td>NA</td><td>NA</td><td>⋯</td><td>NA</td><td>NA</td><td>NA</td><td>NA</td><td>NA</td><td>NA</td><td>NA</td><td>NA</td><td>NA</td><td>1</td></tr>\n",
       "\t<tr><td>6887102</td><td>14</td><td>0</td><td>2013-12-19</td><td>1</td><td>ICD9CM:309.81</td><td>NA</td><td>@</td><td>NA</td><td>NA</td><td>⋯</td><td>NA</td><td>NA</td><td>NA</td><td>NA</td><td>NA</td><td>NA</td><td>NA</td><td>NA</td><td>NA</td><td>1</td></tr>\n",
       "\t<tr><td>6894714</td><td> 6</td><td>0</td><td>2013-05-01</td><td>1</td><td>ICD9CM:309.81</td><td>NA</td><td>@</td><td>NA</td><td>NA</td><td>⋯</td><td>NA</td><td>NA</td><td>NA</td><td>NA</td><td>NA</td><td>NA</td><td>NA</td><td>NA</td><td>NA</td><td>1</td></tr>\n",
       "\t<tr><td>6875955</td><td>15</td><td>0</td><td>2015-04-29</td><td>1</td><td>ICD9CM:309.81</td><td>NA</td><td>@</td><td>NA</td><td>NA</td><td>⋯</td><td>NA</td><td>NA</td><td>NA</td><td>NA</td><td>NA</td><td>NA</td><td>NA</td><td>NA</td><td>NA</td><td>1</td></tr>\n",
       "\t<tr><td>6905883</td><td>12</td><td>0</td><td>2014-04-24</td><td>1</td><td>ICD9CM:309.81</td><td>NA</td><td>@</td><td>NA</td><td>NA</td><td>⋯</td><td>NA</td><td>NA</td><td>NA</td><td>NA</td><td>NA</td><td>NA</td><td>NA</td><td>NA</td><td>NA</td><td>1</td></tr>\n",
       "\t<tr><td>⋮</td><td>⋮</td><td>⋮</td><td>⋮</td><td>⋮</td><td>⋮</td><td>⋮</td><td>⋮</td><td>⋮</td><td>⋮</td><td>⋱</td><td>⋮</td><td>⋮</td><td>⋮</td><td>⋮</td><td>⋮</td><td>⋮</td><td>⋮</td><td>⋮</td><td>⋮</td><td>⋮</td></tr>\n",
       "\t<tr><td>4574315</td><td>16</td><td>49312602</td><td>2015-08-17</td><td>1</td><td>ICD9CM:309.81</td><td>671</td><td>5E0FC156-4246-4837-B6F2-107871AA3408</td><td>NA</td><td>NA</td><td>⋯</td><td>NA</td><td>NA</td><td>NA</td><td>NA</td><td>NA</td><td>NA</td><td>NA</td><td>NA</td><td>NA</td><td>1</td></tr>\n",
       "\t<tr><td>2360161</td><td> 9</td><td>30044856</td><td>2015-04-28</td><td>1</td><td>ICD9CM:309.81</td><td>662</td><td>23D40AA4-EA11-4C44-8957-DC3E79FDE6D3</td><td>NA</td><td>NA</td><td>⋯</td><td>NA</td><td>NA</td><td>NA</td><td>NA</td><td>NA</td><td>NA</td><td>NA</td><td>NA</td><td>NA</td><td>1</td></tr>\n",
       "\t<tr><td>2020052</td><td>13</td><td> 2859096</td><td>2015-06-19</td><td>1</td><td>ICD9CM:309.81</td><td>697</td><td>48BF8FBA-EFEB-40F0-ABA0-A92CF2BB049A</td><td>NA</td><td>NA</td><td>⋯</td><td>NA</td><td>NA</td><td>NA</td><td>NA</td><td>NA</td><td>NA</td><td>NA</td><td>NA</td><td>NA</td><td>1</td></tr>\n",
       "\t<tr><td>6705176</td><td>22</td><td>23878747</td><td>2015-08-20</td><td>1</td><td>ICD9CM:309.81</td><td>578</td><td>43D455B2-8F4E-4671-A59F-AE099F6FB2C2</td><td>NA</td><td>NA</td><td>⋯</td><td>NA</td><td>NA</td><td>NA</td><td>NA</td><td>NA</td><td>NA</td><td>NA</td><td>NA</td><td>NA</td><td>1</td></tr>\n",
       "\t<tr><td>4368203</td><td>24</td><td> 8125019</td><td>2015-05-11</td><td>1</td><td>ICD9CM:309.81</td><td>612</td><td>D9EFC9AA-FFA6-45F7-9AFE-71B30764928D</td><td>NA</td><td>NA</td><td>⋯</td><td>NA</td><td>NA</td><td>NA</td><td>NA</td><td>NA</td><td>NA</td><td>NA</td><td>NA</td><td>NA</td><td>1</td></tr>\n",
       "\t<tr><td>6414952</td><td>18</td><td>61738927</td><td>2015-01-29</td><td>1</td><td>ICD9CM:309.81</td><td>596</td><td>00BE6B65-280D-4BB1-BD48-FBAC06A8C7D6</td><td>NA</td><td>NA</td><td>⋯</td><td>NA</td><td>NA</td><td>NA</td><td>NA</td><td>NA</td><td>NA</td><td>NA</td><td>NA</td><td>NA</td><td>1</td></tr>\n",
       "\t<tr><td>5692926</td><td>14</td><td>61532377</td><td>2015-04-01</td><td>1</td><td>ICD9CM:309.81</td><td>596</td><td>00BE6B65-280D-4BB1-BD48-FBAC06A8C7D6</td><td>NA</td><td>NA</td><td>⋯</td><td>NA</td><td>NA</td><td>NA</td><td>NA</td><td>NA</td><td>NA</td><td>NA</td><td>NA</td><td>NA</td><td>1</td></tr>\n",
       "\t<tr><td> 962621</td><td> 8</td><td> 3014504</td><td>2015-05-04</td><td>1</td><td>ICD9CM:309.81</td><td>697</td><td>48BF8FBA-EFEB-40F0-ABA0-A92CF2BB049A</td><td>NA</td><td>NA</td><td>⋯</td><td>NA</td><td>NA</td><td>NA</td><td>NA</td><td>NA</td><td>NA</td><td>NA</td><td>NA</td><td>NA</td><td>1</td></tr>\n",
       "\t<tr><td>4264314</td><td> 9</td><td>58632487</td><td>2015-07-21</td><td>1</td><td>ICD9CM:309.81</td><td>609</td><td>74948A58-FF45-43A6-9295-10ECDB0078C4</td><td>NA</td><td>NA</td><td>⋯</td><td>NA</td><td>NA</td><td>NA</td><td>NA</td><td>NA</td><td>NA</td><td>NA</td><td>NA</td><td>NA</td><td>1</td></tr>\n",
       "\t<tr><td>4706855</td><td>18</td><td>59113552</td><td>2015-02-17</td><td>1</td><td>ICD9CM:309.81</td><td>609</td><td>FEDB2D8C-5449-46EC-BC7C-FA4B8A09B95A</td><td>NA</td><td>NA</td><td>⋯</td><td>NA</td><td>NA</td><td>NA</td><td>NA</td><td>NA</td><td>NA</td><td>NA</td><td>NA</td><td>NA</td><td>1</td></tr>\n",
       "\t<tr><td>2611021</td><td>15</td><td> 8973512</td><td>2015-06-02</td><td>1</td><td>ICD9CM:309.81</td><td>612</td><td>C78F43ED-87B8-421E-9C54-5C5BA7646BAB</td><td>NA</td><td>NA</td><td>⋯</td><td>NA</td><td>NA</td><td>NA</td><td>NA</td><td>NA</td><td>NA</td><td>NA</td><td>NA</td><td>NA</td><td>1</td></tr>\n",
       "\t<tr><td> 511279</td><td>12</td><td> 8121525</td><td>2015-05-20</td><td>1</td><td>ICD9CM:309.81</td><td>612</td><td>936F92B6-99B7-4B24-8B5B-70A798C9DC8F</td><td>NA</td><td>NA</td><td>⋯</td><td>NA</td><td>NA</td><td>NA</td><td>NA</td><td>NA</td><td>NA</td><td>NA</td><td>NA</td><td>NA</td><td>1</td></tr>\n",
       "\t<tr><td>1919889</td><td>16</td><td>29027218</td><td>2015-03-19</td><td>1</td><td>ICD9CM:309.81</td><td>679</td><td>74A38819-C98E-4C4E-B7E2-70EC6599A65A</td><td>NA</td><td>NA</td><td>⋯</td><td>NA</td><td>NA</td><td>NA</td><td>NA</td><td>NA</td><td>NA</td><td>NA</td><td>NA</td><td>NA</td><td>1</td></tr>\n",
       "\t<tr><td>3667890</td><td>11</td><td>31273582</td><td>2015-02-09</td><td>1</td><td>ICD9CM:309.81</td><td>564</td><td>271C37C9-39D7-41C9-A55B-6BFAE9A7214A</td><td>NA</td><td>NA</td><td>⋯</td><td>NA</td><td>NA</td><td>NA</td><td>NA</td><td>NA</td><td>NA</td><td>NA</td><td>NA</td><td>NA</td><td>1</td></tr>\n",
       "\t<tr><td>3794882</td><td>14</td><td>29536871</td><td>2015-07-09</td><td>1</td><td>ICD9CM:309.81</td><td>557</td><td>BF5045BC-F236-42E7-AACB-6B69551ED93A</td><td>NA</td><td>NA</td><td>⋯</td><td>NA</td><td>NA</td><td>NA</td><td>NA</td><td>NA</td><td>NA</td><td>NA</td><td>NA</td><td>NA</td><td>1</td></tr>\n",
       "\t<tr><td>1842351</td><td>16</td><td>65814643</td><td>2015-06-03</td><td>1</td><td>ICD9CM:309.81</td><td>642</td><td>574B452D-A9A8-4B5B-8E8D-0FF8373E2ED6</td><td>NA</td><td>NA</td><td>⋯</td><td>NA</td><td>NA</td><td>NA</td><td>NA</td><td>NA</td><td>NA</td><td>NA</td><td>NA</td><td>NA</td><td>1</td></tr>\n",
       "\t<tr><td>6199112</td><td> 6</td><td>37633895</td><td>2015-06-09</td><td>1</td><td>ICD9CM:309.81</td><td>692</td><td>EA0E43AD-F01B-41C2-A7A8-5C8853D8309A</td><td>NA</td><td>NA</td><td>⋯</td><td>NA</td><td>NA</td><td>NA</td><td>NA</td><td>NA</td><td>NA</td><td>NA</td><td>NA</td><td>NA</td><td>1</td></tr>\n",
       "\t<tr><td>4887292</td><td> 8</td><td>50596713</td><td>2015-05-12</td><td>1</td><td>ICD9CM:309.81</td><td>671</td><td>A807D285-02A5-4498-AAB7-B4A7BD231C7D</td><td>NA</td><td>NA</td><td>⋯</td><td>NA</td><td>NA</td><td>NA</td><td>NA</td><td>NA</td><td>NA</td><td>NA</td><td>NA</td><td>NA</td><td>1</td></tr>\n",
       "\t<tr><td> 690290</td><td> 5</td><td> 7322510</td><td>2015-08-19</td><td>1</td><td>ICD9CM:309.81</td><td>612</td><td>16FF04D4-EF63-4A0A-9D4D-2CA5C32E98AC</td><td>NA</td><td>NA</td><td>⋯</td><td>NA</td><td>NA</td><td>NA</td><td>NA</td><td>NA</td><td>NA</td><td>NA</td><td>NA</td><td>NA</td><td>1</td></tr>\n",
       "\t<tr><td>2501251</td><td>18</td><td>32109443</td><td>2015-04-09</td><td>1</td><td>ICD9CM:309.81</td><td>564</td><td>D26CBFB1-3CA1-4516-8CC7-F81E56342E55</td><td>NA</td><td>NA</td><td>⋯</td><td>NA</td><td>NA</td><td>NA</td><td>NA</td><td>NA</td><td>NA</td><td>NA</td><td>NA</td><td>NA</td><td>1</td></tr>\n",
       "\t<tr><td>2997387</td><td>10</td><td>17724666</td><td>2015-04-07</td><td>1</td><td>ICD9CM:309.81</td><td>667</td><td>7DDF3749-333A-458F-BA8A-EE800444823C</td><td>NA</td><td>NA</td><td>⋯</td><td>NA</td><td>NA</td><td>NA</td><td>NA</td><td>NA</td><td>NA</td><td>NA</td><td>NA</td><td>NA</td><td>1</td></tr>\n",
       "\t<tr><td>2974241</td><td>14</td><td>32379676</td><td>2015-04-15</td><td>1</td><td>ICD9CM:309.81</td><td>564</td><td>EF6F929B-1B3B-45F9-9915-D86ED97B6D7D</td><td>NA</td><td>NA</td><td>⋯</td><td>NA</td><td>NA</td><td>NA</td><td>NA</td><td>NA</td><td>NA</td><td>NA</td><td>NA</td><td>NA</td><td>1</td></tr>\n",
       "\t<tr><td>4328257</td><td>27</td><td>50909608</td><td>2015-03-24</td><td>1</td><td>ICD9CM:309.81</td><td>671</td><td>DD1EC6AB-9840-4C66-8E32-4F39BEDE5F3E</td><td>NA</td><td>NA</td><td>⋯</td><td>NA</td><td>NA</td><td>NA</td><td>NA</td><td>NA</td><td>NA</td><td>NA</td><td>NA</td><td>NA</td><td>1</td></tr>\n",
       "\t<tr><td>3732410</td><td>20</td><td>53710498</td><td>2015-07-17</td><td>1</td><td>ICD9CM:309.81</td><td>671</td><td>85A46A68-3C64-485F-AE3B-AF8BC97D4AA8</td><td>NA</td><td>NA</td><td>⋯</td><td>NA</td><td>NA</td><td>NA</td><td>NA</td><td>NA</td><td>NA</td><td>NA</td><td>NA</td><td>NA</td><td>1</td></tr>\n",
       "\t<tr><td>4427150</td><td>20</td><td> 9026948</td><td>2015-01-22</td><td>1</td><td>ICD9CM:309.81</td><td>612</td><td>16FF04D4-EF63-4A0A-9D4D-2CA5C32E98AC</td><td>NA</td><td>NA</td><td>⋯</td><td>NA</td><td>NA</td><td>NA</td><td>NA</td><td>NA</td><td>NA</td><td>NA</td><td>NA</td><td>NA</td><td>1</td></tr>\n",
       "\t<tr><td> 374695</td><td>15</td><td>35021719</td><td>2015-03-19</td><td>1</td><td>ICD9CM:309.81</td><td>692</td><td>09D8F72A-099C-4162-BF87-51C0D6C6D8CC</td><td>NA</td><td>NA</td><td>⋯</td><td>NA</td><td>NA</td><td>NA</td><td>NA</td><td>NA</td><td>NA</td><td>NA</td><td>NA</td><td>NA</td><td>1</td></tr>\n",
       "\t<tr><td>3365454</td><td> 6</td><td>68237607</td><td>2015-06-17</td><td>1</td><td>ICD9CM:309.81</td><td>577</td><td>DC7EAF8D-F198-4D24-BAA5-CF5590E47B10</td><td>NA</td><td>NA</td><td>⋯</td><td>NA</td><td>NA</td><td>NA</td><td>NA</td><td>NA</td><td>NA</td><td>NA</td><td>NA</td><td>NA</td><td>1</td></tr>\n",
       "\t<tr><td>3621663</td><td>19</td><td>50449697</td><td>2015-01-23</td><td>1</td><td>ICD9CM:309.81</td><td>671</td><td>8192547A-DB7C-43B6-B8C9-60F7D134413A</td><td>NA</td><td>NA</td><td>⋯</td><td>NA</td><td>NA</td><td>NA</td><td>NA</td><td>NA</td><td>NA</td><td>NA</td><td>NA</td><td>NA</td><td>1</td></tr>\n",
       "\t<tr><td>5322790</td><td>14</td><td>38042044</td><td>2015-08-18</td><td>1</td><td>ICD9CM:309.81</td><td>678</td><td>93EF7C19-F3BA-46DA-A9ED-381A00237DDE</td><td>NA</td><td>NA</td><td>⋯</td><td>NA</td><td>NA</td><td>NA</td><td>NA</td><td>NA</td><td>NA</td><td>NA</td><td>NA</td><td>NA</td><td>1</td></tr>\n",
       "\t<tr><td>6474010</td><td>18</td><td>23574528</td><td>2015-07-15</td><td>1</td><td>ICD9CM:309.81</td><td>578</td><td>ED2AEAF4-63D1-4B77-8517-962C1EF8D5E2</td><td>NA</td><td>NA</td><td>⋯</td><td>NA</td><td>NA</td><td>NA</td><td>NA</td><td>NA</td><td>NA</td><td>NA</td><td>NA</td><td>NA</td><td>1</td></tr>\n",
       "</tbody>\n",
       "</table>\n"
      ],
      "text/latex": [
       "A tibble: 13458 × 29\n",
       "\\begin{tabular}{lllllllllllllllllllll}\n",
       " phqPT & PhqScore & phqEnc & AdminDate & INSTANCE\\_NUM & CONCEPT\\_CD & HEALTH\\_SYSTEM\\_ID & PROVIDER\\_ID & BMI & SystolicBP & ⋯ & Anxiety & Alcohol & Sleep & SUD & Tobacco & SchizophreniaSpectrum & Adjustment & EatingDisorders & Hypertension & PTSD\\\\\n",
       " <int> & <dbl> & <int> & <dttm> & <int> & <chr> & <chr> & <chr> & <dbl> & <dbl> & ⋯ & <dbl> & <dbl> & <dbl> & <dbl> & <dbl> & <dbl> & <dbl> & <dbl> & <dbl> & <dbl>\\\\\n",
       "\\hline\n",
       "\t 6877603 &  4 & 0 & 2015-09-25 & 1 & ICD9CM:309.81 & NA & @ & NA & NA & ⋯ & NA & NA & NA & NA & NA & NA & NA & NA & NA & 1\\\\\n",
       "\t 6889350 & 15 & 0 & 2015-09-08 & 1 & ICD9CM:309.81 & NA & @ & NA & NA & ⋯ & NA & NA & NA & NA & NA & NA & NA & NA & NA & 1\\\\\n",
       "\t 6919084 &  5 & 0 & 2014-12-04 & 1 & ICD9CM:309.81 & NA & @ & NA & NA & ⋯ & NA & NA & NA & NA & NA & NA & NA & NA & NA & 1\\\\\n",
       "\t 6891971 & 10 & 0 & 2014-10-10 & 1 & ICD9CM:309.81 & NA & @ & NA & NA & ⋯ & NA & NA & NA & NA & NA & NA & NA & NA & NA & 1\\\\\n",
       "\t 6902091 &  9 & 0 & 2014-01-24 & 1 & ICD9CM:309.81 & NA & @ & NA & NA & ⋯ & NA & NA & NA & NA & NA & NA & NA & NA & NA & 1\\\\\n",
       "\t 6900618 &  4 & 0 & 2015-03-20 & 1 & ICD9CM:309.81 & NA & @ & NA & NA & ⋯ & NA & NA & NA & NA & NA & NA & NA & NA & NA & 1\\\\\n",
       "\t 6893614 & 21 & 0 & 2013-10-17 & 1 & ICD9CM:309.81 & NA & @ & NA & NA & ⋯ & NA & NA & NA & NA & NA & NA & NA & NA & NA & 1\\\\\n",
       "\t 6879156 & 23 & 0 & 2014-08-26 & 1 & ICD9CM:309.81 & NA & @ & NA & NA & ⋯ & NA & NA & NA & NA & NA & NA & NA & NA & NA & 1\\\\\n",
       "\t 6874669 &  3 & 0 & 2014-05-19 & 1 & ICD9CM:309.81 & NA & @ & NA & NA & ⋯ & NA & NA & NA & NA & NA & NA & NA & NA & NA & 1\\\\\n",
       "\t 6914138 & 16 & 0 & 2015-02-04 & 1 & ICD9CM:309.81 & NA & @ & NA & NA & ⋯ & NA & NA & NA & NA & NA & NA & NA & NA & NA & 1\\\\\n",
       "\t 6913455 & 11 & 0 & 2015-04-07 & 1 & ICD9CM:309.81 & NA & @ & NA & NA & ⋯ & NA & NA & NA & NA & NA & NA & NA & NA & NA & 1\\\\\n",
       "\t 6878933 &  8 & 0 & 2014-10-27 & 1 & ICD9CM:309.81 & NA & @ & NA & NA & ⋯ & NA & NA & NA & NA & NA & NA & NA & NA & NA & 1\\\\\n",
       "\t 6884796 & 19 & 0 & 2015-02-02 & 1 & ICD9CM:309.81 & NA & @ & NA & NA & ⋯ & NA & NA & NA & NA & NA & NA & NA & NA & NA & 1\\\\\n",
       "\t 6893705 &  7 & 0 & 2014-04-17 & 1 & ICD9CM:309.81 & NA & @ & NA & NA & ⋯ & NA & NA & NA & NA & NA & NA & NA & NA & NA & 1\\\\\n",
       "\t 6916768 &  9 & 0 & 2013-03-29 & 1 & ICD9CM:309.81 & NA & @ & NA & NA & ⋯ & NA & NA & NA & NA & NA & NA & NA & NA & NA & 1\\\\\n",
       "\t 6879575 & 19 & 0 & 2015-01-14 & 1 & ICD9CM:309.81 & NA & @ & NA & NA & ⋯ & NA & NA & NA & NA & NA & NA & NA & NA & NA & 1\\\\\n",
       "\t 6887089 &  6 & 0 & 2014-09-30 & 1 & ICD9CM:309.81 & NA & @ & NA & NA & ⋯ & NA & NA & NA & NA & NA & NA & NA & NA & NA & 1\\\\\n",
       "\t 6909421 &  0 & 0 & 2013-12-27 & 1 & ICD9CM:309.81 & NA & @ & NA & NA & ⋯ & NA & NA & NA & NA & NA & NA & NA & NA & NA & 1\\\\\n",
       "\t 6915927 &  6 & 0 & 2014-01-17 & 1 & ICD9CM:309.81 & NA & @ & NA & NA & ⋯ & NA & NA & NA & NA & NA & NA & NA & NA & NA & 1\\\\\n",
       "\t 6913524 &  8 & 0 & 2015-04-17 & 1 & ICD9CM:309.81 & NA & @ & NA & NA & ⋯ & NA & NA & NA & NA & NA & NA & NA & NA & NA & 1\\\\\n",
       "\t 6874659 & 17 & 0 & 2014-09-11 & 1 & ICD9CM:309.81 & NA & @ & NA & NA & ⋯ & NA & NA & NA & NA & NA & NA & NA & NA & NA & 1\\\\\n",
       "\t 6916684 &  1 & 0 & 2015-08-26 & 1 & ICD9CM:309.81 & NA & @ & NA & NA & ⋯ & NA & NA & NA & NA & NA & NA & NA & NA & NA & 1\\\\\n",
       "\t 6880286 &  1 & 0 & 2015-06-26 & 1 & ICD9CM:309.81 & NA & @ & NA & NA & ⋯ & NA & NA & NA & NA & NA & NA & NA & NA & NA & 1\\\\\n",
       "\t 6893651 & 14 & 0 & 2015-05-19 & 1 & ICD9CM:309.81 & NA & @ & NA & NA & ⋯ & NA & NA & NA & NA & NA & NA & NA & NA & NA & 1\\\\\n",
       "\t 6885253 & 20 & 0 & 2013-05-10 & 1 & ICD9CM:309.81 & NA & @ & NA & NA & ⋯ & NA & NA & NA & NA & NA & NA & NA & NA & NA & 1\\\\\n",
       "\t 6904288 & 15 & 0 & 2015-08-13 & 1 & ICD9CM:309.81 & NA & @ & NA & NA & ⋯ & NA & NA & NA & NA & NA & NA & NA & NA & NA & 1\\\\\n",
       "\t 6887102 & 14 & 0 & 2013-12-19 & 1 & ICD9CM:309.81 & NA & @ & NA & NA & ⋯ & NA & NA & NA & NA & NA & NA & NA & NA & NA & 1\\\\\n",
       "\t 6894714 &  6 & 0 & 2013-05-01 & 1 & ICD9CM:309.81 & NA & @ & NA & NA & ⋯ & NA & NA & NA & NA & NA & NA & NA & NA & NA & 1\\\\\n",
       "\t 6875955 & 15 & 0 & 2015-04-29 & 1 & ICD9CM:309.81 & NA & @ & NA & NA & ⋯ & NA & NA & NA & NA & NA & NA & NA & NA & NA & 1\\\\\n",
       "\t 6905883 & 12 & 0 & 2014-04-24 & 1 & ICD9CM:309.81 & NA & @ & NA & NA & ⋯ & NA & NA & NA & NA & NA & NA & NA & NA & NA & 1\\\\\n",
       "\t ⋮ & ⋮ & ⋮ & ⋮ & ⋮ & ⋮ & ⋮ & ⋮ & ⋮ & ⋮ & ⋱ & ⋮ & ⋮ & ⋮ & ⋮ & ⋮ & ⋮ & ⋮ & ⋮ & ⋮ & ⋮\\\\\n",
       "\t 4574315 & 16 & 49312602 & 2015-08-17 & 1 & ICD9CM:309.81 & 671 & 5E0FC156-4246-4837-B6F2-107871AA3408 & NA & NA & ⋯ & NA & NA & NA & NA & NA & NA & NA & NA & NA & 1\\\\\n",
       "\t 2360161 &  9 & 30044856 & 2015-04-28 & 1 & ICD9CM:309.81 & 662 & 23D40AA4-EA11-4C44-8957-DC3E79FDE6D3 & NA & NA & ⋯ & NA & NA & NA & NA & NA & NA & NA & NA & NA & 1\\\\\n",
       "\t 2020052 & 13 &  2859096 & 2015-06-19 & 1 & ICD9CM:309.81 & 697 & 48BF8FBA-EFEB-40F0-ABA0-A92CF2BB049A & NA & NA & ⋯ & NA & NA & NA & NA & NA & NA & NA & NA & NA & 1\\\\\n",
       "\t 6705176 & 22 & 23878747 & 2015-08-20 & 1 & ICD9CM:309.81 & 578 & 43D455B2-8F4E-4671-A59F-AE099F6FB2C2 & NA & NA & ⋯ & NA & NA & NA & NA & NA & NA & NA & NA & NA & 1\\\\\n",
       "\t 4368203 & 24 &  8125019 & 2015-05-11 & 1 & ICD9CM:309.81 & 612 & D9EFC9AA-FFA6-45F7-9AFE-71B30764928D & NA & NA & ⋯ & NA & NA & NA & NA & NA & NA & NA & NA & NA & 1\\\\\n",
       "\t 6414952 & 18 & 61738927 & 2015-01-29 & 1 & ICD9CM:309.81 & 596 & 00BE6B65-280D-4BB1-BD48-FBAC06A8C7D6 & NA & NA & ⋯ & NA & NA & NA & NA & NA & NA & NA & NA & NA & 1\\\\\n",
       "\t 5692926 & 14 & 61532377 & 2015-04-01 & 1 & ICD9CM:309.81 & 596 & 00BE6B65-280D-4BB1-BD48-FBAC06A8C7D6 & NA & NA & ⋯ & NA & NA & NA & NA & NA & NA & NA & NA & NA & 1\\\\\n",
       "\t  962621 &  8 &  3014504 & 2015-05-04 & 1 & ICD9CM:309.81 & 697 & 48BF8FBA-EFEB-40F0-ABA0-A92CF2BB049A & NA & NA & ⋯ & NA & NA & NA & NA & NA & NA & NA & NA & NA & 1\\\\\n",
       "\t 4264314 &  9 & 58632487 & 2015-07-21 & 1 & ICD9CM:309.81 & 609 & 74948A58-FF45-43A6-9295-10ECDB0078C4 & NA & NA & ⋯ & NA & NA & NA & NA & NA & NA & NA & NA & NA & 1\\\\\n",
       "\t 4706855 & 18 & 59113552 & 2015-02-17 & 1 & ICD9CM:309.81 & 609 & FEDB2D8C-5449-46EC-BC7C-FA4B8A09B95A & NA & NA & ⋯ & NA & NA & NA & NA & NA & NA & NA & NA & NA & 1\\\\\n",
       "\t 2611021 & 15 &  8973512 & 2015-06-02 & 1 & ICD9CM:309.81 & 612 & C78F43ED-87B8-421E-9C54-5C5BA7646BAB & NA & NA & ⋯ & NA & NA & NA & NA & NA & NA & NA & NA & NA & 1\\\\\n",
       "\t  511279 & 12 &  8121525 & 2015-05-20 & 1 & ICD9CM:309.81 & 612 & 936F92B6-99B7-4B24-8B5B-70A798C9DC8F & NA & NA & ⋯ & NA & NA & NA & NA & NA & NA & NA & NA & NA & 1\\\\\n",
       "\t 1919889 & 16 & 29027218 & 2015-03-19 & 1 & ICD9CM:309.81 & 679 & 74A38819-C98E-4C4E-B7E2-70EC6599A65A & NA & NA & ⋯ & NA & NA & NA & NA & NA & NA & NA & NA & NA & 1\\\\\n",
       "\t 3667890 & 11 & 31273582 & 2015-02-09 & 1 & ICD9CM:309.81 & 564 & 271C37C9-39D7-41C9-A55B-6BFAE9A7214A & NA & NA & ⋯ & NA & NA & NA & NA & NA & NA & NA & NA & NA & 1\\\\\n",
       "\t 3794882 & 14 & 29536871 & 2015-07-09 & 1 & ICD9CM:309.81 & 557 & BF5045BC-F236-42E7-AACB-6B69551ED93A & NA & NA & ⋯ & NA & NA & NA & NA & NA & NA & NA & NA & NA & 1\\\\\n",
       "\t 1842351 & 16 & 65814643 & 2015-06-03 & 1 & ICD9CM:309.81 & 642 & 574B452D-A9A8-4B5B-8E8D-0FF8373E2ED6 & NA & NA & ⋯ & NA & NA & NA & NA & NA & NA & NA & NA & NA & 1\\\\\n",
       "\t 6199112 &  6 & 37633895 & 2015-06-09 & 1 & ICD9CM:309.81 & 692 & EA0E43AD-F01B-41C2-A7A8-5C8853D8309A & NA & NA & ⋯ & NA & NA & NA & NA & NA & NA & NA & NA & NA & 1\\\\\n",
       "\t 4887292 &  8 & 50596713 & 2015-05-12 & 1 & ICD9CM:309.81 & 671 & A807D285-02A5-4498-AAB7-B4A7BD231C7D & NA & NA & ⋯ & NA & NA & NA & NA & NA & NA & NA & NA & NA & 1\\\\\n",
       "\t  690290 &  5 &  7322510 & 2015-08-19 & 1 & ICD9CM:309.81 & 612 & 16FF04D4-EF63-4A0A-9D4D-2CA5C32E98AC & NA & NA & ⋯ & NA & NA & NA & NA & NA & NA & NA & NA & NA & 1\\\\\n",
       "\t 2501251 & 18 & 32109443 & 2015-04-09 & 1 & ICD9CM:309.81 & 564 & D26CBFB1-3CA1-4516-8CC7-F81E56342E55 & NA & NA & ⋯ & NA & NA & NA & NA & NA & NA & NA & NA & NA & 1\\\\\n",
       "\t 2997387 & 10 & 17724666 & 2015-04-07 & 1 & ICD9CM:309.81 & 667 & 7DDF3749-333A-458F-BA8A-EE800444823C & NA & NA & ⋯ & NA & NA & NA & NA & NA & NA & NA & NA & NA & 1\\\\\n",
       "\t 2974241 & 14 & 32379676 & 2015-04-15 & 1 & ICD9CM:309.81 & 564 & EF6F929B-1B3B-45F9-9915-D86ED97B6D7D & NA & NA & ⋯ & NA & NA & NA & NA & NA & NA & NA & NA & NA & 1\\\\\n",
       "\t 4328257 & 27 & 50909608 & 2015-03-24 & 1 & ICD9CM:309.81 & 671 & DD1EC6AB-9840-4C66-8E32-4F39BEDE5F3E & NA & NA & ⋯ & NA & NA & NA & NA & NA & NA & NA & NA & NA & 1\\\\\n",
       "\t 3732410 & 20 & 53710498 & 2015-07-17 & 1 & ICD9CM:309.81 & 671 & 85A46A68-3C64-485F-AE3B-AF8BC97D4AA8 & NA & NA & ⋯ & NA & NA & NA & NA & NA & NA & NA & NA & NA & 1\\\\\n",
       "\t 4427150 & 20 &  9026948 & 2015-01-22 & 1 & ICD9CM:309.81 & 612 & 16FF04D4-EF63-4A0A-9D4D-2CA5C32E98AC & NA & NA & ⋯ & NA & NA & NA & NA & NA & NA & NA & NA & NA & 1\\\\\n",
       "\t  374695 & 15 & 35021719 & 2015-03-19 & 1 & ICD9CM:309.81 & 692 & 09D8F72A-099C-4162-BF87-51C0D6C6D8CC & NA & NA & ⋯ & NA & NA & NA & NA & NA & NA & NA & NA & NA & 1\\\\\n",
       "\t 3365454 &  6 & 68237607 & 2015-06-17 & 1 & ICD9CM:309.81 & 577 & DC7EAF8D-F198-4D24-BAA5-CF5590E47B10 & NA & NA & ⋯ & NA & NA & NA & NA & NA & NA & NA & NA & NA & 1\\\\\n",
       "\t 3621663 & 19 & 50449697 & 2015-01-23 & 1 & ICD9CM:309.81 & 671 & 8192547A-DB7C-43B6-B8C9-60F7D134413A & NA & NA & ⋯ & NA & NA & NA & NA & NA & NA & NA & NA & NA & 1\\\\\n",
       "\t 5322790 & 14 & 38042044 & 2015-08-18 & 1 & ICD9CM:309.81 & 678 & 93EF7C19-F3BA-46DA-A9ED-381A00237DDE & NA & NA & ⋯ & NA & NA & NA & NA & NA & NA & NA & NA & NA & 1\\\\\n",
       "\t 6474010 & 18 & 23574528 & 2015-07-15 & 1 & ICD9CM:309.81 & 578 & ED2AEAF4-63D1-4B77-8517-962C1EF8D5E2 & NA & NA & ⋯ & NA & NA & NA & NA & NA & NA & NA & NA & NA & 1\\\\\n",
       "\\end{tabular}\n"
      ],
      "text/markdown": [
       "\n",
       "A tibble: 13458 × 29\n",
       "\n",
       "| phqPT &lt;int&gt; | PhqScore &lt;dbl&gt; | phqEnc &lt;int&gt; | AdminDate &lt;dttm&gt; | INSTANCE_NUM &lt;int&gt; | CONCEPT_CD &lt;chr&gt; | HEALTH_SYSTEM_ID &lt;chr&gt; | PROVIDER_ID &lt;chr&gt; | BMI &lt;dbl&gt; | SystolicBP &lt;dbl&gt; | ⋯ ⋯ | Anxiety &lt;dbl&gt; | Alcohol &lt;dbl&gt; | Sleep &lt;dbl&gt; | SUD &lt;dbl&gt; | Tobacco &lt;dbl&gt; | SchizophreniaSpectrum &lt;dbl&gt; | Adjustment &lt;dbl&gt; | EatingDisorders &lt;dbl&gt; | Hypertension &lt;dbl&gt; | PTSD &lt;dbl&gt; |\n",
       "|---|---|---|---|---|---|---|---|---|---|---|---|---|---|---|---|---|---|---|---|---|\n",
       "| 6877603 |  4 | 0 | 2015-09-25 | 1 | ICD9CM:309.81 | NA | @ | NA | NA | ⋯ | NA | NA | NA | NA | NA | NA | NA | NA | NA | 1 |\n",
       "| 6889350 | 15 | 0 | 2015-09-08 | 1 | ICD9CM:309.81 | NA | @ | NA | NA | ⋯ | NA | NA | NA | NA | NA | NA | NA | NA | NA | 1 |\n",
       "| 6919084 |  5 | 0 | 2014-12-04 | 1 | ICD9CM:309.81 | NA | @ | NA | NA | ⋯ | NA | NA | NA | NA | NA | NA | NA | NA | NA | 1 |\n",
       "| 6891971 | 10 | 0 | 2014-10-10 | 1 | ICD9CM:309.81 | NA | @ | NA | NA | ⋯ | NA | NA | NA | NA | NA | NA | NA | NA | NA | 1 |\n",
       "| 6902091 |  9 | 0 | 2014-01-24 | 1 | ICD9CM:309.81 | NA | @ | NA | NA | ⋯ | NA | NA | NA | NA | NA | NA | NA | NA | NA | 1 |\n",
       "| 6900618 |  4 | 0 | 2015-03-20 | 1 | ICD9CM:309.81 | NA | @ | NA | NA | ⋯ | NA | NA | NA | NA | NA | NA | NA | NA | NA | 1 |\n",
       "| 6893614 | 21 | 0 | 2013-10-17 | 1 | ICD9CM:309.81 | NA | @ | NA | NA | ⋯ | NA | NA | NA | NA | NA | NA | NA | NA | NA | 1 |\n",
       "| 6879156 | 23 | 0 | 2014-08-26 | 1 | ICD9CM:309.81 | NA | @ | NA | NA | ⋯ | NA | NA | NA | NA | NA | NA | NA | NA | NA | 1 |\n",
       "| 6874669 |  3 | 0 | 2014-05-19 | 1 | ICD9CM:309.81 | NA | @ | NA | NA | ⋯ | NA | NA | NA | NA | NA | NA | NA | NA | NA | 1 |\n",
       "| 6914138 | 16 | 0 | 2015-02-04 | 1 | ICD9CM:309.81 | NA | @ | NA | NA | ⋯ | NA | NA | NA | NA | NA | NA | NA | NA | NA | 1 |\n",
       "| 6913455 | 11 | 0 | 2015-04-07 | 1 | ICD9CM:309.81 | NA | @ | NA | NA | ⋯ | NA | NA | NA | NA | NA | NA | NA | NA | NA | 1 |\n",
       "| 6878933 |  8 | 0 | 2014-10-27 | 1 | ICD9CM:309.81 | NA | @ | NA | NA | ⋯ | NA | NA | NA | NA | NA | NA | NA | NA | NA | 1 |\n",
       "| 6884796 | 19 | 0 | 2015-02-02 | 1 | ICD9CM:309.81 | NA | @ | NA | NA | ⋯ | NA | NA | NA | NA | NA | NA | NA | NA | NA | 1 |\n",
       "| 6893705 |  7 | 0 | 2014-04-17 | 1 | ICD9CM:309.81 | NA | @ | NA | NA | ⋯ | NA | NA | NA | NA | NA | NA | NA | NA | NA | 1 |\n",
       "| 6916768 |  9 | 0 | 2013-03-29 | 1 | ICD9CM:309.81 | NA | @ | NA | NA | ⋯ | NA | NA | NA | NA | NA | NA | NA | NA | NA | 1 |\n",
       "| 6879575 | 19 | 0 | 2015-01-14 | 1 | ICD9CM:309.81 | NA | @ | NA | NA | ⋯ | NA | NA | NA | NA | NA | NA | NA | NA | NA | 1 |\n",
       "| 6887089 |  6 | 0 | 2014-09-30 | 1 | ICD9CM:309.81 | NA | @ | NA | NA | ⋯ | NA | NA | NA | NA | NA | NA | NA | NA | NA | 1 |\n",
       "| 6909421 |  0 | 0 | 2013-12-27 | 1 | ICD9CM:309.81 | NA | @ | NA | NA | ⋯ | NA | NA | NA | NA | NA | NA | NA | NA | NA | 1 |\n",
       "| 6915927 |  6 | 0 | 2014-01-17 | 1 | ICD9CM:309.81 | NA | @ | NA | NA | ⋯ | NA | NA | NA | NA | NA | NA | NA | NA | NA | 1 |\n",
       "| 6913524 |  8 | 0 | 2015-04-17 | 1 | ICD9CM:309.81 | NA | @ | NA | NA | ⋯ | NA | NA | NA | NA | NA | NA | NA | NA | NA | 1 |\n",
       "| 6874659 | 17 | 0 | 2014-09-11 | 1 | ICD9CM:309.81 | NA | @ | NA | NA | ⋯ | NA | NA | NA | NA | NA | NA | NA | NA | NA | 1 |\n",
       "| 6916684 |  1 | 0 | 2015-08-26 | 1 | ICD9CM:309.81 | NA | @ | NA | NA | ⋯ | NA | NA | NA | NA | NA | NA | NA | NA | NA | 1 |\n",
       "| 6880286 |  1 | 0 | 2015-06-26 | 1 | ICD9CM:309.81 | NA | @ | NA | NA | ⋯ | NA | NA | NA | NA | NA | NA | NA | NA | NA | 1 |\n",
       "| 6893651 | 14 | 0 | 2015-05-19 | 1 | ICD9CM:309.81 | NA | @ | NA | NA | ⋯ | NA | NA | NA | NA | NA | NA | NA | NA | NA | 1 |\n",
       "| 6885253 | 20 | 0 | 2013-05-10 | 1 | ICD9CM:309.81 | NA | @ | NA | NA | ⋯ | NA | NA | NA | NA | NA | NA | NA | NA | NA | 1 |\n",
       "| 6904288 | 15 | 0 | 2015-08-13 | 1 | ICD9CM:309.81 | NA | @ | NA | NA | ⋯ | NA | NA | NA | NA | NA | NA | NA | NA | NA | 1 |\n",
       "| 6887102 | 14 | 0 | 2013-12-19 | 1 | ICD9CM:309.81 | NA | @ | NA | NA | ⋯ | NA | NA | NA | NA | NA | NA | NA | NA | NA | 1 |\n",
       "| 6894714 |  6 | 0 | 2013-05-01 | 1 | ICD9CM:309.81 | NA | @ | NA | NA | ⋯ | NA | NA | NA | NA | NA | NA | NA | NA | NA | 1 |\n",
       "| 6875955 | 15 | 0 | 2015-04-29 | 1 | ICD9CM:309.81 | NA | @ | NA | NA | ⋯ | NA | NA | NA | NA | NA | NA | NA | NA | NA | 1 |\n",
       "| 6905883 | 12 | 0 | 2014-04-24 | 1 | ICD9CM:309.81 | NA | @ | NA | NA | ⋯ | NA | NA | NA | NA | NA | NA | NA | NA | NA | 1 |\n",
       "| ⋮ | ⋮ | ⋮ | ⋮ | ⋮ | ⋮ | ⋮ | ⋮ | ⋮ | ⋮ | ⋱ | ⋮ | ⋮ | ⋮ | ⋮ | ⋮ | ⋮ | ⋮ | ⋮ | ⋮ | ⋮ |\n",
       "| 4574315 | 16 | 49312602 | 2015-08-17 | 1 | ICD9CM:309.81 | 671 | 5E0FC156-4246-4837-B6F2-107871AA3408 | NA | NA | ⋯ | NA | NA | NA | NA | NA | NA | NA | NA | NA | 1 |\n",
       "| 2360161 |  9 | 30044856 | 2015-04-28 | 1 | ICD9CM:309.81 | 662 | 23D40AA4-EA11-4C44-8957-DC3E79FDE6D3 | NA | NA | ⋯ | NA | NA | NA | NA | NA | NA | NA | NA | NA | 1 |\n",
       "| 2020052 | 13 |  2859096 | 2015-06-19 | 1 | ICD9CM:309.81 | 697 | 48BF8FBA-EFEB-40F0-ABA0-A92CF2BB049A | NA | NA | ⋯ | NA | NA | NA | NA | NA | NA | NA | NA | NA | 1 |\n",
       "| 6705176 | 22 | 23878747 | 2015-08-20 | 1 | ICD9CM:309.81 | 578 | 43D455B2-8F4E-4671-A59F-AE099F6FB2C2 | NA | NA | ⋯ | NA | NA | NA | NA | NA | NA | NA | NA | NA | 1 |\n",
       "| 4368203 | 24 |  8125019 | 2015-05-11 | 1 | ICD9CM:309.81 | 612 | D9EFC9AA-FFA6-45F7-9AFE-71B30764928D | NA | NA | ⋯ | NA | NA | NA | NA | NA | NA | NA | NA | NA | 1 |\n",
       "| 6414952 | 18 | 61738927 | 2015-01-29 | 1 | ICD9CM:309.81 | 596 | 00BE6B65-280D-4BB1-BD48-FBAC06A8C7D6 | NA | NA | ⋯ | NA | NA | NA | NA | NA | NA | NA | NA | NA | 1 |\n",
       "| 5692926 | 14 | 61532377 | 2015-04-01 | 1 | ICD9CM:309.81 | 596 | 00BE6B65-280D-4BB1-BD48-FBAC06A8C7D6 | NA | NA | ⋯ | NA | NA | NA | NA | NA | NA | NA | NA | NA | 1 |\n",
       "|  962621 |  8 |  3014504 | 2015-05-04 | 1 | ICD9CM:309.81 | 697 | 48BF8FBA-EFEB-40F0-ABA0-A92CF2BB049A | NA | NA | ⋯ | NA | NA | NA | NA | NA | NA | NA | NA | NA | 1 |\n",
       "| 4264314 |  9 | 58632487 | 2015-07-21 | 1 | ICD9CM:309.81 | 609 | 74948A58-FF45-43A6-9295-10ECDB0078C4 | NA | NA | ⋯ | NA | NA | NA | NA | NA | NA | NA | NA | NA | 1 |\n",
       "| 4706855 | 18 | 59113552 | 2015-02-17 | 1 | ICD9CM:309.81 | 609 | FEDB2D8C-5449-46EC-BC7C-FA4B8A09B95A | NA | NA | ⋯ | NA | NA | NA | NA | NA | NA | NA | NA | NA | 1 |\n",
       "| 2611021 | 15 |  8973512 | 2015-06-02 | 1 | ICD9CM:309.81 | 612 | C78F43ED-87B8-421E-9C54-5C5BA7646BAB | NA | NA | ⋯ | NA | NA | NA | NA | NA | NA | NA | NA | NA | 1 |\n",
       "|  511279 | 12 |  8121525 | 2015-05-20 | 1 | ICD9CM:309.81 | 612 | 936F92B6-99B7-4B24-8B5B-70A798C9DC8F | NA | NA | ⋯ | NA | NA | NA | NA | NA | NA | NA | NA | NA | 1 |\n",
       "| 1919889 | 16 | 29027218 | 2015-03-19 | 1 | ICD9CM:309.81 | 679 | 74A38819-C98E-4C4E-B7E2-70EC6599A65A | NA | NA | ⋯ | NA | NA | NA | NA | NA | NA | NA | NA | NA | 1 |\n",
       "| 3667890 | 11 | 31273582 | 2015-02-09 | 1 | ICD9CM:309.81 | 564 | 271C37C9-39D7-41C9-A55B-6BFAE9A7214A | NA | NA | ⋯ | NA | NA | NA | NA | NA | NA | NA | NA | NA | 1 |\n",
       "| 3794882 | 14 | 29536871 | 2015-07-09 | 1 | ICD9CM:309.81 | 557 | BF5045BC-F236-42E7-AACB-6B69551ED93A | NA | NA | ⋯ | NA | NA | NA | NA | NA | NA | NA | NA | NA | 1 |\n",
       "| 1842351 | 16 | 65814643 | 2015-06-03 | 1 | ICD9CM:309.81 | 642 | 574B452D-A9A8-4B5B-8E8D-0FF8373E2ED6 | NA | NA | ⋯ | NA | NA | NA | NA | NA | NA | NA | NA | NA | 1 |\n",
       "| 6199112 |  6 | 37633895 | 2015-06-09 | 1 | ICD9CM:309.81 | 692 | EA0E43AD-F01B-41C2-A7A8-5C8853D8309A | NA | NA | ⋯ | NA | NA | NA | NA | NA | NA | NA | NA | NA | 1 |\n",
       "| 4887292 |  8 | 50596713 | 2015-05-12 | 1 | ICD9CM:309.81 | 671 | A807D285-02A5-4498-AAB7-B4A7BD231C7D | NA | NA | ⋯ | NA | NA | NA | NA | NA | NA | NA | NA | NA | 1 |\n",
       "|  690290 |  5 |  7322510 | 2015-08-19 | 1 | ICD9CM:309.81 | 612 | 16FF04D4-EF63-4A0A-9D4D-2CA5C32E98AC | NA | NA | ⋯ | NA | NA | NA | NA | NA | NA | NA | NA | NA | 1 |\n",
       "| 2501251 | 18 | 32109443 | 2015-04-09 | 1 | ICD9CM:309.81 | 564 | D26CBFB1-3CA1-4516-8CC7-F81E56342E55 | NA | NA | ⋯ | NA | NA | NA | NA | NA | NA | NA | NA | NA | 1 |\n",
       "| 2997387 | 10 | 17724666 | 2015-04-07 | 1 | ICD9CM:309.81 | 667 | 7DDF3749-333A-458F-BA8A-EE800444823C | NA | NA | ⋯ | NA | NA | NA | NA | NA | NA | NA | NA | NA | 1 |\n",
       "| 2974241 | 14 | 32379676 | 2015-04-15 | 1 | ICD9CM:309.81 | 564 | EF6F929B-1B3B-45F9-9915-D86ED97B6D7D | NA | NA | ⋯ | NA | NA | NA | NA | NA | NA | NA | NA | NA | 1 |\n",
       "| 4328257 | 27 | 50909608 | 2015-03-24 | 1 | ICD9CM:309.81 | 671 | DD1EC6AB-9840-4C66-8E32-4F39BEDE5F3E | NA | NA | ⋯ | NA | NA | NA | NA | NA | NA | NA | NA | NA | 1 |\n",
       "| 3732410 | 20 | 53710498 | 2015-07-17 | 1 | ICD9CM:309.81 | 671 | 85A46A68-3C64-485F-AE3B-AF8BC97D4AA8 | NA | NA | ⋯ | NA | NA | NA | NA | NA | NA | NA | NA | NA | 1 |\n",
       "| 4427150 | 20 |  9026948 | 2015-01-22 | 1 | ICD9CM:309.81 | 612 | 16FF04D4-EF63-4A0A-9D4D-2CA5C32E98AC | NA | NA | ⋯ | NA | NA | NA | NA | NA | NA | NA | NA | NA | 1 |\n",
       "|  374695 | 15 | 35021719 | 2015-03-19 | 1 | ICD9CM:309.81 | 692 | 09D8F72A-099C-4162-BF87-51C0D6C6D8CC | NA | NA | ⋯ | NA | NA | NA | NA | NA | NA | NA | NA | NA | 1 |\n",
       "| 3365454 |  6 | 68237607 | 2015-06-17 | 1 | ICD9CM:309.81 | 577 | DC7EAF8D-F198-4D24-BAA5-CF5590E47B10 | NA | NA | ⋯ | NA | NA | NA | NA | NA | NA | NA | NA | NA | 1 |\n",
       "| 3621663 | 19 | 50449697 | 2015-01-23 | 1 | ICD9CM:309.81 | 671 | 8192547A-DB7C-43B6-B8C9-60F7D134413A | NA | NA | ⋯ | NA | NA | NA | NA | NA | NA | NA | NA | NA | 1 |\n",
       "| 5322790 | 14 | 38042044 | 2015-08-18 | 1 | ICD9CM:309.81 | 678 | 93EF7C19-F3BA-46DA-A9ED-381A00237DDE | NA | NA | ⋯ | NA | NA | NA | NA | NA | NA | NA | NA | NA | 1 |\n",
       "| 6474010 | 18 | 23574528 | 2015-07-15 | 1 | ICD9CM:309.81 | 578 | ED2AEAF4-63D1-4B77-8517-962C1EF8D5E2 | NA | NA | ⋯ | NA | NA | NA | NA | NA | NA | NA | NA | NA | 1 |\n",
       "\n"
      ],
      "text/plain": [
       "      phqPT   PhqScore phqEnc   AdminDate  INSTANCE_NUM CONCEPT_CD   \n",
       "1     6877603  4       0        2015-09-25 1            ICD9CM:309.81\n",
       "2     6889350 15       0        2015-09-08 1            ICD9CM:309.81\n",
       "3     6919084  5       0        2014-12-04 1            ICD9CM:309.81\n",
       "4     6891971 10       0        2014-10-10 1            ICD9CM:309.81\n",
       "5     6902091  9       0        2014-01-24 1            ICD9CM:309.81\n",
       "6     6900618  4       0        2015-03-20 1            ICD9CM:309.81\n",
       "7     6893614 21       0        2013-10-17 1            ICD9CM:309.81\n",
       "8     6879156 23       0        2014-08-26 1            ICD9CM:309.81\n",
       "9     6874669  3       0        2014-05-19 1            ICD9CM:309.81\n",
       "10    6914138 16       0        2015-02-04 1            ICD9CM:309.81\n",
       "11    6913455 11       0        2015-04-07 1            ICD9CM:309.81\n",
       "12    6878933  8       0        2014-10-27 1            ICD9CM:309.81\n",
       "13    6884796 19       0        2015-02-02 1            ICD9CM:309.81\n",
       "14    6893705  7       0        2014-04-17 1            ICD9CM:309.81\n",
       "15    6916768  9       0        2013-03-29 1            ICD9CM:309.81\n",
       "16    6879575 19       0        2015-01-14 1            ICD9CM:309.81\n",
       "17    6887089  6       0        2014-09-30 1            ICD9CM:309.81\n",
       "18    6909421  0       0        2013-12-27 1            ICD9CM:309.81\n",
       "19    6915927  6       0        2014-01-17 1            ICD9CM:309.81\n",
       "20    6913524  8       0        2015-04-17 1            ICD9CM:309.81\n",
       "21    6874659 17       0        2014-09-11 1            ICD9CM:309.81\n",
       "22    6916684  1       0        2015-08-26 1            ICD9CM:309.81\n",
       "23    6880286  1       0        2015-06-26 1            ICD9CM:309.81\n",
       "24    6893651 14       0        2015-05-19 1            ICD9CM:309.81\n",
       "25    6885253 20       0        2013-05-10 1            ICD9CM:309.81\n",
       "26    6904288 15       0        2015-08-13 1            ICD9CM:309.81\n",
       "27    6887102 14       0        2013-12-19 1            ICD9CM:309.81\n",
       "28    6894714  6       0        2013-05-01 1            ICD9CM:309.81\n",
       "29    6875955 15       0        2015-04-29 1            ICD9CM:309.81\n",
       "30    6905883 12       0        2014-04-24 1            ICD9CM:309.81\n",
       "⋮     ⋮       ⋮        ⋮        ⋮          ⋮            ⋮            \n",
       "13429 4574315 16       49312602 2015-08-17 1            ICD9CM:309.81\n",
       "13430 2360161  9       30044856 2015-04-28 1            ICD9CM:309.81\n",
       "13431 2020052 13        2859096 2015-06-19 1            ICD9CM:309.81\n",
       "13432 6705176 22       23878747 2015-08-20 1            ICD9CM:309.81\n",
       "13433 4368203 24        8125019 2015-05-11 1            ICD9CM:309.81\n",
       "13434 6414952 18       61738927 2015-01-29 1            ICD9CM:309.81\n",
       "13435 5692926 14       61532377 2015-04-01 1            ICD9CM:309.81\n",
       "13436  962621  8        3014504 2015-05-04 1            ICD9CM:309.81\n",
       "13437 4264314  9       58632487 2015-07-21 1            ICD9CM:309.81\n",
       "13438 4706855 18       59113552 2015-02-17 1            ICD9CM:309.81\n",
       "13439 2611021 15        8973512 2015-06-02 1            ICD9CM:309.81\n",
       "13440  511279 12        8121525 2015-05-20 1            ICD9CM:309.81\n",
       "13441 1919889 16       29027218 2015-03-19 1            ICD9CM:309.81\n",
       "13442 3667890 11       31273582 2015-02-09 1            ICD9CM:309.81\n",
       "13443 3794882 14       29536871 2015-07-09 1            ICD9CM:309.81\n",
       "13444 1842351 16       65814643 2015-06-03 1            ICD9CM:309.81\n",
       "13445 6199112  6       37633895 2015-06-09 1            ICD9CM:309.81\n",
       "13446 4887292  8       50596713 2015-05-12 1            ICD9CM:309.81\n",
       "13447  690290  5        7322510 2015-08-19 1            ICD9CM:309.81\n",
       "13448 2501251 18       32109443 2015-04-09 1            ICD9CM:309.81\n",
       "13449 2997387 10       17724666 2015-04-07 1            ICD9CM:309.81\n",
       "13450 2974241 14       32379676 2015-04-15 1            ICD9CM:309.81\n",
       "13451 4328257 27       50909608 2015-03-24 1            ICD9CM:309.81\n",
       "13452 3732410 20       53710498 2015-07-17 1            ICD9CM:309.81\n",
       "13453 4427150 20        9026948 2015-01-22 1            ICD9CM:309.81\n",
       "13454  374695 15       35021719 2015-03-19 1            ICD9CM:309.81\n",
       "13455 3365454  6       68237607 2015-06-17 1            ICD9CM:309.81\n",
       "13456 3621663 19       50449697 2015-01-23 1            ICD9CM:309.81\n",
       "13457 5322790 14       38042044 2015-08-18 1            ICD9CM:309.81\n",
       "13458 6474010 18       23574528 2015-07-15 1            ICD9CM:309.81\n",
       "      HEALTH_SYSTEM_ID PROVIDER_ID                          BMI SystolicBP ⋯\n",
       "1     NA               @                                    NA  NA         ⋯\n",
       "2     NA               @                                    NA  NA         ⋯\n",
       "3     NA               @                                    NA  NA         ⋯\n",
       "4     NA               @                                    NA  NA         ⋯\n",
       "5     NA               @                                    NA  NA         ⋯\n",
       "6     NA               @                                    NA  NA         ⋯\n",
       "7     NA               @                                    NA  NA         ⋯\n",
       "8     NA               @                                    NA  NA         ⋯\n",
       "9     NA               @                                    NA  NA         ⋯\n",
       "10    NA               @                                    NA  NA         ⋯\n",
       "11    NA               @                                    NA  NA         ⋯\n",
       "12    NA               @                                    NA  NA         ⋯\n",
       "13    NA               @                                    NA  NA         ⋯\n",
       "14    NA               @                                    NA  NA         ⋯\n",
       "15    NA               @                                    NA  NA         ⋯\n",
       "16    NA               @                                    NA  NA         ⋯\n",
       "17    NA               @                                    NA  NA         ⋯\n",
       "18    NA               @                                    NA  NA         ⋯\n",
       "19    NA               @                                    NA  NA         ⋯\n",
       "20    NA               @                                    NA  NA         ⋯\n",
       "21    NA               @                                    NA  NA         ⋯\n",
       "22    NA               @                                    NA  NA         ⋯\n",
       "23    NA               @                                    NA  NA         ⋯\n",
       "24    NA               @                                    NA  NA         ⋯\n",
       "25    NA               @                                    NA  NA         ⋯\n",
       "26    NA               @                                    NA  NA         ⋯\n",
       "27    NA               @                                    NA  NA         ⋯\n",
       "28    NA               @                                    NA  NA         ⋯\n",
       "29    NA               @                                    NA  NA         ⋯\n",
       "30    NA               @                                    NA  NA         ⋯\n",
       "⋮     ⋮                ⋮                                    ⋮   ⋮          ⋱\n",
       "13429 671              5E0FC156-4246-4837-B6F2-107871AA3408 NA  NA         ⋯\n",
       "13430 662              23D40AA4-EA11-4C44-8957-DC3E79FDE6D3 NA  NA         ⋯\n",
       "13431 697              48BF8FBA-EFEB-40F0-ABA0-A92CF2BB049A NA  NA         ⋯\n",
       "13432 578              43D455B2-8F4E-4671-A59F-AE099F6FB2C2 NA  NA         ⋯\n",
       "13433 612              D9EFC9AA-FFA6-45F7-9AFE-71B30764928D NA  NA         ⋯\n",
       "13434 596              00BE6B65-280D-4BB1-BD48-FBAC06A8C7D6 NA  NA         ⋯\n",
       "13435 596              00BE6B65-280D-4BB1-BD48-FBAC06A8C7D6 NA  NA         ⋯\n",
       "13436 697              48BF8FBA-EFEB-40F0-ABA0-A92CF2BB049A NA  NA         ⋯\n",
       "13437 609              74948A58-FF45-43A6-9295-10ECDB0078C4 NA  NA         ⋯\n",
       "13438 609              FEDB2D8C-5449-46EC-BC7C-FA4B8A09B95A NA  NA         ⋯\n",
       "13439 612              C78F43ED-87B8-421E-9C54-5C5BA7646BAB NA  NA         ⋯\n",
       "13440 612              936F92B6-99B7-4B24-8B5B-70A798C9DC8F NA  NA         ⋯\n",
       "13441 679              74A38819-C98E-4C4E-B7E2-70EC6599A65A NA  NA         ⋯\n",
       "13442 564              271C37C9-39D7-41C9-A55B-6BFAE9A7214A NA  NA         ⋯\n",
       "13443 557              BF5045BC-F236-42E7-AACB-6B69551ED93A NA  NA         ⋯\n",
       "13444 642              574B452D-A9A8-4B5B-8E8D-0FF8373E2ED6 NA  NA         ⋯\n",
       "13445 692              EA0E43AD-F01B-41C2-A7A8-5C8853D8309A NA  NA         ⋯\n",
       "13446 671              A807D285-02A5-4498-AAB7-B4A7BD231C7D NA  NA         ⋯\n",
       "13447 612              16FF04D4-EF63-4A0A-9D4D-2CA5C32E98AC NA  NA         ⋯\n",
       "13448 564              D26CBFB1-3CA1-4516-8CC7-F81E56342E55 NA  NA         ⋯\n",
       "13449 667              7DDF3749-333A-458F-BA8A-EE800444823C NA  NA         ⋯\n",
       "13450 564              EF6F929B-1B3B-45F9-9915-D86ED97B6D7D NA  NA         ⋯\n",
       "13451 671              DD1EC6AB-9840-4C66-8E32-4F39BEDE5F3E NA  NA         ⋯\n",
       "13452 671              85A46A68-3C64-485F-AE3B-AF8BC97D4AA8 NA  NA         ⋯\n",
       "13453 612              16FF04D4-EF63-4A0A-9D4D-2CA5C32E98AC NA  NA         ⋯\n",
       "13454 692              09D8F72A-099C-4162-BF87-51C0D6C6D8CC NA  NA         ⋯\n",
       "13455 577              DC7EAF8D-F198-4D24-BAA5-CF5590E47B10 NA  NA         ⋯\n",
       "13456 671              8192547A-DB7C-43B6-B8C9-60F7D134413A NA  NA         ⋯\n",
       "13457 678              93EF7C19-F3BA-46DA-A9ED-381A00237DDE NA  NA         ⋯\n",
       "13458 578              ED2AEAF4-63D1-4B77-8517-962C1EF8D5E2 NA  NA         ⋯\n",
       "      Anxiety Alcohol Sleep SUD Tobacco SchizophreniaSpectrum Adjustment\n",
       "1     NA      NA      NA    NA  NA      NA                    NA        \n",
       "2     NA      NA      NA    NA  NA      NA                    NA        \n",
       "3     NA      NA      NA    NA  NA      NA                    NA        \n",
       "4     NA      NA      NA    NA  NA      NA                    NA        \n",
       "5     NA      NA      NA    NA  NA      NA                    NA        \n",
       "6     NA      NA      NA    NA  NA      NA                    NA        \n",
       "7     NA      NA      NA    NA  NA      NA                    NA        \n",
       "8     NA      NA      NA    NA  NA      NA                    NA        \n",
       "9     NA      NA      NA    NA  NA      NA                    NA        \n",
       "10    NA      NA      NA    NA  NA      NA                    NA        \n",
       "11    NA      NA      NA    NA  NA      NA                    NA        \n",
       "12    NA      NA      NA    NA  NA      NA                    NA        \n",
       "13    NA      NA      NA    NA  NA      NA                    NA        \n",
       "14    NA      NA      NA    NA  NA      NA                    NA        \n",
       "15    NA      NA      NA    NA  NA      NA                    NA        \n",
       "16    NA      NA      NA    NA  NA      NA                    NA        \n",
       "17    NA      NA      NA    NA  NA      NA                    NA        \n",
       "18    NA      NA      NA    NA  NA      NA                    NA        \n",
       "19    NA      NA      NA    NA  NA      NA                    NA        \n",
       "20    NA      NA      NA    NA  NA      NA                    NA        \n",
       "21    NA      NA      NA    NA  NA      NA                    NA        \n",
       "22    NA      NA      NA    NA  NA      NA                    NA        \n",
       "23    NA      NA      NA    NA  NA      NA                    NA        \n",
       "24    NA      NA      NA    NA  NA      NA                    NA        \n",
       "25    NA      NA      NA    NA  NA      NA                    NA        \n",
       "26    NA      NA      NA    NA  NA      NA                    NA        \n",
       "27    NA      NA      NA    NA  NA      NA                    NA        \n",
       "28    NA      NA      NA    NA  NA      NA                    NA        \n",
       "29    NA      NA      NA    NA  NA      NA                    NA        \n",
       "30    NA      NA      NA    NA  NA      NA                    NA        \n",
       "⋮     ⋮       ⋮       ⋮     ⋮   ⋮       ⋮                     ⋮         \n",
       "13429 NA      NA      NA    NA  NA      NA                    NA        \n",
       "13430 NA      NA      NA    NA  NA      NA                    NA        \n",
       "13431 NA      NA      NA    NA  NA      NA                    NA        \n",
       "13432 NA      NA      NA    NA  NA      NA                    NA        \n",
       "13433 NA      NA      NA    NA  NA      NA                    NA        \n",
       "13434 NA      NA      NA    NA  NA      NA                    NA        \n",
       "13435 NA      NA      NA    NA  NA      NA                    NA        \n",
       "13436 NA      NA      NA    NA  NA      NA                    NA        \n",
       "13437 NA      NA      NA    NA  NA      NA                    NA        \n",
       "13438 NA      NA      NA    NA  NA      NA                    NA        \n",
       "13439 NA      NA      NA    NA  NA      NA                    NA        \n",
       "13440 NA      NA      NA    NA  NA      NA                    NA        \n",
       "13441 NA      NA      NA    NA  NA      NA                    NA        \n",
       "13442 NA      NA      NA    NA  NA      NA                    NA        \n",
       "13443 NA      NA      NA    NA  NA      NA                    NA        \n",
       "13444 NA      NA      NA    NA  NA      NA                    NA        \n",
       "13445 NA      NA      NA    NA  NA      NA                    NA        \n",
       "13446 NA      NA      NA    NA  NA      NA                    NA        \n",
       "13447 NA      NA      NA    NA  NA      NA                    NA        \n",
       "13448 NA      NA      NA    NA  NA      NA                    NA        \n",
       "13449 NA      NA      NA    NA  NA      NA                    NA        \n",
       "13450 NA      NA      NA    NA  NA      NA                    NA        \n",
       "13451 NA      NA      NA    NA  NA      NA                    NA        \n",
       "13452 NA      NA      NA    NA  NA      NA                    NA        \n",
       "13453 NA      NA      NA    NA  NA      NA                    NA        \n",
       "13454 NA      NA      NA    NA  NA      NA                    NA        \n",
       "13455 NA      NA      NA    NA  NA      NA                    NA        \n",
       "13456 NA      NA      NA    NA  NA      NA                    NA        \n",
       "13457 NA      NA      NA    NA  NA      NA                    NA        \n",
       "13458 NA      NA      NA    NA  NA      NA                    NA        \n",
       "      EatingDisorders Hypertension PTSD\n",
       "1     NA              NA           1   \n",
       "2     NA              NA           1   \n",
       "3     NA              NA           1   \n",
       "4     NA              NA           1   \n",
       "5     NA              NA           1   \n",
       "6     NA              NA           1   \n",
       "7     NA              NA           1   \n",
       "8     NA              NA           1   \n",
       "9     NA              NA           1   \n",
       "10    NA              NA           1   \n",
       "11    NA              NA           1   \n",
       "12    NA              NA           1   \n",
       "13    NA              NA           1   \n",
       "14    NA              NA           1   \n",
       "15    NA              NA           1   \n",
       "16    NA              NA           1   \n",
       "17    NA              NA           1   \n",
       "18    NA              NA           1   \n",
       "19    NA              NA           1   \n",
       "20    NA              NA           1   \n",
       "21    NA              NA           1   \n",
       "22    NA              NA           1   \n",
       "23    NA              NA           1   \n",
       "24    NA              NA           1   \n",
       "25    NA              NA           1   \n",
       "26    NA              NA           1   \n",
       "27    NA              NA           1   \n",
       "28    NA              NA           1   \n",
       "29    NA              NA           1   \n",
       "30    NA              NA           1   \n",
       "⋮     ⋮               ⋮            ⋮   \n",
       "13429 NA              NA           1   \n",
       "13430 NA              NA           1   \n",
       "13431 NA              NA           1   \n",
       "13432 NA              NA           1   \n",
       "13433 NA              NA           1   \n",
       "13434 NA              NA           1   \n",
       "13435 NA              NA           1   \n",
       "13436 NA              NA           1   \n",
       "13437 NA              NA           1   \n",
       "13438 NA              NA           1   \n",
       "13439 NA              NA           1   \n",
       "13440 NA              NA           1   \n",
       "13441 NA              NA           1   \n",
       "13442 NA              NA           1   \n",
       "13443 NA              NA           1   \n",
       "13444 NA              NA           1   \n",
       "13445 NA              NA           1   \n",
       "13446 NA              NA           1   \n",
       "13447 NA              NA           1   \n",
       "13448 NA              NA           1   \n",
       "13449 NA              NA           1   \n",
       "13450 NA              NA           1   \n",
       "13451 NA              NA           1   \n",
       "13452 NA              NA           1   \n",
       "13453 NA              NA           1   \n",
       "13454 NA              NA           1   \n",
       "13455 NA              NA           1   \n",
       "13456 NA              NA           1   \n",
       "13457 NA              NA           1   \n",
       "13458 NA              NA           1   "
      ]
     },
     "metadata": {},
     "output_type": "display_data"
    }
   ],
   "source": [
    "phqwide %>% filter(!is.na(PTSD))"
   ]
  },
  {
   "cell_type": "code",
   "execution_count": 16,
   "id": "3fcb4eb5",
   "metadata": {},
   "outputs": [],
   "source": [
    "load('/home/ec2-user/SageMaker/phqwide_icd.RData')"
   ]
  },
  {
   "cell_type": "code",
   "execution_count": 96,
   "id": "2248183a",
   "metadata": {},
   "outputs": [],
   "source": [
    "# eliminating unlikely entries\n",
    "phqwide<-phqwide%>% \n",
    "mutate(BMI=case_when(BMI>200|BMI<7~NA_real_,.default=BMI)) %>% \n",
    "mutate(SystolicBP=case_when(SystolicBP>300|SystolicBP<50~NA_real_,.default=SystolicBP)) %>% \n",
    "mutate(DiastolicBP=case_when(DiastolicBP>300|DiastolicBP<40~NA_real_,.default=DiastolicBP))%>%\n",
    "mutate(Audit=case_when(Audit>40|Audit<0~NA_real_,.default=Audit))"
   ]
  },
  {
   "cell_type": "code",
   "execution_count": null,
   "id": "56cffbd0",
   "metadata": {},
   "outputs": [],
   "source": []
  },
  {
   "cell_type": "code",
   "execution_count": 99,
   "id": "beaf1e34",
   "metadata": {
    "scrolled": true
   },
   "outputs": [],
   "source": [
    "phqcollapse<-phqwide %>% group_by(phqPT,phqEnc) %>%  fill(everything(), .direction = \"up\")  %>% \n",
    "fill(everything(), .direction = \"down\") %>% slice(1)"
   ]
  },
  {
   "cell_type": "code",
   "execution_count": 71,
   "id": "d9ed4877",
   "metadata": {},
   "outputs": [],
   "source": [
    "slicetest<-phqwide %>% ungroup() %>% slice_sample(n=50000)"
   ]
  },
  {
   "cell_type": "code",
   "execution_count": 81,
   "id": "5e186c7c",
   "metadata": {},
   "outputs": [
    {
     "name": "stderr",
     "output_type": "stream",
     "text": [
      "also installing the dependencies ‘gridExtra’, ‘norm’, ‘visdat’, ‘viridis’, ‘UpSetR’\n",
      "\n",
      "\n",
      "Updating HTML index of packages in '.Library'\n",
      "\n",
      "Making 'packages.html' ...\n",
      " done\n",
      "\n"
     ]
    }
   ],
   "source": [
    "install.packages(\"naniar\")\n"
   ]
  },
  {
   "cell_type": "code",
   "execution_count": 82,
   "id": "c1d6377f",
   "metadata": {},
   "outputs": [],
   "source": [
    "library(naniar)"
   ]
  },
  {
   "cell_type": "code",
   "execution_count": 61,
   "id": "496a2ddf",
   "metadata": {},
   "outputs": [],
   "source": [
    "phqwide %>% group_by(phqPT,phqEnc) %>% slice_sample(n=50) %>%  fill(everything(), .direction = \"up\")  %>% \n",
    "fill(everything(), .direction = \"down\")"
   ]
  },
  {
   "cell_type": "code",
   "execution_count": 101,
   "id": "9425e173",
   "metadata": {},
   "outputs": [
    {
     "name": "stderr",
     "output_type": "stream",
     "text": [
      "\u001b[1m\u001b[22mAdding missing grouping variables: `phqEnc`\n"
     ]
    },
    {
     "data": {
      "text/html": [
       "<table class=\"dataframe\">\n",
       "<caption>A grouped_df: 1 × 4</caption>\n",
       "<thead>\n",
       "\t<tr><th scope=col>phqEnc</th><th scope=col>phqPT</th><th scope=col>Obesity</th><th scope=col>Anxiety</th></tr>\n",
       "\t<tr><th scope=col>&lt;int&gt;</th><th scope=col>&lt;int&gt;</th><th scope=col>&lt;dbl&gt;</th><th scope=col>&lt;dbl&gt;</th></tr>\n",
       "</thead>\n",
       "<tbody>\n",
       "\t<tr><td>245786399</td><td>10981335</td><td>1</td><td>1</td></tr>\n",
       "</tbody>\n",
       "</table>\n"
      ],
      "text/latex": [
       "A grouped\\_df: 1 × 4\n",
       "\\begin{tabular}{llll}\n",
       " phqEnc & phqPT & Obesity & Anxiety\\\\\n",
       " <int> & <int> & <dbl> & <dbl>\\\\\n",
       "\\hline\n",
       "\t 245786399 & 10981335 & 1 & 1\\\\\n",
       "\\end{tabular}\n"
      ],
      "text/markdown": [
       "\n",
       "A grouped_df: 1 × 4\n",
       "\n",
       "| phqEnc &lt;int&gt; | phqPT &lt;int&gt; | Obesity &lt;dbl&gt; | Anxiety &lt;dbl&gt; |\n",
       "|---|---|---|---|\n",
       "| 245786399 | 10981335 | 1 | 1 |\n",
       "\n"
      ],
      "text/plain": [
       "  phqEnc    phqPT    Obesity Anxiety\n",
       "1 245786399 10981335 1       1      "
      ]
     },
     "metadata": {},
     "output_type": "display_data"
    }
   ],
   "source": [
    "phqcollapse %>% select(phqPT,Depressed==1&Anxiety==1)"
   ]
  },
  {
   "cell_type": "code",
   "execution_count": 100,
   "id": "fbcfee3b",
   "metadata": {},
   "outputs": [],
   "source": [
    "save(phqcollapse,file=\"notindivid_fix.RData\")"
   ]
  },
  {
   "cell_type": "code",
   "execution_count": 58,
   "id": "91e3e7ff",
   "metadata": {},
   "outputs": [],
   "source": [
    "load('/home/ec2-user/SageMaker/notindivid.RData')"
   ]
  },
  {
   "cell_type": "code",
   "execution_count": 60,
   "id": "00bbff95",
   "metadata": {},
   "outputs": [
    {
     "name": "stderr",
     "output_type": "stream",
     "text": [
      "\u001b[1m\u001b[22mAdding missing grouping variables: `phqPT`, `phqEnc`\n"
     ]
    },
    {
     "data": {
      "text/html": [
       "<table class=\"dataframe\">\n",
       "<caption>A grouped_df: 1 × 4</caption>\n",
       "<thead>\n",
       "\t<tr><th scope=col>phqPT</th><th scope=col>phqEnc</th><th scope=col>Anxiety</th><th scope=col>Obesity</th></tr>\n",
       "\t<tr><th scope=col>&lt;int&gt;</th><th scope=col>&lt;int&gt;</th><th scope=col>&lt;dbl&gt;</th><th scope=col>&lt;dbl&gt;</th></tr>\n",
       "</thead>\n",
       "<tbody>\n",
       "\t<tr><td>10981335</td><td>245786399</td><td>0</td><td>1</td></tr>\n",
       "</tbody>\n",
       "</table>\n"
      ],
      "text/latex": [
       "A grouped\\_df: 1 × 4\n",
       "\\begin{tabular}{llll}\n",
       " phqPT & phqEnc & Anxiety & Obesity\\\\\n",
       " <int> & <int> & <dbl> & <dbl>\\\\\n",
       "\\hline\n",
       "\t 10981335 & 245786399 & 0 & 1\\\\\n",
       "\\end{tabular}\n"
      ],
      "text/markdown": [
       "\n",
       "A grouped_df: 1 × 4\n",
       "\n",
       "| phqPT &lt;int&gt; | phqEnc &lt;int&gt; | Anxiety &lt;dbl&gt; | Obesity &lt;dbl&gt; |\n",
       "|---|---|---|---|\n",
       "| 10981335 | 245786399 | 0 | 1 |\n",
       "\n"
      ],
      "text/plain": [
       "  phqPT    phqEnc    Anxiety Obesity\n",
       "1 10981335 245786399 0       1      "
      ]
     },
     "metadata": {},
     "output_type": "display_data"
    }
   ],
   "source": [
    "phqcollapse %>% filter(phqEnc==245786399) %>% select(Anxiety,Obesity)"
   ]
  },
  {
   "cell_type": "code",
   "execution_count": null,
   "id": "316814a3",
   "metadata": {},
   "outputs": [],
   "source": [
    "# checking for duplicates and its all good\n",
    "\n",
    "#phqcollapse %>% unique() %>%  ungroup() %>% dplyr::summarise(n = dplyr::n(), .by = c(phqPT, PhqScore, phqEnc,INSTANCE_NUM,CONCEPT_CD,AdminDate)) %>% \n",
    "#dplyr::filter(n > 1L)"
   ]
  },
  {
   "cell_type": "code",
   "execution_count": 102,
   "id": "17a237b9",
   "metadata": {},
   "outputs": [
    {
     "data": {
      "text/html": [
       "2843429"
      ],
      "text/latex": [
       "2843429"
      ],
      "text/markdown": [
       "2843429"
      ],
      "text/plain": [
       "[1] 2843429"
      ]
     },
     "metadata": {},
     "output_type": "display_data"
    }
   ],
   "source": [
    "phqcollapse %>% nrow() #2843429"
   ]
  },
  {
   "cell_type": "code",
   "execution_count": 103,
   "id": "7b8cccb8",
   "metadata": {},
   "outputs": [],
   "source": [
    "# now I also need to to grab the first instance of an encounter/admindate\n",
    "phqfirst<-phqcollapse %>% group_by(phqPT) %>% slice_min(AdminDate)"
   ]
  },
  {
   "cell_type": "code",
   "execution_count": 104,
   "id": "57bc51cd",
   "metadata": {
    "scrolled": true
   },
   "outputs": [
    {
     "data": {
      "text/html": [
       "<table class=\"dataframe\">\n",
       "<caption>A tibble: 2184 × 2</caption>\n",
       "<thead>\n",
       "\t<tr><th scope=col>phqPT</th><th scope=col>n</th></tr>\n",
       "\t<tr><th scope=col>&lt;int&gt;</th><th scope=col>&lt;int&gt;</th></tr>\n",
       "</thead>\n",
       "<tbody>\n",
       "\t<tr><td>  5426</td><td>2</td></tr>\n",
       "\t<tr><td>  6625</td><td>2</td></tr>\n",
       "\t<tr><td> 11376</td><td>2</td></tr>\n",
       "\t<tr><td> 12520</td><td>2</td></tr>\n",
       "\t<tr><td> 17402</td><td>2</td></tr>\n",
       "\t<tr><td> 29508</td><td>2</td></tr>\n",
       "\t<tr><td> 33294</td><td>2</td></tr>\n",
       "\t<tr><td> 34524</td><td>2</td></tr>\n",
       "\t<tr><td> 41519</td><td>2</td></tr>\n",
       "\t<tr><td> 45612</td><td>2</td></tr>\n",
       "\t<tr><td> 47136</td><td>2</td></tr>\n",
       "\t<tr><td> 48408</td><td>2</td></tr>\n",
       "\t<tr><td> 48538</td><td>2</td></tr>\n",
       "\t<tr><td> 53706</td><td>2</td></tr>\n",
       "\t<tr><td> 55191</td><td>2</td></tr>\n",
       "\t<tr><td> 66616</td><td>2</td></tr>\n",
       "\t<tr><td> 69334</td><td>2</td></tr>\n",
       "\t<tr><td> 73339</td><td>2</td></tr>\n",
       "\t<tr><td> 73842</td><td>2</td></tr>\n",
       "\t<tr><td> 79965</td><td>2</td></tr>\n",
       "\t<tr><td> 81178</td><td>2</td></tr>\n",
       "\t<tr><td> 82155</td><td>2</td></tr>\n",
       "\t<tr><td> 92260</td><td>2</td></tr>\n",
       "\t<tr><td> 97215</td><td>2</td></tr>\n",
       "\t<tr><td>100099</td><td>2</td></tr>\n",
       "\t<tr><td>101289</td><td>2</td></tr>\n",
       "\t<tr><td>101554</td><td>2</td></tr>\n",
       "\t<tr><td>105205</td><td>2</td></tr>\n",
       "\t<tr><td>105834</td><td>2</td></tr>\n",
       "\t<tr><td>106212</td><td>2</td></tr>\n",
       "\t<tr><td>⋮</td><td>⋮</td></tr>\n",
       "\t<tr><td>7992618</td><td>2</td></tr>\n",
       "\t<tr><td>7996838</td><td>2</td></tr>\n",
       "\t<tr><td>7996976</td><td>2</td></tr>\n",
       "\t<tr><td>7997947</td><td>2</td></tr>\n",
       "\t<tr><td>8003727</td><td>2</td></tr>\n",
       "\t<tr><td>8008367</td><td>2</td></tr>\n",
       "\t<tr><td>8010593</td><td>2</td></tr>\n",
       "\t<tr><td>8013359</td><td>2</td></tr>\n",
       "\t<tr><td>8013411</td><td>2</td></tr>\n",
       "\t<tr><td>8016031</td><td>2</td></tr>\n",
       "\t<tr><td>8016555</td><td>2</td></tr>\n",
       "\t<tr><td>8017319</td><td>2</td></tr>\n",
       "\t<tr><td>8018578</td><td>2</td></tr>\n",
       "\t<tr><td>8022953</td><td>2</td></tr>\n",
       "\t<tr><td>8024337</td><td>2</td></tr>\n",
       "\t<tr><td>8026996</td><td>2</td></tr>\n",
       "\t<tr><td>8027355</td><td>2</td></tr>\n",
       "\t<tr><td>8030267</td><td>2</td></tr>\n",
       "\t<tr><td>8030359</td><td>2</td></tr>\n",
       "\t<tr><td>8032802</td><td>2</td></tr>\n",
       "\t<tr><td>8051764</td><td>2</td></tr>\n",
       "\t<tr><td>8052835</td><td>2</td></tr>\n",
       "\t<tr><td>8053825</td><td>2</td></tr>\n",
       "\t<tr><td>8057869</td><td>2</td></tr>\n",
       "\t<tr><td>8059318</td><td>2</td></tr>\n",
       "\t<tr><td>8059732</td><td>2</td></tr>\n",
       "\t<tr><td>8079292</td><td>2</td></tr>\n",
       "\t<tr><td>8081972</td><td>2</td></tr>\n",
       "\t<tr><td>8618217</td><td>2</td></tr>\n",
       "\t<tr><td>9593202</td><td>2</td></tr>\n",
       "</tbody>\n",
       "</table>\n"
      ],
      "text/latex": [
       "A tibble: 2184 × 2\n",
       "\\begin{tabular}{ll}\n",
       " phqPT & n\\\\\n",
       " <int> & <int>\\\\\n",
       "\\hline\n",
       "\t   5426 & 2\\\\\n",
       "\t   6625 & 2\\\\\n",
       "\t  11376 & 2\\\\\n",
       "\t  12520 & 2\\\\\n",
       "\t  17402 & 2\\\\\n",
       "\t  29508 & 2\\\\\n",
       "\t  33294 & 2\\\\\n",
       "\t  34524 & 2\\\\\n",
       "\t  41519 & 2\\\\\n",
       "\t  45612 & 2\\\\\n",
       "\t  47136 & 2\\\\\n",
       "\t  48408 & 2\\\\\n",
       "\t  48538 & 2\\\\\n",
       "\t  53706 & 2\\\\\n",
       "\t  55191 & 2\\\\\n",
       "\t  66616 & 2\\\\\n",
       "\t  69334 & 2\\\\\n",
       "\t  73339 & 2\\\\\n",
       "\t  73842 & 2\\\\\n",
       "\t  79965 & 2\\\\\n",
       "\t  81178 & 2\\\\\n",
       "\t  82155 & 2\\\\\n",
       "\t  92260 & 2\\\\\n",
       "\t  97215 & 2\\\\\n",
       "\t 100099 & 2\\\\\n",
       "\t 101289 & 2\\\\\n",
       "\t 101554 & 2\\\\\n",
       "\t 105205 & 2\\\\\n",
       "\t 105834 & 2\\\\\n",
       "\t 106212 & 2\\\\\n",
       "\t ⋮ & ⋮\\\\\n",
       "\t 7992618 & 2\\\\\n",
       "\t 7996838 & 2\\\\\n",
       "\t 7996976 & 2\\\\\n",
       "\t 7997947 & 2\\\\\n",
       "\t 8003727 & 2\\\\\n",
       "\t 8008367 & 2\\\\\n",
       "\t 8010593 & 2\\\\\n",
       "\t 8013359 & 2\\\\\n",
       "\t 8013411 & 2\\\\\n",
       "\t 8016031 & 2\\\\\n",
       "\t 8016555 & 2\\\\\n",
       "\t 8017319 & 2\\\\\n",
       "\t 8018578 & 2\\\\\n",
       "\t 8022953 & 2\\\\\n",
       "\t 8024337 & 2\\\\\n",
       "\t 8026996 & 2\\\\\n",
       "\t 8027355 & 2\\\\\n",
       "\t 8030267 & 2\\\\\n",
       "\t 8030359 & 2\\\\\n",
       "\t 8032802 & 2\\\\\n",
       "\t 8051764 & 2\\\\\n",
       "\t 8052835 & 2\\\\\n",
       "\t 8053825 & 2\\\\\n",
       "\t 8057869 & 2\\\\\n",
       "\t 8059318 & 2\\\\\n",
       "\t 8059732 & 2\\\\\n",
       "\t 8079292 & 2\\\\\n",
       "\t 8081972 & 2\\\\\n",
       "\t 8618217 & 2\\\\\n",
       "\t 9593202 & 2\\\\\n",
       "\\end{tabular}\n"
      ],
      "text/markdown": [
       "\n",
       "A tibble: 2184 × 2\n",
       "\n",
       "| phqPT &lt;int&gt; | n &lt;int&gt; |\n",
       "|---|---|\n",
       "|   5426 | 2 |\n",
       "|   6625 | 2 |\n",
       "|  11376 | 2 |\n",
       "|  12520 | 2 |\n",
       "|  17402 | 2 |\n",
       "|  29508 | 2 |\n",
       "|  33294 | 2 |\n",
       "|  34524 | 2 |\n",
       "|  41519 | 2 |\n",
       "|  45612 | 2 |\n",
       "|  47136 | 2 |\n",
       "|  48408 | 2 |\n",
       "|  48538 | 2 |\n",
       "|  53706 | 2 |\n",
       "|  55191 | 2 |\n",
       "|  66616 | 2 |\n",
       "|  69334 | 2 |\n",
       "|  73339 | 2 |\n",
       "|  73842 | 2 |\n",
       "|  79965 | 2 |\n",
       "|  81178 | 2 |\n",
       "|  82155 | 2 |\n",
       "|  92260 | 2 |\n",
       "|  97215 | 2 |\n",
       "| 100099 | 2 |\n",
       "| 101289 | 2 |\n",
       "| 101554 | 2 |\n",
       "| 105205 | 2 |\n",
       "| 105834 | 2 |\n",
       "| 106212 | 2 |\n",
       "| ⋮ | ⋮ |\n",
       "| 7992618 | 2 |\n",
       "| 7996838 | 2 |\n",
       "| 7996976 | 2 |\n",
       "| 7997947 | 2 |\n",
       "| 8003727 | 2 |\n",
       "| 8008367 | 2 |\n",
       "| 8010593 | 2 |\n",
       "| 8013359 | 2 |\n",
       "| 8013411 | 2 |\n",
       "| 8016031 | 2 |\n",
       "| 8016555 | 2 |\n",
       "| 8017319 | 2 |\n",
       "| 8018578 | 2 |\n",
       "| 8022953 | 2 |\n",
       "| 8024337 | 2 |\n",
       "| 8026996 | 2 |\n",
       "| 8027355 | 2 |\n",
       "| 8030267 | 2 |\n",
       "| 8030359 | 2 |\n",
       "| 8032802 | 2 |\n",
       "| 8051764 | 2 |\n",
       "| 8052835 | 2 |\n",
       "| 8053825 | 2 |\n",
       "| 8057869 | 2 |\n",
       "| 8059318 | 2 |\n",
       "| 8059732 | 2 |\n",
       "| 8079292 | 2 |\n",
       "| 8081972 | 2 |\n",
       "| 8618217 | 2 |\n",
       "| 9593202 | 2 |\n",
       "\n"
      ],
      "text/plain": [
       "     phqPT   n\n",
       "1      5426  2\n",
       "2      6625  2\n",
       "3     11376  2\n",
       "4     12520  2\n",
       "5     17402  2\n",
       "6     29508  2\n",
       "7     33294  2\n",
       "8     34524  2\n",
       "9     41519  2\n",
       "10    45612  2\n",
       "11    47136  2\n",
       "12    48408  2\n",
       "13    48538  2\n",
       "14    53706  2\n",
       "15    55191  2\n",
       "16    66616  2\n",
       "17    69334  2\n",
       "18    73339  2\n",
       "19    73842  2\n",
       "20    79965  2\n",
       "21    81178  2\n",
       "22    82155  2\n",
       "23    92260  2\n",
       "24    97215  2\n",
       "25   100099  2\n",
       "26   101289  2\n",
       "27   101554  2\n",
       "28   105205  2\n",
       "29   105834  2\n",
       "30   106212  2\n",
       "⋮    ⋮       ⋮\n",
       "2155 7992618 2\n",
       "2156 7996838 2\n",
       "2157 7996976 2\n",
       "2158 7997947 2\n",
       "2159 8003727 2\n",
       "2160 8008367 2\n",
       "2161 8010593 2\n",
       "2162 8013359 2\n",
       "2163 8013411 2\n",
       "2164 8016031 2\n",
       "2165 8016555 2\n",
       "2166 8017319 2\n",
       "2167 8018578 2\n",
       "2168 8022953 2\n",
       "2169 8024337 2\n",
       "2170 8026996 2\n",
       "2171 8027355 2\n",
       "2172 8030267 2\n",
       "2173 8030359 2\n",
       "2174 8032802 2\n",
       "2175 8051764 2\n",
       "2176 8052835 2\n",
       "2177 8053825 2\n",
       "2178 8057869 2\n",
       "2179 8059318 2\n",
       "2180 8059732 2\n",
       "2181 8079292 2\n",
       "2182 8081972 2\n",
       "2183 8618217 2\n",
       "2184 9593202 2"
      ]
     },
     "metadata": {},
     "output_type": "display_data"
    }
   ],
   "source": [
    "phqfirst %>% unique() %>%  ungroup() %>% dplyr::summarise(n = dplyr::n(), .by = c(phqPT)) %>% \n",
    "dplyr::filter(n > 1L) #2184 dups"
   ]
  },
  {
   "cell_type": "markdown",
   "id": "47add6e5",
   "metadata": {},
   "source": [
    "Exclude if no bmi available"
   ]
  },
  {
   "cell_type": "code",
   "execution_count": 105,
   "id": "68df931d",
   "metadata": {},
   "outputs": [],
   "source": [
    "phqfirst1<-phqfirst %>% filter(!is.na(BMI))"
   ]
  },
  {
   "cell_type": "code",
   "execution_count": 112,
   "id": "6a271cc5",
   "metadata": {},
   "outputs": [
    {
     "name": "stderr",
     "output_type": "stream",
     "text": [
      "\u001b[1m\u001b[22mAdding missing grouping variables: `phqPT`\n"
     ]
    },
    {
     "data": {
      "text/html": [
       "<table class=\"dataframe\">\n",
       "<caption>A grouped_df: 1 × 15</caption>\n",
       "<thead>\n",
       "\t<tr><th scope=col>phqPT</th><th scope=col>Obesity</th><th scope=col>Hyperlipidemia</th><th scope=col>Depressed</th><th scope=col>Bipolar</th><th scope=col>Anxiety</th><th scope=col>Alcohol</th><th scope=col>Sleep</th><th scope=col>SUD</th><th scope=col>Tobacco</th><th scope=col>SchizophreniaSpectrum</th><th scope=col>Adjustment</th><th scope=col>EatingDisorders</th><th scope=col>Hypertension</th><th scope=col>PTSD</th></tr>\n",
       "\t<tr><th scope=col>&lt;int&gt;</th><th scope=col>&lt;dbl&gt;</th><th scope=col>&lt;dbl&gt;</th><th scope=col>&lt;dbl&gt;</th><th scope=col>&lt;dbl&gt;</th><th scope=col>&lt;dbl&gt;</th><th scope=col>&lt;dbl&gt;</th><th scope=col>&lt;dbl&gt;</th><th scope=col>&lt;dbl&gt;</th><th scope=col>&lt;dbl&gt;</th><th scope=col>&lt;dbl&gt;</th><th scope=col>&lt;dbl&gt;</th><th scope=col>&lt;dbl&gt;</th><th scope=col>&lt;dbl&gt;</th><th scope=col>&lt;dbl&gt;</th></tr>\n",
       "</thead>\n",
       "<tbody>\n",
       "\t<tr><td>11063765</td><td>NA</td><td>NA</td><td>1</td><td>NA</td><td>1</td><td>NA</td><td>NA</td><td>NA</td><td>NA</td><td>NA</td><td>NA</td><td>NA</td><td>NA</td><td>NA</td></tr>\n",
       "</tbody>\n",
       "</table>\n"
      ],
      "text/latex": [
       "A grouped\\_df: 1 × 15\n",
       "\\begin{tabular}{lllllllllllllll}\n",
       " phqPT & Obesity & Hyperlipidemia & Depressed & Bipolar & Anxiety & Alcohol & Sleep & SUD & Tobacco & SchizophreniaSpectrum & Adjustment & EatingDisorders & Hypertension & PTSD\\\\\n",
       " <int> & <dbl> & <dbl> & <dbl> & <dbl> & <dbl> & <dbl> & <dbl> & <dbl> & <dbl> & <dbl> & <dbl> & <dbl> & <dbl> & <dbl>\\\\\n",
       "\\hline\n",
       "\t 11063765 & NA & NA & 1 & NA & 1 & NA & NA & NA & NA & NA & NA & NA & NA & NA\\\\\n",
       "\\end{tabular}\n"
      ],
      "text/markdown": [
       "\n",
       "A grouped_df: 1 × 15\n",
       "\n",
       "| phqPT &lt;int&gt; | Obesity &lt;dbl&gt; | Hyperlipidemia &lt;dbl&gt; | Depressed &lt;dbl&gt; | Bipolar &lt;dbl&gt; | Anxiety &lt;dbl&gt; | Alcohol &lt;dbl&gt; | Sleep &lt;dbl&gt; | SUD &lt;dbl&gt; | Tobacco &lt;dbl&gt; | SchizophreniaSpectrum &lt;dbl&gt; | Adjustment &lt;dbl&gt; | EatingDisorders &lt;dbl&gt; | Hypertension &lt;dbl&gt; | PTSD &lt;dbl&gt; |\n",
       "|---|---|---|---|---|---|---|---|---|---|---|---|---|---|---|\n",
       "| 11063765 | NA | NA | 1 | NA | 1 | NA | NA | NA | NA | NA | NA | NA | NA | NA |\n",
       "\n"
      ],
      "text/plain": [
       "  phqPT    Obesity Hyperlipidemia Depressed Bipolar Anxiety Alcohol Sleep SUD\n",
       "1 11063765 NA      NA             1         NA      1       NA      NA    NA \n",
       "  Tobacco SchizophreniaSpectrum Adjustment EatingDisorders Hypertension PTSD\n",
       "1 NA      NA                    NA         NA              NA           NA  "
      ]
     },
     "metadata": {},
     "output_type": "display_data"
    }
   ],
   "source": [
    "phqfirst1 %>% filter(phqPT==11063765 ) %>% select(Obesity:PTSD)"
   ]
  },
  {
   "cell_type": "code",
   "execution_count": 115,
   "id": "f0a5e0e6",
   "metadata": {
    "scrolled": true
   },
   "outputs": [
    {
     "data": {
      "text/html": [
       "<table class=\"dataframe\">\n",
       "<caption>A tibble: 303 × 2</caption>\n",
       "<thead>\n",
       "\t<tr><th scope=col>phqPT</th><th scope=col>n</th></tr>\n",
       "\t<tr><th scope=col>&lt;int&gt;</th><th scope=col>&lt;int&gt;</th></tr>\n",
       "</thead>\n",
       "<tbody>\n",
       "\t<tr><td>  45612</td><td>2</td></tr>\n",
       "\t<tr><td> 105834</td><td>2</td></tr>\n",
       "\t<tr><td> 124085</td><td>2</td></tr>\n",
       "\t<tr><td> 157864</td><td>2</td></tr>\n",
       "\t<tr><td> 250803</td><td>2</td></tr>\n",
       "\t<tr><td> 307824</td><td>2</td></tr>\n",
       "\t<tr><td> 345264</td><td>2</td></tr>\n",
       "\t<tr><td> 424466</td><td>2</td></tr>\n",
       "\t<tr><td> 434413</td><td>2</td></tr>\n",
       "\t<tr><td> 487710</td><td>2</td></tr>\n",
       "\t<tr><td> 489461</td><td>2</td></tr>\n",
       "\t<tr><td> 544371</td><td>2</td></tr>\n",
       "\t<tr><td> 640440</td><td>2</td></tr>\n",
       "\t<tr><td> 677846</td><td>2</td></tr>\n",
       "\t<tr><td> 729122</td><td>2</td></tr>\n",
       "\t<tr><td> 756495</td><td>2</td></tr>\n",
       "\t<tr><td> 758088</td><td>2</td></tr>\n",
       "\t<tr><td> 762357</td><td>2</td></tr>\n",
       "\t<tr><td> 773121</td><td>2</td></tr>\n",
       "\t<tr><td> 828343</td><td>2</td></tr>\n",
       "\t<tr><td> 830900</td><td>2</td></tr>\n",
       "\t<tr><td> 850213</td><td>2</td></tr>\n",
       "\t<tr><td> 951676</td><td>2</td></tr>\n",
       "\t<tr><td>1026075</td><td>2</td></tr>\n",
       "\t<tr><td>1030947</td><td>2</td></tr>\n",
       "\t<tr><td>1050383</td><td>2</td></tr>\n",
       "\t<tr><td>1064216</td><td>2</td></tr>\n",
       "\t<tr><td>1106050</td><td>2</td></tr>\n",
       "\t<tr><td>1113797</td><td>2</td></tr>\n",
       "\t<tr><td>1129506</td><td>2</td></tr>\n",
       "\t<tr><td>⋮</td><td>⋮</td></tr>\n",
       "\t<tr><td>7643780</td><td>2</td></tr>\n",
       "\t<tr><td>7694558</td><td>2</td></tr>\n",
       "\t<tr><td>7706310</td><td>2</td></tr>\n",
       "\t<tr><td>7706813</td><td>2</td></tr>\n",
       "\t<tr><td>7708009</td><td>2</td></tr>\n",
       "\t<tr><td>7709747</td><td>2</td></tr>\n",
       "\t<tr><td>7730206</td><td>2</td></tr>\n",
       "\t<tr><td>7733497</td><td>2</td></tr>\n",
       "\t<tr><td>7746383</td><td>2</td></tr>\n",
       "\t<tr><td>7751569</td><td>2</td></tr>\n",
       "\t<tr><td>7756491</td><td>2</td></tr>\n",
       "\t<tr><td>7766552</td><td>2</td></tr>\n",
       "\t<tr><td>7806497</td><td>2</td></tr>\n",
       "\t<tr><td>7809346</td><td>2</td></tr>\n",
       "\t<tr><td>7843186</td><td>2</td></tr>\n",
       "\t<tr><td>7843648</td><td>2</td></tr>\n",
       "\t<tr><td>7847372</td><td>2</td></tr>\n",
       "\t<tr><td>7876006</td><td>2</td></tr>\n",
       "\t<tr><td>7876612</td><td>2</td></tr>\n",
       "\t<tr><td>7879697</td><td>2</td></tr>\n",
       "\t<tr><td>7882881</td><td>2</td></tr>\n",
       "\t<tr><td>7884672</td><td>2</td></tr>\n",
       "\t<tr><td>7907761</td><td>2</td></tr>\n",
       "\t<tr><td>7947704</td><td>2</td></tr>\n",
       "\t<tr><td>7948194</td><td>2</td></tr>\n",
       "\t<tr><td>7959882</td><td>2</td></tr>\n",
       "\t<tr><td>7978035</td><td>2</td></tr>\n",
       "\t<tr><td>7997947</td><td>2</td></tr>\n",
       "\t<tr><td>8017319</td><td>2</td></tr>\n",
       "\t<tr><td>8027355</td><td>2</td></tr>\n",
       "</tbody>\n",
       "</table>\n"
      ],
      "text/latex": [
       "A tibble: 303 × 2\n",
       "\\begin{tabular}{ll}\n",
       " phqPT & n\\\\\n",
       " <int> & <int>\\\\\n",
       "\\hline\n",
       "\t   45612 & 2\\\\\n",
       "\t  105834 & 2\\\\\n",
       "\t  124085 & 2\\\\\n",
       "\t  157864 & 2\\\\\n",
       "\t  250803 & 2\\\\\n",
       "\t  307824 & 2\\\\\n",
       "\t  345264 & 2\\\\\n",
       "\t  424466 & 2\\\\\n",
       "\t  434413 & 2\\\\\n",
       "\t  487710 & 2\\\\\n",
       "\t  489461 & 2\\\\\n",
       "\t  544371 & 2\\\\\n",
       "\t  640440 & 2\\\\\n",
       "\t  677846 & 2\\\\\n",
       "\t  729122 & 2\\\\\n",
       "\t  756495 & 2\\\\\n",
       "\t  758088 & 2\\\\\n",
       "\t  762357 & 2\\\\\n",
       "\t  773121 & 2\\\\\n",
       "\t  828343 & 2\\\\\n",
       "\t  830900 & 2\\\\\n",
       "\t  850213 & 2\\\\\n",
       "\t  951676 & 2\\\\\n",
       "\t 1026075 & 2\\\\\n",
       "\t 1030947 & 2\\\\\n",
       "\t 1050383 & 2\\\\\n",
       "\t 1064216 & 2\\\\\n",
       "\t 1106050 & 2\\\\\n",
       "\t 1113797 & 2\\\\\n",
       "\t 1129506 & 2\\\\\n",
       "\t ⋮ & ⋮\\\\\n",
       "\t 7643780 & 2\\\\\n",
       "\t 7694558 & 2\\\\\n",
       "\t 7706310 & 2\\\\\n",
       "\t 7706813 & 2\\\\\n",
       "\t 7708009 & 2\\\\\n",
       "\t 7709747 & 2\\\\\n",
       "\t 7730206 & 2\\\\\n",
       "\t 7733497 & 2\\\\\n",
       "\t 7746383 & 2\\\\\n",
       "\t 7751569 & 2\\\\\n",
       "\t 7756491 & 2\\\\\n",
       "\t 7766552 & 2\\\\\n",
       "\t 7806497 & 2\\\\\n",
       "\t 7809346 & 2\\\\\n",
       "\t 7843186 & 2\\\\\n",
       "\t 7843648 & 2\\\\\n",
       "\t 7847372 & 2\\\\\n",
       "\t 7876006 & 2\\\\\n",
       "\t 7876612 & 2\\\\\n",
       "\t 7879697 & 2\\\\\n",
       "\t 7882881 & 2\\\\\n",
       "\t 7884672 & 2\\\\\n",
       "\t 7907761 & 2\\\\\n",
       "\t 7947704 & 2\\\\\n",
       "\t 7948194 & 2\\\\\n",
       "\t 7959882 & 2\\\\\n",
       "\t 7978035 & 2\\\\\n",
       "\t 7997947 & 2\\\\\n",
       "\t 8017319 & 2\\\\\n",
       "\t 8027355 & 2\\\\\n",
       "\\end{tabular}\n"
      ],
      "text/markdown": [
       "\n",
       "A tibble: 303 × 2\n",
       "\n",
       "| phqPT &lt;int&gt; | n &lt;int&gt; |\n",
       "|---|---|\n",
       "|   45612 | 2 |\n",
       "|  105834 | 2 |\n",
       "|  124085 | 2 |\n",
       "|  157864 | 2 |\n",
       "|  250803 | 2 |\n",
       "|  307824 | 2 |\n",
       "|  345264 | 2 |\n",
       "|  424466 | 2 |\n",
       "|  434413 | 2 |\n",
       "|  487710 | 2 |\n",
       "|  489461 | 2 |\n",
       "|  544371 | 2 |\n",
       "|  640440 | 2 |\n",
       "|  677846 | 2 |\n",
       "|  729122 | 2 |\n",
       "|  756495 | 2 |\n",
       "|  758088 | 2 |\n",
       "|  762357 | 2 |\n",
       "|  773121 | 2 |\n",
       "|  828343 | 2 |\n",
       "|  830900 | 2 |\n",
       "|  850213 | 2 |\n",
       "|  951676 | 2 |\n",
       "| 1026075 | 2 |\n",
       "| 1030947 | 2 |\n",
       "| 1050383 | 2 |\n",
       "| 1064216 | 2 |\n",
       "| 1106050 | 2 |\n",
       "| 1113797 | 2 |\n",
       "| 1129506 | 2 |\n",
       "| ⋮ | ⋮ |\n",
       "| 7643780 | 2 |\n",
       "| 7694558 | 2 |\n",
       "| 7706310 | 2 |\n",
       "| 7706813 | 2 |\n",
       "| 7708009 | 2 |\n",
       "| 7709747 | 2 |\n",
       "| 7730206 | 2 |\n",
       "| 7733497 | 2 |\n",
       "| 7746383 | 2 |\n",
       "| 7751569 | 2 |\n",
       "| 7756491 | 2 |\n",
       "| 7766552 | 2 |\n",
       "| 7806497 | 2 |\n",
       "| 7809346 | 2 |\n",
       "| 7843186 | 2 |\n",
       "| 7843648 | 2 |\n",
       "| 7847372 | 2 |\n",
       "| 7876006 | 2 |\n",
       "| 7876612 | 2 |\n",
       "| 7879697 | 2 |\n",
       "| 7882881 | 2 |\n",
       "| 7884672 | 2 |\n",
       "| 7907761 | 2 |\n",
       "| 7947704 | 2 |\n",
       "| 7948194 | 2 |\n",
       "| 7959882 | 2 |\n",
       "| 7978035 | 2 |\n",
       "| 7997947 | 2 |\n",
       "| 8017319 | 2 |\n",
       "| 8027355 | 2 |\n",
       "\n"
      ],
      "text/plain": [
       "    phqPT   n\n",
       "1     45612 2\n",
       "2    105834 2\n",
       "3    124085 2\n",
       "4    157864 2\n",
       "5    250803 2\n",
       "6    307824 2\n",
       "7    345264 2\n",
       "8    424466 2\n",
       "9    434413 2\n",
       "10   487710 2\n",
       "11   489461 2\n",
       "12   544371 2\n",
       "13   640440 2\n",
       "14   677846 2\n",
       "15   729122 2\n",
       "16   756495 2\n",
       "17   758088 2\n",
       "18   762357 2\n",
       "19   773121 2\n",
       "20   828343 2\n",
       "21   830900 2\n",
       "22   850213 2\n",
       "23   951676 2\n",
       "24  1026075 2\n",
       "25  1030947 2\n",
       "26  1050383 2\n",
       "27  1064216 2\n",
       "28  1106050 2\n",
       "29  1113797 2\n",
       "30  1129506 2\n",
       "⋮   ⋮       ⋮\n",
       "274 7643780 2\n",
       "275 7694558 2\n",
       "276 7706310 2\n",
       "277 7706813 2\n",
       "278 7708009 2\n",
       "279 7709747 2\n",
       "280 7730206 2\n",
       "281 7733497 2\n",
       "282 7746383 2\n",
       "283 7751569 2\n",
       "284 7756491 2\n",
       "285 7766552 2\n",
       "286 7806497 2\n",
       "287 7809346 2\n",
       "288 7843186 2\n",
       "289 7843648 2\n",
       "290 7847372 2\n",
       "291 7876006 2\n",
       "292 7876612 2\n",
       "293 7879697 2\n",
       "294 7882881 2\n",
       "295 7884672 2\n",
       "296 7907761 2\n",
       "297 7947704 2\n",
       "298 7948194 2\n",
       "299 7959882 2\n",
       "300 7978035 2\n",
       "301 7997947 2\n",
       "302 8017319 2\n",
       "303 8027355 2"
      ]
     },
     "metadata": {},
     "output_type": "display_data"
    }
   ],
   "source": [
    "phqfirst1 %>% unique() %>%  ungroup() %>% dplyr::summarise(n = dplyr::n(), .by = c(phqPT)) %>% \n",
    "dplyr::filter(n > 1L) #303"
   ]
  },
  {
   "cell_type": "code",
   "execution_count": 116,
   "id": "1358711b",
   "metadata": {},
   "outputs": [],
   "source": [
    "#for the 303 remaining with duplicate records on the same day, took random selection. Likely coming from two different sources like Encounter and PRoblem list\n",
    "phqfirst2<-phqfirst1 %>% group_by(phqPT) %>% slice_sample(n=1)"
   ]
  },
  {
   "cell_type": "code",
   "execution_count": 114,
   "id": "b7de7aa7",
   "metadata": {
    "scrolled": true
   },
   "outputs": [
    {
     "data": {
      "text/html": [
       "<table class=\"dataframe\">\n",
       "<caption>A tibble: 0 × 2</caption>\n",
       "<thead>\n",
       "\t<tr><th scope=col>phqPT</th><th scope=col>n</th></tr>\n",
       "\t<tr><th scope=col>&lt;int&gt;</th><th scope=col>&lt;int&gt;</th></tr>\n",
       "</thead>\n",
       "<tbody>\n",
       "</tbody>\n",
       "</table>\n"
      ],
      "text/latex": [
       "A tibble: 0 × 2\n",
       "\\begin{tabular}{ll}\n",
       " phqPT & n\\\\\n",
       " <int> & <int>\\\\\n",
       "\\hline\n",
       "\\end{tabular}\n"
      ],
      "text/markdown": [
       "\n",
       "A tibble: 0 × 2\n",
       "\n",
       "| phqPT &lt;int&gt; | n &lt;int&gt; |\n",
       "|---|---|\n",
       "\n"
      ],
      "text/plain": [
       "     phqPT n"
      ]
     },
     "metadata": {},
     "output_type": "display_data"
    }
   ],
   "source": [
    "phqfirst2 %>% unique() %>%  ungroup() %>% dplyr::summarise(n = dplyr::n(), .by = c(phqPT)) %>% \n",
    "dplyr::filter(n > 1L) # no double records remain"
   ]
  },
  {
   "cell_type": "code",
   "execution_count": null,
   "id": "606a28ea",
   "metadata": {},
   "outputs": [],
   "source": [
    "phqcollapse %>% head()"
   ]
  },
  {
   "cell_type": "code",
   "execution_count": 117,
   "id": "2f7f4366",
   "metadata": {},
   "outputs": [],
   "source": [
    "save(phqfirst2,file=\"phqfirst_fix.RDS\")"
   ]
  },
  {
   "cell_type": "code",
   "execution_count": 13,
   "id": "e5fe3cc1",
   "metadata": {},
   "outputs": [],
   "source": [
    "load(file=\"/home/ec2-user/SageMaker/phqfirst.RDS\")"
   ]
  },
  {
   "cell_type": "code",
   "execution_count": 119,
   "id": "82e45ca5",
   "metadata": {},
   "outputs": [],
   "source": [
    "load(file=\"/home/ec2-user/SageMaker/complete.RData\")"
   ]
  },
  {
   "cell_type": "code",
   "execution_count": null,
   "id": "74d68471",
   "metadata": {},
   "outputs": [],
   "source": [
    "phqfirst2 %>% filter(Depressed==1)"
   ]
  },
  {
   "cell_type": "code",
   "execution_count": 120,
   "id": "b2d19bc0",
   "metadata": {
    "scrolled": true
   },
   "outputs": [],
   "source": [
    "demomerge<-complete.demo %>% select(phqPT,phqEnc,AdminDate,phqDepressed:Sexor)"
   ]
  },
  {
   "cell_type": "code",
   "execution_count": 121,
   "id": "9a32574b",
   "metadata": {},
   "outputs": [
    {
     "name": "stdout",
     "output_type": "stream",
     "text": [
      "'data.frame':\t1768787 obs. of  40 variables:\n",
      " $ phqPT             : chr  \"     555\" \"     560\" \"     560\" \"     573\" ...\n",
      " $ PhqScore          : chr  \"21.00\" \"16.00\" \"19.00\" \" 0.00\" ...\n",
      " $ phqEnc            : chr  \" 35344548\" \" 31580615\" \" 32305700\" \" 82437185\" ...\n",
      " $ AdminDate         : Date, format: \"2014-08-08\" \"2013-08-12\" ...\n",
      " $ INSTANCE_NUM      : chr  \" 1\" \" 1\" \" 1\" \" 1\" ...\n",
      " $ CONCEPT_CD        : chr  \"ICD9CM:300.00\" \"ICD9CM:311\" \"ICD9CM:311\" \"ICD10CM:E78.2\" ...\n",
      " $ HEALTH_SYSTEM_ID  : Factor w/ 155 levels \"556\",\"557\",\"558\",..: 112 8 8 71 71 71 71 71 112 108 ...\n",
      " $ PROVIDER_ID       : chr  \"2949F791-E57E-494D-9A3C-2F742E5044BF\" \"AE5F21AE-72A1-4004-9F4C-3B29714EE261\" \"AE5F21AE-72A1-4004-9F4C-3B29714EE261\" \"4C81DF3C-077B-4749-9EB0-4A6C6D126BCF\" ...\n",
      " $ BMI               : chr  \" 28.48\" \" 38.29\" \" 38.22\" \" 34.60\" ...\n",
      " $ SystolicBP        : chr  \"118\" \"120\" \"140\" \"136\" ...\n",
      " $ DiastolicBP       : chr  \" 80\" \" 68\" \" 80\" \" 90\" ...\n",
      " $ Diabetes          : chr  \"0\" \"0\" \"0\" \"0\" ...\n",
      " $ NA                : chr  \"1\" \"0\" \"0\" \"0\" ...\n",
      " $ Obesity           : chr  \"0\" \"0\" \"0\" \"0\" ...\n",
      " $ Hyperlipidemia    : chr  \"0\" \"0\" \"0\" \"1\" ...\n",
      " $ Depressed         : chr  \"0\" \"1\" \"1\" \"0\" ...\n",
      " $ Hypertension      : chr  \"0\" \"0\" \"0\" \"0\" ...\n",
      " $ BIRTH_DATE        : Date, format: \"1959-05-31\" \"1951-01-11\" ...\n",
      " $ CURRENT_FPL_CD    : Factor w/ 5 levels \"DEM|FPL:<=100\",..: 1 5 5 1 1 1 1 1 1 4 ...\n",
      " $ HISPANIC_CD       : Factor w/ 5 levels \"DEM|HISPANIC:N\",..: 1 1 1 5 5 5 5 5 5 5 ...\n",
      " $ GENDER_CD         : Factor w/ 6 levels \"DEM|GENDER:GQ\",..: 5 5 5 5 5 5 5 5 2 2 ...\n",
      " $ HOMELESS_CD       : Factor w/ 3 levels \"DEM|HOMELESS:N\",..: 2 1 1 1 1 1 1 1 2 1 ...\n",
      " $ LANGUAGE_CD       : Factor w/ 100 levels \"AAR\",\"ABK\",\"AFR\",..: 20 20 20 74 74 74 74 74 74 74 ...\n",
      " $ MARITAL_STATUS_CD : Factor w/ 11 levels \"DEM|MARITAL:Divorced\",..: 5 5 5 3 3 3 3 3 5 3 ...\n",
      " $ RACE_CD           : Factor w/ 10 levels \"DEM|RACE:01\",..: 5 5 5 5 5 5 5 5 5 5 ...\n",
      " $ RURAL_CD          : Factor w/ 2 levels \"DEM|RURAL:N\",..: 2 1 1 1 1 1 1 1 1 1 ...\n",
      " $ SEX_CD            : Factor w/ 5 levels \"DEM|SEX:F\",\"DEM|SEX:M\",..: 2 1 1 2 2 2 2 2 2 2 ...\n",
      " $ SEXORIENTATION_CD : Factor w/ 8 levels \"DEM|SEXORIENTATION:BI\",..: 8 8 8 8 8 8 8 8 7 7 ...\n",
      " $ VITAL_STATUS_CD   : chr  \"DEM|VITAL:UN\" \"DEM|VITAL:UN\" \"DEM|VITAL:UN\" \"DEM|VITAL:UN\" ...\n",
      " $ phqDepressed      : chr  \"1\" \"1\" \"1\" \"0\" ...\n",
      " $ phqSevereDepressed: chr  \"1\" \"0\" \"0\" \"0\" ...\n",
      " $ DepAny            : chr  \"1\" \"1\" \"1\" \"0\" ...\n",
      " $ Age               : num  55.2 62.6 62.6 50.4 50.2 ...\n",
      " $ FPL               : Factor w/ 4 levels \"FPL 101-150\",..: 3 4 4 3 3 3 3 3 3 2 ...\n",
      " $ Marital           : Factor w/ 9 levels \"Divorced\",\"Domestic Partner\",..: 3 3 3 4 4 4 4 4 3 4 ...\n",
      " $ Gender            : Factor w/ 6 levels \"Genderqueer\",..: 5 5 5 5 5 5 5 5 2 2 ...\n",
      " $ Race              : Factor w/ 8 levels \"American Indian or Alaskan Native\",..: 8 8 8 8 8 8 8 8 8 8 ...\n",
      " $ Rural             : Factor w/ 2 levels \"No\",\"Yes\": 2 1 1 1 1 1 1 1 1 1 ...\n",
      " $ Sex               : Factor w/ 4 levels \"Female\",\"Male\",..: 2 1 1 2 2 2 2 2 2 2 ...\n",
      " $ Sexor             : Factor w/ 8 levels \"Bisexual\",\"Gay\",..: 8 8 8 8 8 8 8 8 7 7 ...\n"
     ]
    }
   ],
   "source": [
    "complete.demo %>% str()"
   ]
  },
  {
   "cell_type": "markdown",
   "id": "5c7fb428",
   "metadata": {},
   "source": [
    "THis is real slipshod but I when I loaded the coded demographic data, some of the fields no longer matched the main phq file"
   ]
  },
  {
   "cell_type": "code",
   "execution_count": 123,
   "id": "11c0e446",
   "metadata": {},
   "outputs": [
    {
     "data": {
      "text/html": [
       "<table class=\"dataframe\">\n",
       "<caption>A data.frame: 6 × 14</caption>\n",
       "<thead>\n",
       "\t<tr><th></th><th scope=col>phqPT</th><th scope=col>phqEnc</th><th scope=col>AdminDate</th><th scope=col>phqDepressed</th><th scope=col>phqSevereDepressed</th><th scope=col>DepAny</th><th scope=col>Age</th><th scope=col>FPL</th><th scope=col>Marital</th><th scope=col>Gender</th><th scope=col>Race</th><th scope=col>Rural</th><th scope=col>Sex</th><th scope=col>Sexor</th></tr>\n",
       "\t<tr><th></th><th scope=col>&lt;chr&gt;</th><th scope=col>&lt;chr&gt;</th><th scope=col>&lt;date&gt;</th><th scope=col>&lt;chr&gt;</th><th scope=col>&lt;chr&gt;</th><th scope=col>&lt;chr&gt;</th><th scope=col>&lt;dbl&gt;</th><th scope=col>&lt;fct&gt;</th><th scope=col>&lt;fct&gt;</th><th scope=col>&lt;fct&gt;</th><th scope=col>&lt;fct&gt;</th><th scope=col>&lt;fct&gt;</th><th scope=col>&lt;fct&gt;</th><th scope=col>&lt;fct&gt;</th></tr>\n",
       "</thead>\n",
       "<tbody>\n",
       "\t<tr><th scope=row>1</th><td>     555</td><td> 35344548</td><td>2014-08-08</td><td>1</td><td>1</td><td>1</td><td>55.18904</td><td>FPL Below 100</td><td>Marital NI</td><td>Unknown / Missing</td><td>White</td><td>Yes</td><td>Male  </td><td>Unknown/ Missing</td></tr>\n",
       "\t<tr><th scope=row>2</th><td>     560</td><td> 31580615</td><td>2013-08-12</td><td>1</td><td>0</td><td>1</td><td>62.58356</td><td>FPL Unknown  </td><td>Marital NI</td><td>Unknown / Missing</td><td>White</td><td>No </td><td>Female</td><td>Unknown/ Missing</td></tr>\n",
       "\t<tr><th scope=row>3</th><td>     560</td><td> 32305700</td><td>2013-08-05</td><td>1</td><td>0</td><td>1</td><td>62.56438</td><td>FPL Unknown  </td><td>Marital NI</td><td>Unknown / Missing</td><td>White</td><td>No </td><td>Female</td><td>Unknown/ Missing</td></tr>\n",
       "\t<tr><th scope=row>4</th><td>     573</td><td> 82437185</td><td>2018-08-15</td><td>0</td><td>0</td><td>0</td><td>50.44932</td><td>FPL Below 100</td><td>Married   </td><td>Unknown / Missing</td><td>White</td><td>No </td><td>Male  </td><td>Unknown/ Missing</td></tr>\n",
       "\t<tr><th scope=row>5</th><td>     573</td><td> 82985825</td><td>2018-05-22</td><td>0</td><td>0</td><td>0</td><td>50.21644</td><td>FPL Below 100</td><td>Married   </td><td>Unknown / Missing</td><td>White</td><td>No </td><td>Male  </td><td>Unknown/ Missing</td></tr>\n",
       "\t<tr><th scope=row>6</th><td>     573</td><td> 84586881</td><td>2018-04-20</td><td>0</td><td>0</td><td>0</td><td>50.12877</td><td>FPL Below 100</td><td>Married   </td><td>Unknown / Missing</td><td>White</td><td>No </td><td>Male  </td><td>Unknown/ Missing</td></tr>\n",
       "</tbody>\n",
       "</table>\n"
      ],
      "text/latex": [
       "A data.frame: 6 × 14\n",
       "\\begin{tabular}{r|llllllllllllll}\n",
       "  & phqPT & phqEnc & AdminDate & phqDepressed & phqSevereDepressed & DepAny & Age & FPL & Marital & Gender & Race & Rural & Sex & Sexor\\\\\n",
       "  & <chr> & <chr> & <date> & <chr> & <chr> & <chr> & <dbl> & <fct> & <fct> & <fct> & <fct> & <fct> & <fct> & <fct>\\\\\n",
       "\\hline\n",
       "\t1 &      555 &  35344548 & 2014-08-08 & 1 & 1 & 1 & 55.18904 & FPL Below 100 & Marital NI & Unknown / Missing & White & Yes & Male   & Unknown/ Missing\\\\\n",
       "\t2 &      560 &  31580615 & 2013-08-12 & 1 & 0 & 1 & 62.58356 & FPL Unknown   & Marital NI & Unknown / Missing & White & No  & Female & Unknown/ Missing\\\\\n",
       "\t3 &      560 &  32305700 & 2013-08-05 & 1 & 0 & 1 & 62.56438 & FPL Unknown   & Marital NI & Unknown / Missing & White & No  & Female & Unknown/ Missing\\\\\n",
       "\t4 &      573 &  82437185 & 2018-08-15 & 0 & 0 & 0 & 50.44932 & FPL Below 100 & Married    & Unknown / Missing & White & No  & Male   & Unknown/ Missing\\\\\n",
       "\t5 &      573 &  82985825 & 2018-05-22 & 0 & 0 & 0 & 50.21644 & FPL Below 100 & Married    & Unknown / Missing & White & No  & Male   & Unknown/ Missing\\\\\n",
       "\t6 &      573 &  84586881 & 2018-04-20 & 0 & 0 & 0 & 50.12877 & FPL Below 100 & Married    & Unknown / Missing & White & No  & Male   & Unknown/ Missing\\\\\n",
       "\\end{tabular}\n"
      ],
      "text/markdown": [
       "\n",
       "A data.frame: 6 × 14\n",
       "\n",
       "| <!--/--> | phqPT &lt;chr&gt; | phqEnc &lt;chr&gt; | AdminDate &lt;date&gt; | phqDepressed &lt;chr&gt; | phqSevereDepressed &lt;chr&gt; | DepAny &lt;chr&gt; | Age &lt;dbl&gt; | FPL &lt;fct&gt; | Marital &lt;fct&gt; | Gender &lt;fct&gt; | Race &lt;fct&gt; | Rural &lt;fct&gt; | Sex &lt;fct&gt; | Sexor &lt;fct&gt; |\n",
       "|---|---|---|---|---|---|---|---|---|---|---|---|---|---|---|\n",
       "| 1 |      555 |  35344548 | 2014-08-08 | 1 | 1 | 1 | 55.18904 | FPL Below 100 | Marital NI | Unknown / Missing | White | Yes | Male   | Unknown/ Missing |\n",
       "| 2 |      560 |  31580615 | 2013-08-12 | 1 | 0 | 1 | 62.58356 | FPL Unknown   | Marital NI | Unknown / Missing | White | No  | Female | Unknown/ Missing |\n",
       "| 3 |      560 |  32305700 | 2013-08-05 | 1 | 0 | 1 | 62.56438 | FPL Unknown   | Marital NI | Unknown / Missing | White | No  | Female | Unknown/ Missing |\n",
       "| 4 |      573 |  82437185 | 2018-08-15 | 0 | 0 | 0 | 50.44932 | FPL Below 100 | Married    | Unknown / Missing | White | No  | Male   | Unknown/ Missing |\n",
       "| 5 |      573 |  82985825 | 2018-05-22 | 0 | 0 | 0 | 50.21644 | FPL Below 100 | Married    | Unknown / Missing | White | No  | Male   | Unknown/ Missing |\n",
       "| 6 |      573 |  84586881 | 2018-04-20 | 0 | 0 | 0 | 50.12877 | FPL Below 100 | Married    | Unknown / Missing | White | No  | Male   | Unknown/ Missing |\n",
       "\n"
      ],
      "text/plain": [
       "  phqPT    phqEnc    AdminDate  phqDepressed phqSevereDepressed DepAny Age     \n",
       "1      555  35344548 2014-08-08 1            1                  1      55.18904\n",
       "2      560  31580615 2013-08-12 1            0                  1      62.58356\n",
       "3      560  32305700 2013-08-05 1            0                  1      62.56438\n",
       "4      573  82437185 2018-08-15 0            0                  0      50.44932\n",
       "5      573  82985825 2018-05-22 0            0                  0      50.21644\n",
       "6      573  84586881 2018-04-20 0            0                  0      50.12877\n",
       "  FPL           Marital    Gender            Race  Rural Sex   \n",
       "1 FPL Below 100 Marital NI Unknown / Missing White Yes   Male  \n",
       "2 FPL Unknown   Marital NI Unknown / Missing White No    Female\n",
       "3 FPL Unknown   Marital NI Unknown / Missing White No    Female\n",
       "4 FPL Below 100 Married    Unknown / Missing White No    Male  \n",
       "5 FPL Below 100 Married    Unknown / Missing White No    Male  \n",
       "6 FPL Below 100 Married    Unknown / Missing White No    Male  \n",
       "  Sexor           \n",
       "1 Unknown/ Missing\n",
       "2 Unknown/ Missing\n",
       "3 Unknown/ Missing\n",
       "4 Unknown/ Missing\n",
       "5 Unknown/ Missing\n",
       "6 Unknown/ Missing"
      ]
     },
     "metadata": {},
     "output_type": "display_data"
    }
   ],
   "source": [
    "demomerge %>% head()\n",
    "demomergenum<-demomerge\n",
    "demomergenum$phqPT<-as.numeric(as.character(demomerge$phqPT))\n",
    "demomergenum$phqEnc<-as.numeric(as.character(demomerge$phqEnc))\n",
    "demomergenum$phqDepressed<-as.numeric(as.character(demomerge$phqDepressed))\n",
    "demomergenum$phqSevereDepressed<-as.numeric(as.character(demomerge$phqSevereDepressed))\n",
    "demomergenum$DepAny<-as.numeric(as.character(demomerge$DepAny))"
   ]
  },
  {
   "cell_type": "code",
   "execution_count": 124,
   "id": "198d6e26",
   "metadata": {},
   "outputs": [],
   "source": [
    "phq.df<-left_join(phqfirst2,demomergenum,by=join_by(phqPT,phqEnc))"
   ]
  },
  {
   "cell_type": "code",
   "execution_count": 125,
   "id": "dd526733",
   "metadata": {
    "scrolled": true
   },
   "outputs": [
    {
     "data": {
      "text/html": [
       "985645"
      ],
      "text/latex": [
       "985645"
      ],
      "text/markdown": [
       "985645"
      ],
      "text/plain": [
       "[1] 985645"
      ]
     },
     "metadata": {},
     "output_type": "display_data"
    },
    {
     "data": {
      "text/html": [
       "985645"
      ],
      "text/latex": [
       "985645"
      ],
      "text/markdown": [
       "985645"
      ],
      "text/plain": [
       "[1] 985645"
      ]
     },
     "metadata": {},
     "output_type": "display_data"
    }
   ],
   "source": [
    "phqfirst2 %>% nrow() #985645\n",
    "phq.df %>% nrow() #985645. these should match to ensure no new records were created"
   ]
  },
  {
   "cell_type": "code",
   "execution_count": 133,
   "id": "1ca64005",
   "metadata": {},
   "outputs": [],
   "source": [
    "# add 0s to all of the EHR diagnoses\n",
    "phq.df_fix<-phq.df %>% \n",
    "  mutate_at(vars(Obesity:PTSD), ~replace_na(., 0))"
   ]
  },
  {
   "cell_type": "code",
   "execution_count": 140,
   "id": "13d0c8fc",
   "metadata": {},
   "outputs": [
    {
     "data": {
      "text/html": [
       "<table class=\"dataframe\">\n",
       "<caption>A grouped_df: 35815 × 41</caption>\n",
       "<thead>\n",
       "\t<tr><th scope=col>phqPT</th><th scope=col>PhqScore</th><th scope=col>phqEnc</th><th scope=col>AdminDate.x</th><th scope=col>INSTANCE_NUM</th><th scope=col>CONCEPT_CD</th><th scope=col>HEALTH_SYSTEM_ID</th><th scope=col>PROVIDER_ID</th><th scope=col>BMI</th><th scope=col>SystolicBP</th><th scope=col>⋯</th><th scope=col>phqSevereDepressed</th><th scope=col>DepAny</th><th scope=col>Age</th><th scope=col>FPL</th><th scope=col>Marital</th><th scope=col>Gender</th><th scope=col>Race</th><th scope=col>Rural</th><th scope=col>Sex</th><th scope=col>Sexor</th></tr>\n",
       "\t<tr><th scope=col>&lt;dbl&gt;</th><th scope=col>&lt;dbl&gt;</th><th scope=col>&lt;dbl&gt;</th><th scope=col>&lt;dttm&gt;</th><th scope=col>&lt;int&gt;</th><th scope=col>&lt;chr&gt;</th><th scope=col>&lt;chr&gt;</th><th scope=col>&lt;chr&gt;</th><th scope=col>&lt;dbl&gt;</th><th scope=col>&lt;dbl&gt;</th><th scope=col>⋯</th><th scope=col>&lt;dbl&gt;</th><th scope=col>&lt;dbl&gt;</th><th scope=col>&lt;dbl&gt;</th><th scope=col>&lt;fct&gt;</th><th scope=col>&lt;fct&gt;</th><th scope=col>&lt;fct&gt;</th><th scope=col>&lt;fct&gt;</th><th scope=col>&lt;fct&gt;</th><th scope=col>&lt;fct&gt;</th><th scope=col>&lt;fct&gt;</th></tr>\n",
       "</thead>\n",
       "<tbody>\n",
       "\t<tr><td> 555</td><td>21</td><td> 35344548</td><td>2014-08-08</td><td>1</td><td>ICD9CM:300.00  </td><td>692</td><td>2949F791-E57E-494D-9A3C-2F742E5044BF</td><td>28.48</td><td>118</td><td>⋯</td><td> 1</td><td> 1</td><td>55.18904</td><td>FPL Below 100</td><td>Marital NI</td><td>Unknown / Missing</td><td>White                    </td><td>Yes</td><td>Male  </td><td>Unknown/ Missing</td></tr>\n",
       "\t<tr><td> 894</td><td> 5</td><td>   564603</td><td>2014-06-05</td><td>1</td><td>ICD9CM:244.9   </td><td>634</td><td>C3008933-F4DD-47E3-A38A-92E97EAD1869</td><td>19.19</td><td>119</td><td>⋯</td><td>NA</td><td>NA</td><td>      NA</td><td>NA           </td><td>NA        </td><td>NA               </td><td>NA                       </td><td>NA </td><td>NA    </td><td>NA              </td></tr>\n",
       "\t<tr><td> 954</td><td>15</td><td> 65993401</td><td>2015-02-06</td><td>1</td><td>ICD9CM:300.00  </td><td>603</td><td>CEE26FD1-8F4B-4C86-8B66-6B033AC22509</td><td>19.99</td><td>125</td><td>⋯</td><td> 0</td><td> 1</td><td>38.25437</td><td>FPL 101-150  </td><td>Marital NI</td><td>Woman            </td><td>White                    </td><td>No </td><td>Female</td><td>Straight        </td></tr>\n",
       "\t<tr><td>1222</td><td>15</td><td> 45915807</td><td>2014-01-02</td><td>1</td><td>ICD9CM:278.02  </td><td>630</td><td>FB25BB64-65C0-477F-952E-3DCFA2B5FAE7</td><td>36.36</td><td>128</td><td>⋯</td><td> 0</td><td> 1</td><td>29.50274</td><td>FPL Below 100</td><td>Marital NI</td><td>Woman            </td><td>White                    </td><td>No </td><td>Female</td><td>Straight        </td></tr>\n",
       "\t<tr><td>1240</td><td> 3</td><td> 55465247</td><td>2013-10-09</td><td>1</td><td>ICD9CM:278.00  </td><td>637</td><td>DECCE267-27CE-4EEA-B4B9-FA46F915C51D</td><td>38.02</td><td>116</td><td>⋯</td><td> 0</td><td> 0</td><td>19.81370</td><td>FPL Below 100</td><td>Marital NI</td><td>Unknown / Missing</td><td>Black or African American</td><td>No </td><td>Male  </td><td>Unknown/ Missing</td></tr>\n",
       "\t<tr><td>1300</td><td>11</td><td> 20440914</td><td>2015-03-10</td><td>1</td><td>ICD9CM:300.00  </td><td>605</td><td>50297C04-7620-4D82-892A-781E08F0A325</td><td>21.09</td><td> 99</td><td>⋯</td><td> 0</td><td> 1</td><td>25.72329</td><td>FPL 101-150  </td><td>Single    </td><td>Woman            </td><td>White                    </td><td>No </td><td>Female</td><td>Straight        </td></tr>\n",
       "\t<tr><td>1444</td><td>18</td><td> 48602833</td><td>2015-07-22</td><td>1</td><td>ICD9CM:300.00  </td><td>671</td><td>85A46A68-3C64-485F-AE3B-AF8BC97D4AA8</td><td>37.14</td><td>128</td><td>⋯</td><td> 0</td><td> 1</td><td>48.36438</td><td>FPL 101-150  </td><td>Marital NI</td><td>Woman            </td><td>White                    </td><td>No </td><td>Female</td><td>Lesbain         </td></tr>\n",
       "\t<tr><td>1491</td><td>11</td><td> 40227280</td><td>2017-01-25</td><td>1</td><td>ICD10CM:F33.1  </td><td>678</td><td>0838A91C-423E-4844-B541-19BD973D7066</td><td>36.91</td><td> 98</td><td>⋯</td><td> 0</td><td> 1</td><td>36.55209</td><td>FPL Unknown  </td><td>Divorced  </td><td>Woman            </td><td>White                    </td><td>No </td><td>Female</td><td>Unknown/ Missing</td></tr>\n",
       "\t<tr><td>1978</td><td>21</td><td> 34815011</td><td>2016-08-16</td><td>1</td><td>ICD10CM:F33.1  </td><td>692</td><td>7473A1B3-5DB9-47BB-8C3A-7C5C6C2F38CD</td><td>31.60</td><td>120</td><td>⋯</td><td> 1</td><td> 1</td><td>19.95082</td><td>FPL Below 100</td><td>Marital NI</td><td>Woman            </td><td>White                    </td><td>No </td><td>Female</td><td>Unknown/ Missing</td></tr>\n",
       "\t<tr><td>1995</td><td>23</td><td> 64773250</td><td>2014-03-14</td><td>1</td><td>ICD9CM:278.00  </td><td>628</td><td>C0465436-00C8-4E60-B9D3-B0558B0BA33C</td><td>34.32</td><td>122</td><td>⋯</td><td> 1</td><td> 1</td><td>42.58082</td><td>FPL Below 100</td><td>Marital NI</td><td>Unknown / Missing</td><td>White                    </td><td>Yes</td><td>Female</td><td>Unknown/ Missing</td></tr>\n",
       "\t<tr><td>2343</td><td> 7</td><td> 40037042</td><td>2016-08-10</td><td>1</td><td>ICD10CM:F32.5  </td><td>638</td><td>82D0D2F3-490D-4880-AD23-83C9949E0EC2</td><td>20.04</td><td>110</td><td>⋯</td><td>NA</td><td>NA</td><td>      NA</td><td>NA           </td><td>NA        </td><td>NA               </td><td>NA                       </td><td>NA </td><td>NA    </td><td>NA              </td></tr>\n",
       "\t<tr><td>2688</td><td>15</td><td> 21245697</td><td>2018-06-28</td><td>1</td><td>ICD10CM:F33.1  </td><td>684</td><td>B733A231-4F42-454C-9237-06920E632909</td><td>20.00</td><td>116</td><td>⋯</td><td> 0</td><td> 1</td><td>22.35342</td><td>FPL Below 100</td><td>Marital NI</td><td>Woman            </td><td>NA                       </td><td>No </td><td>Female</td><td>Straight        </td></tr>\n",
       "\t<tr><td>2800</td><td>17</td><td> 55405650</td><td>2013-11-15</td><td>1</td><td>ICD9CM:272.4   </td><td>637</td><td>D1A5DE2A-94B5-4C53-A100-8C2D0969FBA8</td><td>37.49</td><td>128</td><td>⋯</td><td> 0</td><td> 1</td><td>59.64658</td><td>FPL Below 100</td><td>Marital NI</td><td>Unknown / Missing</td><td>Black or African American</td><td>No </td><td>Female</td><td>Unknown/ Missing</td></tr>\n",
       "\t<tr><td>4099</td><td>26</td><td>  6227813</td><td>2015-09-21</td><td>1</td><td>ICD9CM:300.00  </td><td>652</td><td>FEB6D20D-432C-4E19-8869-7C6BEE1B4597</td><td>11.53</td><td>144</td><td>⋯</td><td> 1</td><td> 1</td><td>18.76973</td><td>FPL Below 100</td><td>Marital NI</td><td>Transgender      </td><td>White                    </td><td>No </td><td>Female</td><td>Unknown/ Missing</td></tr>\n",
       "\t<tr><td>4156</td><td> 6</td><td> 36314956</td><td>2016-12-16</td><td>1</td><td>ICD10CM:F33.1  </td><td>692</td><td>FA5E5ED0-7673-4437-8E89-067BBDDD1935</td><td>32.50</td><td>131</td><td>⋯</td><td>NA</td><td>NA</td><td>      NA</td><td>NA           </td><td>NA        </td><td>NA               </td><td>NA                       </td><td>NA </td><td>NA    </td><td>NA              </td></tr>\n",
       "\t<tr><td>4296</td><td>25</td><td> 23440642</td><td>2016-01-26</td><td>1</td><td>ICD10CM:F32.9  </td><td>665</td><td>31EB01C1-F7ED-40D5-BAC0-5F8E48FD4FF1</td><td>22.82</td><td>114</td><td>⋯</td><td> 1</td><td> 1</td><td>31.39617</td><td>FPL Below 100</td><td>Married   </td><td>Woman            </td><td>White                    </td><td>Yes</td><td>Female</td><td>Straight        </td></tr>\n",
       "\t<tr><td>4412</td><td> 0</td><td>  2511930</td><td>2016-02-03</td><td>1</td><td>ICD10CM:F32.9  </td><td>666</td><td>BFFC4804-D3E7-42BD-B6FE-5D1D24E271AB</td><td>28.74</td><td>108</td><td>⋯</td><td> 0</td><td> 1</td><td>27.26230</td><td>FPL Unknown  </td><td>Single    </td><td>Unknown / Missing</td><td>White                    </td><td>No </td><td>Female</td><td>Unknown/ Missing</td></tr>\n",
       "\t<tr><td>4491</td><td>14</td><td> 55764469</td><td>2018-06-11</td><td>1</td><td>ICD10CM:F32.1  </td><td>637</td><td>9B9706DA-CC4A-4841-BED7-41A283556AB6</td><td>17.64</td><td>184</td><td>⋯</td><td> 0</td><td> 1</td><td>63.91507</td><td>FPL Below 100</td><td>Widowed   </td><td>Woman            </td><td>White                    </td><td>No </td><td>Female</td><td>Straight        </td></tr>\n",
       "\t<tr><td>4508</td><td>10</td><td> 59080819</td><td>2015-05-28</td><td>1</td><td>ICD9CM:272.4   </td><td>609</td><td>572580A9-28C7-4EF9-8820-3EDAB7AF4481</td><td>26.21</td><td>110</td><td>⋯</td><td> 0</td><td> 1</td><td>20.55616</td><td>FPL 101-150  </td><td>Single    </td><td>Man              </td><td>White                    </td><td>Yes</td><td>Male  </td><td>Straight        </td></tr>\n",
       "\t<tr><td>4930</td><td>15</td><td> 32569625</td><td>2015-05-28</td><td>1</td><td>ICD9CM:300.00  </td><td>564</td><td>F1EBC58C-2878-4063-ACDA-CF750584BE5C</td><td>35.11</td><td>132</td><td>⋯</td><td> 0</td><td> 1</td><td>51.64110</td><td>FPL Unknown  </td><td>Marital NI</td><td>Unknown / Missing</td><td>White                    </td><td>Yes</td><td>Female</td><td>Unknown/ Missing</td></tr>\n",
       "\t<tr><td>5404</td><td>18</td><td> 66030872</td><td>2014-09-09</td><td>1</td><td>ICD9CM:300.00  </td><td>577</td><td>B808F0A1-0D5E-417C-BD99-86F221B1C83F</td><td>25.58</td><td>140</td><td>⋯</td><td> 0</td><td> 1</td><td>50.26575</td><td>FPL 101-150  </td><td>Divorced  </td><td>Woman            </td><td>White                    </td><td>No </td><td>Female</td><td>Straight        </td></tr>\n",
       "\t<tr><td>5537</td><td>19</td><td> 31635363</td><td>2014-08-29</td><td>1</td><td>ICD9CM:300.00  </td><td>564</td><td>35648166-FBEF-4531-ABFD-F3AC6F66978D</td><td>21.13</td><td>108</td><td>⋯</td><td> 0</td><td> 1</td><td>15.60000</td><td>FPL Below 100</td><td>Marital NI</td><td>Unknown / Missing</td><td>White                    </td><td>No </td><td>Female</td><td>Unknown/ Missing</td></tr>\n",
       "\t<tr><td>5652</td><td>13</td><td> 19494709</td><td>2014-04-21</td><td>1</td><td>ICD9CM:300.00  </td><td>605</td><td>CB6E4DB4-ECCD-4FBB-A326-171787629C28</td><td>24.11</td><td>113</td><td>⋯</td><td> 0</td><td> 1</td><td>34.31781</td><td>FPL Below 100</td><td>Marital NI</td><td>Unknown / Missing</td><td>White                    </td><td>No </td><td>Female</td><td>Straight        </td></tr>\n",
       "\t<tr><td>6546</td><td>21</td><td> 35072888</td><td>2018-03-08</td><td>1</td><td>ICD10CM:E11.65 </td><td>692</td><td>B60DCE55-DDB3-4218-854B-F97F23A0D55E</td><td>34.36</td><td>128</td><td>⋯</td><td> 1</td><td> 1</td><td>43.37534</td><td>FPL Below 100</td><td>Marital NI</td><td>Unknown / Missing</td><td>White                    </td><td>Yes</td><td>Male  </td><td>Unknown/ Missing</td></tr>\n",
       "\t<tr><td>6620</td><td> 9</td><td>   774729</td><td>2012-05-10</td><td>1</td><td>ICD9CM:300.00  </td><td>634</td><td>D8D15388-0AE3-45DC-AC2F-6E35C5054711</td><td>32.70</td><td>112</td><td>⋯</td><td>NA</td><td>NA</td><td>      NA</td><td>NA           </td><td>NA        </td><td>NA               </td><td>NA                       </td><td>NA </td><td>NA    </td><td>NA              </td></tr>\n",
       "\t<tr><td>6658</td><td> 9</td><td> 65026040</td><td>2015-03-24</td><td>1</td><td>ICD9CM:244.9   </td><td>628</td><td>3DB40059-E094-4D8F-9393-EC86979C4BC3</td><td>30.80</td><td>126</td><td>⋯</td><td>NA</td><td>NA</td><td>      NA</td><td>NA           </td><td>NA        </td><td>NA               </td><td>NA                       </td><td>NA </td><td>NA    </td><td>NA              </td></tr>\n",
       "\t<tr><td>6842</td><td>14</td><td> 38940246</td><td>2016-02-16</td><td>1</td><td>ICD10CM:F32.9  </td><td>678</td><td>3D93E2BF-2D8A-4187-88A6-69AA354097BB</td><td>32.12</td><td>124</td><td>⋯</td><td> 0</td><td> 1</td><td>38.04372</td><td>FPL Unknown  </td><td>Marital NI</td><td>Unknown / Missing</td><td>White                    </td><td>No </td><td>Female</td><td>Unknown/ Missing</td></tr>\n",
       "\t<tr><td>7113</td><td>23</td><td>  8368191</td><td>2015-09-24</td><td>1</td><td>ICD9CM:300.00  </td><td>612</td><td>5FDB8D9B-8BA6-4DB6-8784-AC8DF8F634A8</td><td>22.45</td><td>126</td><td>⋯</td><td> 1</td><td> 1</td><td>31.27123</td><td>FPL Below 100</td><td>Marital NI</td><td>Unknown / Missing</td><td>White                    </td><td>No </td><td>Male  </td><td>Unknown/ Missing</td></tr>\n",
       "\t<tr><td>7287</td><td> 9</td><td>105719487</td><td>2019-02-13</td><td>1</td><td>ICD10CM:F17.200</td><td>563</td><td>BEA4067B-9DCF-48C2-BA78-8B20E993681E</td><td>29.64</td><td>108</td><td>⋯</td><td>NA</td><td>NA</td><td>      NA</td><td>NA           </td><td>NA        </td><td>NA               </td><td>NA                       </td><td>NA </td><td>NA    </td><td>NA              </td></tr>\n",
       "\t<tr><td>7378</td><td>16</td><td> 65648085</td><td>2018-01-23</td><td>1</td><td>ICD10CM:E66.01 </td><td>583</td><td>CB92B2CC-F1DC-43DE-AEF6-D5F2DD1470FB</td><td>39.05</td><td>140</td><td>⋯</td><td> 0</td><td> 1</td><td>36.49315</td><td>FPL Below 100</td><td>Marital NI</td><td>Transgender      </td><td>Black or African American</td><td>No </td><td>Female</td><td>Unknown/ Missing</td></tr>\n",
       "\t<tr><td>⋮</td><td>⋮</td><td>⋮</td><td>⋮</td><td>⋮</td><td>⋮</td><td>⋮</td><td>⋮</td><td>⋮</td><td>⋮</td><td>⋱</td><td>⋮</td><td>⋮</td><td>⋮</td><td>⋮</td><td>⋮</td><td>⋮</td><td>⋮</td><td>⋮</td><td>⋮</td><td>⋮</td></tr>\n",
       "\t<tr><td> 9601330</td><td>16</td><td>129623674</td><td>2019-11-08</td><td>1</td><td>ICD10CM:F33.1 </td><td>739</td><td>33B13F6F-A8CB-4A9D-B4DB-FB289A29CEF4</td><td>31.24</td><td>121</td><td>⋯</td><td> 0</td><td> 1</td><td>33.05205</td><td>FPL Below 100</td><td>Married   </td><td>Woman            </td><td>American Indian or Alaskan Native</td><td>No </td><td>Female</td><td>Straight        </td></tr>\n",
       "\t<tr><td> 9601481</td><td>11</td><td>130029900</td><td>2018-11-08</td><td>1</td><td>ICD10CM:F32.2 </td><td>739</td><td>767CF14B-9F2A-457A-9C59-2CA6202424F8</td><td>30.74</td><td>134</td><td>⋯</td><td> 0</td><td> 1</td><td>30.90137</td><td>FPL Unknown  </td><td>Single    </td><td>Woman            </td><td>White                            </td><td>No </td><td>Female</td><td>Straight        </td></tr>\n",
       "\t<tr><td> 9676472</td><td>14</td><td> 23946445</td><td>2013-07-26</td><td>1</td><td>ICD9CM:300.00 </td><td>578</td><td>86E4B90E-51D7-480D-9528-F140E59DA01F</td><td>21.14</td><td> 90</td><td>⋯</td><td> 0</td><td> 1</td><td>31.86301</td><td>FPL Below 100</td><td>Divorced  </td><td>Woman            </td><td>Asian                            </td><td>No </td><td>Female</td><td>Straight        </td></tr>\n",
       "\t<tr><td> 9752188</td><td>12</td><td> 60490125</td><td>2013-12-03</td><td>1</td><td>ICD9CM:268.9  </td><td>558</td><td>55612BAD-6F99-4520-A887-686786E34CE6</td><td>20.85</td><td>124</td><td>⋯</td><td> 0</td><td> 1</td><td>52.12055</td><td>FPL 101-150  </td><td>Married   </td><td>Woman            </td><td>White                            </td><td>No </td><td>Female</td><td>Straight        </td></tr>\n",
       "\t<tr><td> 9801893</td><td> 8</td><td> 25556030</td><td>2014-04-30</td><td>1</td><td>ICD9CM:300.02 </td><td>578</td><td>6438F94E-0150-44D3-BBFD-9BEC413C569C</td><td>24.00</td><td>119</td><td>⋯</td><td>NA</td><td>NA</td><td>      NA</td><td>NA           </td><td>NA        </td><td>NA               </td><td>NA                               </td><td>NA </td><td>NA    </td><td>NA              </td></tr>\n",
       "\t<tr><td> 9807179</td><td>12</td><td> 38343441</td><td>2015-09-22</td><td>1</td><td>ICD9CM:296.32 </td><td>678</td><td>2569E5AD-CFC7-40C1-9277-1742BC53D4AF</td><td>24.98</td><td>100</td><td>⋯</td><td> 0</td><td> 1</td><td>83.84932</td><td>FPL Below 100</td><td>Marital NI</td><td>Woman            </td><td>Refuse to answer                 </td><td>No </td><td>Female</td><td>Straight        </td></tr>\n",
       "\t<tr><td> 9854610</td><td>26</td><td> 39190495</td><td>2015-06-04</td><td>1</td><td>ICD9CM:296.33 </td><td>678</td><td>76AE5385-B6D0-4640-BC59-6E4DCE1F9B23</td><td>27.06</td><td>118</td><td>⋯</td><td> 1</td><td> 1</td><td>34.06301</td><td>FPL 101-150  </td><td>Marital NI</td><td>Woman            </td><td>American Indian or Alaskan Native</td><td>No </td><td>Female</td><td>Straight        </td></tr>\n",
       "\t<tr><td>10164902</td><td> 8</td><td>109617286</td><td>2019-04-17</td><td>1</td><td>ICD10CM:E78.00</td><td>699</td><td>49027C94-B803-4DBC-90E4-7CAFB73023F2</td><td>24.71</td><td>131</td><td>⋯</td><td>NA</td><td>NA</td><td>      NA</td><td>NA           </td><td>NA        </td><td>NA               </td><td>NA                               </td><td>NA </td><td>NA    </td><td>NA              </td></tr>\n",
       "\t<tr><td>10252871</td><td>12</td><td> 37956259</td><td>2015-08-31</td><td>1</td><td>ICD9CM:300.00 </td><td>692</td><td>076A2E5F-AD93-4C6F-BBCE-82E4407A564A</td><td>23.90</td><td>112</td><td>⋯</td><td> 0</td><td> 1</td><td>12.20000</td><td>FPL 151-200  </td><td>Marital NI</td><td>Unknown / Missing</td><td>White                            </td><td>No </td><td>Female</td><td>Unknown/ Missing</td></tr>\n",
       "\t<tr><td>10275314</td><td>27</td><td> 22598811</td><td>2013-09-04</td><td>1</td><td>ICD9CM:244.9  </td><td>684</td><td>E0ABBB1A-1BDC-41D9-BA94-05D8B3E366C6</td><td>39.26</td><td>160</td><td>⋯</td><td>NA</td><td>NA</td><td>      NA</td><td>NA           </td><td>NA        </td><td>NA               </td><td>NA                               </td><td>NA </td><td>NA    </td><td>NA              </td></tr>\n",
       "\t<tr><td>10306462</td><td>20</td><td> 30693797</td><td>2017-05-25</td><td>1</td><td>ICD10CM:E66.9 </td><td>662</td><td>23D40AA4-EA11-4C44-8957-DC3E79FDE6D3</td><td>30.58</td><td>136</td><td>⋯</td><td> 1</td><td> 1</td><td>44.84534</td><td>FPL 151-200  </td><td>Single    </td><td>Woman            </td><td>White                            </td><td>No </td><td>Female</td><td>Straight        </td></tr>\n",
       "\t<tr><td>10393817</td><td>20</td><td> 58357011</td><td>2013-10-16</td><td>1</td><td>ICD9CM:250    </td><td>609</td><td>F56281E3-215C-4066-B1A1-7573925AE5CF</td><td>34.85</td><td>134</td><td>⋯</td><td> 1</td><td> 1</td><td>46.39726</td><td>FPL Below 100</td><td>Single    </td><td>Woman            </td><td>White                            </td><td>Yes</td><td>Female</td><td>Straight        </td></tr>\n",
       "\t<tr><td>10449154</td><td>19</td><td> 51013179</td><td>2014-05-12</td><td>1</td><td>ICD9CM:300.01 </td><td>671</td><td>695F6131-D560-4964-BF39-7F7D3ED1787D</td><td>35.46</td><td>138</td><td>⋯</td><td> 0</td><td> 1</td><td>36.96712</td><td>FPL Below 100</td><td>Married   </td><td>Woman            </td><td>NA                               </td><td>No </td><td>Female</td><td>Straight        </td></tr>\n",
       "\t<tr><td>10507394</td><td> 0</td><td> 55627148</td><td>2015-09-24</td><td>1</td><td>ICD9CM:278.02 </td><td>637</td><td>2D4DE8C4-C8DF-486C-BD0C-ED558B4C133D</td><td>25.23</td><td> 88</td><td>⋯</td><td> 0</td><td> 0</td><td>23.18904</td><td>FPL Below 100</td><td>Single    </td><td>Woman            </td><td>White                            </td><td>No </td><td>Female</td><td>Straight        </td></tr>\n",
       "\t<tr><td>10530593</td><td>19</td><td> 97799364</td><td>2018-08-27</td><td>1</td><td>ICD10CM:F33.1 </td><td>692</td><td>C9C30DC1-36A4-47DC-82F2-10B1D19BD089</td><td>36.36</td><td> 94</td><td>⋯</td><td> 0</td><td> 1</td><td>17.22192</td><td>FPL Below 100</td><td>Marital NI</td><td>Woman            </td><td>White                            </td><td>No </td><td>Female</td><td>Unknown/ Missing</td></tr>\n",
       "\t<tr><td>10569725</td><td> 9</td><td> 65650738</td><td>2015-06-11</td><td>1</td><td>ICD9CM:300.00 </td><td>642</td><td>94FBC021-623A-411E-9AC9-B9D89FA55E70</td><td>31.98</td><td>120</td><td>⋯</td><td>NA</td><td>NA</td><td>      NA</td><td>NA           </td><td>NA        </td><td>NA               </td><td>NA                               </td><td>NA </td><td>NA    </td><td>NA              </td></tr>\n",
       "\t<tr><td>10627413</td><td>13</td><td> 61200936</td><td>2017-08-28</td><td>1</td><td>ICD10CM:E78.5 </td><td>663</td><td>320FB953-8EAA-4696-88B6-C31417D01B0A</td><td>20.80</td><td>120</td><td>⋯</td><td> 0</td><td> 1</td><td>59.83562</td><td>FPL 101-150  </td><td>Marital NI</td><td>Man              </td><td>NA                               </td><td>No </td><td>Male  </td><td>Straight        </td></tr>\n",
       "\t<tr><td>10627420</td><td>20</td><td> 27990531</td><td>2014-06-20</td><td>1</td><td>ICD9CM:300.00 </td><td>578</td><td>FFA856A0-0684-4940-B12B-749BF3204F48</td><td>19.66</td><td>112</td><td>⋯</td><td> 1</td><td> 1</td><td>18.01918</td><td>FPL Below 100</td><td>Marital NI</td><td>Woman            </td><td>White                            </td><td>Yes</td><td>Female</td><td>Unknown/ Missing</td></tr>\n",
       "\t<tr><td>10658043</td><td>15</td><td> 31455438</td><td>2013-09-05</td><td>1</td><td>ICD9CM:296.20 </td><td>564</td><td>BA38BC62-0985-4229-9A71-C4EDC3C60621</td><td>23.51</td><td>150</td><td>⋯</td><td> 0</td><td> 1</td><td>58.16164</td><td>FPL Below 100</td><td>Single    </td><td>Man              </td><td>White                            </td><td>Yes</td><td>Male  </td><td>Unknown/ Missing</td></tr>\n",
       "\t<tr><td>10687987</td><td>27</td><td> 58141086</td><td>2018-05-30</td><td>1</td><td>ICD10CM:F33.1 </td><td>693</td><td>52D7EFFB-8430-48F9-ACE7-0E9C4C487429</td><td>33.47</td><td>130</td><td>⋯</td><td> 1</td><td> 1</td><td>58.17260</td><td>FPL Below 100</td><td>Single    </td><td>Man              </td><td>White                            </td><td>No </td><td>Male  </td><td>Straight        </td></tr>\n",
       "\t<tr><td>10698652</td><td>21</td><td> 57604075</td><td>2013-07-02</td><td>1</td><td>ICD9CM:300.00 </td><td>609</td><td>42B46CAD-BAD7-4D21-BAB5-B8AD3E998F6E</td><td>22.24</td><td>138</td><td>⋯</td><td> 1</td><td> 1</td><td>42.09863</td><td>NA           </td><td>Married   </td><td>Woman            </td><td>White                            </td><td>Yes</td><td>Female</td><td>Straight        </td></tr>\n",
       "\t<tr><td>10795432</td><td>24</td><td> 42969346</td><td>2015-03-05</td><td>1</td><td>ICD9CM:272.0  </td><td>669</td><td>C0FA2D16-5497-4292-81E6-E35C2ABE8129</td><td>36.95</td><td>142</td><td>⋯</td><td> 1</td><td> 1</td><td>61.83562</td><td>FPL Below 100</td><td>Divorced  </td><td>Woman            </td><td>White                            </td><td>Yes</td><td>Female</td><td>Straight        </td></tr>\n",
       "\t<tr><td>10864994</td><td>14</td><td>106003234</td><td>2019-02-21</td><td>1</td><td>ICD10CM:F32.1 </td><td>610</td><td>4B058D9E-0630-4DC7-96AF-D0BA75E1229C</td><td>21.62</td><td> 90</td><td>⋯</td><td> 0</td><td> 1</td><td>22.02192</td><td>FPL Unknown  </td><td>Single    </td><td>Transgender      </td><td>White                            </td><td>No </td><td>Male  </td><td>Unknown/ Missing</td></tr>\n",
       "\t<tr><td>10900315</td><td>14</td><td> 58207538</td><td>2014-02-03</td><td>1</td><td>ICD9CM:296.30 </td><td>609</td><td>2AFF00F7-526D-4BFF-BA7C-76FF5B23CC97</td><td>32.37</td><td>144</td><td>⋯</td><td> 0</td><td> 1</td><td>42.24110</td><td>NA           </td><td>Single    </td><td>Woman            </td><td>White                            </td><td>No </td><td>Female</td><td>Straight        </td></tr>\n",
       "\t<tr><td>10904011</td><td> 8</td><td> 49655533</td><td>2016-07-05</td><td>1</td><td>ICD10CM:F32.9 </td><td>671</td><td>3ABFA9D4-CF4D-4317-865F-DBA8A4876670</td><td>24.69</td><td> 94</td><td>⋯</td><td>NA</td><td>NA</td><td>      NA</td><td>NA           </td><td>NA        </td><td>NA               </td><td>NA                               </td><td>NA </td><td>NA    </td><td>NA              </td></tr>\n",
       "\t<tr><td>10932316</td><td>19</td><td> 22793917</td><td>2014-08-18</td><td>1</td><td>ICD9CM:244.9  </td><td>665</td><td>3C126CFA-974B-45B0-ABDD-3972A14B84D2</td><td>24.40</td><td>112</td><td>⋯</td><td> 0</td><td> 1</td><td>20.47671</td><td>FPL Below 100</td><td>Single    </td><td>Unknown / Missing</td><td>White                            </td><td>No </td><td>Male  </td><td>Unknown/ Missing</td></tr>\n",
       "\t<tr><td>10957580</td><td> 8</td><td>108485798</td><td>2019-04-04</td><td>1</td><td>ICD10CM:F10.11</td><td>634</td><td>972CFEEC-5C66-41CF-8B9A-AA61292A31A4</td><td>27.29</td><td>108</td><td>⋯</td><td>NA</td><td>NA</td><td>      NA</td><td>NA           </td><td>NA        </td><td>NA               </td><td>NA                               </td><td>NA </td><td>NA    </td><td>NA              </td></tr>\n",
       "\t<tr><td>10976509</td><td>21</td><td>103056353</td><td>2018-12-19</td><td>1</td><td>ICD10CM:F41.1 </td><td>634</td><td>D738A5BB-B2D1-4BD1-94DB-7D918340AD70</td><td>30.72</td><td>110</td><td>⋯</td><td> 1</td><td> 1</td><td>38.00548</td><td>FPL Below 100</td><td>Separated </td><td>Unknown / Missing</td><td>White                            </td><td>No </td><td>Female</td><td>Unknown/ Missing</td></tr>\n",
       "\t<tr><td>11012890</td><td>15</td><td> 13441972</td><td>2017-02-02</td><td>1</td><td>ICD10CM:F32.9 </td><td>624</td><td>5B7E434D-3730-4FD4-8B5D-B8568A7A600B</td><td>31.65</td><td>138</td><td>⋯</td><td> 0</td><td> 1</td><td>50.56986</td><td>FPL Unknown  </td><td>Marital NI</td><td>Man              </td><td>NA                               </td><td>No </td><td>Male  </td><td>Straight        </td></tr>\n",
       "\t<tr><td>11063765</td><td>10</td><td> 58277717</td><td>2013-06-24</td><td>1</td><td>ICD9CM:268.9  </td><td>609</td><td>7AF09FB2-5D4A-4B40-8ED9-9C72B2F0A89D</td><td>28.10</td><td>122</td><td>⋯</td><td> 0</td><td> 1</td><td>56.05753</td><td>FPL Below 100</td><td>Marital NI</td><td>Woman            </td><td>White                            </td><td>No </td><td>Female</td><td>Straight        </td></tr>\n",
       "</tbody>\n",
       "</table>\n"
      ],
      "text/latex": [
       "A grouped\\_df: 35815 × 41\n",
       "\\begin{tabular}{lllllllllllllllllllll}\n",
       " phqPT & PhqScore & phqEnc & AdminDate.x & INSTANCE\\_NUM & CONCEPT\\_CD & HEALTH\\_SYSTEM\\_ID & PROVIDER\\_ID & BMI & SystolicBP & ⋯ & phqSevereDepressed & DepAny & Age & FPL & Marital & Gender & Race & Rural & Sex & Sexor\\\\\n",
       " <dbl> & <dbl> & <dbl> & <dttm> & <int> & <chr> & <chr> & <chr> & <dbl> & <dbl> & ⋯ & <dbl> & <dbl> & <dbl> & <fct> & <fct> & <fct> & <fct> & <fct> & <fct> & <fct>\\\\\n",
       "\\hline\n",
       "\t  555 & 21 &  35344548 & 2014-08-08 & 1 & ICD9CM:300.00   & 692 & 2949F791-E57E-494D-9A3C-2F742E5044BF & 28.48 & 118 & ⋯ &  1 &  1 & 55.18904 & FPL Below 100 & Marital NI & Unknown / Missing & White                     & Yes & Male   & Unknown/ Missing\\\\\n",
       "\t  894 &  5 &    564603 & 2014-06-05 & 1 & ICD9CM:244.9    & 634 & C3008933-F4DD-47E3-A38A-92E97EAD1869 & 19.19 & 119 & ⋯ & NA & NA &       NA & NA            & NA         & NA                & NA                        & NA  & NA     & NA              \\\\\n",
       "\t  954 & 15 &  65993401 & 2015-02-06 & 1 & ICD9CM:300.00   & 603 & CEE26FD1-8F4B-4C86-8B66-6B033AC22509 & 19.99 & 125 & ⋯ &  0 &  1 & 38.25437 & FPL 101-150   & Marital NI & Woman             & White                     & No  & Female & Straight        \\\\\n",
       "\t 1222 & 15 &  45915807 & 2014-01-02 & 1 & ICD9CM:278.02   & 630 & FB25BB64-65C0-477F-952E-3DCFA2B5FAE7 & 36.36 & 128 & ⋯ &  0 &  1 & 29.50274 & FPL Below 100 & Marital NI & Woman             & White                     & No  & Female & Straight        \\\\\n",
       "\t 1240 &  3 &  55465247 & 2013-10-09 & 1 & ICD9CM:278.00   & 637 & DECCE267-27CE-4EEA-B4B9-FA46F915C51D & 38.02 & 116 & ⋯ &  0 &  0 & 19.81370 & FPL Below 100 & Marital NI & Unknown / Missing & Black or African American & No  & Male   & Unknown/ Missing\\\\\n",
       "\t 1300 & 11 &  20440914 & 2015-03-10 & 1 & ICD9CM:300.00   & 605 & 50297C04-7620-4D82-892A-781E08F0A325 & 21.09 &  99 & ⋯ &  0 &  1 & 25.72329 & FPL 101-150   & Single     & Woman             & White                     & No  & Female & Straight        \\\\\n",
       "\t 1444 & 18 &  48602833 & 2015-07-22 & 1 & ICD9CM:300.00   & 671 & 85A46A68-3C64-485F-AE3B-AF8BC97D4AA8 & 37.14 & 128 & ⋯ &  0 &  1 & 48.36438 & FPL 101-150   & Marital NI & Woman             & White                     & No  & Female & Lesbain         \\\\\n",
       "\t 1491 & 11 &  40227280 & 2017-01-25 & 1 & ICD10CM:F33.1   & 678 & 0838A91C-423E-4844-B541-19BD973D7066 & 36.91 &  98 & ⋯ &  0 &  1 & 36.55209 & FPL Unknown   & Divorced   & Woman             & White                     & No  & Female & Unknown/ Missing\\\\\n",
       "\t 1978 & 21 &  34815011 & 2016-08-16 & 1 & ICD10CM:F33.1   & 692 & 7473A1B3-5DB9-47BB-8C3A-7C5C6C2F38CD & 31.60 & 120 & ⋯ &  1 &  1 & 19.95082 & FPL Below 100 & Marital NI & Woman             & White                     & No  & Female & Unknown/ Missing\\\\\n",
       "\t 1995 & 23 &  64773250 & 2014-03-14 & 1 & ICD9CM:278.00   & 628 & C0465436-00C8-4E60-B9D3-B0558B0BA33C & 34.32 & 122 & ⋯ &  1 &  1 & 42.58082 & FPL Below 100 & Marital NI & Unknown / Missing & White                     & Yes & Female & Unknown/ Missing\\\\\n",
       "\t 2343 &  7 &  40037042 & 2016-08-10 & 1 & ICD10CM:F32.5   & 638 & 82D0D2F3-490D-4880-AD23-83C9949E0EC2 & 20.04 & 110 & ⋯ & NA & NA &       NA & NA            & NA         & NA                & NA                        & NA  & NA     & NA              \\\\\n",
       "\t 2688 & 15 &  21245697 & 2018-06-28 & 1 & ICD10CM:F33.1   & 684 & B733A231-4F42-454C-9237-06920E632909 & 20.00 & 116 & ⋯ &  0 &  1 & 22.35342 & FPL Below 100 & Marital NI & Woman             & NA                        & No  & Female & Straight        \\\\\n",
       "\t 2800 & 17 &  55405650 & 2013-11-15 & 1 & ICD9CM:272.4    & 637 & D1A5DE2A-94B5-4C53-A100-8C2D0969FBA8 & 37.49 & 128 & ⋯ &  0 &  1 & 59.64658 & FPL Below 100 & Marital NI & Unknown / Missing & Black or African American & No  & Female & Unknown/ Missing\\\\\n",
       "\t 4099 & 26 &   6227813 & 2015-09-21 & 1 & ICD9CM:300.00   & 652 & FEB6D20D-432C-4E19-8869-7C6BEE1B4597 & 11.53 & 144 & ⋯ &  1 &  1 & 18.76973 & FPL Below 100 & Marital NI & Transgender       & White                     & No  & Female & Unknown/ Missing\\\\\n",
       "\t 4156 &  6 &  36314956 & 2016-12-16 & 1 & ICD10CM:F33.1   & 692 & FA5E5ED0-7673-4437-8E89-067BBDDD1935 & 32.50 & 131 & ⋯ & NA & NA &       NA & NA            & NA         & NA                & NA                        & NA  & NA     & NA              \\\\\n",
       "\t 4296 & 25 &  23440642 & 2016-01-26 & 1 & ICD10CM:F32.9   & 665 & 31EB01C1-F7ED-40D5-BAC0-5F8E48FD4FF1 & 22.82 & 114 & ⋯ &  1 &  1 & 31.39617 & FPL Below 100 & Married    & Woman             & White                     & Yes & Female & Straight        \\\\\n",
       "\t 4412 &  0 &   2511930 & 2016-02-03 & 1 & ICD10CM:F32.9   & 666 & BFFC4804-D3E7-42BD-B6FE-5D1D24E271AB & 28.74 & 108 & ⋯ &  0 &  1 & 27.26230 & FPL Unknown   & Single     & Unknown / Missing & White                     & No  & Female & Unknown/ Missing\\\\\n",
       "\t 4491 & 14 &  55764469 & 2018-06-11 & 1 & ICD10CM:F32.1   & 637 & 9B9706DA-CC4A-4841-BED7-41A283556AB6 & 17.64 & 184 & ⋯ &  0 &  1 & 63.91507 & FPL Below 100 & Widowed    & Woman             & White                     & No  & Female & Straight        \\\\\n",
       "\t 4508 & 10 &  59080819 & 2015-05-28 & 1 & ICD9CM:272.4    & 609 & 572580A9-28C7-4EF9-8820-3EDAB7AF4481 & 26.21 & 110 & ⋯ &  0 &  1 & 20.55616 & FPL 101-150   & Single     & Man               & White                     & Yes & Male   & Straight        \\\\\n",
       "\t 4930 & 15 &  32569625 & 2015-05-28 & 1 & ICD9CM:300.00   & 564 & F1EBC58C-2878-4063-ACDA-CF750584BE5C & 35.11 & 132 & ⋯ &  0 &  1 & 51.64110 & FPL Unknown   & Marital NI & Unknown / Missing & White                     & Yes & Female & Unknown/ Missing\\\\\n",
       "\t 5404 & 18 &  66030872 & 2014-09-09 & 1 & ICD9CM:300.00   & 577 & B808F0A1-0D5E-417C-BD99-86F221B1C83F & 25.58 & 140 & ⋯ &  0 &  1 & 50.26575 & FPL 101-150   & Divorced   & Woman             & White                     & No  & Female & Straight        \\\\\n",
       "\t 5537 & 19 &  31635363 & 2014-08-29 & 1 & ICD9CM:300.00   & 564 & 35648166-FBEF-4531-ABFD-F3AC6F66978D & 21.13 & 108 & ⋯ &  0 &  1 & 15.60000 & FPL Below 100 & Marital NI & Unknown / Missing & White                     & No  & Female & Unknown/ Missing\\\\\n",
       "\t 5652 & 13 &  19494709 & 2014-04-21 & 1 & ICD9CM:300.00   & 605 & CB6E4DB4-ECCD-4FBB-A326-171787629C28 & 24.11 & 113 & ⋯ &  0 &  1 & 34.31781 & FPL Below 100 & Marital NI & Unknown / Missing & White                     & No  & Female & Straight        \\\\\n",
       "\t 6546 & 21 &  35072888 & 2018-03-08 & 1 & ICD10CM:E11.65  & 692 & B60DCE55-DDB3-4218-854B-F97F23A0D55E & 34.36 & 128 & ⋯ &  1 &  1 & 43.37534 & FPL Below 100 & Marital NI & Unknown / Missing & White                     & Yes & Male   & Unknown/ Missing\\\\\n",
       "\t 6620 &  9 &    774729 & 2012-05-10 & 1 & ICD9CM:300.00   & 634 & D8D15388-0AE3-45DC-AC2F-6E35C5054711 & 32.70 & 112 & ⋯ & NA & NA &       NA & NA            & NA         & NA                & NA                        & NA  & NA     & NA              \\\\\n",
       "\t 6658 &  9 &  65026040 & 2015-03-24 & 1 & ICD9CM:244.9    & 628 & 3DB40059-E094-4D8F-9393-EC86979C4BC3 & 30.80 & 126 & ⋯ & NA & NA &       NA & NA            & NA         & NA                & NA                        & NA  & NA     & NA              \\\\\n",
       "\t 6842 & 14 &  38940246 & 2016-02-16 & 1 & ICD10CM:F32.9   & 678 & 3D93E2BF-2D8A-4187-88A6-69AA354097BB & 32.12 & 124 & ⋯ &  0 &  1 & 38.04372 & FPL Unknown   & Marital NI & Unknown / Missing & White                     & No  & Female & Unknown/ Missing\\\\\n",
       "\t 7113 & 23 &   8368191 & 2015-09-24 & 1 & ICD9CM:300.00   & 612 & 5FDB8D9B-8BA6-4DB6-8784-AC8DF8F634A8 & 22.45 & 126 & ⋯ &  1 &  1 & 31.27123 & FPL Below 100 & Marital NI & Unknown / Missing & White                     & No  & Male   & Unknown/ Missing\\\\\n",
       "\t 7287 &  9 & 105719487 & 2019-02-13 & 1 & ICD10CM:F17.200 & 563 & BEA4067B-9DCF-48C2-BA78-8B20E993681E & 29.64 & 108 & ⋯ & NA & NA &       NA & NA            & NA         & NA                & NA                        & NA  & NA     & NA              \\\\\n",
       "\t 7378 & 16 &  65648085 & 2018-01-23 & 1 & ICD10CM:E66.01  & 583 & CB92B2CC-F1DC-43DE-AEF6-D5F2DD1470FB & 39.05 & 140 & ⋯ &  0 &  1 & 36.49315 & FPL Below 100 & Marital NI & Transgender       & Black or African American & No  & Female & Unknown/ Missing\\\\\n",
       "\t ⋮ & ⋮ & ⋮ & ⋮ & ⋮ & ⋮ & ⋮ & ⋮ & ⋮ & ⋮ & ⋱ & ⋮ & ⋮ & ⋮ & ⋮ & ⋮ & ⋮ & ⋮ & ⋮ & ⋮ & ⋮\\\\\n",
       "\t  9601330 & 16 & 129623674 & 2019-11-08 & 1 & ICD10CM:F33.1  & 739 & 33B13F6F-A8CB-4A9D-B4DB-FB289A29CEF4 & 31.24 & 121 & ⋯ &  0 &  1 & 33.05205 & FPL Below 100 & Married    & Woman             & American Indian or Alaskan Native & No  & Female & Straight        \\\\\n",
       "\t  9601481 & 11 & 130029900 & 2018-11-08 & 1 & ICD10CM:F32.2  & 739 & 767CF14B-9F2A-457A-9C59-2CA6202424F8 & 30.74 & 134 & ⋯ &  0 &  1 & 30.90137 & FPL Unknown   & Single     & Woman             & White                             & No  & Female & Straight        \\\\\n",
       "\t  9676472 & 14 &  23946445 & 2013-07-26 & 1 & ICD9CM:300.00  & 578 & 86E4B90E-51D7-480D-9528-F140E59DA01F & 21.14 &  90 & ⋯ &  0 &  1 & 31.86301 & FPL Below 100 & Divorced   & Woman             & Asian                             & No  & Female & Straight        \\\\\n",
       "\t  9752188 & 12 &  60490125 & 2013-12-03 & 1 & ICD9CM:268.9   & 558 & 55612BAD-6F99-4520-A887-686786E34CE6 & 20.85 & 124 & ⋯ &  0 &  1 & 52.12055 & FPL 101-150   & Married    & Woman             & White                             & No  & Female & Straight        \\\\\n",
       "\t  9801893 &  8 &  25556030 & 2014-04-30 & 1 & ICD9CM:300.02  & 578 & 6438F94E-0150-44D3-BBFD-9BEC413C569C & 24.00 & 119 & ⋯ & NA & NA &       NA & NA            & NA         & NA                & NA                                & NA  & NA     & NA              \\\\\n",
       "\t  9807179 & 12 &  38343441 & 2015-09-22 & 1 & ICD9CM:296.32  & 678 & 2569E5AD-CFC7-40C1-9277-1742BC53D4AF & 24.98 & 100 & ⋯ &  0 &  1 & 83.84932 & FPL Below 100 & Marital NI & Woman             & Refuse to answer                  & No  & Female & Straight        \\\\\n",
       "\t  9854610 & 26 &  39190495 & 2015-06-04 & 1 & ICD9CM:296.33  & 678 & 76AE5385-B6D0-4640-BC59-6E4DCE1F9B23 & 27.06 & 118 & ⋯ &  1 &  1 & 34.06301 & FPL 101-150   & Marital NI & Woman             & American Indian or Alaskan Native & No  & Female & Straight        \\\\\n",
       "\t 10164902 &  8 & 109617286 & 2019-04-17 & 1 & ICD10CM:E78.00 & 699 & 49027C94-B803-4DBC-90E4-7CAFB73023F2 & 24.71 & 131 & ⋯ & NA & NA &       NA & NA            & NA         & NA                & NA                                & NA  & NA     & NA              \\\\\n",
       "\t 10252871 & 12 &  37956259 & 2015-08-31 & 1 & ICD9CM:300.00  & 692 & 076A2E5F-AD93-4C6F-BBCE-82E4407A564A & 23.90 & 112 & ⋯ &  0 &  1 & 12.20000 & FPL 151-200   & Marital NI & Unknown / Missing & White                             & No  & Female & Unknown/ Missing\\\\\n",
       "\t 10275314 & 27 &  22598811 & 2013-09-04 & 1 & ICD9CM:244.9   & 684 & E0ABBB1A-1BDC-41D9-BA94-05D8B3E366C6 & 39.26 & 160 & ⋯ & NA & NA &       NA & NA            & NA         & NA                & NA                                & NA  & NA     & NA              \\\\\n",
       "\t 10306462 & 20 &  30693797 & 2017-05-25 & 1 & ICD10CM:E66.9  & 662 & 23D40AA4-EA11-4C44-8957-DC3E79FDE6D3 & 30.58 & 136 & ⋯ &  1 &  1 & 44.84534 & FPL 151-200   & Single     & Woman             & White                             & No  & Female & Straight        \\\\\n",
       "\t 10393817 & 20 &  58357011 & 2013-10-16 & 1 & ICD9CM:250     & 609 & F56281E3-215C-4066-B1A1-7573925AE5CF & 34.85 & 134 & ⋯ &  1 &  1 & 46.39726 & FPL Below 100 & Single     & Woman             & White                             & Yes & Female & Straight        \\\\\n",
       "\t 10449154 & 19 &  51013179 & 2014-05-12 & 1 & ICD9CM:300.01  & 671 & 695F6131-D560-4964-BF39-7F7D3ED1787D & 35.46 & 138 & ⋯ &  0 &  1 & 36.96712 & FPL Below 100 & Married    & Woman             & NA                                & No  & Female & Straight        \\\\\n",
       "\t 10507394 &  0 &  55627148 & 2015-09-24 & 1 & ICD9CM:278.02  & 637 & 2D4DE8C4-C8DF-486C-BD0C-ED558B4C133D & 25.23 &  88 & ⋯ &  0 &  0 & 23.18904 & FPL Below 100 & Single     & Woman             & White                             & No  & Female & Straight        \\\\\n",
       "\t 10530593 & 19 &  97799364 & 2018-08-27 & 1 & ICD10CM:F33.1  & 692 & C9C30DC1-36A4-47DC-82F2-10B1D19BD089 & 36.36 &  94 & ⋯ &  0 &  1 & 17.22192 & FPL Below 100 & Marital NI & Woman             & White                             & No  & Female & Unknown/ Missing\\\\\n",
       "\t 10569725 &  9 &  65650738 & 2015-06-11 & 1 & ICD9CM:300.00  & 642 & 94FBC021-623A-411E-9AC9-B9D89FA55E70 & 31.98 & 120 & ⋯ & NA & NA &       NA & NA            & NA         & NA                & NA                                & NA  & NA     & NA              \\\\\n",
       "\t 10627413 & 13 &  61200936 & 2017-08-28 & 1 & ICD10CM:E78.5  & 663 & 320FB953-8EAA-4696-88B6-C31417D01B0A & 20.80 & 120 & ⋯ &  0 &  1 & 59.83562 & FPL 101-150   & Marital NI & Man               & NA                                & No  & Male   & Straight        \\\\\n",
       "\t 10627420 & 20 &  27990531 & 2014-06-20 & 1 & ICD9CM:300.00  & 578 & FFA856A0-0684-4940-B12B-749BF3204F48 & 19.66 & 112 & ⋯ &  1 &  1 & 18.01918 & FPL Below 100 & Marital NI & Woman             & White                             & Yes & Female & Unknown/ Missing\\\\\n",
       "\t 10658043 & 15 &  31455438 & 2013-09-05 & 1 & ICD9CM:296.20  & 564 & BA38BC62-0985-4229-9A71-C4EDC3C60621 & 23.51 & 150 & ⋯ &  0 &  1 & 58.16164 & FPL Below 100 & Single     & Man               & White                             & Yes & Male   & Unknown/ Missing\\\\\n",
       "\t 10687987 & 27 &  58141086 & 2018-05-30 & 1 & ICD10CM:F33.1  & 693 & 52D7EFFB-8430-48F9-ACE7-0E9C4C487429 & 33.47 & 130 & ⋯ &  1 &  1 & 58.17260 & FPL Below 100 & Single     & Man               & White                             & No  & Male   & Straight        \\\\\n",
       "\t 10698652 & 21 &  57604075 & 2013-07-02 & 1 & ICD9CM:300.00  & 609 & 42B46CAD-BAD7-4D21-BAB5-B8AD3E998F6E & 22.24 & 138 & ⋯ &  1 &  1 & 42.09863 & NA            & Married    & Woman             & White                             & Yes & Female & Straight        \\\\\n",
       "\t 10795432 & 24 &  42969346 & 2015-03-05 & 1 & ICD9CM:272.0   & 669 & C0FA2D16-5497-4292-81E6-E35C2ABE8129 & 36.95 & 142 & ⋯ &  1 &  1 & 61.83562 & FPL Below 100 & Divorced   & Woman             & White                             & Yes & Female & Straight        \\\\\n",
       "\t 10864994 & 14 & 106003234 & 2019-02-21 & 1 & ICD10CM:F32.1  & 610 & 4B058D9E-0630-4DC7-96AF-D0BA75E1229C & 21.62 &  90 & ⋯ &  0 &  1 & 22.02192 & FPL Unknown   & Single     & Transgender       & White                             & No  & Male   & Unknown/ Missing\\\\\n",
       "\t 10900315 & 14 &  58207538 & 2014-02-03 & 1 & ICD9CM:296.30  & 609 & 2AFF00F7-526D-4BFF-BA7C-76FF5B23CC97 & 32.37 & 144 & ⋯ &  0 &  1 & 42.24110 & NA            & Single     & Woman             & White                             & No  & Female & Straight        \\\\\n",
       "\t 10904011 &  8 &  49655533 & 2016-07-05 & 1 & ICD10CM:F32.9  & 671 & 3ABFA9D4-CF4D-4317-865F-DBA8A4876670 & 24.69 &  94 & ⋯ & NA & NA &       NA & NA            & NA         & NA                & NA                                & NA  & NA     & NA              \\\\\n",
       "\t 10932316 & 19 &  22793917 & 2014-08-18 & 1 & ICD9CM:244.9   & 665 & 3C126CFA-974B-45B0-ABDD-3972A14B84D2 & 24.40 & 112 & ⋯ &  0 &  1 & 20.47671 & FPL Below 100 & Single     & Unknown / Missing & White                             & No  & Male   & Unknown/ Missing\\\\\n",
       "\t 10957580 &  8 & 108485798 & 2019-04-04 & 1 & ICD10CM:F10.11 & 634 & 972CFEEC-5C66-41CF-8B9A-AA61292A31A4 & 27.29 & 108 & ⋯ & NA & NA &       NA & NA            & NA         & NA                & NA                                & NA  & NA     & NA              \\\\\n",
       "\t 10976509 & 21 & 103056353 & 2018-12-19 & 1 & ICD10CM:F41.1  & 634 & D738A5BB-B2D1-4BD1-94DB-7D918340AD70 & 30.72 & 110 & ⋯ &  1 &  1 & 38.00548 & FPL Below 100 & Separated  & Unknown / Missing & White                             & No  & Female & Unknown/ Missing\\\\\n",
       "\t 11012890 & 15 &  13441972 & 2017-02-02 & 1 & ICD10CM:F32.9  & 624 & 5B7E434D-3730-4FD4-8B5D-B8568A7A600B & 31.65 & 138 & ⋯ &  0 &  1 & 50.56986 & FPL Unknown   & Marital NI & Man               & NA                                & No  & Male   & Straight        \\\\\n",
       "\t 11063765 & 10 &  58277717 & 2013-06-24 & 1 & ICD9CM:268.9   & 609 & 7AF09FB2-5D4A-4B40-8ED9-9C72B2F0A89D & 28.10 & 122 & ⋯ &  0 &  1 & 56.05753 & FPL Below 100 & Marital NI & Woman             & White                             & No  & Female & Straight        \\\\\n",
       "\\end{tabular}\n"
      ],
      "text/markdown": [
       "\n",
       "A grouped_df: 35815 × 41\n",
       "\n",
       "| phqPT &lt;dbl&gt; | PhqScore &lt;dbl&gt; | phqEnc &lt;dbl&gt; | AdminDate.x &lt;dttm&gt; | INSTANCE_NUM &lt;int&gt; | CONCEPT_CD &lt;chr&gt; | HEALTH_SYSTEM_ID &lt;chr&gt; | PROVIDER_ID &lt;chr&gt; | BMI &lt;dbl&gt; | SystolicBP &lt;dbl&gt; | ⋯ ⋯ | phqSevereDepressed &lt;dbl&gt; | DepAny &lt;dbl&gt; | Age &lt;dbl&gt; | FPL &lt;fct&gt; | Marital &lt;fct&gt; | Gender &lt;fct&gt; | Race &lt;fct&gt; | Rural &lt;fct&gt; | Sex &lt;fct&gt; | Sexor &lt;fct&gt; |\n",
       "|---|---|---|---|---|---|---|---|---|---|---|---|---|---|---|---|---|---|---|---|---|\n",
       "|  555 | 21 |  35344548 | 2014-08-08 | 1 | ICD9CM:300.00   | 692 | 2949F791-E57E-494D-9A3C-2F742E5044BF | 28.48 | 118 | ⋯ |  1 |  1 | 55.18904 | FPL Below 100 | Marital NI | Unknown / Missing | White                     | Yes | Male   | Unknown/ Missing |\n",
       "|  894 |  5 |    564603 | 2014-06-05 | 1 | ICD9CM:244.9    | 634 | C3008933-F4DD-47E3-A38A-92E97EAD1869 | 19.19 | 119 | ⋯ | NA | NA |       NA | NA            | NA         | NA                | NA                        | NA  | NA     | NA               |\n",
       "|  954 | 15 |  65993401 | 2015-02-06 | 1 | ICD9CM:300.00   | 603 | CEE26FD1-8F4B-4C86-8B66-6B033AC22509 | 19.99 | 125 | ⋯ |  0 |  1 | 38.25437 | FPL 101-150   | Marital NI | Woman             | White                     | No  | Female | Straight         |\n",
       "| 1222 | 15 |  45915807 | 2014-01-02 | 1 | ICD9CM:278.02   | 630 | FB25BB64-65C0-477F-952E-3DCFA2B5FAE7 | 36.36 | 128 | ⋯ |  0 |  1 | 29.50274 | FPL Below 100 | Marital NI | Woman             | White                     | No  | Female | Straight         |\n",
       "| 1240 |  3 |  55465247 | 2013-10-09 | 1 | ICD9CM:278.00   | 637 | DECCE267-27CE-4EEA-B4B9-FA46F915C51D | 38.02 | 116 | ⋯ |  0 |  0 | 19.81370 | FPL Below 100 | Marital NI | Unknown / Missing | Black or African American | No  | Male   | Unknown/ Missing |\n",
       "| 1300 | 11 |  20440914 | 2015-03-10 | 1 | ICD9CM:300.00   | 605 | 50297C04-7620-4D82-892A-781E08F0A325 | 21.09 |  99 | ⋯ |  0 |  1 | 25.72329 | FPL 101-150   | Single     | Woman             | White                     | No  | Female | Straight         |\n",
       "| 1444 | 18 |  48602833 | 2015-07-22 | 1 | ICD9CM:300.00   | 671 | 85A46A68-3C64-485F-AE3B-AF8BC97D4AA8 | 37.14 | 128 | ⋯ |  0 |  1 | 48.36438 | FPL 101-150   | Marital NI | Woman             | White                     | No  | Female | Lesbain          |\n",
       "| 1491 | 11 |  40227280 | 2017-01-25 | 1 | ICD10CM:F33.1   | 678 | 0838A91C-423E-4844-B541-19BD973D7066 | 36.91 |  98 | ⋯ |  0 |  1 | 36.55209 | FPL Unknown   | Divorced   | Woman             | White                     | No  | Female | Unknown/ Missing |\n",
       "| 1978 | 21 |  34815011 | 2016-08-16 | 1 | ICD10CM:F33.1   | 692 | 7473A1B3-5DB9-47BB-8C3A-7C5C6C2F38CD | 31.60 | 120 | ⋯ |  1 |  1 | 19.95082 | FPL Below 100 | Marital NI | Woman             | White                     | No  | Female | Unknown/ Missing |\n",
       "| 1995 | 23 |  64773250 | 2014-03-14 | 1 | ICD9CM:278.00   | 628 | C0465436-00C8-4E60-B9D3-B0558B0BA33C | 34.32 | 122 | ⋯ |  1 |  1 | 42.58082 | FPL Below 100 | Marital NI | Unknown / Missing | White                     | Yes | Female | Unknown/ Missing |\n",
       "| 2343 |  7 |  40037042 | 2016-08-10 | 1 | ICD10CM:F32.5   | 638 | 82D0D2F3-490D-4880-AD23-83C9949E0EC2 | 20.04 | 110 | ⋯ | NA | NA |       NA | NA            | NA         | NA                | NA                        | NA  | NA     | NA               |\n",
       "| 2688 | 15 |  21245697 | 2018-06-28 | 1 | ICD10CM:F33.1   | 684 | B733A231-4F42-454C-9237-06920E632909 | 20.00 | 116 | ⋯ |  0 |  1 | 22.35342 | FPL Below 100 | Marital NI | Woman             | NA                        | No  | Female | Straight         |\n",
       "| 2800 | 17 |  55405650 | 2013-11-15 | 1 | ICD9CM:272.4    | 637 | D1A5DE2A-94B5-4C53-A100-8C2D0969FBA8 | 37.49 | 128 | ⋯ |  0 |  1 | 59.64658 | FPL Below 100 | Marital NI | Unknown / Missing | Black or African American | No  | Female | Unknown/ Missing |\n",
       "| 4099 | 26 |   6227813 | 2015-09-21 | 1 | ICD9CM:300.00   | 652 | FEB6D20D-432C-4E19-8869-7C6BEE1B4597 | 11.53 | 144 | ⋯ |  1 |  1 | 18.76973 | FPL Below 100 | Marital NI | Transgender       | White                     | No  | Female | Unknown/ Missing |\n",
       "| 4156 |  6 |  36314956 | 2016-12-16 | 1 | ICD10CM:F33.1   | 692 | FA5E5ED0-7673-4437-8E89-067BBDDD1935 | 32.50 | 131 | ⋯ | NA | NA |       NA | NA            | NA         | NA                | NA                        | NA  | NA     | NA               |\n",
       "| 4296 | 25 |  23440642 | 2016-01-26 | 1 | ICD10CM:F32.9   | 665 | 31EB01C1-F7ED-40D5-BAC0-5F8E48FD4FF1 | 22.82 | 114 | ⋯ |  1 |  1 | 31.39617 | FPL Below 100 | Married    | Woman             | White                     | Yes | Female | Straight         |\n",
       "| 4412 |  0 |   2511930 | 2016-02-03 | 1 | ICD10CM:F32.9   | 666 | BFFC4804-D3E7-42BD-B6FE-5D1D24E271AB | 28.74 | 108 | ⋯ |  0 |  1 | 27.26230 | FPL Unknown   | Single     | Unknown / Missing | White                     | No  | Female | Unknown/ Missing |\n",
       "| 4491 | 14 |  55764469 | 2018-06-11 | 1 | ICD10CM:F32.1   | 637 | 9B9706DA-CC4A-4841-BED7-41A283556AB6 | 17.64 | 184 | ⋯ |  0 |  1 | 63.91507 | FPL Below 100 | Widowed    | Woman             | White                     | No  | Female | Straight         |\n",
       "| 4508 | 10 |  59080819 | 2015-05-28 | 1 | ICD9CM:272.4    | 609 | 572580A9-28C7-4EF9-8820-3EDAB7AF4481 | 26.21 | 110 | ⋯ |  0 |  1 | 20.55616 | FPL 101-150   | Single     | Man               | White                     | Yes | Male   | Straight         |\n",
       "| 4930 | 15 |  32569625 | 2015-05-28 | 1 | ICD9CM:300.00   | 564 | F1EBC58C-2878-4063-ACDA-CF750584BE5C | 35.11 | 132 | ⋯ |  0 |  1 | 51.64110 | FPL Unknown   | Marital NI | Unknown / Missing | White                     | Yes | Female | Unknown/ Missing |\n",
       "| 5404 | 18 |  66030872 | 2014-09-09 | 1 | ICD9CM:300.00   | 577 | B808F0A1-0D5E-417C-BD99-86F221B1C83F | 25.58 | 140 | ⋯ |  0 |  1 | 50.26575 | FPL 101-150   | Divorced   | Woman             | White                     | No  | Female | Straight         |\n",
       "| 5537 | 19 |  31635363 | 2014-08-29 | 1 | ICD9CM:300.00   | 564 | 35648166-FBEF-4531-ABFD-F3AC6F66978D | 21.13 | 108 | ⋯ |  0 |  1 | 15.60000 | FPL Below 100 | Marital NI | Unknown / Missing | White                     | No  | Female | Unknown/ Missing |\n",
       "| 5652 | 13 |  19494709 | 2014-04-21 | 1 | ICD9CM:300.00   | 605 | CB6E4DB4-ECCD-4FBB-A326-171787629C28 | 24.11 | 113 | ⋯ |  0 |  1 | 34.31781 | FPL Below 100 | Marital NI | Unknown / Missing | White                     | No  | Female | Straight         |\n",
       "| 6546 | 21 |  35072888 | 2018-03-08 | 1 | ICD10CM:E11.65  | 692 | B60DCE55-DDB3-4218-854B-F97F23A0D55E | 34.36 | 128 | ⋯ |  1 |  1 | 43.37534 | FPL Below 100 | Marital NI | Unknown / Missing | White                     | Yes | Male   | Unknown/ Missing |\n",
       "| 6620 |  9 |    774729 | 2012-05-10 | 1 | ICD9CM:300.00   | 634 | D8D15388-0AE3-45DC-AC2F-6E35C5054711 | 32.70 | 112 | ⋯ | NA | NA |       NA | NA            | NA         | NA                | NA                        | NA  | NA     | NA               |\n",
       "| 6658 |  9 |  65026040 | 2015-03-24 | 1 | ICD9CM:244.9    | 628 | 3DB40059-E094-4D8F-9393-EC86979C4BC3 | 30.80 | 126 | ⋯ | NA | NA |       NA | NA            | NA         | NA                | NA                        | NA  | NA     | NA               |\n",
       "| 6842 | 14 |  38940246 | 2016-02-16 | 1 | ICD10CM:F32.9   | 678 | 3D93E2BF-2D8A-4187-88A6-69AA354097BB | 32.12 | 124 | ⋯ |  0 |  1 | 38.04372 | FPL Unknown   | Marital NI | Unknown / Missing | White                     | No  | Female | Unknown/ Missing |\n",
       "| 7113 | 23 |   8368191 | 2015-09-24 | 1 | ICD9CM:300.00   | 612 | 5FDB8D9B-8BA6-4DB6-8784-AC8DF8F634A8 | 22.45 | 126 | ⋯ |  1 |  1 | 31.27123 | FPL Below 100 | Marital NI | Unknown / Missing | White                     | No  | Male   | Unknown/ Missing |\n",
       "| 7287 |  9 | 105719487 | 2019-02-13 | 1 | ICD10CM:F17.200 | 563 | BEA4067B-9DCF-48C2-BA78-8B20E993681E | 29.64 | 108 | ⋯ | NA | NA |       NA | NA            | NA         | NA                | NA                        | NA  | NA     | NA               |\n",
       "| 7378 | 16 |  65648085 | 2018-01-23 | 1 | ICD10CM:E66.01  | 583 | CB92B2CC-F1DC-43DE-AEF6-D5F2DD1470FB | 39.05 | 140 | ⋯ |  0 |  1 | 36.49315 | FPL Below 100 | Marital NI | Transgender       | Black or African American | No  | Female | Unknown/ Missing |\n",
       "| ⋮ | ⋮ | ⋮ | ⋮ | ⋮ | ⋮ | ⋮ | ⋮ | ⋮ | ⋮ | ⋱ | ⋮ | ⋮ | ⋮ | ⋮ | ⋮ | ⋮ | ⋮ | ⋮ | ⋮ | ⋮ |\n",
       "|  9601330 | 16 | 129623674 | 2019-11-08 | 1 | ICD10CM:F33.1  | 739 | 33B13F6F-A8CB-4A9D-B4DB-FB289A29CEF4 | 31.24 | 121 | ⋯ |  0 |  1 | 33.05205 | FPL Below 100 | Married    | Woman             | American Indian or Alaskan Native | No  | Female | Straight         |\n",
       "|  9601481 | 11 | 130029900 | 2018-11-08 | 1 | ICD10CM:F32.2  | 739 | 767CF14B-9F2A-457A-9C59-2CA6202424F8 | 30.74 | 134 | ⋯ |  0 |  1 | 30.90137 | FPL Unknown   | Single     | Woman             | White                             | No  | Female | Straight         |\n",
       "|  9676472 | 14 |  23946445 | 2013-07-26 | 1 | ICD9CM:300.00  | 578 | 86E4B90E-51D7-480D-9528-F140E59DA01F | 21.14 |  90 | ⋯ |  0 |  1 | 31.86301 | FPL Below 100 | Divorced   | Woman             | Asian                             | No  | Female | Straight         |\n",
       "|  9752188 | 12 |  60490125 | 2013-12-03 | 1 | ICD9CM:268.9   | 558 | 55612BAD-6F99-4520-A887-686786E34CE6 | 20.85 | 124 | ⋯ |  0 |  1 | 52.12055 | FPL 101-150   | Married    | Woman             | White                             | No  | Female | Straight         |\n",
       "|  9801893 |  8 |  25556030 | 2014-04-30 | 1 | ICD9CM:300.02  | 578 | 6438F94E-0150-44D3-BBFD-9BEC413C569C | 24.00 | 119 | ⋯ | NA | NA |       NA | NA            | NA         | NA                | NA                                | NA  | NA     | NA               |\n",
       "|  9807179 | 12 |  38343441 | 2015-09-22 | 1 | ICD9CM:296.32  | 678 | 2569E5AD-CFC7-40C1-9277-1742BC53D4AF | 24.98 | 100 | ⋯ |  0 |  1 | 83.84932 | FPL Below 100 | Marital NI | Woman             | Refuse to answer                  | No  | Female | Straight         |\n",
       "|  9854610 | 26 |  39190495 | 2015-06-04 | 1 | ICD9CM:296.33  | 678 | 76AE5385-B6D0-4640-BC59-6E4DCE1F9B23 | 27.06 | 118 | ⋯ |  1 |  1 | 34.06301 | FPL 101-150   | Marital NI | Woman             | American Indian or Alaskan Native | No  | Female | Straight         |\n",
       "| 10164902 |  8 | 109617286 | 2019-04-17 | 1 | ICD10CM:E78.00 | 699 | 49027C94-B803-4DBC-90E4-7CAFB73023F2 | 24.71 | 131 | ⋯ | NA | NA |       NA | NA            | NA         | NA                | NA                                | NA  | NA     | NA               |\n",
       "| 10252871 | 12 |  37956259 | 2015-08-31 | 1 | ICD9CM:300.00  | 692 | 076A2E5F-AD93-4C6F-BBCE-82E4407A564A | 23.90 | 112 | ⋯ |  0 |  1 | 12.20000 | FPL 151-200   | Marital NI | Unknown / Missing | White                             | No  | Female | Unknown/ Missing |\n",
       "| 10275314 | 27 |  22598811 | 2013-09-04 | 1 | ICD9CM:244.9   | 684 | E0ABBB1A-1BDC-41D9-BA94-05D8B3E366C6 | 39.26 | 160 | ⋯ | NA | NA |       NA | NA            | NA         | NA                | NA                                | NA  | NA     | NA               |\n",
       "| 10306462 | 20 |  30693797 | 2017-05-25 | 1 | ICD10CM:E66.9  | 662 | 23D40AA4-EA11-4C44-8957-DC3E79FDE6D3 | 30.58 | 136 | ⋯ |  1 |  1 | 44.84534 | FPL 151-200   | Single     | Woman             | White                             | No  | Female | Straight         |\n",
       "| 10393817 | 20 |  58357011 | 2013-10-16 | 1 | ICD9CM:250     | 609 | F56281E3-215C-4066-B1A1-7573925AE5CF | 34.85 | 134 | ⋯ |  1 |  1 | 46.39726 | FPL Below 100 | Single     | Woman             | White                             | Yes | Female | Straight         |\n",
       "| 10449154 | 19 |  51013179 | 2014-05-12 | 1 | ICD9CM:300.01  | 671 | 695F6131-D560-4964-BF39-7F7D3ED1787D | 35.46 | 138 | ⋯ |  0 |  1 | 36.96712 | FPL Below 100 | Married    | Woman             | NA                                | No  | Female | Straight         |\n",
       "| 10507394 |  0 |  55627148 | 2015-09-24 | 1 | ICD9CM:278.02  | 637 | 2D4DE8C4-C8DF-486C-BD0C-ED558B4C133D | 25.23 |  88 | ⋯ |  0 |  0 | 23.18904 | FPL Below 100 | Single     | Woman             | White                             | No  | Female | Straight         |\n",
       "| 10530593 | 19 |  97799364 | 2018-08-27 | 1 | ICD10CM:F33.1  | 692 | C9C30DC1-36A4-47DC-82F2-10B1D19BD089 | 36.36 |  94 | ⋯ |  0 |  1 | 17.22192 | FPL Below 100 | Marital NI | Woman             | White                             | No  | Female | Unknown/ Missing |\n",
       "| 10569725 |  9 |  65650738 | 2015-06-11 | 1 | ICD9CM:300.00  | 642 | 94FBC021-623A-411E-9AC9-B9D89FA55E70 | 31.98 | 120 | ⋯ | NA | NA |       NA | NA            | NA         | NA                | NA                                | NA  | NA     | NA               |\n",
       "| 10627413 | 13 |  61200936 | 2017-08-28 | 1 | ICD10CM:E78.5  | 663 | 320FB953-8EAA-4696-88B6-C31417D01B0A | 20.80 | 120 | ⋯ |  0 |  1 | 59.83562 | FPL 101-150   | Marital NI | Man               | NA                                | No  | Male   | Straight         |\n",
       "| 10627420 | 20 |  27990531 | 2014-06-20 | 1 | ICD9CM:300.00  | 578 | FFA856A0-0684-4940-B12B-749BF3204F48 | 19.66 | 112 | ⋯ |  1 |  1 | 18.01918 | FPL Below 100 | Marital NI | Woman             | White                             | Yes | Female | Unknown/ Missing |\n",
       "| 10658043 | 15 |  31455438 | 2013-09-05 | 1 | ICD9CM:296.20  | 564 | BA38BC62-0985-4229-9A71-C4EDC3C60621 | 23.51 | 150 | ⋯ |  0 |  1 | 58.16164 | FPL Below 100 | Single     | Man               | White                             | Yes | Male   | Unknown/ Missing |\n",
       "| 10687987 | 27 |  58141086 | 2018-05-30 | 1 | ICD10CM:F33.1  | 693 | 52D7EFFB-8430-48F9-ACE7-0E9C4C487429 | 33.47 | 130 | ⋯ |  1 |  1 | 58.17260 | FPL Below 100 | Single     | Man               | White                             | No  | Male   | Straight         |\n",
       "| 10698652 | 21 |  57604075 | 2013-07-02 | 1 | ICD9CM:300.00  | 609 | 42B46CAD-BAD7-4D21-BAB5-B8AD3E998F6E | 22.24 | 138 | ⋯ |  1 |  1 | 42.09863 | NA            | Married    | Woman             | White                             | Yes | Female | Straight         |\n",
       "| 10795432 | 24 |  42969346 | 2015-03-05 | 1 | ICD9CM:272.0   | 669 | C0FA2D16-5497-4292-81E6-E35C2ABE8129 | 36.95 | 142 | ⋯ |  1 |  1 | 61.83562 | FPL Below 100 | Divorced   | Woman             | White                             | Yes | Female | Straight         |\n",
       "| 10864994 | 14 | 106003234 | 2019-02-21 | 1 | ICD10CM:F32.1  | 610 | 4B058D9E-0630-4DC7-96AF-D0BA75E1229C | 21.62 |  90 | ⋯ |  0 |  1 | 22.02192 | FPL Unknown   | Single     | Transgender       | White                             | No  | Male   | Unknown/ Missing |\n",
       "| 10900315 | 14 |  58207538 | 2014-02-03 | 1 | ICD9CM:296.30  | 609 | 2AFF00F7-526D-4BFF-BA7C-76FF5B23CC97 | 32.37 | 144 | ⋯ |  0 |  1 | 42.24110 | NA            | Single     | Woman             | White                             | No  | Female | Straight         |\n",
       "| 10904011 |  8 |  49655533 | 2016-07-05 | 1 | ICD10CM:F32.9  | 671 | 3ABFA9D4-CF4D-4317-865F-DBA8A4876670 | 24.69 |  94 | ⋯ | NA | NA |       NA | NA            | NA         | NA                | NA                                | NA  | NA     | NA               |\n",
       "| 10932316 | 19 |  22793917 | 2014-08-18 | 1 | ICD9CM:244.9   | 665 | 3C126CFA-974B-45B0-ABDD-3972A14B84D2 | 24.40 | 112 | ⋯ |  0 |  1 | 20.47671 | FPL Below 100 | Single     | Unknown / Missing | White                             | No  | Male   | Unknown/ Missing |\n",
       "| 10957580 |  8 | 108485798 | 2019-04-04 | 1 | ICD10CM:F10.11 | 634 | 972CFEEC-5C66-41CF-8B9A-AA61292A31A4 | 27.29 | 108 | ⋯ | NA | NA |       NA | NA            | NA         | NA                | NA                                | NA  | NA     | NA               |\n",
       "| 10976509 | 21 | 103056353 | 2018-12-19 | 1 | ICD10CM:F41.1  | 634 | D738A5BB-B2D1-4BD1-94DB-7D918340AD70 | 30.72 | 110 | ⋯ |  1 |  1 | 38.00548 | FPL Below 100 | Separated  | Unknown / Missing | White                             | No  | Female | Unknown/ Missing |\n",
       "| 11012890 | 15 |  13441972 | 2017-02-02 | 1 | ICD10CM:F32.9  | 624 | 5B7E434D-3730-4FD4-8B5D-B8568A7A600B | 31.65 | 138 | ⋯ |  0 |  1 | 50.56986 | FPL Unknown   | Marital NI | Man               | NA                                | No  | Male   | Straight         |\n",
       "| 11063765 | 10 |  58277717 | 2013-06-24 | 1 | ICD9CM:268.9   | 609 | 7AF09FB2-5D4A-4B40-8ED9-9C72B2F0A89D | 28.10 | 122 | ⋯ |  0 |  1 | 56.05753 | FPL Below 100 | Marital NI | Woman             | White                             | No  | Female | Straight         |\n",
       "\n"
      ],
      "text/plain": [
       "      phqPT    PhqScore phqEnc    AdminDate.x INSTANCE_NUM CONCEPT_CD     \n",
       "1      555     21        35344548 2014-08-08  1            ICD9CM:300.00  \n",
       "2      894      5          564603 2014-06-05  1            ICD9CM:244.9   \n",
       "3      954     15        65993401 2015-02-06  1            ICD9CM:300.00  \n",
       "4     1222     15        45915807 2014-01-02  1            ICD9CM:278.02  \n",
       "5     1240      3        55465247 2013-10-09  1            ICD9CM:278.00  \n",
       "6     1300     11        20440914 2015-03-10  1            ICD9CM:300.00  \n",
       "7     1444     18        48602833 2015-07-22  1            ICD9CM:300.00  \n",
       "8     1491     11        40227280 2017-01-25  1            ICD10CM:F33.1  \n",
       "9     1978     21        34815011 2016-08-16  1            ICD10CM:F33.1  \n",
       "10    1995     23        64773250 2014-03-14  1            ICD9CM:278.00  \n",
       "11    2343      7        40037042 2016-08-10  1            ICD10CM:F32.5  \n",
       "12    2688     15        21245697 2018-06-28  1            ICD10CM:F33.1  \n",
       "13    2800     17        55405650 2013-11-15  1            ICD9CM:272.4   \n",
       "14    4099     26         6227813 2015-09-21  1            ICD9CM:300.00  \n",
       "15    4156      6        36314956 2016-12-16  1            ICD10CM:F33.1  \n",
       "16    4296     25        23440642 2016-01-26  1            ICD10CM:F32.9  \n",
       "17    4412      0         2511930 2016-02-03  1            ICD10CM:F32.9  \n",
       "18    4491     14        55764469 2018-06-11  1            ICD10CM:F32.1  \n",
       "19    4508     10        59080819 2015-05-28  1            ICD9CM:272.4   \n",
       "20    4930     15        32569625 2015-05-28  1            ICD9CM:300.00  \n",
       "21    5404     18        66030872 2014-09-09  1            ICD9CM:300.00  \n",
       "22    5537     19        31635363 2014-08-29  1            ICD9CM:300.00  \n",
       "23    5652     13        19494709 2014-04-21  1            ICD9CM:300.00  \n",
       "24    6546     21        35072888 2018-03-08  1            ICD10CM:E11.65 \n",
       "25    6620      9          774729 2012-05-10  1            ICD9CM:300.00  \n",
       "26    6658      9        65026040 2015-03-24  1            ICD9CM:244.9   \n",
       "27    6842     14        38940246 2016-02-16  1            ICD10CM:F32.9  \n",
       "28    7113     23         8368191 2015-09-24  1            ICD9CM:300.00  \n",
       "29    7287      9       105719487 2019-02-13  1            ICD10CM:F17.200\n",
       "30    7378     16        65648085 2018-01-23  1            ICD10CM:E66.01 \n",
       "⋮     ⋮        ⋮        ⋮         ⋮           ⋮            ⋮              \n",
       "35786  9601330 16       129623674 2019-11-08  1            ICD10CM:F33.1  \n",
       "35787  9601481 11       130029900 2018-11-08  1            ICD10CM:F32.2  \n",
       "35788  9676472 14        23946445 2013-07-26  1            ICD9CM:300.00  \n",
       "35789  9752188 12        60490125 2013-12-03  1            ICD9CM:268.9   \n",
       "35790  9801893  8        25556030 2014-04-30  1            ICD9CM:300.02  \n",
       "35791  9807179 12        38343441 2015-09-22  1            ICD9CM:296.32  \n",
       "35792  9854610 26        39190495 2015-06-04  1            ICD9CM:296.33  \n",
       "35793 10164902  8       109617286 2019-04-17  1            ICD10CM:E78.00 \n",
       "35794 10252871 12        37956259 2015-08-31  1            ICD9CM:300.00  \n",
       "35795 10275314 27        22598811 2013-09-04  1            ICD9CM:244.9   \n",
       "35796 10306462 20        30693797 2017-05-25  1            ICD10CM:E66.9  \n",
       "35797 10393817 20        58357011 2013-10-16  1            ICD9CM:250     \n",
       "35798 10449154 19        51013179 2014-05-12  1            ICD9CM:300.01  \n",
       "35799 10507394  0        55627148 2015-09-24  1            ICD9CM:278.02  \n",
       "35800 10530593 19        97799364 2018-08-27  1            ICD10CM:F33.1  \n",
       "35801 10569725  9        65650738 2015-06-11  1            ICD9CM:300.00  \n",
       "35802 10627413 13        61200936 2017-08-28  1            ICD10CM:E78.5  \n",
       "35803 10627420 20        27990531 2014-06-20  1            ICD9CM:300.00  \n",
       "35804 10658043 15        31455438 2013-09-05  1            ICD9CM:296.20  \n",
       "35805 10687987 27        58141086 2018-05-30  1            ICD10CM:F33.1  \n",
       "35806 10698652 21        57604075 2013-07-02  1            ICD9CM:300.00  \n",
       "35807 10795432 24        42969346 2015-03-05  1            ICD9CM:272.0   \n",
       "35808 10864994 14       106003234 2019-02-21  1            ICD10CM:F32.1  \n",
       "35809 10900315 14        58207538 2014-02-03  1            ICD9CM:296.30  \n",
       "35810 10904011  8        49655533 2016-07-05  1            ICD10CM:F32.9  \n",
       "35811 10932316 19        22793917 2014-08-18  1            ICD9CM:244.9   \n",
       "35812 10957580  8       108485798 2019-04-04  1            ICD10CM:F10.11 \n",
       "35813 10976509 21       103056353 2018-12-19  1            ICD10CM:F41.1  \n",
       "35814 11012890 15        13441972 2017-02-02  1            ICD10CM:F32.9  \n",
       "35815 11063765 10        58277717 2013-06-24  1            ICD9CM:268.9   \n",
       "      HEALTH_SYSTEM_ID PROVIDER_ID                          BMI   SystolicBP ⋯\n",
       "1     692              2949F791-E57E-494D-9A3C-2F742E5044BF 28.48 118        ⋯\n",
       "2     634              C3008933-F4DD-47E3-A38A-92E97EAD1869 19.19 119        ⋯\n",
       "3     603              CEE26FD1-8F4B-4C86-8B66-6B033AC22509 19.99 125        ⋯\n",
       "4     630              FB25BB64-65C0-477F-952E-3DCFA2B5FAE7 36.36 128        ⋯\n",
       "5     637              DECCE267-27CE-4EEA-B4B9-FA46F915C51D 38.02 116        ⋯\n",
       "6     605              50297C04-7620-4D82-892A-781E08F0A325 21.09  99        ⋯\n",
       "7     671              85A46A68-3C64-485F-AE3B-AF8BC97D4AA8 37.14 128        ⋯\n",
       "8     678              0838A91C-423E-4844-B541-19BD973D7066 36.91  98        ⋯\n",
       "9     692              7473A1B3-5DB9-47BB-8C3A-7C5C6C2F38CD 31.60 120        ⋯\n",
       "10    628              C0465436-00C8-4E60-B9D3-B0558B0BA33C 34.32 122        ⋯\n",
       "11    638              82D0D2F3-490D-4880-AD23-83C9949E0EC2 20.04 110        ⋯\n",
       "12    684              B733A231-4F42-454C-9237-06920E632909 20.00 116        ⋯\n",
       "13    637              D1A5DE2A-94B5-4C53-A100-8C2D0969FBA8 37.49 128        ⋯\n",
       "14    652              FEB6D20D-432C-4E19-8869-7C6BEE1B4597 11.53 144        ⋯\n",
       "15    692              FA5E5ED0-7673-4437-8E89-067BBDDD1935 32.50 131        ⋯\n",
       "16    665              31EB01C1-F7ED-40D5-BAC0-5F8E48FD4FF1 22.82 114        ⋯\n",
       "17    666              BFFC4804-D3E7-42BD-B6FE-5D1D24E271AB 28.74 108        ⋯\n",
       "18    637              9B9706DA-CC4A-4841-BED7-41A283556AB6 17.64 184        ⋯\n",
       "19    609              572580A9-28C7-4EF9-8820-3EDAB7AF4481 26.21 110        ⋯\n",
       "20    564              F1EBC58C-2878-4063-ACDA-CF750584BE5C 35.11 132        ⋯\n",
       "21    577              B808F0A1-0D5E-417C-BD99-86F221B1C83F 25.58 140        ⋯\n",
       "22    564              35648166-FBEF-4531-ABFD-F3AC6F66978D 21.13 108        ⋯\n",
       "23    605              CB6E4DB4-ECCD-4FBB-A326-171787629C28 24.11 113        ⋯\n",
       "24    692              B60DCE55-DDB3-4218-854B-F97F23A0D55E 34.36 128        ⋯\n",
       "25    634              D8D15388-0AE3-45DC-AC2F-6E35C5054711 32.70 112        ⋯\n",
       "26    628              3DB40059-E094-4D8F-9393-EC86979C4BC3 30.80 126        ⋯\n",
       "27    678              3D93E2BF-2D8A-4187-88A6-69AA354097BB 32.12 124        ⋯\n",
       "28    612              5FDB8D9B-8BA6-4DB6-8784-AC8DF8F634A8 22.45 126        ⋯\n",
       "29    563              BEA4067B-9DCF-48C2-BA78-8B20E993681E 29.64 108        ⋯\n",
       "30    583              CB92B2CC-F1DC-43DE-AEF6-D5F2DD1470FB 39.05 140        ⋯\n",
       "⋮     ⋮                ⋮                                    ⋮     ⋮          ⋱\n",
       "35786 739              33B13F6F-A8CB-4A9D-B4DB-FB289A29CEF4 31.24 121        ⋯\n",
       "35787 739              767CF14B-9F2A-457A-9C59-2CA6202424F8 30.74 134        ⋯\n",
       "35788 578              86E4B90E-51D7-480D-9528-F140E59DA01F 21.14  90        ⋯\n",
       "35789 558              55612BAD-6F99-4520-A887-686786E34CE6 20.85 124        ⋯\n",
       "35790 578              6438F94E-0150-44D3-BBFD-9BEC413C569C 24.00 119        ⋯\n",
       "35791 678              2569E5AD-CFC7-40C1-9277-1742BC53D4AF 24.98 100        ⋯\n",
       "35792 678              76AE5385-B6D0-4640-BC59-6E4DCE1F9B23 27.06 118        ⋯\n",
       "35793 699              49027C94-B803-4DBC-90E4-7CAFB73023F2 24.71 131        ⋯\n",
       "35794 692              076A2E5F-AD93-4C6F-BBCE-82E4407A564A 23.90 112        ⋯\n",
       "35795 684              E0ABBB1A-1BDC-41D9-BA94-05D8B3E366C6 39.26 160        ⋯\n",
       "35796 662              23D40AA4-EA11-4C44-8957-DC3E79FDE6D3 30.58 136        ⋯\n",
       "35797 609              F56281E3-215C-4066-B1A1-7573925AE5CF 34.85 134        ⋯\n",
       "35798 671              695F6131-D560-4964-BF39-7F7D3ED1787D 35.46 138        ⋯\n",
       "35799 637              2D4DE8C4-C8DF-486C-BD0C-ED558B4C133D 25.23  88        ⋯\n",
       "35800 692              C9C30DC1-36A4-47DC-82F2-10B1D19BD089 36.36  94        ⋯\n",
       "35801 642              94FBC021-623A-411E-9AC9-B9D89FA55E70 31.98 120        ⋯\n",
       "35802 663              320FB953-8EAA-4696-88B6-C31417D01B0A 20.80 120        ⋯\n",
       "35803 578              FFA856A0-0684-4940-B12B-749BF3204F48 19.66 112        ⋯\n",
       "35804 564              BA38BC62-0985-4229-9A71-C4EDC3C60621 23.51 150        ⋯\n",
       "35805 693              52D7EFFB-8430-48F9-ACE7-0E9C4C487429 33.47 130        ⋯\n",
       "35806 609              42B46CAD-BAD7-4D21-BAB5-B8AD3E998F6E 22.24 138        ⋯\n",
       "35807 669              C0FA2D16-5497-4292-81E6-E35C2ABE8129 36.95 142        ⋯\n",
       "35808 610              4B058D9E-0630-4DC7-96AF-D0BA75E1229C 21.62  90        ⋯\n",
       "35809 609              2AFF00F7-526D-4BFF-BA7C-76FF5B23CC97 32.37 144        ⋯\n",
       "35810 671              3ABFA9D4-CF4D-4317-865F-DBA8A4876670 24.69  94        ⋯\n",
       "35811 665              3C126CFA-974B-45B0-ABDD-3972A14B84D2 24.40 112        ⋯\n",
       "35812 634              972CFEEC-5C66-41CF-8B9A-AA61292A31A4 27.29 108        ⋯\n",
       "35813 634              D738A5BB-B2D1-4BD1-94DB-7D918340AD70 30.72 110        ⋯\n",
       "35814 624              5B7E434D-3730-4FD4-8B5D-B8568A7A600B 31.65 138        ⋯\n",
       "35815 609              7AF09FB2-5D4A-4B40-8ED9-9C72B2F0A89D 28.10 122        ⋯\n",
       "      phqSevereDepressed DepAny Age      FPL           Marital   \n",
       "1      1                  1     55.18904 FPL Below 100 Marital NI\n",
       "2     NA                 NA           NA NA            NA        \n",
       "3      0                  1     38.25437 FPL 101-150   Marital NI\n",
       "4      0                  1     29.50274 FPL Below 100 Marital NI\n",
       "5      0                  0     19.81370 FPL Below 100 Marital NI\n",
       "6      0                  1     25.72329 FPL 101-150   Single    \n",
       "7      0                  1     48.36438 FPL 101-150   Marital NI\n",
       "8      0                  1     36.55209 FPL Unknown   Divorced  \n",
       "9      1                  1     19.95082 FPL Below 100 Marital NI\n",
       "10     1                  1     42.58082 FPL Below 100 Marital NI\n",
       "11    NA                 NA           NA NA            NA        \n",
       "12     0                  1     22.35342 FPL Below 100 Marital NI\n",
       "13     0                  1     59.64658 FPL Below 100 Marital NI\n",
       "14     1                  1     18.76973 FPL Below 100 Marital NI\n",
       "15    NA                 NA           NA NA            NA        \n",
       "16     1                  1     31.39617 FPL Below 100 Married   \n",
       "17     0                  1     27.26230 FPL Unknown   Single    \n",
       "18     0                  1     63.91507 FPL Below 100 Widowed   \n",
       "19     0                  1     20.55616 FPL 101-150   Single    \n",
       "20     0                  1     51.64110 FPL Unknown   Marital NI\n",
       "21     0                  1     50.26575 FPL 101-150   Divorced  \n",
       "22     0                  1     15.60000 FPL Below 100 Marital NI\n",
       "23     0                  1     34.31781 FPL Below 100 Marital NI\n",
       "24     1                  1     43.37534 FPL Below 100 Marital NI\n",
       "25    NA                 NA           NA NA            NA        \n",
       "26    NA                 NA           NA NA            NA        \n",
       "27     0                  1     38.04372 FPL Unknown   Marital NI\n",
       "28     1                  1     31.27123 FPL Below 100 Marital NI\n",
       "29    NA                 NA           NA NA            NA        \n",
       "30     0                  1     36.49315 FPL Below 100 Marital NI\n",
       "⋮     ⋮                  ⋮      ⋮        ⋮             ⋮         \n",
       "35786  0                  1     33.05205 FPL Below 100 Married   \n",
       "35787  0                  1     30.90137 FPL Unknown   Single    \n",
       "35788  0                  1     31.86301 FPL Below 100 Divorced  \n",
       "35789  0                  1     52.12055 FPL 101-150   Married   \n",
       "35790 NA                 NA           NA NA            NA        \n",
       "35791  0                  1     83.84932 FPL Below 100 Marital NI\n",
       "35792  1                  1     34.06301 FPL 101-150   Marital NI\n",
       "35793 NA                 NA           NA NA            NA        \n",
       "35794  0                  1     12.20000 FPL 151-200   Marital NI\n",
       "35795 NA                 NA           NA NA            NA        \n",
       "35796  1                  1     44.84534 FPL 151-200   Single    \n",
       "35797  1                  1     46.39726 FPL Below 100 Single    \n",
       "35798  0                  1     36.96712 FPL Below 100 Married   \n",
       "35799  0                  0     23.18904 FPL Below 100 Single    \n",
       "35800  0                  1     17.22192 FPL Below 100 Marital NI\n",
       "35801 NA                 NA           NA NA            NA        \n",
       "35802  0                  1     59.83562 FPL 101-150   Marital NI\n",
       "35803  1                  1     18.01918 FPL Below 100 Marital NI\n",
       "35804  0                  1     58.16164 FPL Below 100 Single    \n",
       "35805  1                  1     58.17260 FPL Below 100 Single    \n",
       "35806  1                  1     42.09863 NA            Married   \n",
       "35807  1                  1     61.83562 FPL Below 100 Divorced  \n",
       "35808  0                  1     22.02192 FPL Unknown   Single    \n",
       "35809  0                  1     42.24110 NA            Single    \n",
       "35810 NA                 NA           NA NA            NA        \n",
       "35811  0                  1     20.47671 FPL Below 100 Single    \n",
       "35812 NA                 NA           NA NA            NA        \n",
       "35813  1                  1     38.00548 FPL Below 100 Separated \n",
       "35814  0                  1     50.56986 FPL Unknown   Marital NI\n",
       "35815  0                  1     56.05753 FPL Below 100 Marital NI\n",
       "      Gender            Race                              Rural Sex   \n",
       "1     Unknown / Missing White                             Yes   Male  \n",
       "2     NA                NA                                NA    NA    \n",
       "3     Woman             White                             No    Female\n",
       "4     Woman             White                             No    Female\n",
       "5     Unknown / Missing Black or African American         No    Male  \n",
       "6     Woman             White                             No    Female\n",
       "7     Woman             White                             No    Female\n",
       "8     Woman             White                             No    Female\n",
       "9     Woman             White                             No    Female\n",
       "10    Unknown / Missing White                             Yes   Female\n",
       "11    NA                NA                                NA    NA    \n",
       "12    Woman             NA                                No    Female\n",
       "13    Unknown / Missing Black or African American         No    Female\n",
       "14    Transgender       White                             No    Female\n",
       "15    NA                NA                                NA    NA    \n",
       "16    Woman             White                             Yes   Female\n",
       "17    Unknown / Missing White                             No    Female\n",
       "18    Woman             White                             No    Female\n",
       "19    Man               White                             Yes   Male  \n",
       "20    Unknown / Missing White                             Yes   Female\n",
       "21    Woman             White                             No    Female\n",
       "22    Unknown / Missing White                             No    Female\n",
       "23    Unknown / Missing White                             No    Female\n",
       "24    Unknown / Missing White                             Yes   Male  \n",
       "25    NA                NA                                NA    NA    \n",
       "26    NA                NA                                NA    NA    \n",
       "27    Unknown / Missing White                             No    Female\n",
       "28    Unknown / Missing White                             No    Male  \n",
       "29    NA                NA                                NA    NA    \n",
       "30    Transgender       Black or African American         No    Female\n",
       "⋮     ⋮                 ⋮                                 ⋮     ⋮     \n",
       "35786 Woman             American Indian or Alaskan Native No    Female\n",
       "35787 Woman             White                             No    Female\n",
       "35788 Woman             Asian                             No    Female\n",
       "35789 Woman             White                             No    Female\n",
       "35790 NA                NA                                NA    NA    \n",
       "35791 Woman             Refuse to answer                  No    Female\n",
       "35792 Woman             American Indian or Alaskan Native No    Female\n",
       "35793 NA                NA                                NA    NA    \n",
       "35794 Unknown / Missing White                             No    Female\n",
       "35795 NA                NA                                NA    NA    \n",
       "35796 Woman             White                             No    Female\n",
       "35797 Woman             White                             Yes   Female\n",
       "35798 Woman             NA                                No    Female\n",
       "35799 Woman             White                             No    Female\n",
       "35800 Woman             White                             No    Female\n",
       "35801 NA                NA                                NA    NA    \n",
       "35802 Man               NA                                No    Male  \n",
       "35803 Woman             White                             Yes   Female\n",
       "35804 Man               White                             Yes   Male  \n",
       "35805 Man               White                             No    Male  \n",
       "35806 Woman             White                             Yes   Female\n",
       "35807 Woman             White                             Yes   Female\n",
       "35808 Transgender       White                             No    Male  \n",
       "35809 Woman             White                             No    Female\n",
       "35810 NA                NA                                NA    NA    \n",
       "35811 Unknown / Missing White                             No    Male  \n",
       "35812 NA                NA                                NA    NA    \n",
       "35813 Unknown / Missing White                             No    Female\n",
       "35814 Man               NA                                No    Male  \n",
       "35815 Woman             White                             No    Female\n",
       "      Sexor           \n",
       "1     Unknown/ Missing\n",
       "2     NA              \n",
       "3     Straight        \n",
       "4     Straight        \n",
       "5     Unknown/ Missing\n",
       "6     Straight        \n",
       "7     Lesbain         \n",
       "8     Unknown/ Missing\n",
       "9     Unknown/ Missing\n",
       "10    Unknown/ Missing\n",
       "11    NA              \n",
       "12    Straight        \n",
       "13    Unknown/ Missing\n",
       "14    Unknown/ Missing\n",
       "15    NA              \n",
       "16    Straight        \n",
       "17    Unknown/ Missing\n",
       "18    Straight        \n",
       "19    Straight        \n",
       "20    Unknown/ Missing\n",
       "21    Straight        \n",
       "22    Unknown/ Missing\n",
       "23    Straight        \n",
       "24    Unknown/ Missing\n",
       "25    NA              \n",
       "26    NA              \n",
       "27    Unknown/ Missing\n",
       "28    Unknown/ Missing\n",
       "29    NA              \n",
       "30    Unknown/ Missing\n",
       "⋮     ⋮               \n",
       "35786 Straight        \n",
       "35787 Straight        \n",
       "35788 Straight        \n",
       "35789 Straight        \n",
       "35790 NA              \n",
       "35791 Straight        \n",
       "35792 Straight        \n",
       "35793 NA              \n",
       "35794 Unknown/ Missing\n",
       "35795 NA              \n",
       "35796 Straight        \n",
       "35797 Straight        \n",
       "35798 Straight        \n",
       "35799 Straight        \n",
       "35800 Unknown/ Missing\n",
       "35801 NA              \n",
       "35802 Straight        \n",
       "35803 Unknown/ Missing\n",
       "35804 Unknown/ Missing\n",
       "35805 Straight        \n",
       "35806 Straight        \n",
       "35807 Straight        \n",
       "35808 Unknown/ Missing\n",
       "35809 Straight        \n",
       "35810 NA              \n",
       "35811 Unknown/ Missing\n",
       "35812 NA              \n",
       "35813 Unknown/ Missing\n",
       "35814 Straight        \n",
       "35815 Straight        "
      ]
     },
     "metadata": {},
     "output_type": "display_data"
    }
   ],
   "source": [
    "phq.df_fix %>% filter(Depressed==1&Anxiety==1)"
   ]
  },
  {
   "cell_type": "code",
   "execution_count": 141,
   "id": "ef113edc",
   "metadata": {},
   "outputs": [],
   "source": [
    "save(phq.df_fix,file=\"phqall_demo_fix.RData\")"
   ]
  },
  {
   "cell_type": "code",
   "execution_count": null,
   "id": "c80f8013",
   "metadata": {},
   "outputs": [],
   "source": [
    "library(caret)\n",
    "library(mice)\n",
    "\n",
    "phq.df<"
   ]
  },
  {
   "cell_type": "code",
   "execution_count": null,
   "id": "1e152a74",
   "metadata": {},
   "outputs": [],
   "source": [
    "# temp to get code to run uses complete cases. It's like a 40% reduction in sample :( and it would be better to impute)\n",
    "completecases.df<-phq.df %>% ungroup() %>% rowwise() %>%  drop_na(HEALTH_SYSTEM_ID:Sexor)\n",
    "completecases.df %>% nrow()"
   ]
  },
  {
   "cell_type": "code",
   "execution_count": null,
   "id": "245005a3",
   "metadata": {},
   "outputs": [],
   "source": [
    "phq.df %>% filter(Depressed==1)"
   ]
  },
  {
   "cell_type": "code",
   "execution_count": 142,
   "id": "78a3427f",
   "metadata": {},
   "outputs": [
    {
     "data": {
      "text/html": [
       "<table class=\"dataframe\">\n",
       "<caption>A tibble: 2 × 5</caption>\n",
       "<thead>\n",
       "\t<tr><th scope=col>Depressed</th><th scope=col>mean</th><th scope=col>sd</th><th scope=col>min</th><th scope=col>max</th></tr>\n",
       "\t<tr><th scope=col>&lt;dbl&gt;</th><th scope=col>&lt;dbl&gt;</th><th scope=col>&lt;dbl&gt;</th><th scope=col>&lt;dbl&gt;</th><th scope=col>&lt;dbl&gt;</th></tr>\n",
       "</thead>\n",
       "<tbody>\n",
       "\t<tr><td>0</td><td> 8.520832</td><td>6.284215</td><td>0</td><td>27</td></tr>\n",
       "\t<tr><td>1</td><td>13.943239</td><td>6.501062</td><td>0</td><td>27</td></tr>\n",
       "</tbody>\n",
       "</table>\n"
      ],
      "text/latex": [
       "A tibble: 2 × 5\n",
       "\\begin{tabular}{lllll}\n",
       " Depressed & mean & sd & min & max\\\\\n",
       " <dbl> & <dbl> & <dbl> & <dbl> & <dbl>\\\\\n",
       "\\hline\n",
       "\t 0 &  8.520832 & 6.284215 & 0 & 27\\\\\n",
       "\t 1 & 13.943239 & 6.501062 & 0 & 27\\\\\n",
       "\\end{tabular}\n"
      ],
      "text/markdown": [
       "\n",
       "A tibble: 2 × 5\n",
       "\n",
       "| Depressed &lt;dbl&gt; | mean &lt;dbl&gt; | sd &lt;dbl&gt; | min &lt;dbl&gt; | max &lt;dbl&gt; |\n",
       "|---|---|---|---|---|\n",
       "| 0 |  8.520832 | 6.284215 | 0 | 27 |\n",
       "| 1 | 13.943239 | 6.501062 | 0 | 27 |\n",
       "\n"
      ],
      "text/plain": [
       "  Depressed mean      sd       min max\n",
       "1 0          8.520832 6.284215 0   27 \n",
       "2 1         13.943239 6.501062 0   27 "
      ]
     },
     "metadata": {},
     "output_type": "display_data"
    }
   ],
   "source": [
    "# then get rid of bad values in phq, round some of the weird values and summarise to check\n",
    "cleanphq.df<-phq.df_fix %>% filter(PhqScore>0 & PhqScore<28)  %>% mutate(PhqScore=round(PhqScore))\n",
    "cleanphq.df%>% group_by(Depressed) %>% summarise(mean=mean(PhqScore),sd=sd(PhqScore),min=min(PhqScore),max=max(PhqScore))"
   ]
  },
  {
   "cell_type": "code",
   "execution_count": 144,
   "id": "c5a31624",
   "metadata": {},
   "outputs": [],
   "source": [
    "providers<-read.csv('/home/ec2-user/SageMaker/providersepped.csv')\n"
   ]
  },
  {
   "cell_type": "code",
   "execution_count": null,
   "id": "e10c79f1",
   "metadata": {},
   "outputs": [],
   "source": [
    "nrow(providers)"
   ]
  },
  {
   "cell_type": "code",
   "execution_count": null,
   "id": "f2da9c50",
   "metadata": {
    "scrolled": true
   },
   "outputs": [],
   "source": [
    "providers %>% group_by(L1) %>% tally() %>% arrange(desc(n))"
   ]
  },
  {
   "cell_type": "code",
   "execution_count": 145,
   "id": "40700fae",
   "metadata": {},
   "outputs": [
    {
     "name": "stderr",
     "output_type": "stream",
     "text": [
      "\u001b[1m\u001b[22mJoining with `by = join_by(PROVIDER_ID)`\n"
     ]
    }
   ],
   "source": [
    "phqdfproviders<-cleanphq.df %>% left_join(providers)"
   ]
  },
  {
   "cell_type": "code",
   "execution_count": 147,
   "id": "2d27b58c",
   "metadata": {},
   "outputs": [],
   "source": [
    "phqdfproviders %>% group_by(L1) %>% tally() %>% arrange(desc(n)) %>% write.csv(\"Tables/L1_count.csv\")\n",
    "phqdfproviders %>% group_by(L2) %>% tally() %>% arrange(desc(n)) %>% write.csv(\"Tables/L2_count.csv\")\n",
    "phqdfproviders %>% group_by(L3) %>% tally() %>% arrange(desc(n)) %>% write.csv(\"Tables/L3_count.csv\")"
   ]
  },
  {
   "cell_type": "markdown",
   "id": "2d8e8710",
   "metadata": {},
   "source": [
    "# Rates of dx"
   ]
  },
  {
   "cell_type": "code",
   "execution_count": null,
   "id": "01b89bdf",
   "metadata": {},
   "outputs": [],
   "source": [
    "# create new column for the standard cutoff and a severe cutoff and a totally depressed cutoff\n",
    "phqdfproviders<-phqdfproviders %>% mutate(phqDepressed=case_when(PhqScore>=10~1,PhqScore<10~0),\n",
    "                                    phqSevereDepressed=case_when(PhqScore>=20~1,PhqScore<20~0),\n",
    "                                    phqDefDepressed=case_when(PhqScore>=26~1,PhqScore<26~0))"
   ]
  },
  {
   "cell_type": "code",
   "execution_count": null,
   "id": "751b5fa4",
   "metadata": {},
   "outputs": [],
   "source": [
    "save(phqdfproviders,file=\"phqdf_ready_fix.RData\")"
   ]
  },
  {
   "cell_type": "code",
   "execution_count": null,
   "id": "fb067215",
   "metadata": {},
   "outputs": [],
   "source": [
    "#count of Depression from Any Source\n",
    "table(phqdfproviders$DepAny)  %>% write.csv(\"Tables/EncDepression_Any_Source.csv\")"
   ]
  },
  {
   "cell_type": "code",
   "execution_count": null,
   "id": "d337cdb7",
   "metadata": {},
   "outputs": [
    {
     "data": {
      "text/html": [
       "<table class=\"dataframe\">\n",
       "<caption>A data.frame: 2 × 2</caption>\n",
       "<thead>\n",
       "\t<tr><th scope=col>phqDepressed</th><th scope=col>n</th></tr>\n",
       "\t<tr><th scope=col>&lt;dbl&gt;</th><th scope=col>&lt;int&gt;</th></tr>\n",
       "</thead>\n",
       "<tbody>\n",
       "\t<tr><td>0</td><td>365362</td></tr>\n",
       "\t<tr><td>1</td><td>279025</td></tr>\n",
       "</tbody>\n",
       "</table>\n"
      ],
      "text/latex": [
       "A data.frame: 2 × 2\n",
       "\\begin{tabular}{ll}\n",
       " phqDepressed & n\\\\\n",
       " <dbl> & <int>\\\\\n",
       "\\hline\n",
       "\t 0 & 365362\\\\\n",
       "\t 1 & 279025\\\\\n",
       "\\end{tabular}\n"
      ],
      "text/markdown": [
       "\n",
       "A data.frame: 2 × 2\n",
       "\n",
       "| phqDepressed &lt;dbl&gt; | n &lt;int&gt; |\n",
       "|---|---|\n",
       "| 0 | 365362 |\n",
       "| 1 | 279025 |\n",
       "\n"
      ],
      "text/plain": [
       "  phqDepressed n     \n",
       "1 0            365362\n",
       "2 1            279025"
      ]
     },
     "metadata": {},
     "output_type": "display_data"
    },
    {
     "data": {
      "text/html": [
       "<table class=\"dataframe\">\n",
       "<caption>A data.frame: 2 × 2</caption>\n",
       "<thead>\n",
       "\t<tr><th scope=col>phqSevereDepressed</th><th scope=col>n</th></tr>\n",
       "\t<tr><th scope=col>&lt;dbl&gt;</th><th scope=col>&lt;int&gt;</th></tr>\n",
       "</thead>\n",
       "<tbody>\n",
       "\t<tr><td>0</td><td>578083</td></tr>\n",
       "\t<tr><td>1</td><td> 66304</td></tr>\n",
       "</tbody>\n",
       "</table>\n"
      ],
      "text/latex": [
       "A data.frame: 2 × 2\n",
       "\\begin{tabular}{ll}\n",
       " phqSevereDepressed & n\\\\\n",
       " <dbl> & <int>\\\\\n",
       "\\hline\n",
       "\t 0 & 578083\\\\\n",
       "\t 1 &  66304\\\\\n",
       "\\end{tabular}\n"
      ],
      "text/markdown": [
       "\n",
       "A data.frame: 2 × 2\n",
       "\n",
       "| phqSevereDepressed &lt;dbl&gt; | n &lt;int&gt; |\n",
       "|---|---|\n",
       "| 0 | 578083 |\n",
       "| 1 |  66304 |\n",
       "\n"
      ],
      "text/plain": [
       "  phqSevereDepressed n     \n",
       "1 0                  578083\n",
       "2 1                   66304"
      ]
     },
     "metadata": {},
     "output_type": "display_data"
    },
    {
     "data": {
      "text/html": [
       "<table class=\"dataframe\">\n",
       "<caption>A data.frame: 2 × 2</caption>\n",
       "<thead>\n",
       "\t<tr><th scope=col>phqDefDepressed</th><th scope=col>n</th></tr>\n",
       "\t<tr><th scope=col>&lt;dbl&gt;</th><th scope=col>&lt;int&gt;</th></tr>\n",
       "</thead>\n",
       "<tbody>\n",
       "\t<tr><td>0</td><td>636321</td></tr>\n",
       "\t<tr><td>1</td><td>  8066</td></tr>\n",
       "</tbody>\n",
       "</table>\n"
      ],
      "text/latex": [
       "A data.frame: 2 × 2\n",
       "\\begin{tabular}{ll}\n",
       " phqDefDepressed & n\\\\\n",
       " <dbl> & <int>\\\\\n",
       "\\hline\n",
       "\t 0 & 636321\\\\\n",
       "\t 1 &   8066\\\\\n",
       "\\end{tabular}\n"
      ],
      "text/markdown": [
       "\n",
       "A data.frame: 2 × 2\n",
       "\n",
       "| phqDefDepressed &lt;dbl&gt; | n &lt;int&gt; |\n",
       "|---|---|\n",
       "| 0 | 636321 |\n",
       "| 1 |   8066 |\n",
       "\n"
      ],
      "text/plain": [
       "  phqDefDepressed n     \n",
       "1 0               636321\n",
       "2 1                 8066"
      ]
     },
     "metadata": {},
     "output_type": "display_data"
    }
   ],
   "source": [
    "phqDepTally<-phqdfproviders %>% group_by(phqDepressed) %>% tally()%>% as.data.frame()\n",
    "phqSevDepTally<-phqdfproviders %>% group_by(phqSevereDepressed) %>% tally() %>% as.data.frame()\n",
    "phqDefDepTally<-phqdfproviders %>% group_by(phqDefDepressed) %>% tally()%>% as.data.frame()\n",
    "\n",
    "\n",
    "phqDepTally\n",
    "phqSevDepTally\n",
    "phqDefDepTally"
   ]
  },
  {
   "cell_type": "code",
   "execution_count": 155,
   "id": "734eed30",
   "metadata": {},
   "outputs": [
    {
     "data": {
      "text/html": [
       "<table class=\"dataframe\">\n",
       "<caption>A tibble: 2 × 3</caption>\n",
       "<thead>\n",
       "\t<tr><th scope=col>Depressed</th><th scope=col>n</th><th scope=col>percent</th></tr>\n",
       "\t<tr><th scope=col>&lt;dbl&gt;</th><th scope=col>&lt;int&gt;</th><th scope=col>&lt;dbl&gt;</th></tr>\n",
       "</thead>\n",
       "<tbody>\n",
       "\t<tr><td>0</td><td>191460</td><td>0.2971196</td></tr>\n",
       "\t<tr><td>1</td><td> 87565</td><td>0.1358888</td></tr>\n",
       "</tbody>\n",
       "</table>\n"
      ],
      "text/latex": [
       "A tibble: 2 × 3\n",
       "\\begin{tabular}{lll}\n",
       " Depressed & n & percent\\\\\n",
       " <dbl> & <int> & <dbl>\\\\\n",
       "\\hline\n",
       "\t 0 & 191460 & 0.2971196\\\\\n",
       "\t 1 &  87565 & 0.1358888\\\\\n",
       "\\end{tabular}\n"
      ],
      "text/markdown": [
       "\n",
       "A tibble: 2 × 3\n",
       "\n",
       "| Depressed &lt;dbl&gt; | n &lt;int&gt; | percent &lt;dbl&gt; |\n",
       "|---|---|---|\n",
       "| 0 | 191460 | 0.2971196 |\n",
       "| 1 |  87565 | 0.1358888 |\n",
       "\n"
      ],
      "text/plain": [
       "  Depressed n      percent  \n",
       "1 0         191460 0.2971196\n",
       "2 1          87565 0.1358888"
      ]
     },
     "metadata": {},
     "output_type": "display_data"
    }
   ],
   "source": [
    "phqdfproviders %>% group_by(Depressed) %>% tally(phqDepressed==1) %>% mutate(percent=n/nrow(phqdfproviders))"
   ]
  },
  {
   "cell_type": "markdown",
   "id": "264a463b",
   "metadata": {},
   "source": [
    "30% of patients with Phq had a PHQ score above cutoff but were absent a diagnosis in the record. 14% had a diagnosis in the record corresponding to a higher cutoff."
   ]
  },
  {
   "cell_type": "code",
   "execution_count": 156,
   "id": "6e9cd13e",
   "metadata": {
    "scrolled": true
   },
   "outputs": [
    {
     "data": {
      "text/html": [
       "<table class=\"dataframe\">\n",
       "<caption>A tibble: 2 × 3</caption>\n",
       "<thead>\n",
       "\t<tr><th scope=col>Depressed</th><th scope=col>n</th><th scope=col>percent</th></tr>\n",
       "\t<tr><th scope=col>&lt;dbl&gt;</th><th scope=col>&lt;dbl&gt;</th><th scope=col>&lt;dbl&gt;</th></tr>\n",
       "</thead>\n",
       "<tbody>\n",
       "\t<tr><td>0</td><td>191460</td><td>0.2971196</td></tr>\n",
       "\t<tr><td>1</td><td> 87565</td><td>0.1358888</td></tr>\n",
       "</tbody>\n",
       "</table>\n"
      ],
      "text/latex": [
       "A tibble: 2 × 3\n",
       "\\begin{tabular}{lll}\n",
       " Depressed & n & percent\\\\\n",
       " <dbl> & <dbl> & <dbl>\\\\\n",
       "\\hline\n",
       "\t 0 & 191460 & 0.2971196\\\\\n",
       "\t 1 &  87565 & 0.1358888\\\\\n",
       "\\end{tabular}\n"
      ],
      "text/markdown": [
       "\n",
       "A tibble: 2 × 3\n",
       "\n",
       "| Depressed &lt;dbl&gt; | n &lt;dbl&gt; | percent &lt;dbl&gt; |\n",
       "|---|---|---|\n",
       "| 0 | 191460 | 0.2971196 |\n",
       "| 1 |  87565 | 0.1358888 |\n",
       "\n"
      ],
      "text/plain": [
       "  Depressed n      percent  \n",
       "1 0         191460 0.2971196\n",
       "2 1          87565 0.1358888"
      ]
     },
     "metadata": {},
     "output_type": "display_data"
    },
    {
     "data": {
      "text/html": [
       "<table class=\"dataframe\">\n",
       "<caption>A tibble: 2 × 3</caption>\n",
       "<thead>\n",
       "\t<tr><th scope=col>Depressed</th><th scope=col>n</th><th scope=col>percent</th></tr>\n",
       "\t<tr><th scope=col>&lt;dbl&gt;</th><th scope=col>&lt;dbl&gt;</th><th scope=col>&lt;dbl&gt;</th></tr>\n",
       "</thead>\n",
       "<tbody>\n",
       "\t<tr><td>0</td><td>191460</td><td>0.6861751</td></tr>\n",
       "\t<tr><td>1</td><td> 87565</td><td>0.3138249</td></tr>\n",
       "</tbody>\n",
       "</table>\n"
      ],
      "text/latex": [
       "A tibble: 2 × 3\n",
       "\\begin{tabular}{lll}\n",
       " Depressed & n & percent\\\\\n",
       " <dbl> & <dbl> & <dbl>\\\\\n",
       "\\hline\n",
       "\t 0 & 191460 & 0.6861751\\\\\n",
       "\t 1 &  87565 & 0.3138249\\\\\n",
       "\\end{tabular}\n"
      ],
      "text/markdown": [
       "\n",
       "A tibble: 2 × 3\n",
       "\n",
       "| Depressed &lt;dbl&gt; | n &lt;dbl&gt; | percent &lt;dbl&gt; |\n",
       "|---|---|---|\n",
       "| 0 | 191460 | 0.6861751 |\n",
       "| 1 |  87565 | 0.3138249 |\n",
       "\n"
      ],
      "text/plain": [
       "  Depressed n      percent  \n",
       "1 0         191460 0.6861751\n",
       "2 1          87565 0.3138249"
      ]
     },
     "metadata": {},
     "output_type": "display_data"
    }
   ],
   "source": [
    "phqdfproviders %>% group_by(Depressed) %>% tally(phqDepressed) %>% mutate(percent=n/nrow(phqdfproviders))\n",
    "phqdfproviders %>% group_by(Depressed) %>% tally(phqDepressed) %>% mutate(percent=n/phqDepTally[2,2])"
   ]
  },
  {
   "cell_type": "markdown",
   "id": "fa56256f",
   "metadata": {},
   "source": [
    "However, of the 270,000 records above cutoff, 69% of those people with a PHQ  scored >10 did not have a diagnosis in the record. "
   ]
  },
  {
   "cell_type": "code",
   "execution_count": 158,
   "id": "61fc199b",
   "metadata": {},
   "outputs": [
    {
     "data": {
      "text/html": [
       "<table class=\"dataframe\">\n",
       "<caption>A tibble: 2 × 3</caption>\n",
       "<thead>\n",
       "\t<tr><th scope=col>Depressed</th><th scope=col>n</th><th scope=col>percent</th></tr>\n",
       "\t<tr><th scope=col>&lt;dbl&gt;</th><th scope=col>&lt;int&gt;</th><th scope=col>&lt;dbl&gt;</th></tr>\n",
       "</thead>\n",
       "<tbody>\n",
       "\t<tr><td>0</td><td>38514</td><td>0.05976843</td></tr>\n",
       "\t<tr><td>1</td><td>27790</td><td>0.04312626</td></tr>\n",
       "</tbody>\n",
       "</table>\n"
      ],
      "text/latex": [
       "A tibble: 2 × 3\n",
       "\\begin{tabular}{lll}\n",
       " Depressed & n & percent\\\\\n",
       " <dbl> & <int> & <dbl>\\\\\n",
       "\\hline\n",
       "\t 0 & 38514 & 0.05976843\\\\\n",
       "\t 1 & 27790 & 0.04312626\\\\\n",
       "\\end{tabular}\n"
      ],
      "text/markdown": [
       "\n",
       "A tibble: 2 × 3\n",
       "\n",
       "| Depressed &lt;dbl&gt; | n &lt;int&gt; | percent &lt;dbl&gt; |\n",
       "|---|---|---|\n",
       "| 0 | 38514 | 0.05976843 |\n",
       "| 1 | 27790 | 0.04312626 |\n",
       "\n"
      ],
      "text/plain": [
       "  Depressed n     percent   \n",
       "1 0         38514 0.05976843\n",
       "2 1         27790 0.04312626"
      ]
     },
     "metadata": {},
     "output_type": "display_data"
    },
    {
     "data": {
      "text/html": [
       "<table class=\"dataframe\">\n",
       "<caption>A tibble: 2 × 3</caption>\n",
       "<thead>\n",
       "\t<tr><th scope=col>Depressed</th><th scope=col>n</th><th scope=col>percent</th></tr>\n",
       "\t<tr><th scope=col>&lt;dbl&gt;</th><th scope=col>&lt;int&gt;</th><th scope=col>&lt;dbl&gt;</th></tr>\n",
       "</thead>\n",
       "<tbody>\n",
       "\t<tr><td>0</td><td>38514</td><td>0.5808699</td></tr>\n",
       "\t<tr><td>1</td><td>27790</td><td>0.4191301</td></tr>\n",
       "</tbody>\n",
       "</table>\n"
      ],
      "text/latex": [
       "A tibble: 2 × 3\n",
       "\\begin{tabular}{lll}\n",
       " Depressed & n & percent\\\\\n",
       " <dbl> & <int> & <dbl>\\\\\n",
       "\\hline\n",
       "\t 0 & 38514 & 0.5808699\\\\\n",
       "\t 1 & 27790 & 0.4191301\\\\\n",
       "\\end{tabular}\n"
      ],
      "text/markdown": [
       "\n",
       "A tibble: 2 × 3\n",
       "\n",
       "| Depressed &lt;dbl&gt; | n &lt;int&gt; | percent &lt;dbl&gt; |\n",
       "|---|---|---|\n",
       "| 0 | 38514 | 0.5808699 |\n",
       "| 1 | 27790 | 0.4191301 |\n",
       "\n"
      ],
      "text/plain": [
       "  Depressed n     percent  \n",
       "1 0         38514 0.5808699\n",
       "2 1         27790 0.4191301"
      ]
     },
     "metadata": {},
     "output_type": "display_data"
    }
   ],
   "source": [
    "phqdfproviders %>% group_by(Depressed) %>% tally(phqSevereDepressed==1) %>% mutate(percent=n/nrow(phqdfproviders))\n",
    "phqdfproviders %>% group_by(Depressed) %>% tally(phqSevereDepressed==1) %>% mutate(percent=n/phqSevDepTally[2,2])"
   ]
  },
  {
   "cell_type": "markdown",
   "id": "26e6beae",
   "metadata": {},
   "source": [
    "If we use the cutoff of 20 where we expect high symptom reporting, we see only 4% of patients with severe scores have a corresponding record of Depressed. 6% of people with severe depression indicated by the phq are listed as not depressed. \n",
    "Bottom table is for the same proportions taken out of the number of severely depressed. It's practically 50-50 if you end up in the record"
   ]
  },
  {
   "cell_type": "code",
   "execution_count": 160,
   "id": "eb06b22f",
   "metadata": {},
   "outputs": [
    {
     "data": {
      "text/html": [
       "<table class=\"dataframe\">\n",
       "<caption>A tibble: 2 × 3</caption>\n",
       "<thead>\n",
       "\t<tr><th scope=col>Depressed</th><th scope=col>n</th><th scope=col>percent</th></tr>\n",
       "\t<tr><th scope=col>&lt;dbl&gt;</th><th scope=col>&lt;dbl&gt;</th><th scope=col>&lt;dbl&gt;</th></tr>\n",
       "</thead>\n",
       "<tbody>\n",
       "\t<tr><td>0</td><td>4474</td><td>0.006943033</td></tr>\n",
       "\t<tr><td>1</td><td>3592</td><td>0.005574290</td></tr>\n",
       "</tbody>\n",
       "</table>\n"
      ],
      "text/latex": [
       "A tibble: 2 × 3\n",
       "\\begin{tabular}{lll}\n",
       " Depressed & n & percent\\\\\n",
       " <dbl> & <dbl> & <dbl>\\\\\n",
       "\\hline\n",
       "\t 0 & 4474 & 0.006943033\\\\\n",
       "\t 1 & 3592 & 0.005574290\\\\\n",
       "\\end{tabular}\n"
      ],
      "text/markdown": [
       "\n",
       "A tibble: 2 × 3\n",
       "\n",
       "| Depressed &lt;dbl&gt; | n &lt;dbl&gt; | percent &lt;dbl&gt; |\n",
       "|---|---|---|\n",
       "| 0 | 4474 | 0.006943033 |\n",
       "| 1 | 3592 | 0.005574290 |\n",
       "\n"
      ],
      "text/plain": [
       "  Depressed n    percent    \n",
       "1 0         4474 0.006943033\n",
       "2 1         3592 0.005574290"
      ]
     },
     "metadata": {},
     "output_type": "display_data"
    },
    {
     "data": {
      "text/html": [
       "<table class=\"dataframe\">\n",
       "<caption>A tibble: 2 × 3</caption>\n",
       "<thead>\n",
       "\t<tr><th scope=col>Depressed</th><th scope=col>n</th><th scope=col>percent</th></tr>\n",
       "\t<tr><th scope=col>&lt;dbl&gt;</th><th scope=col>&lt;dbl&gt;</th><th scope=col>&lt;dbl&gt;</th></tr>\n",
       "</thead>\n",
       "<tbody>\n",
       "\t<tr><td>0</td><td>4474</td><td>0.5546739</td></tr>\n",
       "\t<tr><td>1</td><td>3592</td><td>0.4453261</td></tr>\n",
       "</tbody>\n",
       "</table>\n"
      ],
      "text/latex": [
       "A tibble: 2 × 3\n",
       "\\begin{tabular}{lll}\n",
       " Depressed & n & percent\\\\\n",
       " <dbl> & <dbl> & <dbl>\\\\\n",
       "\\hline\n",
       "\t 0 & 4474 & 0.5546739\\\\\n",
       "\t 1 & 3592 & 0.4453261\\\\\n",
       "\\end{tabular}\n"
      ],
      "text/markdown": [
       "\n",
       "A tibble: 2 × 3\n",
       "\n",
       "| Depressed &lt;dbl&gt; | n &lt;dbl&gt; | percent &lt;dbl&gt; |\n",
       "|---|---|---|\n",
       "| 0 | 4474 | 0.5546739 |\n",
       "| 1 | 3592 | 0.4453261 |\n",
       "\n"
      ],
      "text/plain": [
       "  Depressed n    percent  \n",
       "1 0         4474 0.5546739\n",
       "2 1         3592 0.4453261"
      ]
     },
     "metadata": {},
     "output_type": "display_data"
    }
   ],
   "source": [
    "phqdfproviders %>% group_by(Depressed) %>% tally(phqDefDepressed) %>% mutate(percent=n/nrow(phqdfproviders))\n",
    "phqdfproviders %>% group_by(Depressed) %>% tally(phqDefDepressed) %>% mutate(percent=n/phqDefDepTally[2,2])"
   ]
  },
  {
   "cell_type": "markdown",
   "id": "0fbd4e59",
   "metadata": {},
   "source": [
    "These folks are the smallest of the group in the dataset but also fare no better. 55% of them have no dep diagnosis in the record."
   ]
  },
  {
   "cell_type": "code",
   "execution_count": 163,
   "id": "a5183618",
   "metadata": {},
   "outputs": [],
   "source": [
    "Phqscoretable<-table(phqdfproviders$PhqScore)\n",
    "Depressedtable<-table(phqdfproviders$Depressed)\n",
    "phqDepressedtable<-table(phqdfproviders$phqDepressed)\n",
    "phqSevDeptable<-table(phqdfproviders$phqSevereDepressed)\n",
    "phqDefDeptable<-table(phqdfproviders$phqDefDepressed)\n",
    "\n",
    "save(Phqscoretable,Depressedtable,phqDepressedtable,phqSevDeptable,phqDefDeptable,file=\"Tables/PhqCounts.RData\")\n",
    "\n"
   ]
  },
  {
   "cell_type": "code",
   "execution_count": 164,
   "id": "6a048355",
   "metadata": {},
   "outputs": [
    {
     "name": "stderr",
     "output_type": "stream",
     "text": [
      "\u001b[1m\u001b[22m`stat_bin()` using `bins = 30`. Pick better value with `binwidth`.\n"
     ]
    },
    {
     "data": {
      "image/png": "[encoded data removed]",
      "text/plain": [
       "plot without title"
      ]
     },
     "metadata": {
      "image/png": {
       "height": 420,
       "width": 420
      }
     },
     "output_type": "display_data"
    }
   ],
   "source": [
    "library(ggplot2)\n",
    "ggplot(phqdfproviders,aes(x=PhqScore)) +\n",
    "  stat_bin(aes(y=cumsum(after_stat(count))))"
   ]
  },
  {
   "cell_type": "markdown",
   "id": "c341b9bf",
   "metadata": {},
   "source": [
    "# ML models"
   ]
  },
  {
   "cell_type": "markdown",
   "id": "be8eb3df",
   "metadata": {},
   "source": [
    "### Prep ML model "
   ]
  },
  {
   "cell_type": "code",
   "execution_count": 176,
   "id": "43049807",
   "metadata": {},
   "outputs": [],
   "source": [
    "mlsubset<-phqdfproviders %>% ungroup() %>% slice_sample(n=10000)"
   ]
  },
  {
   "cell_type": "code",
   "execution_count": 177,
   "id": "dfcaa694",
   "metadata": {},
   "outputs": [],
   "source": [
    "mlsubset<-mutate(mlsubset,Depressed=as.factor(Depressed),DepAny=as.factor(DepAny),phqDepressed=as.factor(phqDepressed),phqSevereDepressed=as.factor(phqSevereDepressed))"
   ]
  },
  {
   "cell_type": "code",
   "execution_count": 178,
   "id": "64e21a6d",
   "metadata": {},
   "outputs": [],
   "source": [
    "save(mlsubset,file=\"mlsubset.RData\")"
   ]
  },
  {
   "cell_type": "code",
   "execution_count": 179,
   "id": "b6896bd3",
   "metadata": {},
   "outputs": [
    {
     "data": {
      "text/html": [
       "<table class=\"dataframe\">\n",
       "<caption>A tibble: 2 × 2</caption>\n",
       "<thead>\n",
       "\t<tr><th scope=col>Depressed</th><th scope=col>n</th></tr>\n",
       "\t<tr><th scope=col>&lt;fct&gt;</th><th scope=col>&lt;int&gt;</th></tr>\n",
       "</thead>\n",
       "<tbody>\n",
       "\t<tr><td>0</td><td>8113</td></tr>\n",
       "\t<tr><td>1</td><td>1887</td></tr>\n",
       "</tbody>\n",
       "</table>\n"
      ],
      "text/latex": [
       "A tibble: 2 × 2\n",
       "\\begin{tabular}{ll}\n",
       " Depressed & n\\\\\n",
       " <fct> & <int>\\\\\n",
       "\\hline\n",
       "\t 0 & 8113\\\\\n",
       "\t 1 & 1887\\\\\n",
       "\\end{tabular}\n"
      ],
      "text/markdown": [
       "\n",
       "A tibble: 2 × 2\n",
       "\n",
       "| Depressed &lt;fct&gt; | n &lt;int&gt; |\n",
       "|---|---|\n",
       "| 0 | 8113 |\n",
       "| 1 | 1887 |\n",
       "\n"
      ],
      "text/plain": [
       "  Depressed n   \n",
       "1 0         8113\n",
       "2 1         1887"
      ]
     },
     "metadata": {},
     "output_type": "display_data"
    }
   ],
   "source": [
    "mlsubset %>% count(Depressed)"
   ]
  },
  {
   "cell_type": "markdown",
   "id": "022c8c38",
   "metadata": {},
   "source": [
    "### SVM Model"
   ]
  },
  {
   "cell_type": "code",
   "execution_count": 1,
   "id": "a19aa678",
   "metadata": {},
   "outputs": [],
   "source": [
    "load(file=\"/home/ec2-user/SageMaker/mlsubset.RData\")"
   ]
  },
  {
   "cell_type": "code",
   "execution_count": 4,
   "id": "1f178185",
   "metadata": {},
   "outputs": [],
   "source": [
    "library(dplyr)\n",
    "library(e1071)"
   ]
  },
  {
   "cell_type": "code",
   "execution_count": null,
   "id": "a2b3f332",
   "metadata": {},
   "outputs": [],
   "source": [
    "ls()"
   ]
  },
  {
   "cell_type": "code",
   "execution_count": 180,
   "id": "5f8a0813",
   "metadata": {},
   "outputs": [],
   "source": [
    "#set seed for random number generation\n",
    "set.seed(10)\n",
    "mlsubset<-mlsubset %>% ungroup() %>% select(BMI:phqDefDepressed,-X,-`NA`)\n",
    "#split train and test data 80/20\n",
    "mlsubset[,\"train\"] <- ifelse(runif(nrow(mlsubset))<0.8,1,0)\n",
    "trainset <- mlsubset[mlsubset$train==1,]\n",
    "testset <- mlsubset[mlsubset$train==0,]\n",
    "#find “train” column index\n",
    "trainColNum <- grep(\"train\",names(trainset))\n",
    "#remove column from train and test sets\n",
    "trainset <- trainset[,-trainColNum]\n",
    "testset <- testset[,-trainColNum]\n",
    "\n"
   ]
  },
  {
   "cell_type": "code",
   "execution_count": 181,
   "id": "54989fea",
   "metadata": {},
   "outputs": [
    {
     "data": {
      "text/html": [
       "<style>\n",
       ".list-inline {list-style: none; margin:0; padding: 0}\n",
       ".list-inline>li {display: inline-block}\n",
       ".list-inline>li:not(:last-child)::after {content: \"\\00b7\"; padding: 0 .5ex}\n",
       "</style>\n",
       "<ol class=list-inline><li>'BMI'</li><li>'SystolicBP'</li><li>'DiastolicBP'</li><li>'Audit'</li><li>'Phq2'</li><li>'Diabetes'</li><li>'Obesity'</li><li>'Hyperlipidemia'</li><li>'Depressed'</li><li>'Bipolar'</li><li>'Anxiety'</li><li>'Alcohol'</li><li>'Sleep'</li><li>'SUD'</li><li>'Tobacco'</li><li>'SchizophreniaSpectrum'</li><li>'Adjustment'</li><li>'EatingDisorders'</li><li>'Hypertension'</li><li>'PTSD'</li><li>'AdminDate.y'</li><li>'phqDepressed'</li><li>'phqSevereDepressed'</li><li>'DepAny'</li><li>'Age'</li><li>'FPL'</li><li>'Marital'</li><li>'Gender'</li><li>'Race'</li><li>'Rural'</li><li>'Sex'</li><li>'Sexor'</li><li>'L1'</li><li>'L2'</li><li>'L3'</li><li>'phqDefDepressed'</li></ol>\n"
      ],
      "text/latex": [
       "\\begin{enumerate*}\n",
       "\\item 'BMI'\n",
       "\\item 'SystolicBP'\n",
       "\\item 'DiastolicBP'\n",
       "\\item 'Audit'\n",
       "\\item 'Phq2'\n",
       "\\item 'Diabetes'\n",
       "\\item 'Obesity'\n",
       "\\item 'Hyperlipidemia'\n",
       "\\item 'Depressed'\n",
       "\\item 'Bipolar'\n",
       "\\item 'Anxiety'\n",
       "\\item 'Alcohol'\n",
       "\\item 'Sleep'\n",
       "\\item 'SUD'\n",
       "\\item 'Tobacco'\n",
       "\\item 'SchizophreniaSpectrum'\n",
       "\\item 'Adjustment'\n",
       "\\item 'EatingDisorders'\n",
       "\\item 'Hypertension'\n",
       "\\item 'PTSD'\n",
       "\\item 'AdminDate.y'\n",
       "\\item 'phqDepressed'\n",
       "\\item 'phqSevereDepressed'\n",
       "\\item 'DepAny'\n",
       "\\item 'Age'\n",
       "\\item 'FPL'\n",
       "\\item 'Marital'\n",
       "\\item 'Gender'\n",
       "\\item 'Race'\n",
       "\\item 'Rural'\n",
       "\\item 'Sex'\n",
       "\\item 'Sexor'\n",
       "\\item 'L1'\n",
       "\\item 'L2'\n",
       "\\item 'L3'\n",
       "\\item 'phqDefDepressed'\n",
       "\\end{enumerate*}\n"
      ],
      "text/markdown": [
       "1. 'BMI'\n",
       "2. 'SystolicBP'\n",
       "3. 'DiastolicBP'\n",
       "4. 'Audit'\n",
       "5. 'Phq2'\n",
       "6. 'Diabetes'\n",
       "7. 'Obesity'\n",
       "8. 'Hyperlipidemia'\n",
       "9. 'Depressed'\n",
       "10. 'Bipolar'\n",
       "11. 'Anxiety'\n",
       "12. 'Alcohol'\n",
       "13. 'Sleep'\n",
       "14. 'SUD'\n",
       "15. 'Tobacco'\n",
       "16. 'SchizophreniaSpectrum'\n",
       "17. 'Adjustment'\n",
       "18. 'EatingDisorders'\n",
       "19. 'Hypertension'\n",
       "20. 'PTSD'\n",
       "21. 'AdminDate.y'\n",
       "22. 'phqDepressed'\n",
       "23. 'phqSevereDepressed'\n",
       "24. 'DepAny'\n",
       "25. 'Age'\n",
       "26. 'FPL'\n",
       "27. 'Marital'\n",
       "28. 'Gender'\n",
       "29. 'Race'\n",
       "30. 'Rural'\n",
       "31. 'Sex'\n",
       "32. 'Sexor'\n",
       "33. 'L1'\n",
       "34. 'L2'\n",
       "35. 'L3'\n",
       "36. 'phqDefDepressed'\n",
       "\n",
       "\n"
      ],
      "text/plain": [
       " [1] \"BMI\"                   \"SystolicBP\"            \"DiastolicBP\"          \n",
       " [4] \"Audit\"                 \"Phq2\"                  \"Diabetes\"             \n",
       " [7] \"Obesity\"               \"Hyperlipidemia\"        \"Depressed\"            \n",
       "[10] \"Bipolar\"               \"Anxiety\"               \"Alcohol\"              \n",
       "[13] \"Sleep\"                 \"SUD\"                   \"Tobacco\"              \n",
       "[16] \"SchizophreniaSpectrum\" \"Adjustment\"            \"EatingDisorders\"      \n",
       "[19] \"Hypertension\"          \"PTSD\"                  \"AdminDate.y\"          \n",
       "[22] \"phqDepressed\"          \"phqSevereDepressed\"    \"DepAny\"               \n",
       "[25] \"Age\"                   \"FPL\"                   \"Marital\"              \n",
       "[28] \"Gender\"                \"Race\"                  \"Rural\"                \n",
       "[31] \"Sex\"                   \"Sexor\"                 \"L1\"                   \n",
       "[34] \"L2\"                    \"L3\"                    \"phqDefDepressed\"      "
      ]
     },
     "metadata": {},
     "output_type": "display_data"
    }
   ],
   "source": [
    "trainset %>% colnames()"
   ]
  },
  {
   "cell_type": "code",
   "execution_count": 6,
   "id": "2b5d7544",
   "metadata": {},
   "outputs": [],
   "source": [
    "mlsubset<-mlsubset %>% slice_sample(n=100)"
   ]
  },
  {
   "cell_type": "code",
   "execution_count": 182,
   "id": "05d4d208",
   "metadata": {},
   "outputs": [],
   "source": [
    "#build default cost model with Admin Date as garbage predictor\n",
    "library(e1071)\n",
    "garbageDep.svm<- svm(Depressed~AdminDate.y, data=trainset,type=\"C-classification\", kernel=\"linear\")"
   ]
  },
  {
   "cell_type": "code",
   "execution_count": 183,
   "id": "adb59d1f",
   "metadata": {},
   "outputs": [
    {
     "data": {
      "text/plain": [
       "\n",
       "Call:\n",
       "svm(formula = Depressed ~ AdminDate.y, data = trainset, type = \"C-classification\", \n",
       "    kernel = \"linear\")\n",
       "\n",
       "\n",
       "Parameters:\n",
       "   SVM-Type:  C-classification \n",
       " SVM-Kernel:  linear \n",
       "       cost:  1 \n",
       "\n",
       "Number of Support Vectors:  2329\n",
       "\n",
       " ( 1165 1164 )\n",
       "\n",
       "\n",
       "Number of Classes:  2 \n",
       "\n",
       "Levels: \n",
       " 0 1\n",
       "\n",
       "\n"
      ]
     },
     "metadata": {},
     "output_type": "display_data"
    }
   ],
   "source": [
    "summary(garbageDep.svm)"
   ]
  },
  {
   "cell_type": "code",
   "execution_count": 184,
   "id": "d8640086",
   "metadata": {},
   "outputs": [
    {
     "name": "stderr",
     "output_type": "stream",
     "text": [
      "Warning message in svm.default(x, y, scale = scale, ..., na.action = na.action):\n",
      "“Variable(s) ‘Diabetes’ and ‘Alcohol’ and ‘Sleep’ and ‘SchizophreniaSpectrum’ and ‘Adjustment’ and ‘EatingDisorders’ and ‘PTSD’ and ‘phqDefDepressed’ constant. Cannot scale data.”\n"
     ]
    }
   ],
   "source": [
    "#build default cost model with Encounter Diagnoses\n",
    "svm_model<- svm(Depressed~., data=trainset,type=\"C-classification\", kernel=\"linear\")"
   ]
  },
  {
   "cell_type": "code",
   "execution_count": 185,
   "id": "1a1267f8",
   "metadata": {
    "scrolled": false
   },
   "outputs": [
    {
     "data": {
      "text/plain": [
       "\n",
       "Call:\n",
       "svm(formula = Depressed ~ ., data = trainset, type = \"C-classification\", \n",
       "    kernel = \"linear\")\n",
       "\n",
       "\n",
       "Parameters:\n",
       "   SVM-Type:  C-classification \n",
       " SVM-Kernel:  linear \n",
       "       cost:  1 \n",
       "\n",
       "Number of Support Vectors:  12\n",
       "\n",
       " ( 9 3 )\n",
       "\n",
       "\n",
       "Number of Classes:  2 \n",
       "\n",
       "Levels: \n",
       " 0 1\n",
       "\n",
       "\n"
      ]
     },
     "metadata": {},
     "output_type": "display_data"
    }
   ],
   "source": [
    "summary(svm_model)"
   ]
  },
  {
   "cell_type": "code",
   "execution_count": 186,
   "id": "c6850633",
   "metadata": {},
   "outputs": [],
   "source": [
    "#training accuracy\n",
    "pred_train <- predict(svm_model,trainset)\n",
    "pred_train_garb <- predict(garbageDep.svm,trainset)"
   ]
  },
  {
   "cell_type": "code",
   "execution_count": 187,
   "id": "48158798",
   "metadata": {},
   "outputs": [
    {
     "name": "stderr",
     "output_type": "stream",
     "text": [
      "Warning message in `==.default`(pred_train, trainset$Depressed):\n",
      "“longer object length is not a multiple of shorter object length”\n",
      "Warning message in is.na(e1) | is.na(e2):\n",
      "“longer object length is not a multiple of shorter object length”\n"
     ]
    },
    {
     "data": {
      "text/html": [
       "0.786648227307015"
      ],
      "text/latex": [
       "0.786648227307015"
      ],
      "text/markdown": [
       "0.786648227307015"
      ],
      "text/plain": [
       "[1] 0.7866482"
      ]
     },
     "metadata": {},
     "output_type": "display_data"
    },
    {
     "name": "stderr",
     "output_type": "stream",
     "text": [
      "Warning message in `==.default`(pred_train_garb, trainset$Depressed):\n",
      "“longer object length is not a multiple of shorter object length”\n",
      "Warning message in is.na(e1) | is.na(e2):\n",
      "“longer object length is not a multiple of shorter object length”\n"
     ]
    },
    {
     "data": {
      "text/html": [
       "0.812798591903445"
      ],
      "text/latex": [
       "0.812798591903445"
      ],
      "text/markdown": [
       "0.812798591903445"
      ],
      "text/plain": [
       "[1] 0.8127986"
      ]
     },
     "metadata": {},
     "output_type": "display_data"
    }
   ],
   "source": [
    "mean(pred_train==trainset$Depressed)\n",
    "mean(pred_train_garb==trainset$Depressed)\n",
    "\n"
   ]
  },
  {
   "cell_type": "code",
   "execution_count": null,
   "id": "f283f438",
   "metadata": {},
   "outputs": [],
   "source": [
    "length(pred_train)\n",
    "length(trainset$Depressed)"
   ]
  },
  {
   "cell_type": "code",
   "execution_count": 188,
   "id": "8295b366",
   "metadata": {},
   "outputs": [
    {
     "name": "stderr",
     "output_type": "stream",
     "text": [
      "Loading required package: lattice\n",
      "\n",
      "\n",
      "Attaching package: ‘caret’\n",
      "\n",
      "\n",
      "The following object is masked from ‘package:purrr’:\n",
      "\n",
      "    lift\n",
      "\n",
      "\n"
     ]
    },
    {
     "ename": "ERROR",
     "evalue": "Error: `data` and `reference` should be factors with the same levels.\n",
     "output_type": "error",
     "traceback": [
      "Error: `data` and `reference` should be factors with the same levels.\nTraceback:\n",
      "1. confusionMatrix(data = pred_train, reference = trainset)",
      "2. confusionMatrix.default(data = pred_train, reference = trainset)",
      "3. stop(\"`data` and `reference` should be factors with the same levels.\", \n .     call. = FALSE)"
     ]
    }
   ],
   "source": [
    "# Confusion matrix\n",
    "library(caret)\n",
    "confusionMatrix(data=pred_train,reference=trainset)"
   ]
  },
  {
   "cell_type": "code",
   "execution_count": null,
   "id": "0f38416a",
   "metadata": {},
   "outputs": [],
   "source": [
    "cm = table(test_set[, 3], pred_train)"
   ]
  },
  {
   "cell_type": "code",
   "execution_count": null,
   "id": "f25d6554",
   "metadata": {},
   "outputs": [],
   "source": [
    "pred_test <- predict(svm_model,testset)\n",
    "#mean(pred_test==testset$Depressed)\n"
   ]
  },
  {
   "cell_type": "code",
   "execution_count": null,
   "id": "4565dfc3",
   "metadata": {},
   "outputs": [],
   "source": [
    "set.seed(10)\n",
    "accuracy <- rep(NA,100)\n",
    "#calculate test accuracy for 100 different partitions\n",
    "for (i in 1:100){\n",
    "mlsubset[,\"train\"] <- ifelse(runif(nrow(mlsubset))<0.8,1,0)\n",
    "trainColNum <- grep(\"train\",names(mlsubset))\n",
    "trainset <- mlsubset[mlsubset$train==1,-trainColNum]\n",
    "testset <- mlsubset[mlsubset$train==0,-trainColNum]\n",
    "svm_model <- svm(Depressed~ AdminDate, data=trainset, type=\"C-classification\", kernel=\"linear\")\n",
    "pred_test <- predict(svm_model,testset)\n",
    "accuracy[i] <- mean(pred_test==testset$Depressed)\n",
    "}\n",
    "mean(accuracy)\n",
    "sd(accuracy)\n"
   ]
  },
  {
   "cell_type": "markdown",
   "id": "8154d775",
   "metadata": {},
   "source": [
    "The models perform too well, even with information that should be basically random like Admin date"
   ]
  },
  {
   "cell_type": "markdown",
   "id": "39cebf15",
   "metadata": {},
   "source": [
    "## Same as above but trying DepAny"
   ]
  },
  {
   "cell_type": "code",
   "execution_count": null,
   "id": "c3bc0bc5",
   "metadata": {
    "scrolled": true
   },
   "outputs": [],
   "source": [
    "#build default cost model with DepAny Diagnosis\n",
    "library(e1071)\n",
    "svm_model<- svm(DepAny~phqEnc, data=trainset,type=\"C-classification\", kernel=\"linear\")"
   ]
  },
  {
   "cell_type": "code",
   "execution_count": null,
   "id": "3c988160",
   "metadata": {
    "scrolled": false
   },
   "outputs": [],
   "source": [
    "svm_model"
   ]
  },
  {
   "cell_type": "code",
   "execution_count": null,
   "id": "fe042b74",
   "metadata": {},
   "outputs": [],
   "source": [
    "#training accuracy\n",
    "pred_train <- predict(svm_model,trainset)"
   ]
  },
  {
   "cell_type": "code",
   "execution_count": null,
   "id": "4723fc30",
   "metadata": {},
   "outputs": [],
   "source": [
    "mean(pred_train==trainset$DepAny)\n",
    "\n"
   ]
  },
  {
   "cell_type": "code",
   "execution_count": null,
   "id": "79effe38",
   "metadata": {},
   "outputs": [],
   "source": [
    "pred_test <- predict(svm_model,testset)\n",
    "mean(pred_test==testset$DepAny)\n"
   ]
  },
  {
   "cell_type": "code",
   "execution_count": null,
   "id": "7d47bd1d",
   "metadata": {},
   "outputs": [],
   "source": [
    "\n",
    "set.seed(10)\n",
    "accuracy <- rep(NA,100)\n",
    "#calculate test accuracy for 100 different partitions\n",
    "for (i in 1:100){\n",
    "mlsubset[,\"train\"] <- ifelse(runif(nrow(mlsubset))<0.8,1,0)\n",
    "trainColNum <- grep(\"train\",names(mlsubset))\n",
    "trainset <- mlsubset[mlsubset$train==1,-trainColNum]\n",
    "testset <- mlsubset[mlsubset$train==0,-trainColNum]\n",
    "svm_model <- svm(DepAny~ AdminDate, data=trainset, type=\"C-classification\", kernel=\"linear\")\n",
    "pred_test <- predict(svm_model,testset)\n",
    "accuracy[i] <- mean(pred_test==testset$DepAny)\n",
    "}\n",
    "mean(accuracy) #.637\n",
    "sd(accuracy) #.008\n",
    "\n"
   ]
  },
  {
   "cell_type": "code",
   "execution_count": null,
   "id": "9a1b349c",
   "metadata": {},
   "outputs": [],
   "source": [
    "# test of a full model with features \n",
    "mlsubsetSVM<-mlsubset  %>% select(AdminDate,INSTANCE_NUM,HEALTH_SYSTEM_ID,BMI:SEXORIENTATION_CD,DepAny,-`NA`,-train)"
   ]
  },
  {
   "cell_type": "code",
   "execution_count": null,
   "id": "7fbee1a1",
   "metadata": {},
   "outputs": [],
   "source": [
    "mlsubsetSVM %>% colnames()"
   ]
  },
  {
   "cell_type": "code",
   "execution_count": null,
   "id": "583abeff",
   "metadata": {},
   "outputs": [],
   "source": [
    "# results of model with no demographic features\n",
    "set.seed(10)\n",
    "accuracy <- rep(NA,100)\n",
    "#calculate test accuracy for 100 different partitions\n",
    "for (i in 1:100){\n",
    "mlsubsetSVM[,\"train\"] <- ifelse(runif(nrow(mlsubsetSVM))<0.8,1,0)\n",
    "trainColNum <- grep(\"train\",names(mlsubsetSVM))\n",
    "trainset <- mlsubsetSVM[mlsubsetSVM$train==1,-trainColNum]\n",
    "testset <- mlsubsetSVM[mlsubsetSVM$train==0,-trainColNum]\n",
    "svm_model <- svm(DepAny~INSTANCE_NUM+BMI+SystolicBP+DiastolicBP+Diabetes+Obesity+Hyperlipidemia+Hypertension, data=trainset, type=\"C-classification\", kernel=\"linear\")\n",
    "pred_test <- predict(svm_model,testset)\n",
    "accuracy[i] <- mean(pred_test==testset$DepAny)\n",
    "}\n",
    "mean(accuracy) #.7145\n",
    "sd(accuracy) #.00922\n",
    "\n"
   ]
  },
  {
   "cell_type": "code",
   "execution_count": null,
   "id": "b7d9f000",
   "metadata": {},
   "outputs": [],
   "source": [
    "#"
   ]
  },
  {
   "cell_type": "markdown",
   "id": "3a0776c6",
   "metadata": {},
   "source": [
    "### Decision Tree"
   ]
  },
  {
   "cell_type": "code",
   "execution_count": null,
   "id": "4d3a99d1",
   "metadata": {},
   "outputs": [],
   "source": [
    "library(rpart)\n",
    "#install.packages(\"rpart.plot\")\n",
    "#install.packages(\"rattle\")\n",
    "\n",
    "library(rpart.plot)"
   ]
  },
  {
   "cell_type": "code",
   "execution_count": null,
   "id": "53f075c8",
   "metadata": {},
   "outputs": [],
   "source": [
    "Deptree <- rpart(mlsubset$Depressed ~ mlsubset$PhqScore)"
   ]
  },
  {
   "cell_type": "code",
   "execution_count": null,
   "id": "b5a22696",
   "metadata": {},
   "outputs": [],
   "source": [
    "#provider tree with depressed encounter\n",
    "Deptreeprov <- rpart(mlsubset$Depressed ~ mlsubset$L2+mlsubset$PhqScore)"
   ]
  },
  {
   "cell_type": "code",
   "execution_count": null,
   "id": "04e1a6c1",
   "metadata": {},
   "outputs": [],
   "source": [
    "#provider tree with depressed any\n",
    "Deptreeprov <- rpart(mlsubset$DepAny ~ mlsubset$L2+mlsubset$Race)"
   ]
  },
  {
   "cell_type": "code",
   "execution_count": null,
   "id": "b0b04af7",
   "metadata": {},
   "outputs": [],
   "source": [
    "Deptreeprov"
   ]
  },
  {
   "cell_type": "code",
   "execution_count": null,
   "id": "c0db0fee",
   "metadata": {},
   "outputs": [],
   "source": [
    "rpart.plot(Deptreeprov, cex=.3)"
   ]
  },
  {
   "cell_type": "code",
   "execution_count": null,
   "id": "faef70e6",
   "metadata": {},
   "outputs": [],
   "source": [
    "Depanytree <- rpart(mlsubset$DepAny ~ mlsubset$HOMELESS_CD+mlsubset$HISPANIC_CD+mlsubset$RURAL_CD+mlsubset$CURRENT_FPL_CD+mlsubset$SEXORIENTATION_CD+mlsubset$SEX_CD\n",
    "                    +mlsubset$RACE_CD+mlsubset$BMI+mlsubset$SystolicBP+mlsubset$DiastolicBP+mlsubset$Obesity+mlsubset$Hyperlipidemia+mlsubset$Hypertension)"
   ]
  },
  {
   "cell_type": "code",
   "execution_count": null,
   "id": "dea9dd84",
   "metadata": {},
   "outputs": [],
   "source": [
    "Depanytree"
   ]
  },
  {
   "cell_type": "code",
   "execution_count": null,
   "id": "bbf54aca",
   "metadata": {},
   "outputs": [],
   "source": [
    "rpart.plot(Depanytree, cex=.3)"
   ]
  },
  {
   "cell_type": "code",
   "execution_count": null,
   "id": "9f7db96f",
   "metadata": {},
   "outputs": [],
   "source": [
    "library(rattle)\n",
    "fancyRpartPlot(Depanytree, caption = NULL)\n",
    "\n",
    "pdf(file=\"depanytree1.pdf\")\n",
    "fancyRpartPlot(Depanytree, caption = NULL,cex=.3)\n",
    "dev.off()"
   ]
  }
 ],
 "metadata": {
  "kernelspec": {
   "display_name": "R",
   "language": "R",
   "name": "ir"
  },
  "language_info": {
   "codemirror_mode": "r",
   "file_extension": ".r",
   "mimetype": "text/x-r-source",
   "name": "R",
   "pygments_lexer": "r",
   "version": "4.3.2"
  }
 },
 "nbformat": 4,
 "nbformat_minor": 5
}
