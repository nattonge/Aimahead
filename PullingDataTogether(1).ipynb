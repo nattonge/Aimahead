{
 "cells": [
  {
   "cell_type": "markdown",
   "id": "96928f18",
   "metadata": {},
   "source": [
    "# Setup"
   ]
  },
  {
   "cell_type": "code",
   "execution_count": null,
   "id": "37f710f5",
   "metadata": {
    "scrolled": true
   },
   "outputs": [],
   "source": [
    "#install.packages(\"odbc\")\n",
    "#install.packages(\"DBI\")\n",
    "#install.packages(\"rstudioapi\")\n",
    "\n",
    "library(odbc)\n",
    "library(dplyr)\n",
    "library(stringr)\n",
    "library(tidyr)\n",
    "library(ggplot2)\n",
    "library(e0171)"
   ]
  },
  {
   "cell_type": "code",
   "execution_count": null,
   "id": "0bf3581d",
   "metadata": {},
   "outputs": [],
   "source": [
    "#install.packages(\"eeptools\") # to calculate ages\n",
    "#install.packages(\"apaTables\")\n",
    "#install.packages(\"tableone\")\n"
   ]
  },
  {
   "cell_type": "code",
   "execution_count": null,
   "id": "b99b8f29",
   "metadata": {},
   "outputs": [],
   "source": [
    "system(\"sudo su -c 'curl https://packages.microsoft.com/config/rhel/7/prod.repo > /etc/yum.repos.d/mssql-release.repo && exit'\")\n",
    "system(\"sudo yum remove unixODBC-utf16 unixODBC-utf16-devel\")\n",
    "system(\"sudo ACCEPT_EULA=Y yum install -y msodbcsql17\")\n",
    "system(\"sudo ACCEPT_EULA=Y yum install -y mssql-tools\")\n",
    "system(\"echo 'export PATH='$PATH:/opt/mssql-tools/bin'' >> ~/.bashrc\")\n",
    "system(\"source ~/.bashrc\")\n",
    "system(\"sudo yum install -y unixODBC-devel\")"
   ]
  },
  {
   "cell_type": "code",
   "execution_count": null,
   "id": "c9f0bc77",
   "metadata": {},
   "outputs": [],
   "source": [
    "file_path <- '/home/ec2-user/SageMaker/db-credentials.txt'\n",
    "db_creds_df <- read.table(file_path)\n",
    "db_creds <- db_creds_df$V3\n",
    "names(db_creds) <- db_creds_df$V1\n",
    "db_creds <- trimws(db_creds)\n",
    "#db_creds"
   ]
  },
  {
   "cell_type": "code",
   "execution_count": null,
   "id": "c6c112af",
   "metadata": {},
   "outputs": [],
   "source": [
    "# load database\n",
    "db <- 'S35'"
   ]
  },
  {
   "cell_type": "code",
   "execution_count": null,
   "id": "f8533353",
   "metadata": {},
   "outputs": [],
   "source": [
    "connection_string = paste0(\"DRIVER={ODBC Driver 17 for SQL Server};\",\n",
    "                          \"SERVER=\", db_creds['host'], ',', db_creds['port'], ';',\n",
    "                          \"DATABASE=\", db, ';',\n",
    "                          \"UID=\", db_creds['username'], ';',\n",
    "                          \"PWD={\", db_creds['password'], \"};\")\n",
    "\n",
    "#connection_string"
   ]
  },
  {
   "cell_type": "code",
   "execution_count": null,
   "id": "ae30ee1d",
   "metadata": {},
   "outputs": [],
   "source": [
    "db_conn <- DBI::dbConnect(odbc::odbc(), .connection_string = connection_string)"
   ]
  },
  {
   "cell_type": "markdown",
   "id": "113b52c8",
   "metadata": {},
   "source": [
    "# ICD names"
   ]
  },
  {
   "cell_type": "markdown",
   "id": "a0b9fc5f",
   "metadata": {},
   "source": [
    "Loading ICD names to join to datasets and filter using keywords"
   ]
  },
  {
   "cell_type": "code",
   "execution_count": null,
   "id": "d2a2f24d",
   "metadata": {
    "scrolled": false
   },
   "outputs": [],
   "source": [
    "icdnames<-dbGetQuery(db_conn, \"select * from S35.dbo.ICDnames;\")\n",
    "icdnames<-icdnames %>% select(-CONCEPT_PATH)"
   ]
  },
  {
   "cell_type": "markdown",
   "id": "b5a8c47f",
   "metadata": {},
   "source": [
    "# DEMOGRAPHICS"
   ]
  },
  {
   "cell_type": "code",
   "execution_count": null,
   "id": "86adbfae",
   "metadata": {},
   "outputs": [],
   "source": [
    "#select patient demographics (subsample of 100 pts)\n",
    "demo<-dbGetQuery(db_conn,\"select * from S35.dbo.phqdemographics;\")\n"
   ]
  },
  {
   "cell_type": "markdown",
   "id": "164b1fc2",
   "metadata": {},
   "source": [
    "Selecting only on the Phq-9 which is PRO:ADV0014. PRO:ADV0045 is the PHQ-2. Specificty isn't quite as high as the PHQ9 but there are far more administered."
   ]
  },
  {
   "cell_type": "markdown",
   "id": "1ebe29dc",
   "metadata": {},
   "source": [
    "# Coding the factor levels for Demographic Variables"
   ]
  },
  {
   "cell_type": "code",
   "execution_count": null,
   "id": "2f2f8a8c",
   "metadata": {},
   "outputs": [],
   "source": [
    "demo %>% head()"
   ]
  },
  {
   "cell_type": "code",
   "execution_count": null,
   "id": "ca9fcc6c",
   "metadata": {},
   "outputs": [],
   "source": [
    "library(haven)\n",
    "library(purrr)\n",
    "library(apaTables)"
   ]
  },
  {
   "cell_type": "code",
   "execution_count": null,
   "id": "f8e850bf",
   "metadata": {
    "scrolled": true
   },
   "outputs": [],
   "source": [
    "complete.demo<-complete.df %>% as.matrix() %>% as.data.frame() %>% mutate(\n",
    "    BIRTH_DATE=as_date(BIRTH_DATE),\n",
    "    AdminDate=as_date(AdminDate),\n",
    "Age=age_calc(dob = BIRTH_DATE, enddate = AdminDate, units = \"years\"))  %>% \n",
    "mutate(FPL=case_match(CURRENT_FPL_CD,\"DEM|FPL:<=100\"~\"FPL Below 100\",\"DEM|FPL:151-200\"~\"FPL 151-200\",\"DEM|FPL:UN\"~\"FPL Unknown\",\"DEM|FPL:>200\n",
    "\"~\"FPL Over 200\", \"DEM|FPL:101-150\"~\"FPL 101-150\"),\n",
    " Marital=case_match(MARITAL_STATUS_CD,\"DEM|MARITAL:Other\"~\"Other\",\n",
    "\"DEM|MARITAL:Widowed\"~\"Widowed\",\n",
    "\"DEM|MARITAL:Divorced\"~\"Divorced\",\n",
    "\"DEM|MARITAL:Separated\"~\"Separated\",\n",
    "\"DEM|MARITAL:Domestic Partner\"~\"Domestic Partner\",\n",
    "\"DEM|MARITAL:Significant Other\"~\"Significant Other\",\n",
    "\"DEM|MARITAL:Married\"~\"Married\",\n",
    "\"DEM|MARITAL:Single\"~\"Single\",\n",
    "\"DEM|MARITAL:NI\"~\"Marital NI\"),\n",
    "Gender=case_match(GENDER_CD,\"DEM|GENDER:TG\"~\"Transgender\",\n",
    "\"DEM|GENDER:GQ\"~\"Genderqueer\",\n",
    "\"DEM|GENDER:UN\"~\"Unknown / Missing\",\n",
    "\"DEM|GENDER:OT\"~\"Other\",\n",
    "\"DEM|GENDER:M\"~\"Man\",\n",
    "\"DEM|GENDER:W\"~\"Woman\"),\n",
    "Race=case_match(RACE_CD,\"DEM|RACE:02\"~\"Asian\",\n",
    "\"DEM|RACE:06\"~\"Multiple race\",\n",
    "\"DEM|RACE:01\"~\"American Indian or Alaskan Native\",\n",
    "\"DEM|RACE:05\"~\"White\",\n",
    "\"DEM|RACE:03\"~\"Black or African American\",\n",
    "\"DEM|RACE:07\"~\"Refuse to answer\",\n",
    "\"DEM|RACE:04\"~\"Native Hawaiian or Other Pacific Islander\",\n",
    "\"DEM|RACE:OT\"~\"Other\"),\n",
    "Rural=case_match(RURAL_CD,\"DEM|RURAL:Y\"~\"Yes\",\n",
    "\"DEM|RURAL:N\"~\"No\"),\n",
    "Sex=case_match(SEX_CD,\"DEM|SEX:NI\"~\"Sex No Informatsuion\",\n",
    "\"DEM|SEX:F\"~\"Female\",\n",
    "\"DEM|SEX:M\"~\"Male\",\n",
    "\"DEM|SEX:UN\"~\"Sex Unknown\"),\n",
    "Sexor=case_match(SEXORIENTATION_CD,\"DEM|SEXORIENTATION:GA\"~\"Gay\",\n",
    "\"DEM|SEXORIENTATION:SE\"~\"Something else\",\n",
    "\"DEM|SEXORIENTATION:LE\"~\"Lesbain\",\n",
    "\"DEM|SEXORIENTATION:ST\"~\"Straight\",\n",
    "\"DEM|SEXORIENTATION:MU\"~\"Multiple sexual orientations\",\n",
    "\"DEM|SEXORIENTATION:UN\"~\"Unknown/ Missing\",\n",
    "\"DEM|SEXORIENTATION:BI\"~\"Bisexual\",\n",
    "\"DEM|SEXORIENTATION:QU\"~\"Queer\"))%>% \n",
    "mutate(across(c(HEALTH_SYSTEM_ID,CURRENT_FPL_CD:SEXORIENTATION_CD,FPL:Sexor),~factor(.)))\n"
   ]
  },
  {
   "cell_type": "markdown",
   "id": "db2cf5a9",
   "metadata": {},
   "source": [
    "# PHQ"
   ]
  },
  {
   "cell_type": "markdown",
   "id": "8beaca5e",
   "metadata": {},
   "source": [
    "# CURRENT WORKING BAND"
   ]
  },
  {
   "cell_type": "code",
   "execution_count": null,
   "id": "ac1f459a",
   "metadata": {},
   "outputs": [],
   "source": [
    "phqcomplete<-dbGetQuery(db_conn,\"select * from S35.dbo.phqcomplete;\")"
   ]
  },
  {
   "cell_type": "code",
   "execution_count": null,
   "id": "3dabfdd9",
   "metadata": {},
   "outputs": [],
   "source": [
    "## phqcomplete with depression or hyp filter\n",
    "phqcomplete<-phqcomplete %>% left_join(icdnames)\n"
   ]
  },
  {
   "cell_type": "code",
   "execution_count": null,
   "id": "cb8bbfbc",
   "metadata": {},
   "outputs": [],
   "source": [
    "#playing with doing vitals in the dataset in one go to avoid merge problems\n",
    "phqnewcols<-phqcomplete %>%  mutate(NAME_CHAR=\n",
    "       case_when(\n",
    "       str_detect(NAME_CHAR,\"Depress\")~\"Depressed\",\n",
    "       str_detect(NAME_CHAR,\"Type II|Type 2|Diabetes\")~\"Diabetes\",\n",
    "       str_detect(NAME_CHAR,\"Hyperlipidemia\")~\"Hyperlipidemia\",\n",
    "       str_detect(NAME_CHAR,\"Hypertens\")~\"Hypertension\",\n",
    "       str_detect(NAME_CHAR,\"Obesity\")~\"Obesity\"\n",
    "       #.default=NAME_CHAR\n",
    "       ))%>% mutate(Vitals=\n",
    "      case_when(\n",
    "       str_detect(CONCEPT_CD,\"BMI\")~\"BMI\", \n",
    "       str_detect(CONCEPT_CD,\"SYS\")~\"SystolicBP\", \n",
    "       str_detect(CONCEPT_CD,\"DIAS\")~\"DiastolicBP\",\n",
    "       str_detect(CONCEPT_CD,\"PRO:ADV0039\")~\"Audit\",\n",
    "       str_detect(CONCEPT_CD,\"PRO:ADV0045\")~\"Phq2\",\n",
    "      )) "
   ]
  },
  {
   "cell_type": "code",
   "execution_count": null,
   "id": "c9b9e20d",
   "metadata": {},
   "outputs": [],
   "source": [
    "phqcomplete %>% group_by(NAME_CHAR) %>% tally() %>% arrange(desc(n)) %>% write.csv(\"ConditionTally.csv\")"
   ]
  },
  {
   "cell_type": "code",
   "execution_count": null,
   "id": "5e7ff7bd",
   "metadata": {},
   "outputs": [],
   "source": [
    "# ALTERNATIVE VERSION THAT INCLUDES OTHER DIAGNOSES IN THE SAMPLE\n",
    "phqalldx<-phqcomplete %>%  mutate(NAME_CHAR=\n",
    "       case_when(\n",
    "       str_detect(NAME_CHAR,\"Depress|Dysthymic\")~\"Depressed\",\n",
    "       str_detect(NAME_CHAR,\"Type II|Type 2|Diabetes\")~\"Diabetes\",\n",
    "       str_detect(NAME_CHAR,\"Hyperlipidemia\")~\"Hyperlipidemia\",\n",
    "       str_detect(NAME_CHAR,\"Hypertens\")~\"Hypertension\",\n",
    "       str_detect(NAME_CHAR,\"Obesity\")~\"Obesity\",\n",
    "       str_detect(NAME_CHAR,\"Adjustment\")~\"Adjustment\",      \n",
    "       str_detect(NAME_CHAR,\"Anxiety|Panic|Agoraphobia\")~\"Anxiety\",\n",
    "       str_detect(NAME_CHAR,\"Posttraumatic|Post-traumatic\")~\"PTSD\",\n",
    "       str_detect(NAME_CHAR,\"Sleep|Insomnia|F51\")~\"Sleep\",\n",
    "       str_detect(NAME_CHAR,\"Bipolar|Manic\")~\"Bipolar\",\n",
    "       str_detect(NAME_CHAR,\"Nicotine|Tobacco\")~\"Tobacco\",\n",
    "       str_detect(NAME_CHAR,\"Opioid|F11|F12|F13|F14|F15|F16|F18|F19\")~\"SUD\",\n",
    "       str_detect(NAME_CHAR,\"Alcohol|F10\")~\"Alcohol\",\n",
    "       str_detect(NAME_CHAR,\"Schiz|Delusional|F23|F24|F28|F29\")~\"SchizophreniaSpectrum\",     \n",
    "       str_detect(NAME_CHAR,\"Eating|F50\")~\"EatingDisorders\"    \n",
    "       #.default=NAME_CHAR\n",
    "       ))%>% mutate(Vitals=\n",
    "      case_when(\n",
    "       str_detect(CONCEPT_CD,\"BMI\")~\"BMI\", \n",
    "       str_detect(CONCEPT_CD,\"SYS\")~\"SystolicBP\", \n",
    "       str_detect(CONCEPT_CD,\"DIAS\")~\"DiastolicBP\",\n",
    "       str_detect(CONCEPT_CD,\"PRO:ADV0039\")~\"Audit\",\n",
    "       str_detect(CONCEPT_CD,\"PRO:ADV0045\")~\"Phq2\",\n",
    "      )) "
   ]
  },
  {
   "cell_type": "code",
   "execution_count": null,
   "id": "92ce7c31",
   "metadata": {},
   "outputs": [],
   "source": [
    "#Save file from above in case the kernal crashes\n",
    "save(phqalldx,file=\"phqalldx.RData\")"
   ]
  },
  {
   "cell_type": "code",
   "execution_count": null,
   "id": "1d2182e3",
   "metadata": {},
   "outputs": [],
   "source": [
    "load('/home/ec2-user/SageMaker/phqalldx.RData')"
   ]
  },
  {
   "cell_type": "code",
   "execution_count": null,
   "id": "c0c3dbc1",
   "metadata": {},
   "outputs": [],
   "source": [
    "# Reducing the size of the dataset for pivoting\n",
    "phqfewercols<-phqalldx  %>%  filter(str_detect(CONCEPT_CD,\"ICD|ADV0014|ADV0045|ADV0039|BMI|SYS|DIAS\"))"
   ]
  },
  {
   "cell_type": "code",
   "execution_count": null,
   "id": "4bbc18a9",
   "metadata": {},
   "outputs": [],
   "source": [
    "phqfewercols %>% nrow() #14921844"
   ]
  },
  {
   "cell_type": "code",
   "execution_count": null,
   "id": "f7934f7a",
   "metadata": {},
   "outputs": [],
   "source": [
    "evenphqfewer<-phqfewercols %>% filter(PhqScore>=10|PhqScore<=4) #limiting to phq extremes to run"
   ]
  },
  {
   "cell_type": "code",
   "execution_count": null,
   "id": "87bc477d",
   "metadata": {},
   "outputs": [],
   "source": [
    "evenphqfewer %>% nrow()"
   ]
  },
  {
   "cell_type": "code",
   "execution_count": null,
   "id": "a6921f08",
   "metadata": {},
   "outputs": [],
   "source": [
    "# rearranging data into wide format: the vitals. formerly phqfewer here\n",
    "phqwide<-phqfewercols %>% unique() %>% mutate(n=1) %>% \n",
    "select(n,phqPT,PhqScore,phqEnc,AdminDate,TVAL_CHAR,NAME_CHAR,INSTANCE_NUM,CONCEPT_CD,NVAL_NUM,HEALTH_SYSTEM_ID,PROVIDER_ID,Vitals)%>% pivot_wider(names_from=Vitals,values_from=NVAL_NUM) "
   ]
  },
  {
   "cell_type": "code",
   "execution_count": null,
   "id": "a35439ab",
   "metadata": {},
   "outputs": [],
   "source": [
    "save(phqwide,file=\"wide_vitals.RData\")"
   ]
  },
  {
   "cell_type": "code",
   "execution_count": null,
   "id": "93979e07",
   "metadata": {},
   "outputs": [],
   "source": [
    "load('/home/ec2-user/SageMaker/wide_vitals.RData')"
   ]
  },
  {
   "cell_type": "code",
   "execution_count": null,
   "id": "52d131db",
   "metadata": {},
   "outputs": [],
   "source": [
    "#checking data integrity\n",
    "phqwide %>% filter(Audit>1)"
   ]
  },
  {
   "cell_type": "code",
   "execution_count": null,
   "id": "e975e7d0",
   "metadata": {},
   "outputs": [],
   "source": [
    "# rearranging wide icd codes\n",
    "phqwide<-phqwide%>% \n",
    "select(n,phqPT,PhqScore,phqEnc,AdminDate,NAME_CHAR,INSTANCE_NUM,CONCEPT_CD,HEALTH_SYSTEM_ID,PROVIDER_ID,BMI,SystolicBP,DiastolicBP,Audit,Phq2) %>% pivot_wider(names_from=NAME_CHAR,values_from=n,values_fill=0)"
   ]
  },
  {
   "cell_type": "code",
   "execution_count": null,
   "id": "c2a57c1b",
   "metadata": {},
   "outputs": [],
   "source": []
  },
  {
   "cell_type": "code",
   "execution_count": null,
   "id": "b51d361a",
   "metadata": {},
   "outputs": [],
   "source": [
    "save(phqwide,file=\"phqwide_icd.RData\")"
   ]
  },
  {
   "cell_type": "code",
   "execution_count": null,
   "id": "62adc07f",
   "metadata": {},
   "outputs": [],
   "source": [
    "# integrity check again\n",
    "phqwide %>% filter(Depressed==1)"
   ]
  },
  {
   "cell_type": "code",
   "execution_count": null,
   "id": "9f5a523b",
   "metadata": {},
   "outputs": [],
   "source": [
    "phqwide %>% colnames()"
   ]
  },
  {
   "cell_type": "code",
   "execution_count": null,
   "id": "3fcb4eb5",
   "metadata": {},
   "outputs": [],
   "source": [
    "load('/home/ec2-user/SageMaker/phqwide_icd.RData')"
   ]
  },
  {
   "cell_type": "code",
   "execution_count": null,
   "id": "2248183a",
   "metadata": {},
   "outputs": [],
   "source": [
    "# eliminating unlikely entries\n",
    "phqwide<-phqwide%>% \n",
    "mutate(BMI=case_when(BMI>200|BMI<7~NA_real_,.default=BMI)) %>% \n",
    "mutate(SystolicBP=case_when(SystolicBP>300|SystolicBP<50~NA_real_,.default=SystolicBP)) %>% \n",
    "mutate(DiastolicBP=case_when(DiastolicBP>300|DiastolicBP<40~NA_real_,.default=DiastolicBP))%>%\n",
    "mutate(Audit=case_when(Audit>40|Audit<0~NA_real_,.default=Audit))"
   ]
  },
  {
   "cell_type": "code",
   "execution_count": null,
   "id": "beaf1e34",
   "metadata": {
    "scrolled": true
   },
   "outputs": [],
   "source": [
    "phqcollapse<-phqwide %>% group_by(phqPT,phqEnc) %>%  fill(everything(), .direction = \"up\")  %>% \n",
    "fill(everything(), .direction = \"down\") %>% slice(1)"
   ]
  },
  {
   "cell_type": "code",
   "execution_count": null,
   "id": "fbcfee3b",
   "metadata": {},
   "outputs": [],
   "source": [
    "save(phqcollapse,file=\"notindivid.RData\")"
   ]
  },
  {
   "cell_type": "code",
   "execution_count": null,
   "id": "316814a3",
   "metadata": {},
   "outputs": [],
   "source": [
    "# checking for duplicates and its all good\n",
    "\n",
    "#phqcollapse %>% unique() %>%  ungroup() %>% dplyr::summarise(n = dplyr::n(), .by = c(phqPT, PhqScore, phqEnc,INSTANCE_NUM,CONCEPT_CD,AdminDate)) %>% \n",
    "#dplyr::filter(n > 1L)"
   ]
  },
  {
   "cell_type": "code",
   "execution_count": null,
   "id": "17a237b9",
   "metadata": {},
   "outputs": [],
   "source": [
    "phqcollapse %>% nrow() #2843429"
   ]
  },
  {
   "cell_type": "code",
   "execution_count": null,
   "id": "7b8cccb8",
   "metadata": {},
   "outputs": [],
   "source": [
    "# now I also need to to grab the first instance of an encounter/admindate\n",
    "phqfirst<-phqcollapse %>% group_by(phqPT) %>% slice_min(AdminDate)"
   ]
  },
  {
   "cell_type": "markdown",
   "id": "47add6e5",
   "metadata": {},
   "source": [
    "Exclude if no bmi available"
   ]
  },
  {
   "cell_type": "code",
   "execution_count": null,
   "id": "68df931d",
   "metadata": {},
   "outputs": [],
   "source": [
    "phqfirst1<-phqfirst %>% filter(!is.na(BMI))"
   ]
  },
  {
   "cell_type": "code",
   "execution_count": null,
   "id": "07f1c1ff",
   "metadata": {},
   "outputs": [],
   "source": []
  },
  {
   "cell_type": "code",
   "execution_count": null,
   "id": "6a271cc5",
   "metadata": {},
   "outputs": [],
   "source": [
    "phqfirst1 %>% filter(phqPT==45612) %>% select(Obesity:PTSD)"
   ]
  },
  {
   "cell_type": "code",
   "execution_count": null,
   "id": "1358711b",
   "metadata": {},
   "outputs": [],
   "source": [
    "#for the 303 remaining with duplicate records on the same day, took random selection\n",
    "phqfirst2<-phqfirst1 %>% group_by(phqPT) %>% slice_sample(n=1)"
   ]
  },
  {
   "cell_type": "code",
   "execution_count": null,
   "id": "b7de7aa7",
   "metadata": {
    "scrolled": true
   },
   "outputs": [],
   "source": [
    "phqfirst2 %>% unique() %>%  ungroup() %>% dplyr::summarise(n = dplyr::n(), .by = c(phqPT)) %>% \n",
    "dplyr::filter(n > 1L) #no double records remain"
   ]
  },
  {
   "cell_type": "code",
   "execution_count": null,
   "id": "606a28ea",
   "metadata": {},
   "outputs": [],
   "source": [
    "phqcollapse %>% head()"
   ]
  },
  {
   "cell_type": "code",
   "execution_count": null,
   "id": "2f7f4366",
   "metadata": {},
   "outputs": [],
   "source": [
    "save(phqfirst2,file=\"phqfirst.RDS\")"
   ]
  },
  {
   "cell_type": "code",
   "execution_count": null,
   "id": "e5fe3cc1",
   "metadata": {},
   "outputs": [],
   "source": [
    "load(file=\"/home/ec2-user/SageMaker/phqfirst.RDS\")"
   ]
  },
  {
   "cell_type": "code",
   "execution_count": null,
   "id": "82e45ca5",
   "metadata": {},
   "outputs": [],
   "source": [
    "load(file=\"/home/ec2-user/SageMaker/complete.RData\")"
   ]
  },
  {
   "cell_type": "code",
   "execution_count": null,
   "id": "74d68471",
   "metadata": {},
   "outputs": [],
   "source": [
    "phqfirst2 %>% filter(Depressed==1)"
   ]
  },
  {
   "cell_type": "code",
   "execution_count": null,
   "id": "9a32574b",
   "metadata": {},
   "outputs": [],
   "source": [
    "complete.demo %>% colnames()"
   ]
  },
  {
   "cell_type": "code",
   "execution_count": null,
   "id": "b2d19bc0",
   "metadata": {
    "scrolled": true
   },
   "outputs": [],
   "source": [
    "demomerge<-complete.demo %>% select(phqPT,phqEnc,AdminDate,phqDepressed:Sexor)"
   ]
  },
  {
   "cell_type": "markdown",
   "id": "5c7fb428",
   "metadata": {},
   "source": [
    "THis is real slipshod but I when I loaded the coded demographic data, some of the fields no longer matched the main phq file"
   ]
  },
  {
   "cell_type": "code",
   "execution_count": null,
   "id": "11c0e446",
   "metadata": {},
   "outputs": [],
   "source": [
    "demomerge %>% head()\n",
    "demomergenum<-demomerge\n",
    "demomergenum$phqPT<-as.numeric(as.character(demomerge$phqPT))\n",
    "demomergenum$phqEnc<-as.numeric(as.character(demomerge$phqEnc))\n",
    "demomergenum$phqDepressed<-as.numeric(as.character(demomerge$phqDepressed))\n",
    "demomergenum$phqSevereDepressed<-as.numeric(as.character(demomerge$phqSevereDepressed))\n",
    "demomergenum$DepAny<-as.numeric(as.character(demomerge$DepAny))"
   ]
  },
  {
   "cell_type": "code",
   "execution_count": null,
   "id": "33a08f2d",
   "metadata": {},
   "outputs": [],
   "source": [
    "phqfirst2<-phqfirst2 %>% as.matrix() %>% as.data.frame()"
   ]
  },
  {
   "cell_type": "code",
   "execution_count": null,
   "id": "198d6e26",
   "metadata": {},
   "outputs": [],
   "source": [
    "phq.df<-left_join(phqfirst2,demomergenum,by=join_by(phqPT,phqEnc))"
   ]
  },
  {
   "cell_type": "code",
   "execution_count": null,
   "id": "dd526733",
   "metadata": {},
   "outputs": [],
   "source": [
    "phqfirst2 %>% nrow() #985645\n",
    "phq.df %>% nrow() #985645"
   ]
  },
  {
   "cell_type": "code",
   "execution_count": null,
   "id": "ef113edc",
   "metadata": {},
   "outputs": [],
   "source": [
    "save(phq.df,file=\"phqall_demo.RData\")"
   ]
  },
  {
   "cell_type": "code",
   "execution_count": null,
   "id": "1e152a74",
   "metadata": {},
   "outputs": [],
   "source": [
    "# temp to get code to run uses complete cases. It's like a 40% reduction in sample :( and it would be better to impute)\n",
    "completecases.df<-phq.df %>% ungroup() %>% rowwise() %>%  drop_na(HEALTH_SYSTEM_ID:Sexor)\n",
    "completecases.df %>% nrow()"
   ]
  },
  {
   "cell_type": "code",
   "execution_count": null,
   "id": "245005a3",
   "metadata": {},
   "outputs": [],
   "source": [
    "phq.df %>% filter(Depressed==1)"
   ]
  },
  {
   "cell_type": "code",
   "execution_count": null,
   "id": "78a3427f",
   "metadata": {},
   "outputs": [],
   "source": [
    "# then get rid of bad values in phq, round some of the weird values and summarise to check\n",
    "cleanphq.df<-phq.df %>% filter(PhqScore>0 & PhqScore<28)  %>% mutate(PhqScore=round(PhqScore))\n",
    "cleanphq.df%>% group_by(Depressed) %>% summarise(mean=mean(PhqScore),sd=sd(PhqScore),min=min(PhqScore),max=max(PhqScore))"
   ]
  },
  {
   "cell_type": "code",
   "execution_count": null,
   "id": "c5a31624",
   "metadata": {},
   "outputs": [],
   "source": [
    "providers<-read.csv('/home/ec2-user/SageMaker/providersepped.csv')\n"
   ]
  },
  {
   "cell_type": "code",
   "execution_count": null,
   "id": "e10c79f1",
   "metadata": {},
   "outputs": [],
   "source": [
    "nrow(providers)"
   ]
  },
  {
   "cell_type": "code",
   "execution_count": null,
   "id": "f2da9c50",
   "metadata": {
    "scrolled": true
   },
   "outputs": [],
   "source": [
    "providers %>% group_by(L1) %>% tally() %>% arrange(desc(n))"
   ]
  },
  {
   "cell_type": "code",
   "execution_count": null,
   "id": "40700fae",
   "metadata": {},
   "outputs": [],
   "source": [
    "phqdfproviders<-cleanphq.df %>% left_join(providers)"
   ]
  },
  {
   "cell_type": "code",
   "execution_count": null,
   "id": "2d27b58c",
   "metadata": {},
   "outputs": [],
   "source": [
    "phqdfproviders %>% group_by(L1) %>% tally() %>% arrange(desc(n)) %>% write.csv(\"L1_count.csv\")\n",
    "phqdfproviders %>% group_by(L2) %>% tally() %>% arrange(desc(n)) %>% write.csv(\"L2_count.csv\")\n",
    "phqdfproviders %>% group_by(L3) %>% tally() %>% arrange(desc(n)) %>% write.csv(\"L3_count.csv\")"
   ]
  },
  {
   "cell_type": "markdown",
   "id": "2d8e8710",
   "metadata": {},
   "source": [
    "# Rates of dx"
   ]
  },
  {
   "cell_type": "code",
   "execution_count": null,
   "id": "01b89bdf",
   "metadata": {},
   "outputs": [],
   "source": [
    "# create new column for the standard cutoff and a severe cutoff and a totally depressed cutoff\n",
    "phqdfproviders<-phqdfproviders %>% mutate(phqDepressed=case_when(PhqScore>=10~1,PhqScore<10~0),\n",
    "                                    phqSevereDepressed=case_when(PhqScore>=20~1,PhqScore<20~0),\n",
    "                                    phqDefDepressed=case_when(PhqScore>=26~1,PhqScore<26~0))"
   ]
  },
  {
   "cell_type": "code",
   "execution_count": null,
   "id": "751b5fa4",
   "metadata": {},
   "outputs": [],
   "source": [
    "save(phqdfproviders,file=\"phqdf_ready.RData\")"
   ]
  },
  {
   "cell_type": "code",
   "execution_count": null,
   "id": "fb067215",
   "metadata": {},
   "outputs": [],
   "source": [
    "#count of Depression from Any Source\n",
    "table(phqdfproviders$DepAny)  %>% write.csv(\"EncDepression_Any_Source.csv\")"
   ]
  },
  {
   "cell_type": "code",
   "execution_count": null,
   "id": "d337cdb7",
   "metadata": {},
   "outputs": [],
   "source": [
    "phqDepTally<-phqdfproviders %>% group_by(phqDepressed) %>% tally()%>% as.data.frame()\n",
    "phqSevDepTally<-phqdfproviders %>% group_by(phqSevereDepressed) %>% tally() %>% as.data.frame()\n",
    "phqDefDepTally<-phqdfproviders %>% group_by(phqDefDepressed) %>% tally()%>% as.data.frame()\n",
    "\n",
    "\n",
    "phqDepTally\n",
    "phqSevDepTally\n",
    "phqDefDepTally"
   ]
  },
  {
   "cell_type": "code",
   "execution_count": null,
   "id": "734eed30",
   "metadata": {},
   "outputs": [],
   "source": [
    "phqdfproviders %>% group_by(Depressed) %>% tally(phqDepressed==0) %>% mutate(percent=n/nrow(complete.df))"
   ]
  },
  {
   "cell_type": "markdown",
   "id": "264a463b",
   "metadata": {},
   "source": [
    "63% of patients with Phq had a low PHQ score and were absent a diagnosis in the record. Only 1% had a low score and a diagnosis in the record."
   ]
  },
  {
   "cell_type": "code",
   "execution_count": null,
   "id": "6e9cd13e",
   "metadata": {
    "scrolled": true
   },
   "outputs": [],
   "source": [
    "phqdfproviders %>% group_by(Depressed) %>% tally(phqDepressed) %>% mutate(percent=n/nrow(phqdfproviders))\n",
    "phqdfproviders %>% group_by(Depressed) %>% tally(phqDepressed) %>% mutate(percent=n/phqDepTally[2,2])"
   ]
  },
  {
   "cell_type": "markdown",
   "id": "fa56256f",
   "metadata": {},
   "source": [
    "However, 28% of people with a PHQ  scored >10 did not have a diagnosis in the record. Only 6% of people with a PhQ and elevated score had a corresponding diagnosis in the record. Taken as a proportion of those with elevated sxs, only 18.4% had a depression entry in the record. "
   ]
  },
  {
   "cell_type": "code",
   "execution_count": null,
   "id": "61fc199b",
   "metadata": {},
   "outputs": [],
   "source": [
    "phqdfproviders %>% group_by(Depressed) %>% tally(phqSevereDepressed) %>% mutate(percent=n/nrow(phqdfproviders))\n",
    "phqdfproviders %>% group_by(Depressed) %>% tally(phqSevereDepressed) %>% mutate(percent=n/phqSevDepTally[2,2])"
   ]
  },
  {
   "cell_type": "markdown",
   "id": "26e6beae",
   "metadata": {},
   "source": [
    "If we use the cutoff of 20 where we expect high symptom reporting, we see only 2% of patients with severe scores have a corresponding record of Depressed. 6% of people with severe depression indicated by the phq are listed as not depressed. \n",
    "Bottom table is for the same proportions taken out of the number of severely depressed. 76% with high scores are categorized as not depressed and only 23% diagnosed as not depressed."
   ]
  },
  {
   "cell_type": "code",
   "execution_count": null,
   "id": "eb06b22f",
   "metadata": {},
   "outputs": [],
   "source": [
    "phqdfproviders %>% group_by(Depressed) %>% tally(phqSevereDepressed) %>% mutate(percent=n/nrow(phqdfproviders))\n",
    "phqdfproviders %>% group_by(Depressed) %>% tally(phqDefDepressed) %>% mutate(percent=n/phqDefDepTally[2,2])"
   ]
  },
  {
   "cell_type": "code",
   "execution_count": null,
   "id": "a5183618",
   "metadata": {},
   "outputs": [],
   "source": [
    "Phqscoretable<-table(phqdfproviders$PhqScore)\n",
    "Depressedtable<-table(phqdfproviders$Depressed)\n",
    "phqDepressedtable<-table(phqdfproviders$phqDepressed)\n",
    "phqSevDeptable<-table(phqdfproviders$phqSevereDepressed)\n",
    "phqDefDeptable<-table(phqdfproviders$phqDefDepressed)\n",
    "\n",
    "save(Phqscoretable,Depressedtable,phqDepressedtable,phqSevDeptable,phqDefDeptable,file=\"PhqCounts.RData\")\n",
    "\n"
   ]
  },
  {
   "cell_type": "code",
   "execution_count": null,
   "id": "6a048355",
   "metadata": {},
   "outputs": [],
   "source": [
    "library(ggplot2)\n",
    "ggplot(phqdfproviders,aes(x=PhqScore)) +\n",
    "  stat_bin(aes(y=cumsum(after_stat(count))))"
   ]
  },
  {
   "cell_type": "markdown",
   "id": "c341b9bf",
   "metadata": {},
   "source": [
    "# ML models"
   ]
  },
  {
   "cell_type": "markdown",
   "id": "be8eb3df",
   "metadata": {},
   "source": [
    "### Prep ML model "
   ]
  },
  {
   "cell_type": "code",
   "execution_count": null,
   "id": "43049807",
   "metadata": {},
   "outputs": [],
   "source": [
    "mlsubset<-phqdfproviders %>% slice_sample(n=1000)"
   ]
  },
  {
   "cell_type": "code",
   "execution_count": null,
   "id": "dfcaa694",
   "metadata": {},
   "outputs": [],
   "source": [
    "mlsubset<-mutate(mlsubset,Depressed=as.factor(Depressed),DepAny=as.factor(DepAny),phqDepressed=as.factor(phqDepressed),phqSevereDepressed=as.factor(phqSevereDepressed))"
   ]
  },
  {
   "cell_type": "code",
   "execution_count": null,
   "id": "64e21a6d",
   "metadata": {},
   "outputs": [],
   "source": [
    "save(mlsubset,file=\"mlsubset.RData\")"
   ]
  },
  {
   "cell_type": "code",
   "execution_count": null,
   "id": "a5ae044a",
   "metadata": {},
   "outputs": [],
   "source": [
    "mlsubset %>% table(mlsubset$Depressed)"
   ]
  },
  {
   "cell_type": "markdown",
   "id": "022c8c38",
   "metadata": {},
   "source": [
    "### SVM Model"
   ]
  },
  {
   "cell_type": "code",
   "execution_count": 1,
   "id": "6ee4e2a7",
   "metadata": {},
   "outputs": [],
   "source": [
    "load(file=\"/home/ec2-user/SageMaker/mlsubset.RData\")"
   ]
  },
  {
   "cell_type": "code",
   "execution_count": 4,
   "id": "a08532de",
   "metadata": {},
   "outputs": [],
   "source": [
    "library(dplyr)\n",
    "library(e1071)"
   ]
  },
  {
   "cell_type": "code",
   "execution_count": null,
   "id": "2ab175eb",
   "metadata": {},
   "outputs": [],
   "source": [
    "ls()"
   ]
  },
  {
   "cell_type": "code",
   "execution_count": 5,
   "id": "5f8a0813",
   "metadata": {},
   "outputs": [],
   "source": [
    "#set seed for random number generation\n",
    "set.seed(10)\n",
    "mlsubset<-mlsubset %>% ungroup() %>% select(BMI:phqDefDepressed,-X,-`NA`)\n",
    "#split train and test data 80/20\n",
    "mlsubset[,\"train\"] <- ifelse(runif(nrow(mlsubset))<0.8,1,0)\n",
    "trainset <- mlsubset[mlsubset$train==1,]\n",
    "testset <- mlsubset[mlsubset$train==0,]\n",
    "#find “train” column index\n",
    "trainColNum <- grep(\"train\",names(trainset))\n",
    "#remove column from train and test sets\n",
    "trainset <- trainset[,-trainColNum]\n",
    "testset <- testset[,-trainColNum]\n",
    "\n"
   ]
  },
  {
   "cell_type": "code",
   "execution_count": null,
   "id": "54989fea",
   "metadata": {},
   "outputs": [],
   "source": [
    "trainset %>% colnames()"
   ]
  },
  {
   "cell_type": "code",
   "execution_count": 6,
   "id": "51164c62",
   "metadata": {},
   "outputs": [],
   "source": [
    "mlsubset<-mlsubset %>% slice_sample(n=100)"
   ]
  },
  {
   "cell_type": "code",
   "execution_count": 8,
   "id": "03b504eb",
   "metadata": {},
   "outputs": [],
   "source": [
    "#build default cost model with Admin Date as garbage predictor\n",
    "library(e1071)\n",
    "garbageDep.svm<- svm(Depressed~AdminDate.y, data=trainset,type=\"C-classification\", kernel=\"linear\")"
   ]
  },
  {
   "cell_type": "code",
   "execution_count": 9,
   "id": "bc218353",
   "metadata": {},
   "outputs": [
    {
     "data": {
      "text/plain": [
       "\n",
       "Call:\n",
       "svm(formula = Depressed ~ AdminDate.y, data = trainset, type = \"C-classification\", \n",
       "    kernel = \"linear\")\n",
       "\n",
       "\n",
       "Parameters:\n",
       "   SVM-Type:  C-classification \n",
       " SVM-Kernel:  linear \n",
       "       cost:  1 \n",
       "\n",
       "Number of Support Vectors:  80260\n",
       "\n",
       " ( 40134 40126 )\n",
       "\n",
       "\n",
       "Number of Classes:  2 \n",
       "\n",
       "Levels: \n",
       " 0 1\n",
       "\n",
       "\n"
      ]
     },
     "metadata": {},
     "output_type": "display_data"
    }
   ],
   "source": [
    "summary(garbageDep.svm)"
   ]
  },
  {
   "cell_type": "code",
   "execution_count": 7,
   "id": "d8640086",
   "metadata": {},
   "outputs": [],
   "source": [
    "#build default cost model with Encounter Diagnoses\n",
    "svm_model<- svm(Depressed~., data=trainset,type=\"C-classification\", kernel=\"linear\")"
   ]
  },
  {
   "cell_type": "code",
   "execution_count": 10,
   "id": "1a1267f8",
   "metadata": {
    "scrolled": false
   },
   "outputs": [
    {
     "data": {
      "text/plain": [
       "\n",
       "Call:\n",
       "svm(formula = Depressed ~ ., data = trainset, type = \"C-classification\", \n",
       "    kernel = \"linear\")\n",
       "\n",
       "\n",
       "Parameters:\n",
       "   SVM-Type:  C-classification \n",
       " SVM-Kernel:  linear \n",
       "       cost:  1 \n",
       "\n",
       "Number of Support Vectors:  4940\n",
       "\n",
       " ( 2799 2141 )\n",
       "\n",
       "\n",
       "Number of Classes:  2 \n",
       "\n",
       "Levels: \n",
       " 0 1\n",
       "\n",
       "\n"
      ]
     },
     "metadata": {},
     "output_type": "display_data"
    }
   ],
   "source": [
    "summary(svm_model)"
   ]
  },
  {
   "cell_type": "code",
   "execution_count": 11,
   "id": "c6850633",
   "metadata": {},
   "outputs": [],
   "source": [
    "#training accuracy\n",
    "pred_train <- predict(svm_model,trainset)\n",
    "pred_train_garb <- predict(garbageDep.svm,trainset)"
   ]
  },
  {
   "cell_type": "code",
   "execution_count": 12,
   "id": "48158798",
   "metadata": {},
   "outputs": [
    {
     "name": "stderr",
     "output_type": "stream",
     "text": [
      "Warning message in `==.default`(pred_train, trainset$Depressed):\n",
      "“longer object length is not a multiple of shorter object length”\n",
      "Warning message in is.na(e1) | is.na(e2):\n",
      "“longer object length is not a multiple of shorter object length”\n"
     ]
    },
    {
     "data": {
      "text/html": [
       "0.892432364316664"
      ],
      "text/latex": [
       "0.892432364316664"
      ],
      "text/markdown": [
       "0.892432364316664"
      ],
      "text/plain": [
       "[1] 0.8924324"
      ]
     },
     "metadata": {},
     "output_type": "display_data"
    },
    {
     "name": "stderr",
     "output_type": "stream",
     "text": [
      "Warning message in `==.default`(pred_train_garb, trainset$Depressed):\n",
      "“longer object length is not a multiple of shorter object length”\n",
      "Warning message in is.na(e1) | is.na(e2):\n",
      "“longer object length is not a multiple of shorter object length”\n"
     ]
    },
    {
     "data": {
      "text/html": [
       "0.901988115894264"
      ],
      "text/latex": [
       "0.901988115894264"
      ],
      "text/markdown": [
       "0.901988115894264"
      ],
      "text/plain": [
       "[1] 0.9019881"
      ]
     },
     "metadata": {},
     "output_type": "display_data"
    }
   ],
   "source": [
    "mean(pred_train==trainset$Depressed)\n",
    "mean(pred_train_garb==trainset$Depressed)\n",
    "\n"
   ]
  },
  {
   "cell_type": "code",
   "execution_count": null,
   "id": "f283f438",
   "metadata": {},
   "outputs": [],
   "source": [
    "length(pred_train)\n",
    "length(trainset$Depressed)"
   ]
  },
  {
   "cell_type": "code",
   "execution_count": null,
   "id": "8295b366",
   "metadata": {},
   "outputs": [],
   "source": [
    "# Confusion matrix\n",
    "library(caret)\n",
    "confusionMatrix(data=pred_train,reference=trainset)"
   ]
  },
  {
   "cell_type": "code",
   "execution_count": null,
   "id": "0f38416a",
   "metadata": {},
   "outputs": [],
   "source": [
    "cm = table(test_set[, 3], pred_train)"
   ]
  },
  {
   "cell_type": "code",
   "execution_count": null,
   "id": "f25d6554",
   "metadata": {},
   "outputs": [],
   "source": [
    "pred_test <- predict(svm_model,testset)\n",
    "#mean(pred_test==testset$Depressed)\n"
   ]
  },
  {
   "cell_type": "code",
   "execution_count": null,
   "id": "4565dfc3",
   "metadata": {},
   "outputs": [],
   "source": [
    "set.seed(10)\n",
    "accuracy <- rep(NA,100)\n",
    "#calculate test accuracy for 100 different partitions\n",
    "for (i in 1:100){\n",
    "mlsubset[,\"train\"] <- ifelse(runif(nrow(mlsubset))<0.8,1,0)\n",
    "trainColNum <- grep(\"train\",names(mlsubset))\n",
    "trainset <- mlsubset[mlsubset$train==1,-trainColNum]\n",
    "testset <- mlsubset[mlsubset$train==0,-trainColNum]\n",
    "svm_model <- svm(Depressed~ AdminDate, data=trainset, type=\"C-classification\", kernel=\"linear\")\n",
    "pred_test <- predict(svm_model,testset)\n",
    "accuracy[i] <- mean(pred_test==testset$Depressed)\n",
    "}\n",
    "mean(accuracy)\n",
    "sd(accuracy)\n"
   ]
  },
  {
   "cell_type": "markdown",
   "id": "8154d775",
   "metadata": {},
   "source": [
    "The models perform too well, even with information that should be basically random like Admin date"
   ]
  },
  {
   "cell_type": "markdown",
   "id": "39cebf15",
   "metadata": {},
   "source": [
    "## Same as above but trying DepAny"
   ]
  },
  {
   "cell_type": "code",
   "execution_count": null,
   "id": "c3bc0bc5",
   "metadata": {
    "scrolled": true
   },
   "outputs": [],
   "source": [
    "#build default cost model with DepAny Diagnosis\n",
    "library(e1071)\n",
    "svm_model<- svm(DepAny~phqEnc, data=trainset,type=\"C-classification\", kernel=\"linear\")"
   ]
  },
  {
   "cell_type": "code",
   "execution_count": null,
   "id": "3c988160",
   "metadata": {
    "scrolled": false
   },
   "outputs": [],
   "source": [
    "svm_model"
   ]
  },
  {
   "cell_type": "code",
   "execution_count": null,
   "id": "fe042b74",
   "metadata": {},
   "outputs": [],
   "source": [
    "#training accuracy\n",
    "pred_train <- predict(svm_model,trainset)"
   ]
  },
  {
   "cell_type": "code",
   "execution_count": null,
   "id": "4723fc30",
   "metadata": {},
   "outputs": [],
   "source": [
    "mean(pred_train==trainset$DepAny)\n",
    "\n"
   ]
  },
  {
   "cell_type": "code",
   "execution_count": null,
   "id": "79effe38",
   "metadata": {},
   "outputs": [],
   "source": [
    "pred_test <- predict(svm_model,testset)\n",
    "mean(pred_test==testset$DepAny)\n"
   ]
  },
  {
   "cell_type": "code",
   "execution_count": null,
   "id": "7d47bd1d",
   "metadata": {},
   "outputs": [],
   "source": [
    "\n",
    "set.seed(10)\n",
    "accuracy <- rep(NA,100)\n",
    "#calculate test accuracy for 100 different partitions\n",
    "for (i in 1:100){\n",
    "mlsubset[,\"train\"] <- ifelse(runif(nrow(mlsubset))<0.8,1,0)\n",
    "trainColNum <- grep(\"train\",names(mlsubset))\n",
    "trainset <- mlsubset[mlsubset$train==1,-trainColNum]\n",
    "testset <- mlsubset[mlsubset$train==0,-trainColNum]\n",
    "svm_model <- svm(DepAny~ AdminDate, data=trainset, type=\"C-classification\", kernel=\"linear\")\n",
    "pred_test <- predict(svm_model,testset)\n",
    "accuracy[i] <- mean(pred_test==testset$DepAny)\n",
    "}\n",
    "mean(accuracy) #.637\n",
    "sd(accuracy) #.008\n",
    "\n"
   ]
  },
  {
   "cell_type": "code",
   "execution_count": null,
   "id": "9a1b349c",
   "metadata": {},
   "outputs": [],
   "source": [
    "# test of a full model with features \n",
    "mlsubsetSVM<-mlsubset  %>% select(AdminDate,INSTANCE_NUM,HEALTH_SYSTEM_ID,BMI:SEXORIENTATION_CD,DepAny,-`NA`,-train)"
   ]
  },
  {
   "cell_type": "code",
   "execution_count": null,
   "id": "7fbee1a1",
   "metadata": {},
   "outputs": [],
   "source": [
    "mlsubsetSVM %>% colnames()"
   ]
  },
  {
   "cell_type": "code",
   "execution_count": null,
   "id": "583abeff",
   "metadata": {},
   "outputs": [],
   "source": [
    "# results of model with no demographic features\n",
    "set.seed(10)\n",
    "accuracy <- rep(NA,100)\n",
    "#calculate test accuracy for 100 different partitions\n",
    "for (i in 1:100){\n",
    "mlsubsetSVM[,\"train\"] <- ifelse(runif(nrow(mlsubsetSVM))<0.8,1,0)\n",
    "trainColNum <- grep(\"train\",names(mlsubsetSVM))\n",
    "trainset <- mlsubsetSVM[mlsubsetSVM$train==1,-trainColNum]\n",
    "testset <- mlsubsetSVM[mlsubsetSVM$train==0,-trainColNum]\n",
    "svm_model <- svm(DepAny~INSTANCE_NUM+BMI+SystolicBP+DiastolicBP+Diabetes+Obesity+Hyperlipidemia+Hypertension, data=trainset, type=\"C-classification\", kernel=\"linear\")\n",
    "pred_test <- predict(svm_model,testset)\n",
    "accuracy[i] <- mean(pred_test==testset$DepAny)\n",
    "}\n",
    "mean(accuracy) #.7145\n",
    "sd(accuracy) #.00922\n",
    "\n"
   ]
  },
  {
   "cell_type": "code",
   "execution_count": null,
   "id": "b7d9f000",
   "metadata": {},
   "outputs": [],
   "source": [
    "#"
   ]
  },
  {
   "cell_type": "markdown",
   "id": "3a0776c6",
   "metadata": {},
   "source": [
    "### Decision Tree"
   ]
  },
  {
   "cell_type": "code",
   "execution_count": null,
   "id": "4d3a99d1",
   "metadata": {},
   "outputs": [],
   "source": [
    "library(rpart)\n",
    "#install.packages(\"rpart.plot\")\n",
    "#install.packages(\"rattle\")\n",
    "\n",
    "library(rpart.plot)"
   ]
  },
  {
   "cell_type": "code",
   "execution_count": null,
   "id": "53f075c8",
   "metadata": {},
   "outputs": [],
   "source": [
    "Deptree <- rpart(mlsubset$Depressed ~ mlsubset$PhqScore)"
   ]
  },
  {
   "cell_type": "code",
   "execution_count": null,
   "id": "b5a22696",
   "metadata": {},
   "outputs": [],
   "source": [
    "#provider tree with depressed encounter\n",
    "Deptreeprov <- rpart(mlsubset$Depressed ~ mlsubset$L2+mlsubset$PhqScore)"
   ]
  },
  {
   "cell_type": "code",
   "execution_count": null,
   "id": "04e1a6c1",
   "metadata": {},
   "outputs": [],
   "source": [
    "#provider tree with depressed any\n",
    "Deptreeprov <- rpart(mlsubset$DepAny ~ mlsubset$L2+mlsubset$Race)"
   ]
  },
  {
   "cell_type": "code",
   "execution_count": null,
   "id": "b0b04af7",
   "metadata": {},
   "outputs": [],
   "source": [
    "Deptreeprov"
   ]
  },
  {
   "cell_type": "code",
   "execution_count": null,
   "id": "c0db0fee",
   "metadata": {},
   "outputs": [],
   "source": [
    "rpart.plot(Deptreeprov, cex=.3)"
   ]
  },
  {
   "cell_type": "code",
   "execution_count": null,
   "id": "faef70e6",
   "metadata": {},
   "outputs": [],
   "source": [
    "Depanytree <- rpart(mlsubset$DepAny ~ mlsubset$HOMELESS_CD+mlsubset$HISPANIC_CD+mlsubset$RURAL_CD+mlsubset$CURRENT_FPL_CD+mlsubset$SEXORIENTATION_CD+mlsubset$SEX_CD\n",
    "                    +mlsubset$RACE_CD+mlsubset$BMI+mlsubset$SystolicBP+mlsubset$DiastolicBP+mlsubset$Obesity+mlsubset$Hyperlipidemia+mlsubset$Hypertension)"
   ]
  },
  {
   "cell_type": "code",
   "execution_count": null,
   "id": "dea9dd84",
   "metadata": {},
   "outputs": [],
   "source": [
    "Depanytree"
   ]
  },
  {
   "cell_type": "code",
   "execution_count": null,
   "id": "bbf54aca",
   "metadata": {},
   "outputs": [],
   "source": [
    "rpart.plot(Depanytree, cex=.3)"
   ]
  },
  {
   "cell_type": "code",
   "execution_count": null,
   "id": "9f7db96f",
   "metadata": {},
   "outputs": [],
   "source": [
    "library(rattle)\n",
    "fancyRpartPlot(Depanytree, caption = NULL)\n",
    "\n",
    "pdf(file=\"depanytree1.pdf\")\n",
    "fancyRpartPlot(Depanytree, caption = NULL,cex=.3)\n",
    "dev.off()"
   ]
  }
 ],
 "metadata": {
  "kernelspec": {
   "display_name": "R",
   "language": "R",
   "name": "ir"
  },
  "language_info": {
   "codemirror_mode": "r",
   "file_extension": ".r",
   "mimetype": "text/x-r-source",
   "name": "R",
   "pygments_lexer": "r",
   "version": "4.3.2"
  }
 },
 "nbformat": 4,
 "nbformat_minor": 5
}
