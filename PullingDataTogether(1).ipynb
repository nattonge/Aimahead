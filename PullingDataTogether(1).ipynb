{
 "cells": [
  {
   "cell_type": "markdown",
   "id": "96928f18",
   "metadata": {},
   "source": [
    "# Setup"
   ]
  },
  {
   "cell_type": "code",
   "execution_count": null,
   "id": "0bf3581d",
   "metadata": {},
   "outputs": [],
   "source": [
    "#install.packages(\"eeptools\") # to calculate ages\n",
    "#install.packages(\"apaTables\")\n",
    "#install.packages(\"tableone\")\n"
   ]
  },
  {
   "cell_type": "code",
   "execution_count": 38,
   "id": "b99b8f29",
   "metadata": {},
   "outputs": [],
   "source": [
    "system(\"sudo su -c 'curl https://packages.microsoft.com/config/rhel/7/prod.repo > /etc/yum.repos.d/mssql-release.repo && exit'\")\n",
    "system(\"sudo yum remove unixODBC-utf16 unixODBC-utf16-devel\")\n",
    "system(\"sudo ACCEPT_EULA=Y yum install -y msodbcsql17\")\n",
    "system(\"sudo ACCEPT_EULA=Y yum install -y mssql-tools\")\n",
    "system(\"echo 'export PATH='$PATH:/opt/mssql-tools/bin'' >> ~/.bashrc\")\n",
    "system(\"source ~/.bashrc\")\n",
    "system(\"sudo yum install -y unixODBC-devel\")"
   ]
  },
  {
   "cell_type": "code",
   "execution_count": 2,
   "id": "37f710f5",
   "metadata": {
    "scrolled": true
   },
   "outputs": [
    {
     "name": "stderr",
     "output_type": "stream",
     "text": [
      "\n",
      "Attaching package: ‘dplyr’\n",
      "\n",
      "\n",
      "The following objects are masked from ‘package:stats’:\n",
      "\n",
      "    filter, lag\n",
      "\n",
      "\n",
      "The following objects are masked from ‘package:base’:\n",
      "\n",
      "    intersect, setdiff, setequal, union\n",
      "\n",
      "\n"
     ]
    }
   ],
   "source": [
    "#install.packages(\"odbc\")\n",
    "#install.packages(\"DBI\")\n",
    "#install.packages(\"rstudioapi\")\n",
    "\n",
    "library(odbc)\n",
    "library(dplyr)\n",
    "library(stringr)\n",
    "library(tidyr)"
   ]
  },
  {
   "cell_type": "code",
   "execution_count": 39,
   "id": "c9f0bc77",
   "metadata": {},
   "outputs": [],
   "source": [
    "file_path <- '/home/ec2-user/SageMaker/db-credentials.txt'\n",
    "db_creds_df <- read.table(file_path)\n",
    "db_creds <- db_creds_df$V3\n",
    "names(db_creds) <- db_creds_df$V1\n",
    "db_creds <- trimws(db_creds)\n",
    "#db_creds"
   ]
  },
  {
   "cell_type": "code",
   "execution_count": 40,
   "id": "c6c112af",
   "metadata": {},
   "outputs": [],
   "source": [
    "# load database\n",
    "db <- 'S35'"
   ]
  },
  {
   "cell_type": "code",
   "execution_count": 41,
   "id": "f8533353",
   "metadata": {},
   "outputs": [],
   "source": [
    "connection_string = paste0(\"DRIVER={ODBC Driver 17 for SQL Server};\",\n",
    "                          \"SERVER=\", db_creds['host'], ',', db_creds['port'], ';',\n",
    "                          \"DATABASE=\", db, ';',\n",
    "                          \"UID=\", db_creds['username'], ';',\n",
    "                          \"PWD={\", db_creds['password'], \"};\")\n",
    "\n",
    "#connection_string"
   ]
  },
  {
   "cell_type": "code",
   "execution_count": 42,
   "id": "ae30ee1d",
   "metadata": {},
   "outputs": [],
   "source": [
    "db_conn <- DBI::dbConnect(odbc::odbc(), .connection_string = connection_string)"
   ]
  },
  {
   "cell_type": "markdown",
   "id": "113b52c8",
   "metadata": {},
   "source": [
    "# ICD names"
   ]
  },
  {
   "cell_type": "markdown",
   "id": "a0b9fc5f",
   "metadata": {},
   "source": [
    "Loading ICD names to join to datasets and filter using keywords"
   ]
  },
  {
   "cell_type": "code",
   "execution_count": null,
   "id": "d2a2f24d",
   "metadata": {
    "scrolled": false
   },
   "outputs": [],
   "source": [
    "icdnames<-dbGetQuery(db_conn, \"select * from S35.dbo.ICDnames;\")\n",
    "icdnames<-icdnames %>% select(-CONCEPT_PATH)"
   ]
  },
  {
   "cell_type": "markdown",
   "id": "b5a8c47f",
   "metadata": {},
   "source": [
    "# DEMOGRAPHICS"
   ]
  },
  {
   "cell_type": "code",
   "execution_count": 43,
   "id": "86adbfae",
   "metadata": {},
   "outputs": [],
   "source": [
    "#select patient demographics (subsample of 100 pts)\n",
    "demo<-dbGetQuery(db_conn,\"select * from S35.dbo.phqdemographics;\")\n"
   ]
  },
  {
   "cell_type": "markdown",
   "id": "164b1fc2",
   "metadata": {},
   "source": [
    "Selecting only on the Phq-9 which is PRO:ADV0014. PRO:ADV0045 is the PHQ-2. Specificty isn't quite as high as the PHQ9 but there are far more administered."
   ]
  },
  {
   "cell_type": "markdown",
   "id": "1ebe29dc",
   "metadata": {},
   "source": [
    "# Coding the factor levels for Demographic Variables"
   ]
  },
  {
   "cell_type": "code",
   "execution_count": null,
   "id": "2f2f8a8c",
   "metadata": {},
   "outputs": [],
   "source": [
    "demo %>% head()"
   ]
  },
  {
   "cell_type": "code",
   "execution_count": null,
   "id": "ca9fcc6c",
   "metadata": {},
   "outputs": [],
   "source": [
    "library(haven)\n",
    "library(purrr)\n",
    "library(apaTables)"
   ]
  },
  {
   "cell_type": "code",
   "execution_count": 44,
   "id": "f8e850bf",
   "metadata": {},
   "outputs": [
    {
     "ename": "ERROR",
     "evalue": "Error in eval(expr, envir, enclos): object 'complete.df' not found\n",
     "output_type": "error",
     "traceback": [
      "Error in eval(expr, envir, enclos): object 'complete.df' not found\nTraceback:\n",
      "1. complete.df %>% as.matrix() %>% as.data.frame() %>% mutate(BIRTH_DATE = as_date(BIRTH_DATE), \n .     AdminDate = as_date(AdminDate), Age = age_calc(dob = BIRTH_DATE, \n .         enddate = AdminDate, units = \"years\")) %>% mutate(FPL = case_match(CURRENT_FPL_CD, \n .     \"DEM|FPL:<=100\" ~ \"FPL Below 100\", \"DEM|FPL:151-200\" ~ \"FPL 151-200\", \n .     \"DEM|FPL:UN\" ~ \"FPL Unknown\", \"DEM|FPL:>200\\n\" ~ \"FPL Over 200\", \n .     \"DEM|FPL:101-150\" ~ \"FPL 101-150\"), Marital = case_match(MARITAL_STATUS_CD, \n .     \"DEM|MARITAL:Other\" ~ \"Other\", \"DEM|MARITAL:Widowed\" ~ \"Widowed\", \n .     \"DEM|MARITAL:Divorced\" ~ \"Divorced\", \"DEM|MARITAL:Separated\" ~ \n .         \"Separated\", \"DEM|MARITAL:Domestic Partner\" ~ \"Domestic Partner\", \n .     \"DEM|MARITAL:Significant Other\" ~ \"Significant Other\", \"DEM|MARITAL:Married\" ~ \n .         \"Married\", \"DEM|MARITAL:Single\" ~ \"Single\", \"DEM|MARITAL:NI\" ~ \n .         \"Marital NI\"), Gender = case_match(GENDER_CD, \"DEM|GENDER:TG\" ~ \n .     \"Transgender\", \"DEM|GENDER:GQ\" ~ \"Genderqueer\", \"DEM|GENDER:UN\" ~ \n .     \"Unknown / Missing\", \"DEM|GENDER:OT\" ~ \"Other\", \"DEM|GENDER:M\" ~ \n .     \"Man\", \"DEM|GENDER:W\" ~ \"Woman\"), Race = case_match(RACE_CD, \n .     \"DEM|RACE:02\" ~ \"Asian\", \"DEM|RACE:06\" ~ \"Multiple race\", \n .     \"DEM|RACE:01\" ~ \"American Indian or Alaskan Native\", \"DEM|RACE:05\" ~ \n .         \"White\", \"DEM|RACE:03\" ~ \"Black or African American\", \n .     \"DEM|RACE:07\" ~ \"Refuse to answer\", \"DEM|RACE:04\" ~ \"Native Hawaiian or Other Pacific Islander\", \n .     \"DEM|RACE:OT\" ~ \"Other\"), Rural = case_match(RURAL_CD, \"DEM|RURAL:Y\" ~ \n .     \"Yes\", \"DEM|RURAL:N\" ~ \"No\"), Sex = case_match(SEX_CD, \"DEM|SEX:NI\" ~ \n .     \"Sex No Information\", \"DEM|SEX:F\" ~ \"Female\", \"DEM|SEX:M\" ~ \n .     \"Male\", \"DEM|SEX:UN\" ~ \"Sex Unknown\"), Sexor = case_match(SEXORIENTATION_CD, \n .     \"DEM|SEXORIENTATION:GA\" ~ \"Gay\", \"DEM|SEXORIENTATION:SE\" ~ \n .         \"Something else\", \"DEM|SEXORIENTATION:LE\" ~ \"Lesbain\", \n .     \"DEM|SEXORIENTATION:ST\" ~ \"Straight\", \"DEM|SEXORIENTATION:MU\" ~ \n .         \"Multiple sexual orientations\", \"DEM|SEXORIENTATION:UN\" ~ \n .         \"Unknown/ Missing\", \"DEM|SEXORIENTATION:BI\" ~ \"Bisexual\", \n .     \"DEM|SEXORIENTATION:QU\" ~ \"Queer\")) %>% mutate(across(c(HEALTH_SYSTEM_ID, \n .     CURRENT_FPL_CD:SEXORIENTATION_CD, FPL:Sexor), ~factor(.)))",
      "2. mutate(., across(c(HEALTH_SYSTEM_ID, CURRENT_FPL_CD:SEXORIENTATION_CD, \n .     FPL:Sexor), ~factor(.)))",
      "3. mutate(., FPL = case_match(CURRENT_FPL_CD, \"DEM|FPL:<=100\" ~ \n .     \"FPL Below 100\", \"DEM|FPL:151-200\" ~ \"FPL 151-200\", \"DEM|FPL:UN\" ~ \n .     \"FPL Unknown\", \"DEM|FPL:>200\\n\" ~ \"FPL Over 200\", \"DEM|FPL:101-150\" ~ \n .     \"FPL 101-150\"), Marital = case_match(MARITAL_STATUS_CD, \"DEM|MARITAL:Other\" ~ \n .     \"Other\", \"DEM|MARITAL:Widowed\" ~ \"Widowed\", \"DEM|MARITAL:Divorced\" ~ \n .     \"Divorced\", \"DEM|MARITAL:Separated\" ~ \"Separated\", \"DEM|MARITAL:Domestic Partner\" ~ \n .     \"Domestic Partner\", \"DEM|MARITAL:Significant Other\" ~ \"Significant Other\", \n .     \"DEM|MARITAL:Married\" ~ \"Married\", \"DEM|MARITAL:Single\" ~ \n .         \"Single\", \"DEM|MARITAL:NI\" ~ \"Marital NI\"), Gender = case_match(GENDER_CD, \n .     \"DEM|GENDER:TG\" ~ \"Transgender\", \"DEM|GENDER:GQ\" ~ \"Genderqueer\", \n .     \"DEM|GENDER:UN\" ~ \"Unknown / Missing\", \"DEM|GENDER:OT\" ~ \n .         \"Other\", \"DEM|GENDER:M\" ~ \"Man\", \"DEM|GENDER:W\" ~ \"Woman\"), \n .     Race = case_match(RACE_CD, \"DEM|RACE:02\" ~ \"Asian\", \"DEM|RACE:06\" ~ \n .         \"Multiple race\", \"DEM|RACE:01\" ~ \"American Indian or Alaskan Native\", \n .         \"DEM|RACE:05\" ~ \"White\", \"DEM|RACE:03\" ~ \"Black or African American\", \n .         \"DEM|RACE:07\" ~ \"Refuse to answer\", \"DEM|RACE:04\" ~ \"Native Hawaiian or Other Pacific Islander\", \n .         \"DEM|RACE:OT\" ~ \"Other\"), Rural = case_match(RURAL_CD, \n .         \"DEM|RURAL:Y\" ~ \"Yes\", \"DEM|RURAL:N\" ~ \"No\"), Sex = case_match(SEX_CD, \n .         \"DEM|SEX:NI\" ~ \"Sex No Information\", \"DEM|SEX:F\" ~ \"Female\", \n .         \"DEM|SEX:M\" ~ \"Male\", \"DEM|SEX:UN\" ~ \"Sex Unknown\"), \n .     Sexor = case_match(SEXORIENTATION_CD, \"DEM|SEXORIENTATION:GA\" ~ \n .         \"Gay\", \"DEM|SEXORIENTATION:SE\" ~ \"Something else\", \"DEM|SEXORIENTATION:LE\" ~ \n .         \"Lesbain\", \"DEM|SEXORIENTATION:ST\" ~ \"Straight\", \"DEM|SEXORIENTATION:MU\" ~ \n .         \"Multiple sexual orientations\", \"DEM|SEXORIENTATION:UN\" ~ \n .         \"Unknown/ Missing\", \"DEM|SEXORIENTATION:BI\" ~ \"Bisexual\", \n .         \"DEM|SEXORIENTATION:QU\" ~ \"Queer\"))",
      "4. mutate(., BIRTH_DATE = as_date(BIRTH_DATE), AdminDate = as_date(AdminDate), \n .     Age = age_calc(dob = BIRTH_DATE, enddate = AdminDate, units = \"years\"))",
      "5. as.data.frame(.)",
      "6. as.matrix(.)"
     ]
    }
   ],
   "source": [
    "complete.demo<-complete.df %>% as.matrix() %>% as.data.frame() %>% mutate(\n",
    "    BIRTH_DATE=as_date(BIRTH_DATE),\n",
    "    AdminDate=as_date(AdminDate),\n",
    "Age=age_calc(dob = BIRTH_DATE, enddate = AdminDate, units = \"years\"))  %>% \n",
    "mutate(FPL=case_match(CURRENT_FPL_CD,\"DEM|FPL:<=100\"~\"FPL Below 100\",\"DEM|FPL:151-200\"~\"FPL 151-200\",\"DEM|FPL:UN\"~\"FPL Unknown\",\"DEM|FPL:>200\n",
    "\"~\"FPL Over 200\", \"DEM|FPL:101-150\"~\"FPL 101-150\"),\n",
    " Marital=case_match(MARITAL_STATUS_CD,\"DEM|MARITAL:Other\"~\"Other\",\n",
    "\"DEM|MARITAL:Widowed\"~\"Widowed\",\n",
    "\"DEM|MARITAL:Divorced\"~\"Divorced\",\n",
    "\"DEM|MARITAL:Separated\"~\"Separated\",\n",
    "\"DEM|MARITAL:Domestic Partner\"~\"Domestic Partner\",\n",
    "\"DEM|MARITAL:Significant Other\"~\"Significant Other\",\n",
    "\"DEM|MARITAL:Married\"~\"Married\",\n",
    "\"DEM|MARITAL:Single\"~\"Single\",\n",
    "\"DEM|MARITAL:NI\"~\"Marital NI\"),\n",
    "Gender=case_match(GENDER_CD,\"DEM|GENDER:TG\"~\"Transgender\",\n",
    "\"DEM|GENDER:GQ\"~\"Genderqueer\",\n",
    "\"DEM|GENDER:UN\"~\"Unknown / Missing\",\n",
    "\"DEM|GENDER:OT\"~\"Other\",\n",
    "\"DEM|GENDER:M\"~\"Man\",\n",
    "\"DEM|GENDER:W\"~\"Woman\"),\n",
    "Race=case_match(RACE_CD,\"DEM|RACE:02\"~\"Asian\",\n",
    "\"DEM|RACE:06\"~\"Multiple race\",\n",
    "\"DEM|RACE:01\"~\"American Indian or Alaskan Native\",\n",
    "\"DEM|RACE:05\"~\"White\",\n",
    "\"DEM|RACE:03\"~\"Black or African American\",\n",
    "\"DEM|RACE:07\"~\"Refuse to answer\",\n",
    "\"DEM|RACE:04\"~\"Native Hawaiian or Other Pacific Islander\",\n",
    "\"DEM|RACE:OT\"~\"Other\"),\n",
    "Rural=case_match(RURAL_CD,\"DEM|RURAL:Y\"~\"Yes\",\n",
    "\"DEM|RURAL:N\"~\"No\"),\n",
    "Sex=case_match(SEX_CD,\"DEM|SEX:NI\"~\"Sex No Information\",\n",
    "\"DEM|SEX:F\"~\"Female\",\n",
    "\"DEM|SEX:M\"~\"Male\",\n",
    "\"DEM|SEX:UN\"~\"Sex Unknown\"),\n",
    "Sexor=case_match(SEXORIENTATION_CD,\"DEM|SEXORIENTATION:GA\"~\"Gay\",\n",
    "\"DEM|SEXORIENTATION:SE\"~\"Something else\",\n",
    "\"DEM|SEXORIENTATION:LE\"~\"Lesbain\",\n",
    "\"DEM|SEXORIENTATION:ST\"~\"Straight\",\n",
    "\"DEM|SEXORIENTATION:MU\"~\"Multiple sexual orientations\",\n",
    "\"DEM|SEXORIENTATION:UN\"~\"Unknown/ Missing\",\n",
    "\"DEM|SEXORIENTATION:BI\"~\"Bisexual\",\n",
    "\"DEM|SEXORIENTATION:QU\"~\"Queer\"))%>% \n",
    "mutate(across(c(HEALTH_SYSTEM_ID,CURRENT_FPL_CD:SEXORIENTATION_CD,FPL:Sexor),~factor(.)))\n"
   ]
  },
  {
   "cell_type": "markdown",
   "id": "db2cf5a9",
   "metadata": {},
   "source": [
    "# PHQ"
   ]
  },
  {
   "cell_type": "markdown",
   "id": "8beaca5e",
   "metadata": {},
   "source": [
    "# CURRENT WORKING BAND"
   ]
  },
  {
   "cell_type": "code",
   "execution_count": null,
   "id": "ac1f459a",
   "metadata": {},
   "outputs": [],
   "source": [
    "phqcomplete<-dbGetQuery(db_conn,\"select * from S35.dbo.phqcomplete;\")"
   ]
  },
  {
   "cell_type": "code",
   "execution_count": null,
   "id": "3dabfdd9",
   "metadata": {},
   "outputs": [],
   "source": [
    "## phqcomplete with depression or hyp filter\n",
    "phqcomplete<-phqcomplete %>% left_join(icdnames)\n"
   ]
  },
  {
   "cell_type": "code",
   "execution_count": null,
   "id": "cb8bbfbc",
   "metadata": {},
   "outputs": [],
   "source": [
    "#playing with doing vitals in the dataset in one go to avoid merge problems\n",
    "phqnewcols<-phqcomplete %>%  mutate(NAME_CHAR=\n",
    "       case_when(\n",
    "       str_detect(NAME_CHAR,\"Depress\")~\"Depressed\",\n",
    "       str_detect(NAME_CHAR,\"Type II|Type 2|Diabetes\")~\"Diabetes\",\n",
    "       str_detect(NAME_CHAR,\"Hyperlipidemia\")~\"Hyperlipidemia\",\n",
    "       str_detect(NAME_CHAR,\"Hypertens\")~\"Hypertension\",\n",
    "       str_detect(NAME_CHAR,\"Obesity\")~\"Obesity\"\n",
    "       #.default=NAME_CHAR\n",
    "       ))%>% mutate(Vitals=\n",
    "      case_when(\n",
    "       str_detect(CONCEPT_CD,\"BMI\")~\"BMI\", \n",
    "       str_detect(CONCEPT_CD,\"SYS\")~\"SystolicBP\", \n",
    "       str_detect(CONCEPT_CD,\"DIAS\")~\"DiastolicBP\",\n",
    "       str_detect(CONCEPT_CD,\"PRO:ADV0039\")~\"Audit\",\n",
    "       str_detect(CONCEPT_CD,\"PRO:ADV0045\")~\"Phq2\",\n",
    "      )) "
   ]
  },
  {
   "cell_type": "code",
   "execution_count": null,
   "id": "c9b9e20d",
   "metadata": {},
   "outputs": [],
   "source": [
    "phqcomplete %>% group_by(NAME_CHAR) %>% tally() %>% arrange(desc(n)) %>% write.csv(\"ConditionTally.csv\")"
   ]
  },
  {
   "cell_type": "code",
   "execution_count": null,
   "id": "5e7ff7bd",
   "metadata": {},
   "outputs": [],
   "source": [
    "# ALTERNATIVE VERSION THAT INCLUDES OTHER DIAGNOSES IN THE SAMPLE\n",
    "phqalldx<-phqcomplete %>%  mutate(NAME_CHAR=\n",
    "       case_when(\n",
    "       str_detect(NAME_CHAR,\"Depress|Dysthymic\")~\"Depressed\",\n",
    "       str_detect(NAME_CHAR,\"Type II|Type 2|Diabetes\")~\"Diabetes\",\n",
    "       str_detect(NAME_CHAR,\"Hyperlipidemia\")~\"Hyperlipidemia\",\n",
    "       str_detect(NAME_CHAR,\"Hypertens\")~\"Hypertension\",\n",
    "       str_detect(NAME_CHAR,\"Obesity\")~\"Obesity\",\n",
    "       str_detect(NAME_CHAR,\"Adjustment\")~\"Adjustment\",      \n",
    "       str_detect(NAME_CHAR,\"Anxiety|Panic|Agoraphobia\")~\"Anxiety\",\n",
    "       str_detect(NAME_CHAR,\"Posttraumatic|Post-traumatic\")~\"PTSD\",\n",
    "       str_detect(NAME_CHAR,\"Sleep|Insomnia|F51\")~\"Sleep\",\n",
    "       str_detect(NAME_CHAR,\"Bipolar|Manic\")~\"Bipolar\",\n",
    "       str_detect(NAME_CHAR,\"Nicotine|Tobacco\")~\"Tobacco\",\n",
    "       str_detect(NAME_CHAR,\"Opioid|F11|F12|F13|F14|F15|F16|F18|F19\")~\"SUD\",\n",
    "       str_detect(NAME_CHAR,\"Alcohol|F10\")~\"Alcohol\",\n",
    "       str_detect(NAME_CHAR,\"Schiz|Delusional|F23|F24|F28|F29\")~\"SchizophreniaSpectrum\",     \n",
    "       str_detect(NAME_CHAR,\"Eating|F50\")~\"EatingDisorders\"    \n",
    "       #.default=NAME_CHAR\n",
    "       ))%>% mutate(Vitals=\n",
    "      case_when(\n",
    "       str_detect(CONCEPT_CD,\"BMI\")~\"BMI\", \n",
    "       str_detect(CONCEPT_CD,\"SYS\")~\"SystolicBP\", \n",
    "       str_detect(CONCEPT_CD,\"DIAS\")~\"DiastolicBP\",\n",
    "       str_detect(CONCEPT_CD,\"PRO:ADV0039\")~\"Audit\",\n",
    "       str_detect(CONCEPT_CD,\"PRO:ADV0045\")~\"Phq2\",\n",
    "      )) "
   ]
  },
  {
   "cell_type": "code",
   "execution_count": null,
   "id": "92ce7c31",
   "metadata": {},
   "outputs": [],
   "source": [
    "#Save file from above in case the kernal crashes\n",
    "save(phqalldx,file=\"phqalldx.RData\")"
   ]
  },
  {
   "cell_type": "code",
   "execution_count": 4,
   "id": "c20426dd",
   "metadata": {},
   "outputs": [],
   "source": [
    "load('/home/ec2-user/SageMaker/phqalldx.RData')"
   ]
  },
  {
   "cell_type": "code",
   "execution_count": 5,
   "id": "c0c3dbc1",
   "metadata": {},
   "outputs": [],
   "source": [
    "# Reducing the size of the dataset for pivoting\n",
    "phqfewercols<-phqalldx  %>%  filter(str_detect(CONCEPT_CD,\"ICD|ADV0014|ADV0045|ADV0039|BMI|SYS|DIAS\"))"
   ]
  },
  {
   "cell_type": "code",
   "execution_count": null,
   "id": "4bbc18a9",
   "metadata": {},
   "outputs": [],
   "source": [
    "phqfewercols %>% nrow() #14921844"
   ]
  },
  {
   "cell_type": "code",
   "execution_count": null,
   "id": "f7934f7a",
   "metadata": {},
   "outputs": [],
   "source": [
    "evenphqfewer<-phqfewercols %>% filter(PhqScore>=10|PhqScore<=4) #limiting to phq extremes to run"
   ]
  },
  {
   "cell_type": "code",
   "execution_count": null,
   "id": "87bc477d",
   "metadata": {},
   "outputs": [],
   "source": [
    "evenphqfewer %>% nrow()"
   ]
  },
  {
   "cell_type": "code",
   "execution_count": 6,
   "id": "a6921f08",
   "metadata": {},
   "outputs": [],
   "source": [
    "# rearranging data into wide format: the vitals. formerly phqfewer here\n",
    "phqwide<-phqfewercols %>% unique() %>% mutate(n=1) %>% \n",
    "select(n,phqPT,PhqScore,phqEnc,AdminDate,TVAL_CHAR,NAME_CHAR,INSTANCE_NUM,CONCEPT_CD,NVAL_NUM,HEALTH_SYSTEM_ID,PROVIDER_ID,Vitals)%>% pivot_wider(names_from=Vitals,values_from=NVAL_NUM) "
   ]
  },
  {
   "cell_type": "code",
   "execution_count": 7,
   "id": "bb7d7e93",
   "metadata": {},
   "outputs": [],
   "source": [
    "save(phqwide,file=\"wide_vitals.RData\")"
   ]
  },
  {
   "cell_type": "code",
   "execution_count": 3,
   "id": "0c352811",
   "metadata": {},
   "outputs": [],
   "source": [
    "load('/home/ec2-user/SageMaker/wide_vitals.RData')"
   ]
  },
  {
   "cell_type": "code",
   "execution_count": 8,
   "id": "52d131db",
   "metadata": {},
   "outputs": [
    {
     "data": {
      "text/html": [
       "<table class=\"dataframe\">\n",
       "<caption>A tibble: 95242 × 17</caption>\n",
       "<thead>\n",
       "\t<tr><th scope=col>n</th><th scope=col>phqPT</th><th scope=col>PhqScore</th><th scope=col>phqEnc</th><th scope=col>AdminDate</th><th scope=col>TVAL_CHAR</th><th scope=col>NAME_CHAR</th><th scope=col>INSTANCE_NUM</th><th scope=col>CONCEPT_CD</th><th scope=col>HEALTH_SYSTEM_ID</th><th scope=col>PROVIDER_ID</th><th scope=col>NA</th><th scope=col>Audit</th><th scope=col>Phq2</th><th scope=col>BMI</th><th scope=col>DiastolicBP</th><th scope=col>SystolicBP</th></tr>\n",
       "\t<tr><th scope=col>&lt;dbl&gt;</th><th scope=col>&lt;int&gt;</th><th scope=col>&lt;dbl&gt;</th><th scope=col>&lt;int&gt;</th><th scope=col>&lt;dttm&gt;</th><th scope=col>&lt;chr&gt;</th><th scope=col>&lt;chr&gt;</th><th scope=col>&lt;int&gt;</th><th scope=col>&lt;chr&gt;</th><th scope=col>&lt;chr&gt;</th><th scope=col>&lt;chr&gt;</th><th scope=col>&lt;dbl&gt;</th><th scope=col>&lt;dbl&gt;</th><th scope=col>&lt;dbl&gt;</th><th scope=col>&lt;dbl&gt;</th><th scope=col>&lt;dbl&gt;</th><th scope=col>&lt;dbl&gt;</th></tr>\n",
       "</thead>\n",
       "<tbody>\n",
       "\t<tr><td>1</td><td>8109461</td><td> 6</td><td>129466629</td><td>2019-06-21</td><td>E</td><td>NA</td><td>2</td><td>PRO:ADV0039</td><td>739</td><td>859CCCCE-6917-41FD-98FC-0A22A10EE052</td><td>NA</td><td> 2</td><td>NA</td><td>NA</td><td>NA</td><td>NA</td></tr>\n",
       "\t<tr><td>1</td><td>8103638</td><td>17</td><td>129467885</td><td>2019-04-18</td><td>E</td><td>NA</td><td>1</td><td>PRO:ADV0039</td><td>739</td><td>46F49C56-0337-4656-A563-8FFF82070C97</td><td>NA</td><td> 2</td><td>NA</td><td>NA</td><td>NA</td><td>NA</td></tr>\n",
       "\t<tr><td>1</td><td>8109280</td><td> 2</td><td>129467891</td><td>2019-03-25</td><td>E</td><td>NA</td><td>1</td><td>PRO:ADV0039</td><td>739</td><td>1F8BD698-1432-4786-91B5-9105FAD6390C</td><td>NA</td><td> 4</td><td>NA</td><td>NA</td><td>NA</td><td>NA</td></tr>\n",
       "\t<tr><td>1</td><td>9595480</td><td>10</td><td>129468656</td><td>2018-10-04</td><td>E</td><td>NA</td><td>3</td><td>PRO:ADV0039</td><td>739</td><td>7EABBDF5-D036-499A-A5CD-067978F21050</td><td>NA</td><td>13</td><td>NA</td><td>NA</td><td>NA</td><td>NA</td></tr>\n",
       "\t<tr><td>1</td><td>9595784</td><td> 0</td><td>129470583</td><td>2019-09-19</td><td>E</td><td>NA</td><td>1</td><td>PRO:ADV0039</td><td>739</td><td>64B40124-B255-4355-B639-933DBF01543E</td><td>NA</td><td>16</td><td>NA</td><td>NA</td><td>NA</td><td>NA</td></tr>\n",
       "\t<tr><td>1</td><td>9592157</td><td> 3</td><td>129470856</td><td>2018-11-27</td><td>E</td><td>NA</td><td>2</td><td>PRO:ADV0039</td><td>739</td><td>D34DCC8A-61BF-4ED6-A8D6-D7E0F31C914F</td><td>NA</td><td> 4</td><td>NA</td><td>NA</td><td>NA</td><td>NA</td></tr>\n",
       "\t<tr><td>1</td><td>9588105</td><td> 3</td><td>129470910</td><td>2018-11-09</td><td>E</td><td>NA</td><td>2</td><td>PRO:ADV0039</td><td>739</td><td>5F22C01B-0393-4904-84E1-A3145004AE0A</td><td>NA</td><td> 6</td><td>NA</td><td>NA</td><td>NA</td><td>NA</td></tr>\n",
       "\t<tr><td>1</td><td>9592492</td><td> 7</td><td>129488342</td><td>2018-07-25</td><td>E</td><td>NA</td><td>3</td><td>PRO:ADV0039</td><td>739</td><td>938EF875-FB3A-4A27-B121-6092DC030A04</td><td>NA</td><td> 9</td><td>NA</td><td>NA</td><td>NA</td><td>NA</td></tr>\n",
       "\t<tr><td>1</td><td>9595799</td><td>15</td><td>129502084</td><td>2018-11-14</td><td>E</td><td>NA</td><td>3</td><td>PRO:ADV0039</td><td>739</td><td>EADBD4E6-38EF-4059-83B9-2173D18557A6</td><td>NA</td><td> 7</td><td>NA</td><td>NA</td><td>NA</td><td>NA</td></tr>\n",
       "\t<tr><td>1</td><td>8109134</td><td>11</td><td>129504532</td><td>2019-09-06</td><td>E</td><td>NA</td><td>1</td><td>PRO:ADV0039</td><td>739</td><td>C791ECB1-118D-4159-84A1-B8BB03AA80F3</td><td>NA</td><td> 5</td><td>NA</td><td>NA</td><td>NA</td><td>NA</td></tr>\n",
       "\t<tr><td>1</td><td>8105268</td><td>24</td><td>129506484</td><td>2019-02-20</td><td>E</td><td>NA</td><td>1</td><td>PRO:ADV0039</td><td>739</td><td>46F49C56-0337-4656-A563-8FFF82070C97</td><td>NA</td><td> 5</td><td>NA</td><td>NA</td><td>NA</td><td>NA</td></tr>\n",
       "\t<tr><td>1</td><td>8102149</td><td> 4</td><td>129524142</td><td>2019-04-16</td><td>E</td><td>NA</td><td>1</td><td>PRO:ADV0039</td><td>739</td><td>673EA332-0B88-4FBB-B626-2113A4F732D6</td><td>NA</td><td> 5</td><td>NA</td><td>NA</td><td>NA</td><td>NA</td></tr>\n",
       "\t<tr><td>1</td><td>8105369</td><td>16</td><td>129547165</td><td>2019-02-07</td><td>E</td><td>NA</td><td>2</td><td>PRO:ADV0039</td><td>739</td><td>39FFAF4D-4524-40C4-B1D7-BA5A169BA832</td><td>NA</td><td>18</td><td>NA</td><td>NA</td><td>NA</td><td>NA</td></tr>\n",
       "\t<tr><td>1</td><td>8107937</td><td> 4</td><td>129547699</td><td>2019-07-08</td><td>E</td><td>NA</td><td>1</td><td>PRO:ADV0039</td><td>739</td><td>9408C684-5C78-42E6-9CDF-FB3DE55EA853</td><td>NA</td><td>12</td><td>NA</td><td>NA</td><td>NA</td><td>NA</td></tr>\n",
       "\t<tr><td>1</td><td>8104890</td><td>14</td><td>129550602</td><td>2018-11-20</td><td>E</td><td>NA</td><td>3</td><td>PRO:ADV0039</td><td>739</td><td>375B43EC-BBFB-4A4F-9E1C-E56E1FFC412E</td><td>NA</td><td> 7</td><td>NA</td><td>NA</td><td>NA</td><td>NA</td></tr>\n",
       "\t<tr><td>1</td><td>9591882</td><td> 9</td><td>129550618</td><td>2018-11-09</td><td>E</td><td>NA</td><td>1</td><td>PRO:ADV0039</td><td>739</td><td>47CA3EA0-DA71-472B-ACEA-1364394B799E</td><td>NA</td><td> 6</td><td>NA</td><td>NA</td><td>NA</td><td>NA</td></tr>\n",
       "\t<tr><td>1</td><td>8106973</td><td> 9</td><td>129738849</td><td>2018-09-18</td><td>E</td><td>NA</td><td>3</td><td>PRO:ADV0039</td><td>739</td><td>E337C299-F67F-459E-809E-5063B1ACBBDF</td><td>NA</td><td> 8</td><td>NA</td><td>NA</td><td>NA</td><td>NA</td></tr>\n",
       "\t<tr><td>1</td><td>8111328</td><td> 3</td><td>129739399</td><td>2019-10-31</td><td>E</td><td>NA</td><td>1</td><td>PRO:ADV0039</td><td>739</td><td>8B31EFC0-7D98-46F7-BB4B-7D17B4C167AE</td><td>NA</td><td>21</td><td>NA</td><td>NA</td><td>NA</td><td>NA</td></tr>\n",
       "\t<tr><td>1</td><td>8107121</td><td>11</td><td>129757651</td><td>2019-02-05</td><td>E</td><td>NA</td><td>1</td><td>PRO:ADV0039</td><td>739</td><td>D01C24BE-AD74-4AEF-A0E4-D23A13977964</td><td>NA</td><td>11</td><td>NA</td><td>NA</td><td>NA</td><td>NA</td></tr>\n",
       "\t<tr><td>1</td><td>8108789</td><td>22</td><td>129757170</td><td>2018-08-16</td><td>E</td><td>NA</td><td>1</td><td>PRO:ADV0039</td><td>739</td><td>EADBD4E6-38EF-4059-83B9-2173D18557A6</td><td>NA</td><td> 9</td><td>NA</td><td>NA</td><td>NA</td><td>NA</td></tr>\n",
       "\t<tr><td>1</td><td>8102425</td><td>19</td><td>129758524</td><td>2018-11-08</td><td>E</td><td>NA</td><td>3</td><td>PRO:ADV0039</td><td>739</td><td>5F22C01B-0393-4904-84E1-A3145004AE0A</td><td>NA</td><td> 4</td><td>NA</td><td>NA</td><td>NA</td><td>NA</td></tr>\n",
       "\t<tr><td>1</td><td>9594535</td><td>24</td><td>129761145</td><td>2018-10-19</td><td>E</td><td>NA</td><td>1</td><td>PRO:ADV0039</td><td>739</td><td>CB312DDF-8303-4674-BF06-CE4825A7D80E</td><td>NA</td><td> 3</td><td>NA</td><td>NA</td><td>NA</td><td>NA</td></tr>\n",
       "\t<tr><td>1</td><td>8105389</td><td>10</td><td>129763672</td><td>2018-12-03</td><td>E</td><td>NA</td><td>1</td><td>PRO:ADV0039</td><td>739</td><td>CC470860-150D-49BB-93EA-236372D23494</td><td>NA</td><td>16</td><td>NA</td><td>NA</td><td>NA</td><td>NA</td></tr>\n",
       "\t<tr><td>1</td><td>8106711</td><td> 7</td><td>129765154</td><td>2018-11-21</td><td>E</td><td>NA</td><td>1</td><td>PRO:ADV0039</td><td>739</td><td>2F2E983D-07FB-48AA-BF9C-C78E3F4FC81C</td><td>NA</td><td> 4</td><td>NA</td><td>NA</td><td>NA</td><td>NA</td></tr>\n",
       "\t<tr><td>1</td><td>8110781</td><td> 9</td><td>129765385</td><td>2019-04-25</td><td>E</td><td>NA</td><td>2</td><td>PRO:ADV0039</td><td>739</td><td>5F22C01B-0393-4904-84E1-A3145004AE0A</td><td>NA</td><td> 3</td><td>NA</td><td>NA</td><td>NA</td><td>NA</td></tr>\n",
       "\t<tr><td>1</td><td>9597154</td><td>11</td><td>129766749</td><td>2019-05-17</td><td>E</td><td>NA</td><td>1</td><td>PRO:ADV0039</td><td>739</td><td>E8B5E2E3-02ED-4E87-87CE-CBFFC08FCE7D</td><td>NA</td><td> 5</td><td>NA</td><td>NA</td><td>NA</td><td>NA</td></tr>\n",
       "\t<tr><td>1</td><td>8107501</td><td> 7</td><td>129768707</td><td>2019-02-01</td><td>E</td><td>NA</td><td>1</td><td>PRO:ADV0039</td><td>739</td><td>4FC94064-C829-4E7B-9D74-D1DC477D152C</td><td>NA</td><td>16</td><td>NA</td><td>NA</td><td>NA</td><td>NA</td></tr>\n",
       "\t<tr><td>1</td><td>8101842</td><td> 4</td><td>129769366</td><td>2019-04-26</td><td>E</td><td>NA</td><td>3</td><td>PRO:ADV0039</td><td>739</td><td>14464CC5-07E6-4968-A066-F45BA44AE332</td><td>NA</td><td> 4</td><td>NA</td><td>NA</td><td>NA</td><td>NA</td></tr>\n",
       "\t<tr><td>1</td><td>9590773</td><td> 5</td><td>129770008</td><td>2019-10-09</td><td>E</td><td>NA</td><td>2</td><td>PRO:ADV0039</td><td>739</td><td>C78A2046-1757-4986-9560-40271108F19C</td><td>NA</td><td> 4</td><td>NA</td><td>NA</td><td>NA</td><td>NA</td></tr>\n",
       "\t<tr><td>1</td><td>8109992</td><td> 6</td><td>129772120</td><td>2019-10-31</td><td>E</td><td>NA</td><td>1</td><td>PRO:ADV0039</td><td>739</td><td>5CA0D1BC-1A75-464F-8837-158AC6EBD74E</td><td>NA</td><td> 7</td><td>NA</td><td>NA</td><td>NA</td><td>NA</td></tr>\n",
       "\t<tr><td>⋮</td><td>⋮</td><td>⋮</td><td>⋮</td><td>⋮</td><td>⋮</td><td>⋮</td><td>⋮</td><td>⋮</td><td>⋮</td><td>⋮</td><td>⋮</td><td>⋮</td><td>⋮</td><td>⋮</td><td>⋮</td><td>⋮</td></tr>\n",
       "\t<tr><td>1</td><td>1879087</td><td> 6</td><td>104005426</td><td>2019-01-09</td><td>E</td><td>NA</td><td>20</td><td>PRO:ADV0039</td><td>692</td><td>5BB3473F-4ECE-45B0-8A7D-EBC97D271D83</td><td>NA</td><td> 7</td><td>NA</td><td>NA</td><td>NA</td><td>NA</td></tr>\n",
       "\t<tr><td>1</td><td>7159411</td><td>11</td><td>104006599</td><td>2019-01-08</td><td>E</td><td>NA</td><td>17</td><td>PRO:ADV0039</td><td>698</td><td>42C8D74A-9104-400B-A26E-D3B9F4890E91</td><td>NA</td><td> 7</td><td>NA</td><td>NA</td><td>NA</td><td>NA</td></tr>\n",
       "\t<tr><td>1</td><td>7162174</td><td> 5</td><td>104006641</td><td>2019-01-08</td><td>E</td><td>NA</td><td>23</td><td>PRO:ADV0039</td><td>679</td><td>61B0C3D5-442C-4B6D-898A-B6DF91C4C526</td><td>NA</td><td> 2</td><td>NA</td><td>NA</td><td>NA</td><td>NA</td></tr>\n",
       "\t<tr><td>1</td><td> 885366</td><td> 4</td><td>104007140</td><td>2019-01-09</td><td>E</td><td>NA</td><td>32</td><td>PRO:ADV0039</td><td>583</td><td>7F49B5E9-BD65-40E6-B1C3-037AB24E4272</td><td>NA</td><td> 6</td><td>NA</td><td>NA</td><td>NA</td><td>NA</td></tr>\n",
       "\t<tr><td>1</td><td>1471685</td><td>25</td><td>104007725</td><td>2019-01-11</td><td>E</td><td>NA</td><td>23</td><td>PRO:ADV0039</td><td>671</td><td>A3D26F51-A4E9-4F41-B2BB-32C646B62AF4</td><td>NA</td><td> 2</td><td>NA</td><td>NA</td><td>NA</td><td>NA</td></tr>\n",
       "\t<tr><td>1</td><td>1281639</td><td> 2</td><td>104007912</td><td>2019-01-09</td><td>E</td><td>NA</td><td>26</td><td>PRO:ADV0039</td><td>697</td><td>8C718B90-B707-4D1B-BCBC-0BCE570F73DE</td><td>NA</td><td> 5</td><td>NA</td><td>NA</td><td>NA</td><td>NA</td></tr>\n",
       "\t<tr><td>1</td><td>6996915</td><td>26</td><td>104009077</td><td>2019-01-10</td><td>E</td><td>NA</td><td> 6</td><td>PRO:ADV0039</td><td>609</td><td>FD7AC954-29ED-4E8E-9AC8-9DE2586339F3</td><td>NA</td><td> 3</td><td>NA</td><td>NA</td><td>NA</td><td>NA</td></tr>\n",
       "\t<tr><td>1</td><td>1522358</td><td>23</td><td>104009116</td><td>2019-01-10</td><td>E</td><td>NA</td><td> 6</td><td>PRO:ADV0039</td><td>697</td><td>BF9A7BF5-CC7D-4957-8C94-20A54FE5D3FF</td><td>NA</td><td>11</td><td>NA</td><td>NA</td><td>NA</td><td>NA</td></tr>\n",
       "\t<tr><td>1</td><td>3997808</td><td>20</td><td>104009551</td><td>2019-01-09</td><td>E</td><td>NA</td><td> 1</td><td>PRO:ADV0039</td><td>671</td><td>C46F2175-7C49-49FA-BCD0-679048C6D299</td><td>NA</td><td>16</td><td>NA</td><td>NA</td><td>NA</td><td>NA</td></tr>\n",
       "\t<tr><td>1</td><td>1264311</td><td>20</td><td>104008233</td><td>2019-01-10</td><td>E</td><td>NA</td><td> 1</td><td>PRO:ADV0039</td><td>671</td><td>21BD96E1-71EC-4AC2-ACBC-B544F93F8228</td><td>NA</td><td>25</td><td>NA</td><td>NA</td><td>NA</td><td>NA</td></tr>\n",
       "\t<tr><td>1</td><td>7158188</td><td>11</td><td>104009083</td><td>2019-01-09</td><td>E</td><td>NA</td><td>23</td><td>PRO:ADV0039</td><td>697</td><td>83312CC0-D504-41F8-A15A-AE9C04D280A2</td><td>NA</td><td> 4</td><td>NA</td><td>NA</td><td>NA</td><td>NA</td></tr>\n",
       "\t<tr><td>1</td><td>2099677</td><td>19</td><td>104010174</td><td>2019-01-11</td><td>E</td><td>NA</td><td> 6</td><td>PRO:ADV0039</td><td>697</td><td>BF9A7BF5-CC7D-4957-8C94-20A54FE5D3FF</td><td>NA</td><td>24</td><td>NA</td><td>NA</td><td>NA</td><td>NA</td></tr>\n",
       "\t<tr><td>1</td><td>7165043</td><td>22</td><td>104011246</td><td>2019-01-07</td><td>E</td><td>NA</td><td>12</td><td>PRO:ADV0039</td><td>697</td><td>219B7B6D-4D80-4657-ADE4-BCF4F69E5864</td><td>NA</td><td>34</td><td>NA</td><td>NA</td><td>NA</td><td>NA</td></tr>\n",
       "\t<tr><td>1</td><td>2333874</td><td> 7</td><td>104010657</td><td>2019-01-10</td><td>E</td><td>NA</td><td> 1</td><td>PRO:ADV0039</td><td>652</td><td>6EA2AFCB-D809-4C45-8ED0-3F3E3CBDE561</td><td>NA</td><td> 3</td><td>NA</td><td>NA</td><td>NA</td><td>NA</td></tr>\n",
       "\t<tr><td>1</td><td>3677159</td><td>18</td><td>104010788</td><td>2019-01-08</td><td>E</td><td>NA</td><td> 8</td><td>PRO:ADV0039</td><td>692</td><td>F0BDC4C4-6711-4240-9B29-128138CF6544</td><td>NA</td><td> 5</td><td>NA</td><td>NA</td><td>NA</td><td>NA</td></tr>\n",
       "\t<tr><td>1</td><td>5610355</td><td> 3</td><td>104010829</td><td>2019-01-11</td><td>E</td><td>NA</td><td> 9</td><td>PRO:ADV0039</td><td>684</td><td>BDAE42C5-468A-428B-BB4C-E706DC06B6FC</td><td>NA</td><td> 2</td><td>NA</td><td>NA</td><td>NA</td><td>NA</td></tr>\n",
       "\t<tr><td>1</td><td>3447554</td><td>14</td><td>104010463</td><td>2019-01-10</td><td>E</td><td>NA</td><td>20</td><td>PRO:ADV0039</td><td>671</td><td>9116BEBB-4250-4D79-9E27-59BA038697D1</td><td>NA</td><td>17</td><td>NA</td><td>NA</td><td>NA</td><td>NA</td></tr>\n",
       "\t<tr><td>1</td><td> 488504</td><td>14</td><td>104011131</td><td>2019-01-10</td><td>E</td><td>NA</td><td> 7</td><td>PRO:ADV0039</td><td>642</td><td>40D07035-F9E2-457F-A88F-E360DA31D265</td><td>NA</td><td>10</td><td>NA</td><td>NA</td><td>NA</td><td>NA</td></tr>\n",
       "\t<tr><td>1</td><td>6733871</td><td> 9</td><td>104011195</td><td>2019-01-08</td><td>E</td><td>NA</td><td>23</td><td>PRO:ADV0039</td><td>643</td><td>53B5A361-953F-4AFB-A5C0-E8B3AE3614E2</td><td>NA</td><td> 4</td><td>NA</td><td>NA</td><td>NA</td><td>NA</td></tr>\n",
       "\t<tr><td>1</td><td>2898133</td><td>24</td><td>104011263</td><td>2019-01-09</td><td>E</td><td>NA</td><td> 4</td><td>PRO:ADV0039</td><td>609</td><td>0586AF86-0080-4C57-897F-477627B2B35C</td><td>NA</td><td>10</td><td>NA</td><td>NA</td><td>NA</td><td>NA</td></tr>\n",
       "\t<tr><td>1</td><td>2623475</td><td>13</td><td>104012585</td><td>2019-01-10</td><td>E</td><td>NA</td><td> 5</td><td>PRO:ADV0039</td><td>652</td><td>9C6E621A-C85B-4425-88E0-51F4966D1593</td><td>NA</td><td>24</td><td>NA</td><td>NA</td><td>NA</td><td>NA</td></tr>\n",
       "\t<tr><td>1</td><td>4367189</td><td> 0</td><td>104013485</td><td>2019-01-09</td><td>E</td><td>NA</td><td> 9</td><td>PRO:ADV0039</td><td>637</td><td>252D46C2-0494-4A08-BD8C-A8C171929D7C</td><td>NA</td><td> 2</td><td>NA</td><td>NA</td><td>NA</td><td>NA</td></tr>\n",
       "\t<tr><td>1</td><td> 531391</td><td>11</td><td>104014088</td><td>2019-01-10</td><td>E</td><td>NA</td><td>25</td><td>PRO:ADV0039</td><td>637</td><td>560A01CC-0F26-4831-89E9-A68DF7C28F71</td><td>NA</td><td> 2</td><td>NA</td><td>NA</td><td>NA</td><td>NA</td></tr>\n",
       "\t<tr><td>1</td><td>1947387</td><td> 5</td><td>104015337</td><td>2019-01-11</td><td>E</td><td>NA</td><td>14</td><td>PRO:ADV0039</td><td>578</td><td>4B25FED7-C90A-4168-AE0B-72A7B60E64E4</td><td>NA</td><td> 9</td><td>NA</td><td>NA</td><td>NA</td><td>NA</td></tr>\n",
       "\t<tr><td>1</td><td>7165923</td><td> 8</td><td>104015768</td><td>2019-01-07</td><td>E</td><td>NA</td><td>22</td><td>PRO:ADV0039</td><td>698</td><td>9D3DB28F-D077-48B2-A950-25B47090244E</td><td>NA</td><td> 5</td><td>NA</td><td>NA</td><td>NA</td><td>NA</td></tr>\n",
       "\t<tr><td>1</td><td>7158430</td><td>13</td><td>104017192</td><td>2019-01-11</td><td>E</td><td>NA</td><td>28</td><td>PRO:ADV0039</td><td>697</td><td>2C7C6952-209C-4AEB-9FB4-E8217A6D91F4</td><td>NA</td><td> 3</td><td>NA</td><td>NA</td><td>NA</td><td>NA</td></tr>\n",
       "\t<tr><td>1</td><td>6202662</td><td> 8</td><td>104011939</td><td>2019-01-14</td><td>E</td><td>NA</td><td> 1</td><td>PRO:ADV0039</td><td>684</td><td>13C654B0-7581-43EF-BB77-CB0D39FB8041</td><td>NA</td><td> 2</td><td>NA</td><td>NA</td><td>NA</td><td>NA</td></tr>\n",
       "\t<tr><td>1</td><td> 131495</td><td> 1</td><td>104018988</td><td>2019-01-09</td><td>E</td><td>NA</td><td> 8</td><td>PRO:ADV0039</td><td>686</td><td>DB17BAE7-966A-4FE5-B223-78A6B4AE1773</td><td>NA</td><td> 5</td><td>NA</td><td>NA</td><td>NA</td><td>NA</td></tr>\n",
       "\t<tr><td>1</td><td>3175600</td><td> 6</td><td>104020170</td><td>2019-01-09</td><td>E</td><td>NA</td><td>31</td><td>PRO:ADV0039</td><td>637</td><td>5AA8474C-4B5F-4A8B-BB37-3FBF4E6F41B9</td><td>NA</td><td> 4</td><td>NA</td><td>NA</td><td>NA</td><td>NA</td></tr>\n",
       "\t<tr><td>1</td><td>5919369</td><td> 5</td><td>104020447</td><td>2019-01-11</td><td>E</td><td>NA</td><td> 9</td><td>PRO:ADV0039</td><td>684</td><td>F69386F5-ED05-4127-8239-C028A389F6D3</td><td>NA</td><td>10</td><td>NA</td><td>NA</td><td>NA</td><td>NA</td></tr>\n",
       "</tbody>\n",
       "</table>\n"
      ],
      "text/latex": [
       "A tibble: 95242 × 17\n",
       "\\begin{tabular}{lllllllllllllllll}\n",
       " n & phqPT & PhqScore & phqEnc & AdminDate & TVAL\\_CHAR & NAME\\_CHAR & INSTANCE\\_NUM & CONCEPT\\_CD & HEALTH\\_SYSTEM\\_ID & PROVIDER\\_ID & NA & Audit & Phq2 & BMI & DiastolicBP & SystolicBP\\\\\n",
       " <dbl> & <int> & <dbl> & <int> & <dttm> & <chr> & <chr> & <int> & <chr> & <chr> & <chr> & <dbl> & <dbl> & <dbl> & <dbl> & <dbl> & <dbl>\\\\\n",
       "\\hline\n",
       "\t 1 & 8109461 &  6 & 129466629 & 2019-06-21 & E & NA & 2 & PRO:ADV0039 & 739 & 859CCCCE-6917-41FD-98FC-0A22A10EE052 & NA &  2 & NA & NA & NA & NA\\\\\n",
       "\t 1 & 8103638 & 17 & 129467885 & 2019-04-18 & E & NA & 1 & PRO:ADV0039 & 739 & 46F49C56-0337-4656-A563-8FFF82070C97 & NA &  2 & NA & NA & NA & NA\\\\\n",
       "\t 1 & 8109280 &  2 & 129467891 & 2019-03-25 & E & NA & 1 & PRO:ADV0039 & 739 & 1F8BD698-1432-4786-91B5-9105FAD6390C & NA &  4 & NA & NA & NA & NA\\\\\n",
       "\t 1 & 9595480 & 10 & 129468656 & 2018-10-04 & E & NA & 3 & PRO:ADV0039 & 739 & 7EABBDF5-D036-499A-A5CD-067978F21050 & NA & 13 & NA & NA & NA & NA\\\\\n",
       "\t 1 & 9595784 &  0 & 129470583 & 2019-09-19 & E & NA & 1 & PRO:ADV0039 & 739 & 64B40124-B255-4355-B639-933DBF01543E & NA & 16 & NA & NA & NA & NA\\\\\n",
       "\t 1 & 9592157 &  3 & 129470856 & 2018-11-27 & E & NA & 2 & PRO:ADV0039 & 739 & D34DCC8A-61BF-4ED6-A8D6-D7E0F31C914F & NA &  4 & NA & NA & NA & NA\\\\\n",
       "\t 1 & 9588105 &  3 & 129470910 & 2018-11-09 & E & NA & 2 & PRO:ADV0039 & 739 & 5F22C01B-0393-4904-84E1-A3145004AE0A & NA &  6 & NA & NA & NA & NA\\\\\n",
       "\t 1 & 9592492 &  7 & 129488342 & 2018-07-25 & E & NA & 3 & PRO:ADV0039 & 739 & 938EF875-FB3A-4A27-B121-6092DC030A04 & NA &  9 & NA & NA & NA & NA\\\\\n",
       "\t 1 & 9595799 & 15 & 129502084 & 2018-11-14 & E & NA & 3 & PRO:ADV0039 & 739 & EADBD4E6-38EF-4059-83B9-2173D18557A6 & NA &  7 & NA & NA & NA & NA\\\\\n",
       "\t 1 & 8109134 & 11 & 129504532 & 2019-09-06 & E & NA & 1 & PRO:ADV0039 & 739 & C791ECB1-118D-4159-84A1-B8BB03AA80F3 & NA &  5 & NA & NA & NA & NA\\\\\n",
       "\t 1 & 8105268 & 24 & 129506484 & 2019-02-20 & E & NA & 1 & PRO:ADV0039 & 739 & 46F49C56-0337-4656-A563-8FFF82070C97 & NA &  5 & NA & NA & NA & NA\\\\\n",
       "\t 1 & 8102149 &  4 & 129524142 & 2019-04-16 & E & NA & 1 & PRO:ADV0039 & 739 & 673EA332-0B88-4FBB-B626-2113A4F732D6 & NA &  5 & NA & NA & NA & NA\\\\\n",
       "\t 1 & 8105369 & 16 & 129547165 & 2019-02-07 & E & NA & 2 & PRO:ADV0039 & 739 & 39FFAF4D-4524-40C4-B1D7-BA5A169BA832 & NA & 18 & NA & NA & NA & NA\\\\\n",
       "\t 1 & 8107937 &  4 & 129547699 & 2019-07-08 & E & NA & 1 & PRO:ADV0039 & 739 & 9408C684-5C78-42E6-9CDF-FB3DE55EA853 & NA & 12 & NA & NA & NA & NA\\\\\n",
       "\t 1 & 8104890 & 14 & 129550602 & 2018-11-20 & E & NA & 3 & PRO:ADV0039 & 739 & 375B43EC-BBFB-4A4F-9E1C-E56E1FFC412E & NA &  7 & NA & NA & NA & NA\\\\\n",
       "\t 1 & 9591882 &  9 & 129550618 & 2018-11-09 & E & NA & 1 & PRO:ADV0039 & 739 & 47CA3EA0-DA71-472B-ACEA-1364394B799E & NA &  6 & NA & NA & NA & NA\\\\\n",
       "\t 1 & 8106973 &  9 & 129738849 & 2018-09-18 & E & NA & 3 & PRO:ADV0039 & 739 & E337C299-F67F-459E-809E-5063B1ACBBDF & NA &  8 & NA & NA & NA & NA\\\\\n",
       "\t 1 & 8111328 &  3 & 129739399 & 2019-10-31 & E & NA & 1 & PRO:ADV0039 & 739 & 8B31EFC0-7D98-46F7-BB4B-7D17B4C167AE & NA & 21 & NA & NA & NA & NA\\\\\n",
       "\t 1 & 8107121 & 11 & 129757651 & 2019-02-05 & E & NA & 1 & PRO:ADV0039 & 739 & D01C24BE-AD74-4AEF-A0E4-D23A13977964 & NA & 11 & NA & NA & NA & NA\\\\\n",
       "\t 1 & 8108789 & 22 & 129757170 & 2018-08-16 & E & NA & 1 & PRO:ADV0039 & 739 & EADBD4E6-38EF-4059-83B9-2173D18557A6 & NA &  9 & NA & NA & NA & NA\\\\\n",
       "\t 1 & 8102425 & 19 & 129758524 & 2018-11-08 & E & NA & 3 & PRO:ADV0039 & 739 & 5F22C01B-0393-4904-84E1-A3145004AE0A & NA &  4 & NA & NA & NA & NA\\\\\n",
       "\t 1 & 9594535 & 24 & 129761145 & 2018-10-19 & E & NA & 1 & PRO:ADV0039 & 739 & CB312DDF-8303-4674-BF06-CE4825A7D80E & NA &  3 & NA & NA & NA & NA\\\\\n",
       "\t 1 & 8105389 & 10 & 129763672 & 2018-12-03 & E & NA & 1 & PRO:ADV0039 & 739 & CC470860-150D-49BB-93EA-236372D23494 & NA & 16 & NA & NA & NA & NA\\\\\n",
       "\t 1 & 8106711 &  7 & 129765154 & 2018-11-21 & E & NA & 1 & PRO:ADV0039 & 739 & 2F2E983D-07FB-48AA-BF9C-C78E3F4FC81C & NA &  4 & NA & NA & NA & NA\\\\\n",
       "\t 1 & 8110781 &  9 & 129765385 & 2019-04-25 & E & NA & 2 & PRO:ADV0039 & 739 & 5F22C01B-0393-4904-84E1-A3145004AE0A & NA &  3 & NA & NA & NA & NA\\\\\n",
       "\t 1 & 9597154 & 11 & 129766749 & 2019-05-17 & E & NA & 1 & PRO:ADV0039 & 739 & E8B5E2E3-02ED-4E87-87CE-CBFFC08FCE7D & NA &  5 & NA & NA & NA & NA\\\\\n",
       "\t 1 & 8107501 &  7 & 129768707 & 2019-02-01 & E & NA & 1 & PRO:ADV0039 & 739 & 4FC94064-C829-4E7B-9D74-D1DC477D152C & NA & 16 & NA & NA & NA & NA\\\\\n",
       "\t 1 & 8101842 &  4 & 129769366 & 2019-04-26 & E & NA & 3 & PRO:ADV0039 & 739 & 14464CC5-07E6-4968-A066-F45BA44AE332 & NA &  4 & NA & NA & NA & NA\\\\\n",
       "\t 1 & 9590773 &  5 & 129770008 & 2019-10-09 & E & NA & 2 & PRO:ADV0039 & 739 & C78A2046-1757-4986-9560-40271108F19C & NA &  4 & NA & NA & NA & NA\\\\\n",
       "\t 1 & 8109992 &  6 & 129772120 & 2019-10-31 & E & NA & 1 & PRO:ADV0039 & 739 & 5CA0D1BC-1A75-464F-8837-158AC6EBD74E & NA &  7 & NA & NA & NA & NA\\\\\n",
       "\t ⋮ & ⋮ & ⋮ & ⋮ & ⋮ & ⋮ & ⋮ & ⋮ & ⋮ & ⋮ & ⋮ & ⋮ & ⋮ & ⋮ & ⋮ & ⋮ & ⋮\\\\\n",
       "\t 1 & 1879087 &  6 & 104005426 & 2019-01-09 & E & NA & 20 & PRO:ADV0039 & 692 & 5BB3473F-4ECE-45B0-8A7D-EBC97D271D83 & NA &  7 & NA & NA & NA & NA\\\\\n",
       "\t 1 & 7159411 & 11 & 104006599 & 2019-01-08 & E & NA & 17 & PRO:ADV0039 & 698 & 42C8D74A-9104-400B-A26E-D3B9F4890E91 & NA &  7 & NA & NA & NA & NA\\\\\n",
       "\t 1 & 7162174 &  5 & 104006641 & 2019-01-08 & E & NA & 23 & PRO:ADV0039 & 679 & 61B0C3D5-442C-4B6D-898A-B6DF91C4C526 & NA &  2 & NA & NA & NA & NA\\\\\n",
       "\t 1 &  885366 &  4 & 104007140 & 2019-01-09 & E & NA & 32 & PRO:ADV0039 & 583 & 7F49B5E9-BD65-40E6-B1C3-037AB24E4272 & NA &  6 & NA & NA & NA & NA\\\\\n",
       "\t 1 & 1471685 & 25 & 104007725 & 2019-01-11 & E & NA & 23 & PRO:ADV0039 & 671 & A3D26F51-A4E9-4F41-B2BB-32C646B62AF4 & NA &  2 & NA & NA & NA & NA\\\\\n",
       "\t 1 & 1281639 &  2 & 104007912 & 2019-01-09 & E & NA & 26 & PRO:ADV0039 & 697 & 8C718B90-B707-4D1B-BCBC-0BCE570F73DE & NA &  5 & NA & NA & NA & NA\\\\\n",
       "\t 1 & 6996915 & 26 & 104009077 & 2019-01-10 & E & NA &  6 & PRO:ADV0039 & 609 & FD7AC954-29ED-4E8E-9AC8-9DE2586339F3 & NA &  3 & NA & NA & NA & NA\\\\\n",
       "\t 1 & 1522358 & 23 & 104009116 & 2019-01-10 & E & NA &  6 & PRO:ADV0039 & 697 & BF9A7BF5-CC7D-4957-8C94-20A54FE5D3FF & NA & 11 & NA & NA & NA & NA\\\\\n",
       "\t 1 & 3997808 & 20 & 104009551 & 2019-01-09 & E & NA &  1 & PRO:ADV0039 & 671 & C46F2175-7C49-49FA-BCD0-679048C6D299 & NA & 16 & NA & NA & NA & NA\\\\\n",
       "\t 1 & 1264311 & 20 & 104008233 & 2019-01-10 & E & NA &  1 & PRO:ADV0039 & 671 & 21BD96E1-71EC-4AC2-ACBC-B544F93F8228 & NA & 25 & NA & NA & NA & NA\\\\\n",
       "\t 1 & 7158188 & 11 & 104009083 & 2019-01-09 & E & NA & 23 & PRO:ADV0039 & 697 & 83312CC0-D504-41F8-A15A-AE9C04D280A2 & NA &  4 & NA & NA & NA & NA\\\\\n",
       "\t 1 & 2099677 & 19 & 104010174 & 2019-01-11 & E & NA &  6 & PRO:ADV0039 & 697 & BF9A7BF5-CC7D-4957-8C94-20A54FE5D3FF & NA & 24 & NA & NA & NA & NA\\\\\n",
       "\t 1 & 7165043 & 22 & 104011246 & 2019-01-07 & E & NA & 12 & PRO:ADV0039 & 697 & 219B7B6D-4D80-4657-ADE4-BCF4F69E5864 & NA & 34 & NA & NA & NA & NA\\\\\n",
       "\t 1 & 2333874 &  7 & 104010657 & 2019-01-10 & E & NA &  1 & PRO:ADV0039 & 652 & 6EA2AFCB-D809-4C45-8ED0-3F3E3CBDE561 & NA &  3 & NA & NA & NA & NA\\\\\n",
       "\t 1 & 3677159 & 18 & 104010788 & 2019-01-08 & E & NA &  8 & PRO:ADV0039 & 692 & F0BDC4C4-6711-4240-9B29-128138CF6544 & NA &  5 & NA & NA & NA & NA\\\\\n",
       "\t 1 & 5610355 &  3 & 104010829 & 2019-01-11 & E & NA &  9 & PRO:ADV0039 & 684 & BDAE42C5-468A-428B-BB4C-E706DC06B6FC & NA &  2 & NA & NA & NA & NA\\\\\n",
       "\t 1 & 3447554 & 14 & 104010463 & 2019-01-10 & E & NA & 20 & PRO:ADV0039 & 671 & 9116BEBB-4250-4D79-9E27-59BA038697D1 & NA & 17 & NA & NA & NA & NA\\\\\n",
       "\t 1 &  488504 & 14 & 104011131 & 2019-01-10 & E & NA &  7 & PRO:ADV0039 & 642 & 40D07035-F9E2-457F-A88F-E360DA31D265 & NA & 10 & NA & NA & NA & NA\\\\\n",
       "\t 1 & 6733871 &  9 & 104011195 & 2019-01-08 & E & NA & 23 & PRO:ADV0039 & 643 & 53B5A361-953F-4AFB-A5C0-E8B3AE3614E2 & NA &  4 & NA & NA & NA & NA\\\\\n",
       "\t 1 & 2898133 & 24 & 104011263 & 2019-01-09 & E & NA &  4 & PRO:ADV0039 & 609 & 0586AF86-0080-4C57-897F-477627B2B35C & NA & 10 & NA & NA & NA & NA\\\\\n",
       "\t 1 & 2623475 & 13 & 104012585 & 2019-01-10 & E & NA &  5 & PRO:ADV0039 & 652 & 9C6E621A-C85B-4425-88E0-51F4966D1593 & NA & 24 & NA & NA & NA & NA\\\\\n",
       "\t 1 & 4367189 &  0 & 104013485 & 2019-01-09 & E & NA &  9 & PRO:ADV0039 & 637 & 252D46C2-0494-4A08-BD8C-A8C171929D7C & NA &  2 & NA & NA & NA & NA\\\\\n",
       "\t 1 &  531391 & 11 & 104014088 & 2019-01-10 & E & NA & 25 & PRO:ADV0039 & 637 & 560A01CC-0F26-4831-89E9-A68DF7C28F71 & NA &  2 & NA & NA & NA & NA\\\\\n",
       "\t 1 & 1947387 &  5 & 104015337 & 2019-01-11 & E & NA & 14 & PRO:ADV0039 & 578 & 4B25FED7-C90A-4168-AE0B-72A7B60E64E4 & NA &  9 & NA & NA & NA & NA\\\\\n",
       "\t 1 & 7165923 &  8 & 104015768 & 2019-01-07 & E & NA & 22 & PRO:ADV0039 & 698 & 9D3DB28F-D077-48B2-A950-25B47090244E & NA &  5 & NA & NA & NA & NA\\\\\n",
       "\t 1 & 7158430 & 13 & 104017192 & 2019-01-11 & E & NA & 28 & PRO:ADV0039 & 697 & 2C7C6952-209C-4AEB-9FB4-E8217A6D91F4 & NA &  3 & NA & NA & NA & NA\\\\\n",
       "\t 1 & 6202662 &  8 & 104011939 & 2019-01-14 & E & NA &  1 & PRO:ADV0039 & 684 & 13C654B0-7581-43EF-BB77-CB0D39FB8041 & NA &  2 & NA & NA & NA & NA\\\\\n",
       "\t 1 &  131495 &  1 & 104018988 & 2019-01-09 & E & NA &  8 & PRO:ADV0039 & 686 & DB17BAE7-966A-4FE5-B223-78A6B4AE1773 & NA &  5 & NA & NA & NA & NA\\\\\n",
       "\t 1 & 3175600 &  6 & 104020170 & 2019-01-09 & E & NA & 31 & PRO:ADV0039 & 637 & 5AA8474C-4B5F-4A8B-BB37-3FBF4E6F41B9 & NA &  4 & NA & NA & NA & NA\\\\\n",
       "\t 1 & 5919369 &  5 & 104020447 & 2019-01-11 & E & NA &  9 & PRO:ADV0039 & 684 & F69386F5-ED05-4127-8239-C028A389F6D3 & NA & 10 & NA & NA & NA & NA\\\\\n",
       "\\end{tabular}\n"
      ],
      "text/markdown": [
       "\n",
       "A tibble: 95242 × 17\n",
       "\n",
       "| n &lt;dbl&gt; | phqPT &lt;int&gt; | PhqScore &lt;dbl&gt; | phqEnc &lt;int&gt; | AdminDate &lt;dttm&gt; | TVAL_CHAR &lt;chr&gt; | NAME_CHAR &lt;chr&gt; | INSTANCE_NUM &lt;int&gt; | CONCEPT_CD &lt;chr&gt; | HEALTH_SYSTEM_ID &lt;chr&gt; | PROVIDER_ID &lt;chr&gt; | NA &lt;dbl&gt; | Audit &lt;dbl&gt; | Phq2 &lt;dbl&gt; | BMI &lt;dbl&gt; | DiastolicBP &lt;dbl&gt; | SystolicBP &lt;dbl&gt; |\n",
       "|---|---|---|---|---|---|---|---|---|---|---|---|---|---|---|---|---|\n",
       "| 1 | 8109461 |  6 | 129466629 | 2019-06-21 | E | NA | 2 | PRO:ADV0039 | 739 | 859CCCCE-6917-41FD-98FC-0A22A10EE052 | NA |  2 | NA | NA | NA | NA |\n",
       "| 1 | 8103638 | 17 | 129467885 | 2019-04-18 | E | NA | 1 | PRO:ADV0039 | 739 | 46F49C56-0337-4656-A563-8FFF82070C97 | NA |  2 | NA | NA | NA | NA |\n",
       "| 1 | 8109280 |  2 | 129467891 | 2019-03-25 | E | NA | 1 | PRO:ADV0039 | 739 | 1F8BD698-1432-4786-91B5-9105FAD6390C | NA |  4 | NA | NA | NA | NA |\n",
       "| 1 | 9595480 | 10 | 129468656 | 2018-10-04 | E | NA | 3 | PRO:ADV0039 | 739 | 7EABBDF5-D036-499A-A5CD-067978F21050 | NA | 13 | NA | NA | NA | NA |\n",
       "| 1 | 9595784 |  0 | 129470583 | 2019-09-19 | E | NA | 1 | PRO:ADV0039 | 739 | 64B40124-B255-4355-B639-933DBF01543E | NA | 16 | NA | NA | NA | NA |\n",
       "| 1 | 9592157 |  3 | 129470856 | 2018-11-27 | E | NA | 2 | PRO:ADV0039 | 739 | D34DCC8A-61BF-4ED6-A8D6-D7E0F31C914F | NA |  4 | NA | NA | NA | NA |\n",
       "| 1 | 9588105 |  3 | 129470910 | 2018-11-09 | E | NA | 2 | PRO:ADV0039 | 739 | 5F22C01B-0393-4904-84E1-A3145004AE0A | NA |  6 | NA | NA | NA | NA |\n",
       "| 1 | 9592492 |  7 | 129488342 | 2018-07-25 | E | NA | 3 | PRO:ADV0039 | 739 | 938EF875-FB3A-4A27-B121-6092DC030A04 | NA |  9 | NA | NA | NA | NA |\n",
       "| 1 | 9595799 | 15 | 129502084 | 2018-11-14 | E | NA | 3 | PRO:ADV0039 | 739 | EADBD4E6-38EF-4059-83B9-2173D18557A6 | NA |  7 | NA | NA | NA | NA |\n",
       "| 1 | 8109134 | 11 | 129504532 | 2019-09-06 | E | NA | 1 | PRO:ADV0039 | 739 | C791ECB1-118D-4159-84A1-B8BB03AA80F3 | NA |  5 | NA | NA | NA | NA |\n",
       "| 1 | 8105268 | 24 | 129506484 | 2019-02-20 | E | NA | 1 | PRO:ADV0039 | 739 | 46F49C56-0337-4656-A563-8FFF82070C97 | NA |  5 | NA | NA | NA | NA |\n",
       "| 1 | 8102149 |  4 | 129524142 | 2019-04-16 | E | NA | 1 | PRO:ADV0039 | 739 | 673EA332-0B88-4FBB-B626-2113A4F732D6 | NA |  5 | NA | NA | NA | NA |\n",
       "| 1 | 8105369 | 16 | 129547165 | 2019-02-07 | E | NA | 2 | PRO:ADV0039 | 739 | 39FFAF4D-4524-40C4-B1D7-BA5A169BA832 | NA | 18 | NA | NA | NA | NA |\n",
       "| 1 | 8107937 |  4 | 129547699 | 2019-07-08 | E | NA | 1 | PRO:ADV0039 | 739 | 9408C684-5C78-42E6-9CDF-FB3DE55EA853 | NA | 12 | NA | NA | NA | NA |\n",
       "| 1 | 8104890 | 14 | 129550602 | 2018-11-20 | E | NA | 3 | PRO:ADV0039 | 739 | 375B43EC-BBFB-4A4F-9E1C-E56E1FFC412E | NA |  7 | NA | NA | NA | NA |\n",
       "| 1 | 9591882 |  9 | 129550618 | 2018-11-09 | E | NA | 1 | PRO:ADV0039 | 739 | 47CA3EA0-DA71-472B-ACEA-1364394B799E | NA |  6 | NA | NA | NA | NA |\n",
       "| 1 | 8106973 |  9 | 129738849 | 2018-09-18 | E | NA | 3 | PRO:ADV0039 | 739 | E337C299-F67F-459E-809E-5063B1ACBBDF | NA |  8 | NA | NA | NA | NA |\n",
       "| 1 | 8111328 |  3 | 129739399 | 2019-10-31 | E | NA | 1 | PRO:ADV0039 | 739 | 8B31EFC0-7D98-46F7-BB4B-7D17B4C167AE | NA | 21 | NA | NA | NA | NA |\n",
       "| 1 | 8107121 | 11 | 129757651 | 2019-02-05 | E | NA | 1 | PRO:ADV0039 | 739 | D01C24BE-AD74-4AEF-A0E4-D23A13977964 | NA | 11 | NA | NA | NA | NA |\n",
       "| 1 | 8108789 | 22 | 129757170 | 2018-08-16 | E | NA | 1 | PRO:ADV0039 | 739 | EADBD4E6-38EF-4059-83B9-2173D18557A6 | NA |  9 | NA | NA | NA | NA |\n",
       "| 1 | 8102425 | 19 | 129758524 | 2018-11-08 | E | NA | 3 | PRO:ADV0039 | 739 | 5F22C01B-0393-4904-84E1-A3145004AE0A | NA |  4 | NA | NA | NA | NA |\n",
       "| 1 | 9594535 | 24 | 129761145 | 2018-10-19 | E | NA | 1 | PRO:ADV0039 | 739 | CB312DDF-8303-4674-BF06-CE4825A7D80E | NA |  3 | NA | NA | NA | NA |\n",
       "| 1 | 8105389 | 10 | 129763672 | 2018-12-03 | E | NA | 1 | PRO:ADV0039 | 739 | CC470860-150D-49BB-93EA-236372D23494 | NA | 16 | NA | NA | NA | NA |\n",
       "| 1 | 8106711 |  7 | 129765154 | 2018-11-21 | E | NA | 1 | PRO:ADV0039 | 739 | 2F2E983D-07FB-48AA-BF9C-C78E3F4FC81C | NA |  4 | NA | NA | NA | NA |\n",
       "| 1 | 8110781 |  9 | 129765385 | 2019-04-25 | E | NA | 2 | PRO:ADV0039 | 739 | 5F22C01B-0393-4904-84E1-A3145004AE0A | NA |  3 | NA | NA | NA | NA |\n",
       "| 1 | 9597154 | 11 | 129766749 | 2019-05-17 | E | NA | 1 | PRO:ADV0039 | 739 | E8B5E2E3-02ED-4E87-87CE-CBFFC08FCE7D | NA |  5 | NA | NA | NA | NA |\n",
       "| 1 | 8107501 |  7 | 129768707 | 2019-02-01 | E | NA | 1 | PRO:ADV0039 | 739 | 4FC94064-C829-4E7B-9D74-D1DC477D152C | NA | 16 | NA | NA | NA | NA |\n",
       "| 1 | 8101842 |  4 | 129769366 | 2019-04-26 | E | NA | 3 | PRO:ADV0039 | 739 | 14464CC5-07E6-4968-A066-F45BA44AE332 | NA |  4 | NA | NA | NA | NA |\n",
       "| 1 | 9590773 |  5 | 129770008 | 2019-10-09 | E | NA | 2 | PRO:ADV0039 | 739 | C78A2046-1757-4986-9560-40271108F19C | NA |  4 | NA | NA | NA | NA |\n",
       "| 1 | 8109992 |  6 | 129772120 | 2019-10-31 | E | NA | 1 | PRO:ADV0039 | 739 | 5CA0D1BC-1A75-464F-8837-158AC6EBD74E | NA |  7 | NA | NA | NA | NA |\n",
       "| ⋮ | ⋮ | ⋮ | ⋮ | ⋮ | ⋮ | ⋮ | ⋮ | ⋮ | ⋮ | ⋮ | ⋮ | ⋮ | ⋮ | ⋮ | ⋮ | ⋮ |\n",
       "| 1 | 1879087 |  6 | 104005426 | 2019-01-09 | E | NA | 20 | PRO:ADV0039 | 692 | 5BB3473F-4ECE-45B0-8A7D-EBC97D271D83 | NA |  7 | NA | NA | NA | NA |\n",
       "| 1 | 7159411 | 11 | 104006599 | 2019-01-08 | E | NA | 17 | PRO:ADV0039 | 698 | 42C8D74A-9104-400B-A26E-D3B9F4890E91 | NA |  7 | NA | NA | NA | NA |\n",
       "| 1 | 7162174 |  5 | 104006641 | 2019-01-08 | E | NA | 23 | PRO:ADV0039 | 679 | 61B0C3D5-442C-4B6D-898A-B6DF91C4C526 | NA |  2 | NA | NA | NA | NA |\n",
       "| 1 |  885366 |  4 | 104007140 | 2019-01-09 | E | NA | 32 | PRO:ADV0039 | 583 | 7F49B5E9-BD65-40E6-B1C3-037AB24E4272 | NA |  6 | NA | NA | NA | NA |\n",
       "| 1 | 1471685 | 25 | 104007725 | 2019-01-11 | E | NA | 23 | PRO:ADV0039 | 671 | A3D26F51-A4E9-4F41-B2BB-32C646B62AF4 | NA |  2 | NA | NA | NA | NA |\n",
       "| 1 | 1281639 |  2 | 104007912 | 2019-01-09 | E | NA | 26 | PRO:ADV0039 | 697 | 8C718B90-B707-4D1B-BCBC-0BCE570F73DE | NA |  5 | NA | NA | NA | NA |\n",
       "| 1 | 6996915 | 26 | 104009077 | 2019-01-10 | E | NA |  6 | PRO:ADV0039 | 609 | FD7AC954-29ED-4E8E-9AC8-9DE2586339F3 | NA |  3 | NA | NA | NA | NA |\n",
       "| 1 | 1522358 | 23 | 104009116 | 2019-01-10 | E | NA |  6 | PRO:ADV0039 | 697 | BF9A7BF5-CC7D-4957-8C94-20A54FE5D3FF | NA | 11 | NA | NA | NA | NA |\n",
       "| 1 | 3997808 | 20 | 104009551 | 2019-01-09 | E | NA |  1 | PRO:ADV0039 | 671 | C46F2175-7C49-49FA-BCD0-679048C6D299 | NA | 16 | NA | NA | NA | NA |\n",
       "| 1 | 1264311 | 20 | 104008233 | 2019-01-10 | E | NA |  1 | PRO:ADV0039 | 671 | 21BD96E1-71EC-4AC2-ACBC-B544F93F8228 | NA | 25 | NA | NA | NA | NA |\n",
       "| 1 | 7158188 | 11 | 104009083 | 2019-01-09 | E | NA | 23 | PRO:ADV0039 | 697 | 83312CC0-D504-41F8-A15A-AE9C04D280A2 | NA |  4 | NA | NA | NA | NA |\n",
       "| 1 | 2099677 | 19 | 104010174 | 2019-01-11 | E | NA |  6 | PRO:ADV0039 | 697 | BF9A7BF5-CC7D-4957-8C94-20A54FE5D3FF | NA | 24 | NA | NA | NA | NA |\n",
       "| 1 | 7165043 | 22 | 104011246 | 2019-01-07 | E | NA | 12 | PRO:ADV0039 | 697 | 219B7B6D-4D80-4657-ADE4-BCF4F69E5864 | NA | 34 | NA | NA | NA | NA |\n",
       "| 1 | 2333874 |  7 | 104010657 | 2019-01-10 | E | NA |  1 | PRO:ADV0039 | 652 | 6EA2AFCB-D809-4C45-8ED0-3F3E3CBDE561 | NA |  3 | NA | NA | NA | NA |\n",
       "| 1 | 3677159 | 18 | 104010788 | 2019-01-08 | E | NA |  8 | PRO:ADV0039 | 692 | F0BDC4C4-6711-4240-9B29-128138CF6544 | NA |  5 | NA | NA | NA | NA |\n",
       "| 1 | 5610355 |  3 | 104010829 | 2019-01-11 | E | NA |  9 | PRO:ADV0039 | 684 | BDAE42C5-468A-428B-BB4C-E706DC06B6FC | NA |  2 | NA | NA | NA | NA |\n",
       "| 1 | 3447554 | 14 | 104010463 | 2019-01-10 | E | NA | 20 | PRO:ADV0039 | 671 | 9116BEBB-4250-4D79-9E27-59BA038697D1 | NA | 17 | NA | NA | NA | NA |\n",
       "| 1 |  488504 | 14 | 104011131 | 2019-01-10 | E | NA |  7 | PRO:ADV0039 | 642 | 40D07035-F9E2-457F-A88F-E360DA31D265 | NA | 10 | NA | NA | NA | NA |\n",
       "| 1 | 6733871 |  9 | 104011195 | 2019-01-08 | E | NA | 23 | PRO:ADV0039 | 643 | 53B5A361-953F-4AFB-A5C0-E8B3AE3614E2 | NA |  4 | NA | NA | NA | NA |\n",
       "| 1 | 2898133 | 24 | 104011263 | 2019-01-09 | E | NA |  4 | PRO:ADV0039 | 609 | 0586AF86-0080-4C57-897F-477627B2B35C | NA | 10 | NA | NA | NA | NA |\n",
       "| 1 | 2623475 | 13 | 104012585 | 2019-01-10 | E | NA |  5 | PRO:ADV0039 | 652 | 9C6E621A-C85B-4425-88E0-51F4966D1593 | NA | 24 | NA | NA | NA | NA |\n",
       "| 1 | 4367189 |  0 | 104013485 | 2019-01-09 | E | NA |  9 | PRO:ADV0039 | 637 | 252D46C2-0494-4A08-BD8C-A8C171929D7C | NA |  2 | NA | NA | NA | NA |\n",
       "| 1 |  531391 | 11 | 104014088 | 2019-01-10 | E | NA | 25 | PRO:ADV0039 | 637 | 560A01CC-0F26-4831-89E9-A68DF7C28F71 | NA |  2 | NA | NA | NA | NA |\n",
       "| 1 | 1947387 |  5 | 104015337 | 2019-01-11 | E | NA | 14 | PRO:ADV0039 | 578 | 4B25FED7-C90A-4168-AE0B-72A7B60E64E4 | NA |  9 | NA | NA | NA | NA |\n",
       "| 1 | 7165923 |  8 | 104015768 | 2019-01-07 | E | NA | 22 | PRO:ADV0039 | 698 | 9D3DB28F-D077-48B2-A950-25B47090244E | NA |  5 | NA | NA | NA | NA |\n",
       "| 1 | 7158430 | 13 | 104017192 | 2019-01-11 | E | NA | 28 | PRO:ADV0039 | 697 | 2C7C6952-209C-4AEB-9FB4-E8217A6D91F4 | NA |  3 | NA | NA | NA | NA |\n",
       "| 1 | 6202662 |  8 | 104011939 | 2019-01-14 | E | NA |  1 | PRO:ADV0039 | 684 | 13C654B0-7581-43EF-BB77-CB0D39FB8041 | NA |  2 | NA | NA | NA | NA |\n",
       "| 1 |  131495 |  1 | 104018988 | 2019-01-09 | E | NA |  8 | PRO:ADV0039 | 686 | DB17BAE7-966A-4FE5-B223-78A6B4AE1773 | NA |  5 | NA | NA | NA | NA |\n",
       "| 1 | 3175600 |  6 | 104020170 | 2019-01-09 | E | NA | 31 | PRO:ADV0039 | 637 | 5AA8474C-4B5F-4A8B-BB37-3FBF4E6F41B9 | NA |  4 | NA | NA | NA | NA |\n",
       "| 1 | 5919369 |  5 | 104020447 | 2019-01-11 | E | NA |  9 | PRO:ADV0039 | 684 | F69386F5-ED05-4127-8239-C028A389F6D3 | NA | 10 | NA | NA | NA | NA |\n",
       "\n"
      ],
      "text/plain": [
       "      n phqPT   PhqScore phqEnc    AdminDate  TVAL_CHAR NAME_CHAR INSTANCE_NUM\n",
       "1     1 8109461  6       129466629 2019-06-21 E         NA        2           \n",
       "2     1 8103638 17       129467885 2019-04-18 E         NA        1           \n",
       "3     1 8109280  2       129467891 2019-03-25 E         NA        1           \n",
       "4     1 9595480 10       129468656 2018-10-04 E         NA        3           \n",
       "5     1 9595784  0       129470583 2019-09-19 E         NA        1           \n",
       "6     1 9592157  3       129470856 2018-11-27 E         NA        2           \n",
       "7     1 9588105  3       129470910 2018-11-09 E         NA        2           \n",
       "8     1 9592492  7       129488342 2018-07-25 E         NA        3           \n",
       "9     1 9595799 15       129502084 2018-11-14 E         NA        3           \n",
       "10    1 8109134 11       129504532 2019-09-06 E         NA        1           \n",
       "11    1 8105268 24       129506484 2019-02-20 E         NA        1           \n",
       "12    1 8102149  4       129524142 2019-04-16 E         NA        1           \n",
       "13    1 8105369 16       129547165 2019-02-07 E         NA        2           \n",
       "14    1 8107937  4       129547699 2019-07-08 E         NA        1           \n",
       "15    1 8104890 14       129550602 2018-11-20 E         NA        3           \n",
       "16    1 9591882  9       129550618 2018-11-09 E         NA        1           \n",
       "17    1 8106973  9       129738849 2018-09-18 E         NA        3           \n",
       "18    1 8111328  3       129739399 2019-10-31 E         NA        1           \n",
       "19    1 8107121 11       129757651 2019-02-05 E         NA        1           \n",
       "20    1 8108789 22       129757170 2018-08-16 E         NA        1           \n",
       "21    1 8102425 19       129758524 2018-11-08 E         NA        3           \n",
       "22    1 9594535 24       129761145 2018-10-19 E         NA        1           \n",
       "23    1 8105389 10       129763672 2018-12-03 E         NA        1           \n",
       "24    1 8106711  7       129765154 2018-11-21 E         NA        1           \n",
       "25    1 8110781  9       129765385 2019-04-25 E         NA        2           \n",
       "26    1 9597154 11       129766749 2019-05-17 E         NA        1           \n",
       "27    1 8107501  7       129768707 2019-02-01 E         NA        1           \n",
       "28    1 8101842  4       129769366 2019-04-26 E         NA        3           \n",
       "29    1 9590773  5       129770008 2019-10-09 E         NA        2           \n",
       "30    1 8109992  6       129772120 2019-10-31 E         NA        1           \n",
       "⋮     ⋮ ⋮       ⋮        ⋮         ⋮          ⋮         ⋮         ⋮           \n",
       "95213 1 1879087  6       104005426 2019-01-09 E         NA        20          \n",
       "95214 1 7159411 11       104006599 2019-01-08 E         NA        17          \n",
       "95215 1 7162174  5       104006641 2019-01-08 E         NA        23          \n",
       "95216 1  885366  4       104007140 2019-01-09 E         NA        32          \n",
       "95217 1 1471685 25       104007725 2019-01-11 E         NA        23          \n",
       "95218 1 1281639  2       104007912 2019-01-09 E         NA        26          \n",
       "95219 1 6996915 26       104009077 2019-01-10 E         NA         6          \n",
       "95220 1 1522358 23       104009116 2019-01-10 E         NA         6          \n",
       "95221 1 3997808 20       104009551 2019-01-09 E         NA         1          \n",
       "95222 1 1264311 20       104008233 2019-01-10 E         NA         1          \n",
       "95223 1 7158188 11       104009083 2019-01-09 E         NA        23          \n",
       "95224 1 2099677 19       104010174 2019-01-11 E         NA         6          \n",
       "95225 1 7165043 22       104011246 2019-01-07 E         NA        12          \n",
       "95226 1 2333874  7       104010657 2019-01-10 E         NA         1          \n",
       "95227 1 3677159 18       104010788 2019-01-08 E         NA         8          \n",
       "95228 1 5610355  3       104010829 2019-01-11 E         NA         9          \n",
       "95229 1 3447554 14       104010463 2019-01-10 E         NA        20          \n",
       "95230 1  488504 14       104011131 2019-01-10 E         NA         7          \n",
       "95231 1 6733871  9       104011195 2019-01-08 E         NA        23          \n",
       "95232 1 2898133 24       104011263 2019-01-09 E         NA         4          \n",
       "95233 1 2623475 13       104012585 2019-01-10 E         NA         5          \n",
       "95234 1 4367189  0       104013485 2019-01-09 E         NA         9          \n",
       "95235 1  531391 11       104014088 2019-01-10 E         NA        25          \n",
       "95236 1 1947387  5       104015337 2019-01-11 E         NA        14          \n",
       "95237 1 7165923  8       104015768 2019-01-07 E         NA        22          \n",
       "95238 1 7158430 13       104017192 2019-01-11 E         NA        28          \n",
       "95239 1 6202662  8       104011939 2019-01-14 E         NA         1          \n",
       "95240 1  131495  1       104018988 2019-01-09 E         NA         8          \n",
       "95241 1 3175600  6       104020170 2019-01-09 E         NA        31          \n",
       "95242 1 5919369  5       104020447 2019-01-11 E         NA         9          \n",
       "      CONCEPT_CD  HEALTH_SYSTEM_ID PROVIDER_ID                          NA\n",
       "1     PRO:ADV0039 739              859CCCCE-6917-41FD-98FC-0A22A10EE052 NA\n",
       "2     PRO:ADV0039 739              46F49C56-0337-4656-A563-8FFF82070C97 NA\n",
       "3     PRO:ADV0039 739              1F8BD698-1432-4786-91B5-9105FAD6390C NA\n",
       "4     PRO:ADV0039 739              7EABBDF5-D036-499A-A5CD-067978F21050 NA\n",
       "5     PRO:ADV0039 739              64B40124-B255-4355-B639-933DBF01543E NA\n",
       "6     PRO:ADV0039 739              D34DCC8A-61BF-4ED6-A8D6-D7E0F31C914F NA\n",
       "7     PRO:ADV0039 739              5F22C01B-0393-4904-84E1-A3145004AE0A NA\n",
       "8     PRO:ADV0039 739              938EF875-FB3A-4A27-B121-6092DC030A04 NA\n",
       "9     PRO:ADV0039 739              EADBD4E6-38EF-4059-83B9-2173D18557A6 NA\n",
       "10    PRO:ADV0039 739              C791ECB1-118D-4159-84A1-B8BB03AA80F3 NA\n",
       "11    PRO:ADV0039 739              46F49C56-0337-4656-A563-8FFF82070C97 NA\n",
       "12    PRO:ADV0039 739              673EA332-0B88-4FBB-B626-2113A4F732D6 NA\n",
       "13    PRO:ADV0039 739              39FFAF4D-4524-40C4-B1D7-BA5A169BA832 NA\n",
       "14    PRO:ADV0039 739              9408C684-5C78-42E6-9CDF-FB3DE55EA853 NA\n",
       "15    PRO:ADV0039 739              375B43EC-BBFB-4A4F-9E1C-E56E1FFC412E NA\n",
       "16    PRO:ADV0039 739              47CA3EA0-DA71-472B-ACEA-1364394B799E NA\n",
       "17    PRO:ADV0039 739              E337C299-F67F-459E-809E-5063B1ACBBDF NA\n",
       "18    PRO:ADV0039 739              8B31EFC0-7D98-46F7-BB4B-7D17B4C167AE NA\n",
       "19    PRO:ADV0039 739              D01C24BE-AD74-4AEF-A0E4-D23A13977964 NA\n",
       "20    PRO:ADV0039 739              EADBD4E6-38EF-4059-83B9-2173D18557A6 NA\n",
       "21    PRO:ADV0039 739              5F22C01B-0393-4904-84E1-A3145004AE0A NA\n",
       "22    PRO:ADV0039 739              CB312DDF-8303-4674-BF06-CE4825A7D80E NA\n",
       "23    PRO:ADV0039 739              CC470860-150D-49BB-93EA-236372D23494 NA\n",
       "24    PRO:ADV0039 739              2F2E983D-07FB-48AA-BF9C-C78E3F4FC81C NA\n",
       "25    PRO:ADV0039 739              5F22C01B-0393-4904-84E1-A3145004AE0A NA\n",
       "26    PRO:ADV0039 739              E8B5E2E3-02ED-4E87-87CE-CBFFC08FCE7D NA\n",
       "27    PRO:ADV0039 739              4FC94064-C829-4E7B-9D74-D1DC477D152C NA\n",
       "28    PRO:ADV0039 739              14464CC5-07E6-4968-A066-F45BA44AE332 NA\n",
       "29    PRO:ADV0039 739              C78A2046-1757-4986-9560-40271108F19C NA\n",
       "30    PRO:ADV0039 739              5CA0D1BC-1A75-464F-8837-158AC6EBD74E NA\n",
       "⋮     ⋮           ⋮                ⋮                                    ⋮ \n",
       "95213 PRO:ADV0039 692              5BB3473F-4ECE-45B0-8A7D-EBC97D271D83 NA\n",
       "95214 PRO:ADV0039 698              42C8D74A-9104-400B-A26E-D3B9F4890E91 NA\n",
       "95215 PRO:ADV0039 679              61B0C3D5-442C-4B6D-898A-B6DF91C4C526 NA\n",
       "95216 PRO:ADV0039 583              7F49B5E9-BD65-40E6-B1C3-037AB24E4272 NA\n",
       "95217 PRO:ADV0039 671              A3D26F51-A4E9-4F41-B2BB-32C646B62AF4 NA\n",
       "95218 PRO:ADV0039 697              8C718B90-B707-4D1B-BCBC-0BCE570F73DE NA\n",
       "95219 PRO:ADV0039 609              FD7AC954-29ED-4E8E-9AC8-9DE2586339F3 NA\n",
       "95220 PRO:ADV0039 697              BF9A7BF5-CC7D-4957-8C94-20A54FE5D3FF NA\n",
       "95221 PRO:ADV0039 671              C46F2175-7C49-49FA-BCD0-679048C6D299 NA\n",
       "95222 PRO:ADV0039 671              21BD96E1-71EC-4AC2-ACBC-B544F93F8228 NA\n",
       "95223 PRO:ADV0039 697              83312CC0-D504-41F8-A15A-AE9C04D280A2 NA\n",
       "95224 PRO:ADV0039 697              BF9A7BF5-CC7D-4957-8C94-20A54FE5D3FF NA\n",
       "95225 PRO:ADV0039 697              219B7B6D-4D80-4657-ADE4-BCF4F69E5864 NA\n",
       "95226 PRO:ADV0039 652              6EA2AFCB-D809-4C45-8ED0-3F3E3CBDE561 NA\n",
       "95227 PRO:ADV0039 692              F0BDC4C4-6711-4240-9B29-128138CF6544 NA\n",
       "95228 PRO:ADV0039 684              BDAE42C5-468A-428B-BB4C-E706DC06B6FC NA\n",
       "95229 PRO:ADV0039 671              9116BEBB-4250-4D79-9E27-59BA038697D1 NA\n",
       "95230 PRO:ADV0039 642              40D07035-F9E2-457F-A88F-E360DA31D265 NA\n",
       "95231 PRO:ADV0039 643              53B5A361-953F-4AFB-A5C0-E8B3AE3614E2 NA\n",
       "95232 PRO:ADV0039 609              0586AF86-0080-4C57-897F-477627B2B35C NA\n",
       "95233 PRO:ADV0039 652              9C6E621A-C85B-4425-88E0-51F4966D1593 NA\n",
       "95234 PRO:ADV0039 637              252D46C2-0494-4A08-BD8C-A8C171929D7C NA\n",
       "95235 PRO:ADV0039 637              560A01CC-0F26-4831-89E9-A68DF7C28F71 NA\n",
       "95236 PRO:ADV0039 578              4B25FED7-C90A-4168-AE0B-72A7B60E64E4 NA\n",
       "95237 PRO:ADV0039 698              9D3DB28F-D077-48B2-A950-25B47090244E NA\n",
       "95238 PRO:ADV0039 697              2C7C6952-209C-4AEB-9FB4-E8217A6D91F4 NA\n",
       "95239 PRO:ADV0039 684              13C654B0-7581-43EF-BB77-CB0D39FB8041 NA\n",
       "95240 PRO:ADV0039 686              DB17BAE7-966A-4FE5-B223-78A6B4AE1773 NA\n",
       "95241 PRO:ADV0039 637              5AA8474C-4B5F-4A8B-BB37-3FBF4E6F41B9 NA\n",
       "95242 PRO:ADV0039 684              F69386F5-ED05-4127-8239-C028A389F6D3 NA\n",
       "      Audit Phq2 BMI DiastolicBP SystolicBP\n",
       "1      2    NA   NA  NA          NA        \n",
       "2      2    NA   NA  NA          NA        \n",
       "3      4    NA   NA  NA          NA        \n",
       "4     13    NA   NA  NA          NA        \n",
       "5     16    NA   NA  NA          NA        \n",
       "6      4    NA   NA  NA          NA        \n",
       "7      6    NA   NA  NA          NA        \n",
       "8      9    NA   NA  NA          NA        \n",
       "9      7    NA   NA  NA          NA        \n",
       "10     5    NA   NA  NA          NA        \n",
       "11     5    NA   NA  NA          NA        \n",
       "12     5    NA   NA  NA          NA        \n",
       "13    18    NA   NA  NA          NA        \n",
       "14    12    NA   NA  NA          NA        \n",
       "15     7    NA   NA  NA          NA        \n",
       "16     6    NA   NA  NA          NA        \n",
       "17     8    NA   NA  NA          NA        \n",
       "18    21    NA   NA  NA          NA        \n",
       "19    11    NA   NA  NA          NA        \n",
       "20     9    NA   NA  NA          NA        \n",
       "21     4    NA   NA  NA          NA        \n",
       "22     3    NA   NA  NA          NA        \n",
       "23    16    NA   NA  NA          NA        \n",
       "24     4    NA   NA  NA          NA        \n",
       "25     3    NA   NA  NA          NA        \n",
       "26     5    NA   NA  NA          NA        \n",
       "27    16    NA   NA  NA          NA        \n",
       "28     4    NA   NA  NA          NA        \n",
       "29     4    NA   NA  NA          NA        \n",
       "30     7    NA   NA  NA          NA        \n",
       "⋮     ⋮     ⋮    ⋮   ⋮           ⋮         \n",
       "95213  7    NA   NA  NA          NA        \n",
       "95214  7    NA   NA  NA          NA        \n",
       "95215  2    NA   NA  NA          NA        \n",
       "95216  6    NA   NA  NA          NA        \n",
       "95217  2    NA   NA  NA          NA        \n",
       "95218  5    NA   NA  NA          NA        \n",
       "95219  3    NA   NA  NA          NA        \n",
       "95220 11    NA   NA  NA          NA        \n",
       "95221 16    NA   NA  NA          NA        \n",
       "95222 25    NA   NA  NA          NA        \n",
       "95223  4    NA   NA  NA          NA        \n",
       "95224 24    NA   NA  NA          NA        \n",
       "95225 34    NA   NA  NA          NA        \n",
       "95226  3    NA   NA  NA          NA        \n",
       "95227  5    NA   NA  NA          NA        \n",
       "95228  2    NA   NA  NA          NA        \n",
       "95229 17    NA   NA  NA          NA        \n",
       "95230 10    NA   NA  NA          NA        \n",
       "95231  4    NA   NA  NA          NA        \n",
       "95232 10    NA   NA  NA          NA        \n",
       "95233 24    NA   NA  NA          NA        \n",
       "95234  2    NA   NA  NA          NA        \n",
       "95235  2    NA   NA  NA          NA        \n",
       "95236  9    NA   NA  NA          NA        \n",
       "95237  5    NA   NA  NA          NA        \n",
       "95238  3    NA   NA  NA          NA        \n",
       "95239  2    NA   NA  NA          NA        \n",
       "95240  5    NA   NA  NA          NA        \n",
       "95241  4    NA   NA  NA          NA        \n",
       "95242 10    NA   NA  NA          NA        "
      ]
     },
     "metadata": {},
     "output_type": "display_data"
    }
   ],
   "source": [
    "#checking data integrity\n",
    "phqwide %>% filter(Audit>1)"
   ]
  },
  {
   "cell_type": "code",
   "execution_count": 4,
   "id": "e975e7d0",
   "metadata": {},
   "outputs": [],
   "source": [
    "# rearranging wide icd codes\n",
    "phqwide<-phqwide%>% \n",
    "select(n,phqPT,PhqScore,phqEnc,AdminDate,NAME_CHAR,INSTANCE_NUM,CONCEPT_CD,HEALTH_SYSTEM_ID,PROVIDER_ID,BMI,SystolicBP,DiastolicBP,Audit,Phq2) %>% pivot_wider(names_from=NAME_CHAR,values_from=n,values_fill=0)"
   ]
  },
  {
   "cell_type": "code",
   "execution_count": null,
   "id": "f7a86994",
   "metadata": {},
   "outputs": [],
   "source": []
  },
  {
   "cell_type": "code",
   "execution_count": 5,
   "id": "b51d361a",
   "metadata": {},
   "outputs": [],
   "source": [
    "save(phqwide,file=\"phqwide_icd.RData\")"
   ]
  },
  {
   "cell_type": "code",
   "execution_count": null,
   "id": "62adc07f",
   "metadata": {},
   "outputs": [],
   "source": [
    "# integrity check again\n",
    "phqwide %>% filter(Depressed==1)"
   ]
  },
  {
   "cell_type": "code",
   "execution_count": null,
   "id": "9f5a523b",
   "metadata": {},
   "outputs": [],
   "source": [
    "phqwide %>% colnames()"
   ]
  },
  {
   "cell_type": "code",
   "execution_count": 6,
   "id": "a8fdbf4e",
   "metadata": {},
   "outputs": [],
   "source": [
    "load('/home/ec2-user/SageMaker/phqwide_icd.RData')"
   ]
  },
  {
   "cell_type": "code",
   "execution_count": 7,
   "id": "2248183a",
   "metadata": {},
   "outputs": [],
   "source": [
    "# eliminating unlikely entries\n",
    "phqwide<-phqwide%>% \n",
    "mutate(BMI=case_when(BMI>200|BMI<7~NA_real_,.default=BMI)) %>% \n",
    "mutate(SystolicBP=case_when(SystolicBP>300|SystolicBP<50~NA_real_,.default=SystolicBP)) %>% \n",
    "mutate(DiastolicBP=case_when(DiastolicBP>300|DiastolicBP<40~NA_real_,.default=DiastolicBP))%>%\n",
    "mutate(Audit=case_when(Audit>40|Audit<0~NA_real_,.default=Audit))"
   ]
  },
  {
   "cell_type": "code",
   "execution_count": 13,
   "id": "beaf1e34",
   "metadata": {
    "scrolled": true
   },
   "outputs": [],
   "source": [
    "phqcollapse<-phqwide %>% group_by(phqPT,phqEnc) %>%  fill(everything(), .direction = \"up\")  %>% \n",
    "fill(everything(), .direction = \"down\") %>% slice(1)"
   ]
  },
  {
   "cell_type": "code",
   "execution_count": 15,
   "id": "6e21d919",
   "metadata": {},
   "outputs": [],
   "source": [
    "save(phqcollapse,file=\"notindivid.RData\")"
   ]
  },
  {
   "cell_type": "code",
   "execution_count": null,
   "id": "316814a3",
   "metadata": {},
   "outputs": [],
   "source": [
    "# checking for duplicates and its all good\n",
    "\n",
    "#phqcollapse %>% unique() %>%  ungroup() %>% dplyr::summarise(n = dplyr::n(), .by = c(phqPT, PhqScore, phqEnc,INSTANCE_NUM,CONCEPT_CD,AdminDate)) %>% \n",
    "#dplyr::filter(n > 1L)"
   ]
  },
  {
   "cell_type": "code",
   "execution_count": 16,
   "id": "17a237b9",
   "metadata": {},
   "outputs": [
    {
     "data": {
      "text/html": [
       "2843429"
      ],
      "text/latex": [
       "2843429"
      ],
      "text/markdown": [
       "2843429"
      ],
      "text/plain": [
       "[1] 2843429"
      ]
     },
     "metadata": {},
     "output_type": "display_data"
    }
   ],
   "source": [
    "phqcollapse %>% nrow() #2843429"
   ]
  },
  {
   "cell_type": "code",
   "execution_count": 17,
   "id": "0b4e8b85",
   "metadata": {},
   "outputs": [],
   "source": [
    "# now I also need to to grab the first instance of an encounter/admindate\n",
    "phqfirst<-phqcollapse %>% group_by(phqPT) %>% slice_min(AdminDate)"
   ]
  },
  {
   "cell_type": "markdown",
   "id": "b44dfd88",
   "metadata": {},
   "source": [
    "Exclude if no bmi available"
   ]
  },
  {
   "cell_type": "code",
   "execution_count": 26,
   "id": "b625e08a",
   "metadata": {},
   "outputs": [],
   "source": [
    "phqfirst1<-phqfirst %>% filter(!is.na(BMI))"
   ]
  },
  {
   "cell_type": "code",
   "execution_count": null,
   "id": "5667cd32",
   "metadata": {},
   "outputs": [],
   "source": []
  },
  {
   "cell_type": "code",
   "execution_count": 31,
   "id": "2366231a",
   "metadata": {},
   "outputs": [
    {
     "name": "stderr",
     "output_type": "stream",
     "text": [
      "\u001b[1m\u001b[22mAdding missing grouping variables: `phqPT`\n"
     ]
    },
    {
     "data": {
      "text/html": [
       "<table class=\"dataframe\">\n",
       "<caption>A grouped_df: 2 × 15</caption>\n",
       "<thead>\n",
       "\t<tr><th scope=col>phqPT</th><th scope=col>Obesity</th><th scope=col>Hyperlipidemia</th><th scope=col>Depressed</th><th scope=col>Bipolar</th><th scope=col>Anxiety</th><th scope=col>Alcohol</th><th scope=col>Sleep</th><th scope=col>SUD</th><th scope=col>Tobacco</th><th scope=col>SchizophreniaSpectrum</th><th scope=col>Adjustment</th><th scope=col>EatingDisorders</th><th scope=col>Hypertension</th><th scope=col>PTSD</th></tr>\n",
       "\t<tr><th scope=col>&lt;int&gt;</th><th scope=col>&lt;dbl&gt;</th><th scope=col>&lt;dbl&gt;</th><th scope=col>&lt;dbl&gt;</th><th scope=col>&lt;dbl&gt;</th><th scope=col>&lt;dbl&gt;</th><th scope=col>&lt;dbl&gt;</th><th scope=col>&lt;dbl&gt;</th><th scope=col>&lt;dbl&gt;</th><th scope=col>&lt;dbl&gt;</th><th scope=col>&lt;dbl&gt;</th><th scope=col>&lt;dbl&gt;</th><th scope=col>&lt;dbl&gt;</th><th scope=col>&lt;dbl&gt;</th><th scope=col>&lt;dbl&gt;</th></tr>\n",
       "</thead>\n",
       "<tbody>\n",
       "\t<tr><td>45612</td><td>0</td><td>0</td><td>0</td><td>0</td><td>0</td><td>0</td><td>0</td><td>0</td><td>0</td><td>0</td><td>0</td><td>0</td><td>0</td><td>0</td></tr>\n",
       "\t<tr><td>45612</td><td>0</td><td>0</td><td>0</td><td>0</td><td>0</td><td>0</td><td>0</td><td>0</td><td>0</td><td>0</td><td>0</td><td>0</td><td>0</td><td>0</td></tr>\n",
       "</tbody>\n",
       "</table>\n"
      ],
      "text/latex": [
       "A grouped\\_df: 2 × 15\n",
       "\\begin{tabular}{lllllllllllllll}\n",
       " phqPT & Obesity & Hyperlipidemia & Depressed & Bipolar & Anxiety & Alcohol & Sleep & SUD & Tobacco & SchizophreniaSpectrum & Adjustment & EatingDisorders & Hypertension & PTSD\\\\\n",
       " <int> & <dbl> & <dbl> & <dbl> & <dbl> & <dbl> & <dbl> & <dbl> & <dbl> & <dbl> & <dbl> & <dbl> & <dbl> & <dbl> & <dbl>\\\\\n",
       "\\hline\n",
       "\t 45612 & 0 & 0 & 0 & 0 & 0 & 0 & 0 & 0 & 0 & 0 & 0 & 0 & 0 & 0\\\\\n",
       "\t 45612 & 0 & 0 & 0 & 0 & 0 & 0 & 0 & 0 & 0 & 0 & 0 & 0 & 0 & 0\\\\\n",
       "\\end{tabular}\n"
      ],
      "text/markdown": [
       "\n",
       "A grouped_df: 2 × 15\n",
       "\n",
       "| phqPT &lt;int&gt; | Obesity &lt;dbl&gt; | Hyperlipidemia &lt;dbl&gt; | Depressed &lt;dbl&gt; | Bipolar &lt;dbl&gt; | Anxiety &lt;dbl&gt; | Alcohol &lt;dbl&gt; | Sleep &lt;dbl&gt; | SUD &lt;dbl&gt; | Tobacco &lt;dbl&gt; | SchizophreniaSpectrum &lt;dbl&gt; | Adjustment &lt;dbl&gt; | EatingDisorders &lt;dbl&gt; | Hypertension &lt;dbl&gt; | PTSD &lt;dbl&gt; |\n",
       "|---|---|---|---|---|---|---|---|---|---|---|---|---|---|---|\n",
       "| 45612 | 0 | 0 | 0 | 0 | 0 | 0 | 0 | 0 | 0 | 0 | 0 | 0 | 0 | 0 |\n",
       "| 45612 | 0 | 0 | 0 | 0 | 0 | 0 | 0 | 0 | 0 | 0 | 0 | 0 | 0 | 0 |\n",
       "\n"
      ],
      "text/plain": [
       "  phqPT Obesity Hyperlipidemia Depressed Bipolar Anxiety Alcohol Sleep SUD\n",
       "1 45612 0       0              0         0       0       0       0     0  \n",
       "2 45612 0       0              0         0       0       0       0     0  \n",
       "  Tobacco SchizophreniaSpectrum Adjustment EatingDisorders Hypertension PTSD\n",
       "1 0       0                     0          0               0            0   \n",
       "2 0       0                     0          0               0            0   "
      ]
     },
     "metadata": {},
     "output_type": "display_data"
    }
   ],
   "source": [
    "phqfirst1 %>% filter(phqPT==45612) %>% select(Obesity:PTSD)"
   ]
  },
  {
   "cell_type": "code",
   "execution_count": 33,
   "id": "2289495e",
   "metadata": {},
   "outputs": [],
   "source": [
    "#for the 303 remaining with duplicate records on the same day, took random selection\n",
    "phqfirst2<-phqfirst1 %>% group_by(phqPT) %>% slice_sample(n=1)"
   ]
  },
  {
   "cell_type": "code",
   "execution_count": 34,
   "id": "07747f02",
   "metadata": {
    "scrolled": true
   },
   "outputs": [
    {
     "data": {
      "text/html": [
       "<table class=\"dataframe\">\n",
       "<caption>A tibble: 0 × 2</caption>\n",
       "<thead>\n",
       "\t<tr><th scope=col>phqPT</th><th scope=col>n</th></tr>\n",
       "\t<tr><th scope=col>&lt;int&gt;</th><th scope=col>&lt;int&gt;</th></tr>\n",
       "</thead>\n",
       "<tbody>\n",
       "</tbody>\n",
       "</table>\n"
      ],
      "text/latex": [
       "A tibble: 0 × 2\n",
       "\\begin{tabular}{ll}\n",
       " phqPT & n\\\\\n",
       " <int> & <int>\\\\\n",
       "\\hline\n",
       "\\end{tabular}\n"
      ],
      "text/markdown": [
       "\n",
       "A tibble: 0 × 2\n",
       "\n",
       "| phqPT &lt;int&gt; | n &lt;int&gt; |\n",
       "|---|---|\n",
       "\n"
      ],
      "text/plain": [
       "     phqPT n"
      ]
     },
     "metadata": {},
     "output_type": "display_data"
    }
   ],
   "source": [
    "phqfirst2 %>% unique() %>%  ungroup() %>% dplyr::summarise(n = dplyr::n(), .by = c(phqPT)) %>% \n",
    "dplyr::filter(n > 1L) #no double records remain"
   ]
  },
  {
   "cell_type": "code",
   "execution_count": 86,
   "id": "3551fa58",
   "metadata": {},
   "outputs": [
    {
     "data": {
      "text/html": [
       "<table class=\"dataframe\">\n",
       "<caption>A grouped_df: 6 × 29</caption>\n",
       "<thead>\n",
       "\t<tr><th scope=col>phqPT</th><th scope=col>PhqScore</th><th scope=col>phqEnc</th><th scope=col>AdminDate</th><th scope=col>INSTANCE_NUM</th><th scope=col>CONCEPT_CD</th><th scope=col>HEALTH_SYSTEM_ID</th><th scope=col>PROVIDER_ID</th><th scope=col>BMI</th><th scope=col>SystolicBP</th><th scope=col>⋯</th><th scope=col>Anxiety</th><th scope=col>Alcohol</th><th scope=col>Sleep</th><th scope=col>SUD</th><th scope=col>Tobacco</th><th scope=col>SchizophreniaSpectrum</th><th scope=col>Adjustment</th><th scope=col>EatingDisorders</th><th scope=col>Hypertension</th><th scope=col>PTSD</th></tr>\n",
       "\t<tr><th scope=col>&lt;int&gt;</th><th scope=col>&lt;dbl&gt;</th><th scope=col>&lt;int&gt;</th><th scope=col>&lt;dttm&gt;</th><th scope=col>&lt;int&gt;</th><th scope=col>&lt;chr&gt;</th><th scope=col>&lt;chr&gt;</th><th scope=col>&lt;chr&gt;</th><th scope=col>&lt;dbl&gt;</th><th scope=col>&lt;dbl&gt;</th><th scope=col>⋯</th><th scope=col>&lt;dbl&gt;</th><th scope=col>&lt;dbl&gt;</th><th scope=col>&lt;dbl&gt;</th><th scope=col>&lt;dbl&gt;</th><th scope=col>&lt;dbl&gt;</th><th scope=col>&lt;dbl&gt;</th><th scope=col>&lt;dbl&gt;</th><th scope=col>&lt;dbl&gt;</th><th scope=col>&lt;dbl&gt;</th><th scope=col>&lt;dbl&gt;</th></tr>\n",
       "</thead>\n",
       "<tbody>\n",
       "\t<tr><td>555</td><td>21</td><td>35344548</td><td>2014-08-08</td><td>1</td><td>ICD9CM:300.00</td><td>692</td><td>2949F791-E57E-494D-9A3C-2F742E5044BF</td><td>28.48</td><td>118</td><td>⋯</td><td>1</td><td>0</td><td>0</td><td>0</td><td>0</td><td>0</td><td>0</td><td>0</td><td>0</td><td>0</td></tr>\n",
       "\t<tr><td>560</td><td>16</td><td>31580615</td><td>2013-08-12</td><td>1</td><td>ICD9CM:311   </td><td>564</td><td>AE5F21AE-72A1-4004-9F4C-3B29714EE261</td><td>38.29</td><td>120</td><td>⋯</td><td>0</td><td>0</td><td>0</td><td>0</td><td>0</td><td>0</td><td>0</td><td>0</td><td>0</td><td>0</td></tr>\n",
       "\t<tr><td>560</td><td> 9</td><td>31911390</td><td>2013-11-20</td><td>1</td><td>ICD9CM:311   </td><td>564</td><td>AE5F21AE-72A1-4004-9F4C-3B29714EE261</td><td>39.90</td><td>106</td><td>⋯</td><td>0</td><td>0</td><td>0</td><td>0</td><td>0</td><td>0</td><td>0</td><td>0</td><td>0</td><td>0</td></tr>\n",
       "\t<tr><td>560</td><td> 5</td><td>31973297</td><td>2016-05-26</td><td>1</td><td>ICD10CM:E78.2</td><td>564</td><td>AE5F21AE-72A1-4004-9F4C-3B29714EE261</td><td>40.19</td><td>130</td><td>⋯</td><td>0</td><td>0</td><td>0</td><td>0</td><td>0</td><td>0</td><td>0</td><td>0</td><td>0</td><td>0</td></tr>\n",
       "\t<tr><td>560</td><td>19</td><td>32305700</td><td>2013-08-05</td><td>1</td><td>ICD9CM:311   </td><td>564</td><td>AE5F21AE-72A1-4004-9F4C-3B29714EE261</td><td>38.22</td><td>140</td><td>⋯</td><td>0</td><td>0</td><td>0</td><td>0</td><td>0</td><td>0</td><td>0</td><td>0</td><td>0</td><td>0</td></tr>\n",
       "\t<tr><td>573</td><td> 0</td><td>82437185</td><td>2018-08-15</td><td>1</td><td>ICD10CM:E78.2</td><td>641</td><td>4C81DF3C-077B-4749-9EB0-4A6C6D126BCF</td><td>34.60</td><td>136</td><td>⋯</td><td>0</td><td>0</td><td>0</td><td>0</td><td>0</td><td>0</td><td>0</td><td>0</td><td>0</td><td>0</td></tr>\n",
       "</tbody>\n",
       "</table>\n"
      ],
      "text/latex": [
       "A grouped\\_df: 6 × 29\n",
       "\\begin{tabular}{lllllllllllllllllllll}\n",
       " phqPT & PhqScore & phqEnc & AdminDate & INSTANCE\\_NUM & CONCEPT\\_CD & HEALTH\\_SYSTEM\\_ID & PROVIDER\\_ID & BMI & SystolicBP & ⋯ & Anxiety & Alcohol & Sleep & SUD & Tobacco & SchizophreniaSpectrum & Adjustment & EatingDisorders & Hypertension & PTSD\\\\\n",
       " <int> & <dbl> & <int> & <dttm> & <int> & <chr> & <chr> & <chr> & <dbl> & <dbl> & ⋯ & <dbl> & <dbl> & <dbl> & <dbl> & <dbl> & <dbl> & <dbl> & <dbl> & <dbl> & <dbl>\\\\\n",
       "\\hline\n",
       "\t 555 & 21 & 35344548 & 2014-08-08 & 1 & ICD9CM:300.00 & 692 & 2949F791-E57E-494D-9A3C-2F742E5044BF & 28.48 & 118 & ⋯ & 1 & 0 & 0 & 0 & 0 & 0 & 0 & 0 & 0 & 0\\\\\n",
       "\t 560 & 16 & 31580615 & 2013-08-12 & 1 & ICD9CM:311    & 564 & AE5F21AE-72A1-4004-9F4C-3B29714EE261 & 38.29 & 120 & ⋯ & 0 & 0 & 0 & 0 & 0 & 0 & 0 & 0 & 0 & 0\\\\\n",
       "\t 560 &  9 & 31911390 & 2013-11-20 & 1 & ICD9CM:311    & 564 & AE5F21AE-72A1-4004-9F4C-3B29714EE261 & 39.90 & 106 & ⋯ & 0 & 0 & 0 & 0 & 0 & 0 & 0 & 0 & 0 & 0\\\\\n",
       "\t 560 &  5 & 31973297 & 2016-05-26 & 1 & ICD10CM:E78.2 & 564 & AE5F21AE-72A1-4004-9F4C-3B29714EE261 & 40.19 & 130 & ⋯ & 0 & 0 & 0 & 0 & 0 & 0 & 0 & 0 & 0 & 0\\\\\n",
       "\t 560 & 19 & 32305700 & 2013-08-05 & 1 & ICD9CM:311    & 564 & AE5F21AE-72A1-4004-9F4C-3B29714EE261 & 38.22 & 140 & ⋯ & 0 & 0 & 0 & 0 & 0 & 0 & 0 & 0 & 0 & 0\\\\\n",
       "\t 573 &  0 & 82437185 & 2018-08-15 & 1 & ICD10CM:E78.2 & 641 & 4C81DF3C-077B-4749-9EB0-4A6C6D126BCF & 34.60 & 136 & ⋯ & 0 & 0 & 0 & 0 & 0 & 0 & 0 & 0 & 0 & 0\\\\\n",
       "\\end{tabular}\n"
      ],
      "text/markdown": [
       "\n",
       "A grouped_df: 6 × 29\n",
       "\n",
       "| phqPT &lt;int&gt; | PhqScore &lt;dbl&gt; | phqEnc &lt;int&gt; | AdminDate &lt;dttm&gt; | INSTANCE_NUM &lt;int&gt; | CONCEPT_CD &lt;chr&gt; | HEALTH_SYSTEM_ID &lt;chr&gt; | PROVIDER_ID &lt;chr&gt; | BMI &lt;dbl&gt; | SystolicBP &lt;dbl&gt; | ⋯ ⋯ | Anxiety &lt;dbl&gt; | Alcohol &lt;dbl&gt; | Sleep &lt;dbl&gt; | SUD &lt;dbl&gt; | Tobacco &lt;dbl&gt; | SchizophreniaSpectrum &lt;dbl&gt; | Adjustment &lt;dbl&gt; | EatingDisorders &lt;dbl&gt; | Hypertension &lt;dbl&gt; | PTSD &lt;dbl&gt; |\n",
       "|---|---|---|---|---|---|---|---|---|---|---|---|---|---|---|---|---|---|---|---|---|\n",
       "| 555 | 21 | 35344548 | 2014-08-08 | 1 | ICD9CM:300.00 | 692 | 2949F791-E57E-494D-9A3C-2F742E5044BF | 28.48 | 118 | ⋯ | 1 | 0 | 0 | 0 | 0 | 0 | 0 | 0 | 0 | 0 |\n",
       "| 560 | 16 | 31580615 | 2013-08-12 | 1 | ICD9CM:311    | 564 | AE5F21AE-72A1-4004-9F4C-3B29714EE261 | 38.29 | 120 | ⋯ | 0 | 0 | 0 | 0 | 0 | 0 | 0 | 0 | 0 | 0 |\n",
       "| 560 |  9 | 31911390 | 2013-11-20 | 1 | ICD9CM:311    | 564 | AE5F21AE-72A1-4004-9F4C-3B29714EE261 | 39.90 | 106 | ⋯ | 0 | 0 | 0 | 0 | 0 | 0 | 0 | 0 | 0 | 0 |\n",
       "| 560 |  5 | 31973297 | 2016-05-26 | 1 | ICD10CM:E78.2 | 564 | AE5F21AE-72A1-4004-9F4C-3B29714EE261 | 40.19 | 130 | ⋯ | 0 | 0 | 0 | 0 | 0 | 0 | 0 | 0 | 0 | 0 |\n",
       "| 560 | 19 | 32305700 | 2013-08-05 | 1 | ICD9CM:311    | 564 | AE5F21AE-72A1-4004-9F4C-3B29714EE261 | 38.22 | 140 | ⋯ | 0 | 0 | 0 | 0 | 0 | 0 | 0 | 0 | 0 | 0 |\n",
       "| 573 |  0 | 82437185 | 2018-08-15 | 1 | ICD10CM:E78.2 | 641 | 4C81DF3C-077B-4749-9EB0-4A6C6D126BCF | 34.60 | 136 | ⋯ | 0 | 0 | 0 | 0 | 0 | 0 | 0 | 0 | 0 | 0 |\n",
       "\n"
      ],
      "text/plain": [
       "  phqPT PhqScore phqEnc   AdminDate  INSTANCE_NUM CONCEPT_CD   \n",
       "1 555   21       35344548 2014-08-08 1            ICD9CM:300.00\n",
       "2 560   16       31580615 2013-08-12 1            ICD9CM:311   \n",
       "3 560    9       31911390 2013-11-20 1            ICD9CM:311   \n",
       "4 560    5       31973297 2016-05-26 1            ICD10CM:E78.2\n",
       "5 560   19       32305700 2013-08-05 1            ICD9CM:311   \n",
       "6 573    0       82437185 2018-08-15 1            ICD10CM:E78.2\n",
       "  HEALTH_SYSTEM_ID PROVIDER_ID                          BMI   SystolicBP ⋯\n",
       "1 692              2949F791-E57E-494D-9A3C-2F742E5044BF 28.48 118        ⋯\n",
       "2 564              AE5F21AE-72A1-4004-9F4C-3B29714EE261 38.29 120        ⋯\n",
       "3 564              AE5F21AE-72A1-4004-9F4C-3B29714EE261 39.90 106        ⋯\n",
       "4 564              AE5F21AE-72A1-4004-9F4C-3B29714EE261 40.19 130        ⋯\n",
       "5 564              AE5F21AE-72A1-4004-9F4C-3B29714EE261 38.22 140        ⋯\n",
       "6 641              4C81DF3C-077B-4749-9EB0-4A6C6D126BCF 34.60 136        ⋯\n",
       "  Anxiety Alcohol Sleep SUD Tobacco SchizophreniaSpectrum Adjustment\n",
       "1 1       0       0     0   0       0                     0         \n",
       "2 0       0       0     0   0       0                     0         \n",
       "3 0       0       0     0   0       0                     0         \n",
       "4 0       0       0     0   0       0                     0         \n",
       "5 0       0       0     0   0       0                     0         \n",
       "6 0       0       0     0   0       0                     0         \n",
       "  EatingDisorders Hypertension PTSD\n",
       "1 0               0            0   \n",
       "2 0               0            0   \n",
       "3 0               0            0   \n",
       "4 0               0            0   \n",
       "5 0               0            0   \n",
       "6 0               0            0   "
      ]
     },
     "metadata": {},
     "output_type": "display_data"
    }
   ],
   "source": [
    "phqcollapse %>% head()"
   ]
  },
  {
   "cell_type": "code",
   "execution_count": 35,
   "id": "42490c3d",
   "metadata": {},
   "outputs": [],
   "source": [
    "save(phqfirst2,file=\"phqfirst.RDS\")"
   ]
  },
  {
   "cell_type": "code",
   "execution_count": 89,
   "id": "7a817048",
   "metadata": {},
   "outputs": [],
   "source": [
    "load(file=\"/home/ec2-user/SageMaker/phqfirst.RDS\")"
   ]
  },
  {
   "cell_type": "code",
   "execution_count": 49,
   "id": "87582aad",
   "metadata": {},
   "outputs": [],
   "source": [
    "load(file=\"/home/ec2-user/SageMaker/complete.RData\")"
   ]
  },
  {
   "cell_type": "code",
   "execution_count": 90,
   "id": "32eb9be2",
   "metadata": {},
   "outputs": [
    {
     "data": {
      "text/html": [
       "<table class=\"dataframe\">\n",
       "<caption>A grouped_df: 65531 × 29</caption>\n",
       "<thead>\n",
       "\t<tr><th scope=col>phqPT</th><th scope=col>PhqScore</th><th scope=col>phqEnc</th><th scope=col>AdminDate</th><th scope=col>INSTANCE_NUM</th><th scope=col>CONCEPT_CD</th><th scope=col>HEALTH_SYSTEM_ID</th><th scope=col>PROVIDER_ID</th><th scope=col>BMI</th><th scope=col>SystolicBP</th><th scope=col>⋯</th><th scope=col>Anxiety</th><th scope=col>Alcohol</th><th scope=col>Sleep</th><th scope=col>SUD</th><th scope=col>Tobacco</th><th scope=col>SchizophreniaSpectrum</th><th scope=col>Adjustment</th><th scope=col>EatingDisorders</th><th scope=col>Hypertension</th><th scope=col>PTSD</th></tr>\n",
       "\t<tr><th scope=col>&lt;int&gt;</th><th scope=col>&lt;dbl&gt;</th><th scope=col>&lt;int&gt;</th><th scope=col>&lt;dttm&gt;</th><th scope=col>&lt;int&gt;</th><th scope=col>&lt;chr&gt;</th><th scope=col>&lt;chr&gt;</th><th scope=col>&lt;chr&gt;</th><th scope=col>&lt;dbl&gt;</th><th scope=col>&lt;dbl&gt;</th><th scope=col>⋯</th><th scope=col>&lt;dbl&gt;</th><th scope=col>&lt;dbl&gt;</th><th scope=col>&lt;dbl&gt;</th><th scope=col>&lt;dbl&gt;</th><th scope=col>&lt;dbl&gt;</th><th scope=col>&lt;dbl&gt;</th><th scope=col>&lt;dbl&gt;</th><th scope=col>&lt;dbl&gt;</th><th scope=col>&lt;dbl&gt;</th><th scope=col>&lt;dbl&gt;</th></tr>\n",
       "</thead>\n",
       "<tbody>\n",
       "\t<tr><td> 560</td><td>19</td><td> 32305700</td><td>2013-08-05</td><td>1</td><td>ICD9CM:311    </td><td>564</td><td>AE5F21AE-72A1-4004-9F4C-3B29714EE261</td><td>38.22</td><td>140</td><td>⋯</td><td>0</td><td>0</td><td>0</td><td>0</td><td>0</td><td>0</td><td>0</td><td>0</td><td>0</td><td>0</td></tr>\n",
       "\t<tr><td> 647</td><td>14</td><td> 18173681</td><td>2017-10-02</td><td>1</td><td>ICD10CM:F33.1 </td><td>667</td><td>D214E73D-D93B-4151-9166-019096D31829</td><td>20.18</td><td>112</td><td>⋯</td><td>0</td><td>0</td><td>0</td><td>0</td><td>0</td><td>0</td><td>0</td><td>0</td><td>0</td><td>0</td></tr>\n",
       "\t<tr><td> 817</td><td>21</td><td> 14906683</td><td>2017-09-06</td><td>1</td><td>ICD10CM:F32.89</td><td>648</td><td>5207C678-C587-462D-B25D-DF2C2ED9E14F</td><td>24.33</td><td>103</td><td>⋯</td><td>0</td><td>0</td><td>0</td><td>0</td><td>0</td><td>0</td><td>0</td><td>0</td><td>0</td><td>0</td></tr>\n",
       "\t<tr><td> 867</td><td> 4</td><td> 20652705</td><td>2016-11-09</td><td>1</td><td>ICD10CM:F32.5 </td><td>605</td><td>0C8B1024-34BE-4A5D-8363-ECCB8F8903F7</td><td>22.13</td><td>146</td><td>⋯</td><td>0</td><td>0</td><td>0</td><td>0</td><td>0</td><td>0</td><td>0</td><td>0</td><td>0</td><td>0</td></tr>\n",
       "\t<tr><td> 921</td><td>11</td><td> 60038328</td><td>2012-12-19</td><td>1</td><td>ICD9CM:311    </td><td>558</td><td>55612BAD-6F99-4520-A887-686786E34CE6</td><td>25.31</td><td>126</td><td>⋯</td><td>0</td><td>0</td><td>0</td><td>0</td><td>0</td><td>0</td><td>0</td><td>0</td><td>0</td><td>0</td></tr>\n",
       "\t<tr><td>1248</td><td>11</td><td> 71981807</td><td>2017-12-12</td><td>1</td><td>ICD10CM:F32.9 </td><td>594</td><td>D67BA8E5-BF1F-47D8-94D9-16ADADD575D9</td><td>23.00</td><td>108</td><td>⋯</td><td>0</td><td>0</td><td>0</td><td>0</td><td>0</td><td>0</td><td>0</td><td>0</td><td>0</td><td>0</td></tr>\n",
       "\t<tr><td>1278</td><td>17</td><td> 75148316</td><td>2017-09-21</td><td>1</td><td>ICD10CM:F33.2 </td><td>606</td><td>C7B48665-59E2-4E91-B19E-73192D727C8E</td><td>37.40</td><td>157</td><td>⋯</td><td>0</td><td>0</td><td>0</td><td>0</td><td>0</td><td>0</td><td>0</td><td>0</td><td>0</td><td>0</td></tr>\n",
       "\t<tr><td>1491</td><td>11</td><td> 40227280</td><td>2017-01-25</td><td>1</td><td>ICD10CM:F33.1 </td><td>678</td><td>0838A91C-423E-4844-B541-19BD973D7066</td><td>36.91</td><td> 98</td><td>⋯</td><td>0</td><td>0</td><td>0</td><td>0</td><td>0</td><td>0</td><td>0</td><td>0</td><td>0</td><td>0</td></tr>\n",
       "\t<tr><td>1529</td><td>14</td><td> 28185859</td><td>2018-02-12</td><td>1</td><td>ICD10CM:F33.1 </td><td>679</td><td>691A946E-1C87-4902-B384-F690CC65C3E8</td><td>32.35</td><td>116</td><td>⋯</td><td>0</td><td>0</td><td>0</td><td>0</td><td>0</td><td>0</td><td>0</td><td>0</td><td>0</td><td>0</td></tr>\n",
       "\t<tr><td>1686</td><td> 9</td><td> 32503551</td><td>2014-11-18</td><td>1</td><td>ICD9CM:311    </td><td>564</td><td>4A2955DB-7AFB-4BFB-8190-6ED43EB1E35E</td><td>32.00</td><td>110</td><td>⋯</td><td>0</td><td>0</td><td>0</td><td>0</td><td>0</td><td>0</td><td>0</td><td>0</td><td>0</td><td>0</td></tr>\n",
       "\t<tr><td>1787</td><td> 5</td><td>108543117</td><td>2019-03-29</td><td>1</td><td>ICD10CM:F32.0 </td><td>682</td><td>D7663BC6-227D-4A7F-B037-2D312EB7D31D</td><td>26.30</td><td>132</td><td>⋯</td><td>0</td><td>0</td><td>0</td><td>0</td><td>0</td><td>0</td><td>0</td><td>0</td><td>0</td><td>0</td></tr>\n",
       "\t<tr><td>1978</td><td>21</td><td> 34815011</td><td>2016-08-16</td><td>1</td><td>ICD10CM:F33.1 </td><td>692</td><td>7473A1B3-5DB9-47BB-8C3A-7C5C6C2F38CD</td><td>31.60</td><td>120</td><td>⋯</td><td>0</td><td>0</td><td>0</td><td>0</td><td>0</td><td>0</td><td>0</td><td>0</td><td>0</td><td>0</td></tr>\n",
       "\t<tr><td>2043</td><td> 2</td><td> 93361511</td><td>2018-08-01</td><td>1</td><td>ICD10CM:F32.9 </td><td>602</td><td>18D17F81-BD34-4C0B-8F28-F15FE692C379</td><td>38.80</td><td>130</td><td>⋯</td><td>0</td><td>0</td><td>0</td><td>0</td><td>0</td><td>0</td><td>0</td><td>0</td><td>0</td><td>0</td></tr>\n",
       "\t<tr><td>2255</td><td>15</td><td> 31109031</td><td>2015-03-28</td><td>1</td><td>ICD9CM:311    </td><td>586</td><td>357F37E8-DF17-4F0C-BABE-0E7CF305DEC4</td><td>26.31</td><td>120</td><td>⋯</td><td>0</td><td>0</td><td>0</td><td>0</td><td>0</td><td>0</td><td>0</td><td>0</td><td>0</td><td>0</td></tr>\n",
       "\t<tr><td>2343</td><td> 7</td><td> 40037042</td><td>2016-08-10</td><td>1</td><td>ICD10CM:F32.5 </td><td>638</td><td>82D0D2F3-490D-4880-AD23-83C9949E0EC2</td><td>20.04</td><td>110</td><td>⋯</td><td>0</td><td>0</td><td>0</td><td>0</td><td>0</td><td>0</td><td>0</td><td>0</td><td>0</td><td>0</td></tr>\n",
       "\t<tr><td>2441</td><td>12</td><td> 30614693</td><td>2017-03-30</td><td>1</td><td>ICD10CM:F53.0 </td><td>662</td><td>6F17D46F-1061-4F5E-A8F7-D7F1E168104F</td><td>39.33</td><td>108</td><td>⋯</td><td>0</td><td>0</td><td>0</td><td>0</td><td>0</td><td>0</td><td>0</td><td>0</td><td>0</td><td>0</td></tr>\n",
       "\t<tr><td>2688</td><td>15</td><td> 21245697</td><td>2018-06-28</td><td>1</td><td>ICD10CM:F33.1 </td><td>684</td><td>B733A231-4F42-454C-9237-06920E632909</td><td>20.00</td><td>116</td><td>⋯</td><td>0</td><td>0</td><td>0</td><td>0</td><td>0</td><td>0</td><td>0</td><td>0</td><td>0</td><td>0</td></tr>\n",
       "\t<tr><td>2782</td><td>19</td><td> 76251324</td><td>2017-12-28</td><td>1</td><td>ICD10CM:F32.9 </td><td>606</td><td>014BFE57-9717-4E62-A253-86CCB376AF80</td><td>30.10</td><td>117</td><td>⋯</td><td>0</td><td>0</td><td>0</td><td>0</td><td>0</td><td>0</td><td>0</td><td>0</td><td>0</td><td>0</td></tr>\n",
       "\t<tr><td>3030</td><td>21</td><td> 70986485</td><td>2017-02-15</td><td>1</td><td>ICD10CM:F32.9 </td><td>590</td><td>2B48EE57-74E1-49CB-8BAA-FDC8EB9E08F0</td><td>37.10</td><td>154</td><td>⋯</td><td>0</td><td>0</td><td>0</td><td>0</td><td>0</td><td>0</td><td>0</td><td>0</td><td>0</td><td>0</td></tr>\n",
       "\t<tr><td>3147</td><td>19</td><td> 99978339</td><td>2018-09-25</td><td>1</td><td>ICD10CM:F32.9 </td><td>589</td><td>DFA07D7D-E861-40AC-AB1B-C46973AC32FA</td><td>33.50</td><td>122</td><td>⋯</td><td>0</td><td>0</td><td>0</td><td>0</td><td>0</td><td>0</td><td>0</td><td>0</td><td>0</td><td>0</td></tr>\n",
       "\t<tr><td>3234</td><td>10</td><td> 24627815</td><td>2015-03-06</td><td>1</td><td>ICD9CM:296.20 </td><td>578</td><td>91A55941-82B8-435D-ADB6-B383CB9CCCBC</td><td>28.74</td><td>126</td><td>⋯</td><td>0</td><td>0</td><td>0</td><td>0</td><td>0</td><td>0</td><td>0</td><td>0</td><td>0</td><td>0</td></tr>\n",
       "\t<tr><td>3291</td><td>11</td><td> 57844402</td><td>2015-03-25</td><td>1</td><td>ICD9CM:296.20 </td><td>693</td><td>77DE22CD-F6EE-49C0-9057-84668FE106DB</td><td>24.03</td><td> 94</td><td>⋯</td><td>0</td><td>0</td><td>0</td><td>0</td><td>0</td><td>0</td><td>0</td><td>0</td><td>0</td><td>0</td></tr>\n",
       "\t<tr><td>3585</td><td>20</td><td>  7445209</td><td>2015-03-11</td><td>1</td><td>ICD9CM:296.32 </td><td>612</td><td>3BDFB4B1-7B16-46DC-9EE2-264BB46A72BF</td><td>19.20</td><td>100</td><td>⋯</td><td>0</td><td>0</td><td>0</td><td>0</td><td>0</td><td>0</td><td>0</td><td>0</td><td>0</td><td>0</td></tr>\n",
       "\t<tr><td>3604</td><td>23</td><td>  1950453</td><td>2015-07-27</td><td>1</td><td>ICD9CM:296.32 </td><td>610</td><td>900F2B18-24F5-4207-9B0F-DEA3DD910ABE</td><td>26.56</td><td>111</td><td>⋯</td><td>0</td><td>0</td><td>0</td><td>0</td><td>0</td><td>0</td><td>0</td><td>0</td><td>0</td><td>0</td></tr>\n",
       "\t<tr><td>3670</td><td>12</td><td>  7408251</td><td>2013-07-16</td><td>1</td><td>ICD9CM:311    </td><td>612</td><td>ACDC554A-9431-4D81-9697-C54C1CFE7206</td><td>35.22</td><td>157</td><td>⋯</td><td>0</td><td>0</td><td>0</td><td>0</td><td>0</td><td>0</td><td>0</td><td>0</td><td>0</td><td>0</td></tr>\n",
       "\t<tr><td>3805</td><td>14</td><td> 75874633</td><td>2018-05-22</td><td>1</td><td>ICD10CM:F32.9 </td><td>606</td><td>C15629B9-BAD0-467B-9FD0-B268D894CA17</td><td>29.10</td><td>106</td><td>⋯</td><td>0</td><td>0</td><td>0</td><td>0</td><td>0</td><td>0</td><td>0</td><td>0</td><td>0</td><td>0</td></tr>\n",
       "\t<tr><td>3944</td><td> 9</td><td> 14900265</td><td>2016-05-27</td><td>1</td><td>ICD10CM:F32.9 </td><td>568</td><td>FFCC6862-23ED-4A2F-9DA2-A9FCE1698ED6</td><td>28.87</td><td>120</td><td>⋯</td><td>0</td><td>0</td><td>0</td><td>0</td><td>0</td><td>0</td><td>0</td><td>0</td><td>0</td><td>0</td></tr>\n",
       "\t<tr><td>4156</td><td> 6</td><td> 36314956</td><td>2016-12-16</td><td>1</td><td>ICD10CM:F33.1 </td><td>692</td><td>FA5E5ED0-7673-4437-8E89-067BBDDD1935</td><td>32.50</td><td>131</td><td>⋯</td><td>0</td><td>0</td><td>0</td><td>0</td><td>0</td><td>0</td><td>0</td><td>0</td><td>0</td><td>0</td></tr>\n",
       "\t<tr><td>4296</td><td>25</td><td> 23440642</td><td>2016-01-26</td><td>1</td><td>ICD10CM:F32.9 </td><td>665</td><td>31EB01C1-F7ED-40D5-BAC0-5F8E48FD4FF1</td><td>22.82</td><td>114</td><td>⋯</td><td>0</td><td>0</td><td>0</td><td>0</td><td>0</td><td>0</td><td>0</td><td>0</td><td>0</td><td>0</td></tr>\n",
       "\t<tr><td>4321</td><td> 0</td><td> 92357454</td><td>2017-02-27</td><td>1</td><td>ICD10CM:F32.9 </td><td>589</td><td>AF5EBBA5-E9AC-4F27-B9A5-3B10E49B625F</td><td>23.90</td><td>180</td><td>⋯</td><td>0</td><td>0</td><td>0</td><td>0</td><td>0</td><td>0</td><td>0</td><td>0</td><td>0</td><td>0</td></tr>\n",
       "\t<tr><td>⋮</td><td>⋮</td><td>⋮</td><td>⋮</td><td>⋮</td><td>⋮</td><td>⋮</td><td>⋮</td><td>⋮</td><td>⋮</td><td>⋱</td><td>⋮</td><td>⋮</td><td>⋮</td><td>⋮</td><td>⋮</td><td>⋮</td><td>⋮</td><td>⋮</td><td>⋮</td><td>⋮</td></tr>\n",
       "\t<tr><td> 9803046</td><td> 4</td><td>101215465</td><td>2018-11-05</td><td>1</td><td>ICD10CM:F32.2 </td><td>693</td><td>EE8AF3E9-5679-4EBB-BAF7-358CD9801CFB</td><td>21.23</td><td>104</td><td>⋯</td><td>0</td><td>0</td><td>0</td><td>0</td><td>0</td><td>0</td><td>0</td><td>0</td><td>0</td><td>0</td></tr>\n",
       "\t<tr><td> 9807179</td><td>12</td><td> 38343441</td><td>2015-09-22</td><td>1</td><td>ICD9CM:296.32 </td><td>678</td><td>2569E5AD-CFC7-40C1-9277-1742BC53D4AF</td><td>24.98</td><td>100</td><td>⋯</td><td>0</td><td>0</td><td>0</td><td>0</td><td>0</td><td>0</td><td>0</td><td>0</td><td>0</td><td>0</td></tr>\n",
       "\t<tr><td> 9852643</td><td>11</td><td> 37150384</td><td>2014-02-10</td><td>1</td><td>ICD9CM:311    </td><td>692</td><td>A10BA0C1-AC14-4914-B220-2B4864F6A033</td><td>27.22</td><td> 98</td><td>⋯</td><td>0</td><td>0</td><td>0</td><td>0</td><td>0</td><td>0</td><td>0</td><td>0</td><td>0</td><td>0</td></tr>\n",
       "\t<tr><td> 9854610</td><td>26</td><td> 39190495</td><td>2015-06-04</td><td>1</td><td>ICD9CM:296.33 </td><td>678</td><td>76AE5385-B6D0-4640-BC59-6E4DCE1F9B23</td><td>27.06</td><td>118</td><td>⋯</td><td>0</td><td>0</td><td>0</td><td>0</td><td>0</td><td>0</td><td>0</td><td>0</td><td>0</td><td>0</td></tr>\n",
       "\t<tr><td>10038245</td><td>19</td><td> 22528679</td><td>2017-12-08</td><td>1</td><td>ICD10CM:F33.1 </td><td>684</td><td>04767FAD-72AB-4968-82FF-AE0CBFB7C3B7</td><td>17.92</td><td> 96</td><td>⋯</td><td>0</td><td>0</td><td>0</td><td>0</td><td>0</td><td>0</td><td>0</td><td>0</td><td>0</td><td>0</td></tr>\n",
       "\t<tr><td>10053831</td><td>18</td><td> 58449811</td><td>2015-09-21</td><td>1</td><td>ICD9CM:311    </td><td>609</td><td>415C91CC-8727-40A2-9475-DC79464B3F32</td><td>37.92</td><td>110</td><td>⋯</td><td>0</td><td>0</td><td>0</td><td>0</td><td>0</td><td>0</td><td>0</td><td>0</td><td>0</td><td>0</td></tr>\n",
       "\t<tr><td>10087240</td><td>25</td><td> 30021716</td><td>2017-11-20</td><td>1</td><td>ICD10CM:F33.9 </td><td>662</td><td>C27DBCBE-521A-4304-B7B0-B3A470879A3C</td><td>32.81</td><td>114</td><td>⋯</td><td>0</td><td>0</td><td>0</td><td>0</td><td>0</td><td>0</td><td>0</td><td>0</td><td>0</td><td>0</td></tr>\n",
       "\t<tr><td>10280686</td><td>10</td><td>101037206</td><td>2018-10-31</td><td>1</td><td>ICD10CM:F32.1 </td><td>NA </td><td>0E5E0608-5D53-4C76-9265-72B26757DAD1</td><td>28.13</td><td>122</td><td>⋯</td><td>0</td><td>0</td><td>0</td><td>0</td><td>0</td><td>0</td><td>0</td><td>0</td><td>0</td><td>0</td></tr>\n",
       "\t<tr><td>10305811</td><td>23</td><td>120047785</td><td>2019-09-10</td><td>1</td><td>ICD10CM:F32.2 </td><td>577</td><td>A4DC8132-4A24-4398-9A78-4DFE90F9F3C3</td><td>22.07</td><td>126</td><td>⋯</td><td>0</td><td>0</td><td>0</td><td>0</td><td>0</td><td>0</td><td>0</td><td>0</td><td>0</td><td>0</td></tr>\n",
       "\t<tr><td>10366099</td><td> 6</td><td> 64350915</td><td>2016-10-10</td><td>1</td><td>ICD10CM:F43.23</td><td>628</td><td>6D0C8BF8-995D-4863-B948-32635F9001AB</td><td>20.80</td><td>120</td><td>⋯</td><td>0</td><td>0</td><td>0</td><td>0</td><td>0</td><td>0</td><td>0</td><td>0</td><td>0</td><td>0</td></tr>\n",
       "\t<tr><td>10367560</td><td>13</td><td> 18890634</td><td>2014-07-02</td><td>1</td><td>ICD9CM:300.4  </td><td>682</td><td>128D1D75-FE1C-4FD0-96FB-D2B05433D1E3</td><td>38.67</td><td>128</td><td>⋯</td><td>0</td><td>0</td><td>0</td><td>0</td><td>0</td><td>0</td><td>0</td><td>0</td><td>0</td><td>0</td></tr>\n",
       "\t<tr><td>10473814</td><td> 0</td><td>101802110</td><td>2018-11-14</td><td>1</td><td>ICD10CM:F32.9 </td><td>632</td><td>8CEE2E8B-BBEB-473B-AAF2-27507AF446A8</td><td>18.88</td><td>108</td><td>⋯</td><td>0</td><td>0</td><td>0</td><td>0</td><td>0</td><td>0</td><td>0</td><td>0</td><td>0</td><td>0</td></tr>\n",
       "\t<tr><td>10530593</td><td>19</td><td> 97799364</td><td>2018-08-27</td><td>1</td><td>ICD10CM:F33.1 </td><td>692</td><td>C9C30DC1-36A4-47DC-82F2-10B1D19BD089</td><td>36.36</td><td> 94</td><td>⋯</td><td>0</td><td>0</td><td>0</td><td>0</td><td>0</td><td>0</td><td>0</td><td>0</td><td>0</td><td>0</td></tr>\n",
       "\t<tr><td>10535135</td><td>20</td><td> 25109989</td><td>2016-12-19</td><td>1</td><td>ICD10CM:F34.1 </td><td>578</td><td>292222BD-9DB6-4DE1-AC91-2B9707C087BD</td><td>19.74</td><td>102</td><td>⋯</td><td>0</td><td>0</td><td>0</td><td>0</td><td>0</td><td>0</td><td>0</td><td>0</td><td>0</td><td>0</td></tr>\n",
       "\t<tr><td>10566415</td><td>22</td><td> 39232351</td><td>2014-12-30</td><td>1</td><td>ICD9CM:311    </td><td>678</td><td>0838A91C-423E-4844-B541-19BD973D7066</td><td>23.13</td><td>124</td><td>⋯</td><td>0</td><td>0</td><td>0</td><td>0</td><td>0</td><td>0</td><td>0</td><td>0</td><td>0</td><td>0</td></tr>\n",
       "\t<tr><td>10655443</td><td>13</td><td> 39571659</td><td>2017-04-17</td><td>1</td><td>ICD10CM:F32.1 </td><td>678</td><td>A9186D6B-AEDF-4743-8DB6-5D79D37DD093</td><td>47.25</td><td>132</td><td>⋯</td><td>0</td><td>0</td><td>0</td><td>0</td><td>0</td><td>0</td><td>0</td><td>0</td><td>0</td><td>0</td></tr>\n",
       "\t<tr><td>10658043</td><td>15</td><td> 31455438</td><td>2013-09-05</td><td>1</td><td>ICD9CM:296.20 </td><td>564</td><td>BA38BC62-0985-4229-9A71-C4EDC3C60621</td><td>23.51</td><td>150</td><td>⋯</td><td>0</td><td>0</td><td>0</td><td>0</td><td>0</td><td>0</td><td>0</td><td>0</td><td>0</td><td>0</td></tr>\n",
       "\t<tr><td>10664655</td><td>18</td><td> 39138128</td><td>2015-06-23</td><td>1</td><td>ICD9CM:296.56 </td><td>678</td><td>5F008A54-5EB5-495E-9ACF-107652601705</td><td>31.54</td><td>120</td><td>⋯</td><td>0</td><td>0</td><td>0</td><td>0</td><td>0</td><td>0</td><td>0</td><td>0</td><td>0</td><td>0</td></tr>\n",
       "\t<tr><td>10687987</td><td>27</td><td> 58141086</td><td>2018-05-30</td><td>1</td><td>ICD10CM:F33.1 </td><td>693</td><td>52D7EFFB-8430-48F9-ACE7-0E9C4C487429</td><td>33.47</td><td>130</td><td>⋯</td><td>0</td><td>0</td><td>0</td><td>0</td><td>0</td><td>0</td><td>0</td><td>0</td><td>0</td><td>0</td></tr>\n",
       "\t<tr><td>10791343</td><td> 6</td><td> 25994533</td><td>2015-03-11</td><td>1</td><td>ICD9CM:296.80 </td><td>578</td><td>2333C2E4-FA08-4B58-B284-EC5D84E5FAB0</td><td>25.12</td><td>112</td><td>⋯</td><td>0</td><td>0</td><td>0</td><td>0</td><td>0</td><td>0</td><td>0</td><td>0</td><td>0</td><td>0</td></tr>\n",
       "\t<tr><td>10822797</td><td>14</td><td>109805352</td><td>2019-04-18</td><td>1</td><td>ICD10CM:F33.1 </td><td>671</td><td>DF6BE73F-7C4E-4621-B723-20C0CF029294</td><td>26.26</td><td> 98</td><td>⋯</td><td>0</td><td>0</td><td>0</td><td>0</td><td>0</td><td>0</td><td>0</td><td>0</td><td>0</td><td>0</td></tr>\n",
       "\t<tr><td>10864994</td><td>14</td><td>106003234</td><td>2019-02-21</td><td>1</td><td>ICD10CM:F32.1 </td><td>610</td><td>4B058D9E-0630-4DC7-96AF-D0BA75E1229C</td><td>21.62</td><td> 90</td><td>⋯</td><td>0</td><td>0</td><td>0</td><td>0</td><td>0</td><td>0</td><td>0</td><td>0</td><td>0</td><td>0</td></tr>\n",
       "\t<tr><td>10900315</td><td>14</td><td> 58207538</td><td>2014-02-03</td><td>1</td><td>ICD9CM:296.30 </td><td>609</td><td>2AFF00F7-526D-4BFF-BA7C-76FF5B23CC97</td><td>32.37</td><td>144</td><td>⋯</td><td>0</td><td>0</td><td>0</td><td>0</td><td>0</td><td>0</td><td>0</td><td>0</td><td>0</td><td>0</td></tr>\n",
       "\t<tr><td>10904011</td><td> 8</td><td> 49655533</td><td>2016-07-05</td><td>1</td><td>ICD10CM:F32.9 </td><td>671</td><td>3ABFA9D4-CF4D-4317-865F-DBA8A4876670</td><td>24.69</td><td> 94</td><td>⋯</td><td>0</td><td>0</td><td>0</td><td>0</td><td>0</td><td>0</td><td>0</td><td>0</td><td>0</td><td>0</td></tr>\n",
       "\t<tr><td>10948655</td><td>25</td><td> 37299774</td><td>2014-02-14</td><td>1</td><td>ICD9CM:296.32 </td><td>692</td><td>4203738A-A4C6-4554-8E37-177B1232D59D</td><td>28.24</td><td>126</td><td>⋯</td><td>0</td><td>0</td><td>0</td><td>0</td><td>0</td><td>0</td><td>0</td><td>0</td><td>0</td><td>0</td></tr>\n",
       "\t<tr><td>11012890</td><td>15</td><td> 13441972</td><td>2017-02-02</td><td>1</td><td>ICD10CM:F32.9 </td><td>624</td><td>5B7E434D-3730-4FD4-8B5D-B8568A7A600B</td><td>31.65</td><td>138</td><td>⋯</td><td>0</td><td>0</td><td>0</td><td>0</td><td>0</td><td>0</td><td>0</td><td>0</td><td>0</td><td>0</td></tr>\n",
       "\t<tr><td>11013219</td><td>14</td><td> 35175567</td><td>2013-08-19</td><td>1</td><td>ICD9CM:309.0  </td><td>692</td><td>C9C30DC1-36A4-47DC-82F2-10B1D19BD089</td><td>27.77</td><td>100</td><td>⋯</td><td>0</td><td>0</td><td>0</td><td>0</td><td>0</td><td>0</td><td>0</td><td>0</td><td>0</td><td>0</td></tr>\n",
       "\t<tr><td>11038190</td><td>21</td><td> 54274236</td><td>2014-04-21</td><td>1</td><td>ICD9CM:296.30 </td><td>671</td><td>5A5BBEE6-BBFF-47A8-A07B-2C9E9F85AABD</td><td>25.54</td><td>127</td><td>⋯</td><td>0</td><td>0</td><td>0</td><td>0</td><td>0</td><td>0</td><td>0</td><td>0</td><td>0</td><td>0</td></tr>\n",
       "\t<tr><td>11070346</td><td>10</td><td> 13942215</td><td>2017-02-03</td><td>1</td><td>ICD10CM:F33.1 </td><td>648</td><td>C3EAB852-A57E-4F32-9645-A6D923285DC1</td><td>26.26</td><td>142</td><td>⋯</td><td>0</td><td>0</td><td>0</td><td>0</td><td>0</td><td>0</td><td>0</td><td>0</td><td>0</td><td>0</td></tr>\n",
       "\t<tr><td>11074654</td><td>19</td><td> 12961076</td><td>2018-07-20</td><td>1</td><td>ICD10CM:F32.89</td><td>624</td><td>886A684C-1D85-495A-997E-64D6C3FFE4CA</td><td>25.83</td><td>121</td><td>⋯</td><td>0</td><td>0</td><td>0</td><td>0</td><td>0</td><td>0</td><td>0</td><td>0</td><td>0</td><td>0</td></tr>\n",
       "</tbody>\n",
       "</table>\n"
      ],
      "text/latex": [
       "A grouped\\_df: 65531 × 29\n",
       "\\begin{tabular}{lllllllllllllllllllll}\n",
       " phqPT & PhqScore & phqEnc & AdminDate & INSTANCE\\_NUM & CONCEPT\\_CD & HEALTH\\_SYSTEM\\_ID & PROVIDER\\_ID & BMI & SystolicBP & ⋯ & Anxiety & Alcohol & Sleep & SUD & Tobacco & SchizophreniaSpectrum & Adjustment & EatingDisorders & Hypertension & PTSD\\\\\n",
       " <int> & <dbl> & <int> & <dttm> & <int> & <chr> & <chr> & <chr> & <dbl> & <dbl> & ⋯ & <dbl> & <dbl> & <dbl> & <dbl> & <dbl> & <dbl> & <dbl> & <dbl> & <dbl> & <dbl>\\\\\n",
       "\\hline\n",
       "\t  560 & 19 &  32305700 & 2013-08-05 & 1 & ICD9CM:311     & 564 & AE5F21AE-72A1-4004-9F4C-3B29714EE261 & 38.22 & 140 & ⋯ & 0 & 0 & 0 & 0 & 0 & 0 & 0 & 0 & 0 & 0\\\\\n",
       "\t  647 & 14 &  18173681 & 2017-10-02 & 1 & ICD10CM:F33.1  & 667 & D214E73D-D93B-4151-9166-019096D31829 & 20.18 & 112 & ⋯ & 0 & 0 & 0 & 0 & 0 & 0 & 0 & 0 & 0 & 0\\\\\n",
       "\t  817 & 21 &  14906683 & 2017-09-06 & 1 & ICD10CM:F32.89 & 648 & 5207C678-C587-462D-B25D-DF2C2ED9E14F & 24.33 & 103 & ⋯ & 0 & 0 & 0 & 0 & 0 & 0 & 0 & 0 & 0 & 0\\\\\n",
       "\t  867 &  4 &  20652705 & 2016-11-09 & 1 & ICD10CM:F32.5  & 605 & 0C8B1024-34BE-4A5D-8363-ECCB8F8903F7 & 22.13 & 146 & ⋯ & 0 & 0 & 0 & 0 & 0 & 0 & 0 & 0 & 0 & 0\\\\\n",
       "\t  921 & 11 &  60038328 & 2012-12-19 & 1 & ICD9CM:311     & 558 & 55612BAD-6F99-4520-A887-686786E34CE6 & 25.31 & 126 & ⋯ & 0 & 0 & 0 & 0 & 0 & 0 & 0 & 0 & 0 & 0\\\\\n",
       "\t 1248 & 11 &  71981807 & 2017-12-12 & 1 & ICD10CM:F32.9  & 594 & D67BA8E5-BF1F-47D8-94D9-16ADADD575D9 & 23.00 & 108 & ⋯ & 0 & 0 & 0 & 0 & 0 & 0 & 0 & 0 & 0 & 0\\\\\n",
       "\t 1278 & 17 &  75148316 & 2017-09-21 & 1 & ICD10CM:F33.2  & 606 & C7B48665-59E2-4E91-B19E-73192D727C8E & 37.40 & 157 & ⋯ & 0 & 0 & 0 & 0 & 0 & 0 & 0 & 0 & 0 & 0\\\\\n",
       "\t 1491 & 11 &  40227280 & 2017-01-25 & 1 & ICD10CM:F33.1  & 678 & 0838A91C-423E-4844-B541-19BD973D7066 & 36.91 &  98 & ⋯ & 0 & 0 & 0 & 0 & 0 & 0 & 0 & 0 & 0 & 0\\\\\n",
       "\t 1529 & 14 &  28185859 & 2018-02-12 & 1 & ICD10CM:F33.1  & 679 & 691A946E-1C87-4902-B384-F690CC65C3E8 & 32.35 & 116 & ⋯ & 0 & 0 & 0 & 0 & 0 & 0 & 0 & 0 & 0 & 0\\\\\n",
       "\t 1686 &  9 &  32503551 & 2014-11-18 & 1 & ICD9CM:311     & 564 & 4A2955DB-7AFB-4BFB-8190-6ED43EB1E35E & 32.00 & 110 & ⋯ & 0 & 0 & 0 & 0 & 0 & 0 & 0 & 0 & 0 & 0\\\\\n",
       "\t 1787 &  5 & 108543117 & 2019-03-29 & 1 & ICD10CM:F32.0  & 682 & D7663BC6-227D-4A7F-B037-2D312EB7D31D & 26.30 & 132 & ⋯ & 0 & 0 & 0 & 0 & 0 & 0 & 0 & 0 & 0 & 0\\\\\n",
       "\t 1978 & 21 &  34815011 & 2016-08-16 & 1 & ICD10CM:F33.1  & 692 & 7473A1B3-5DB9-47BB-8C3A-7C5C6C2F38CD & 31.60 & 120 & ⋯ & 0 & 0 & 0 & 0 & 0 & 0 & 0 & 0 & 0 & 0\\\\\n",
       "\t 2043 &  2 &  93361511 & 2018-08-01 & 1 & ICD10CM:F32.9  & 602 & 18D17F81-BD34-4C0B-8F28-F15FE692C379 & 38.80 & 130 & ⋯ & 0 & 0 & 0 & 0 & 0 & 0 & 0 & 0 & 0 & 0\\\\\n",
       "\t 2255 & 15 &  31109031 & 2015-03-28 & 1 & ICD9CM:311     & 586 & 357F37E8-DF17-4F0C-BABE-0E7CF305DEC4 & 26.31 & 120 & ⋯ & 0 & 0 & 0 & 0 & 0 & 0 & 0 & 0 & 0 & 0\\\\\n",
       "\t 2343 &  7 &  40037042 & 2016-08-10 & 1 & ICD10CM:F32.5  & 638 & 82D0D2F3-490D-4880-AD23-83C9949E0EC2 & 20.04 & 110 & ⋯ & 0 & 0 & 0 & 0 & 0 & 0 & 0 & 0 & 0 & 0\\\\\n",
       "\t 2441 & 12 &  30614693 & 2017-03-30 & 1 & ICD10CM:F53.0  & 662 & 6F17D46F-1061-4F5E-A8F7-D7F1E168104F & 39.33 & 108 & ⋯ & 0 & 0 & 0 & 0 & 0 & 0 & 0 & 0 & 0 & 0\\\\\n",
       "\t 2688 & 15 &  21245697 & 2018-06-28 & 1 & ICD10CM:F33.1  & 684 & B733A231-4F42-454C-9237-06920E632909 & 20.00 & 116 & ⋯ & 0 & 0 & 0 & 0 & 0 & 0 & 0 & 0 & 0 & 0\\\\\n",
       "\t 2782 & 19 &  76251324 & 2017-12-28 & 1 & ICD10CM:F32.9  & 606 & 014BFE57-9717-4E62-A253-86CCB376AF80 & 30.10 & 117 & ⋯ & 0 & 0 & 0 & 0 & 0 & 0 & 0 & 0 & 0 & 0\\\\\n",
       "\t 3030 & 21 &  70986485 & 2017-02-15 & 1 & ICD10CM:F32.9  & 590 & 2B48EE57-74E1-49CB-8BAA-FDC8EB9E08F0 & 37.10 & 154 & ⋯ & 0 & 0 & 0 & 0 & 0 & 0 & 0 & 0 & 0 & 0\\\\\n",
       "\t 3147 & 19 &  99978339 & 2018-09-25 & 1 & ICD10CM:F32.9  & 589 & DFA07D7D-E861-40AC-AB1B-C46973AC32FA & 33.50 & 122 & ⋯ & 0 & 0 & 0 & 0 & 0 & 0 & 0 & 0 & 0 & 0\\\\\n",
       "\t 3234 & 10 &  24627815 & 2015-03-06 & 1 & ICD9CM:296.20  & 578 & 91A55941-82B8-435D-ADB6-B383CB9CCCBC & 28.74 & 126 & ⋯ & 0 & 0 & 0 & 0 & 0 & 0 & 0 & 0 & 0 & 0\\\\\n",
       "\t 3291 & 11 &  57844402 & 2015-03-25 & 1 & ICD9CM:296.20  & 693 & 77DE22CD-F6EE-49C0-9057-84668FE106DB & 24.03 &  94 & ⋯ & 0 & 0 & 0 & 0 & 0 & 0 & 0 & 0 & 0 & 0\\\\\n",
       "\t 3585 & 20 &   7445209 & 2015-03-11 & 1 & ICD9CM:296.32  & 612 & 3BDFB4B1-7B16-46DC-9EE2-264BB46A72BF & 19.20 & 100 & ⋯ & 0 & 0 & 0 & 0 & 0 & 0 & 0 & 0 & 0 & 0\\\\\n",
       "\t 3604 & 23 &   1950453 & 2015-07-27 & 1 & ICD9CM:296.32  & 610 & 900F2B18-24F5-4207-9B0F-DEA3DD910ABE & 26.56 & 111 & ⋯ & 0 & 0 & 0 & 0 & 0 & 0 & 0 & 0 & 0 & 0\\\\\n",
       "\t 3670 & 12 &   7408251 & 2013-07-16 & 1 & ICD9CM:311     & 612 & ACDC554A-9431-4D81-9697-C54C1CFE7206 & 35.22 & 157 & ⋯ & 0 & 0 & 0 & 0 & 0 & 0 & 0 & 0 & 0 & 0\\\\\n",
       "\t 3805 & 14 &  75874633 & 2018-05-22 & 1 & ICD10CM:F32.9  & 606 & C15629B9-BAD0-467B-9FD0-B268D894CA17 & 29.10 & 106 & ⋯ & 0 & 0 & 0 & 0 & 0 & 0 & 0 & 0 & 0 & 0\\\\\n",
       "\t 3944 &  9 &  14900265 & 2016-05-27 & 1 & ICD10CM:F32.9  & 568 & FFCC6862-23ED-4A2F-9DA2-A9FCE1698ED6 & 28.87 & 120 & ⋯ & 0 & 0 & 0 & 0 & 0 & 0 & 0 & 0 & 0 & 0\\\\\n",
       "\t 4156 &  6 &  36314956 & 2016-12-16 & 1 & ICD10CM:F33.1  & 692 & FA5E5ED0-7673-4437-8E89-067BBDDD1935 & 32.50 & 131 & ⋯ & 0 & 0 & 0 & 0 & 0 & 0 & 0 & 0 & 0 & 0\\\\\n",
       "\t 4296 & 25 &  23440642 & 2016-01-26 & 1 & ICD10CM:F32.9  & 665 & 31EB01C1-F7ED-40D5-BAC0-5F8E48FD4FF1 & 22.82 & 114 & ⋯ & 0 & 0 & 0 & 0 & 0 & 0 & 0 & 0 & 0 & 0\\\\\n",
       "\t 4321 &  0 &  92357454 & 2017-02-27 & 1 & ICD10CM:F32.9  & 589 & AF5EBBA5-E9AC-4F27-B9A5-3B10E49B625F & 23.90 & 180 & ⋯ & 0 & 0 & 0 & 0 & 0 & 0 & 0 & 0 & 0 & 0\\\\\n",
       "\t ⋮ & ⋮ & ⋮ & ⋮ & ⋮ & ⋮ & ⋮ & ⋮ & ⋮ & ⋮ & ⋱ & ⋮ & ⋮ & ⋮ & ⋮ & ⋮ & ⋮ & ⋮ & ⋮ & ⋮ & ⋮\\\\\n",
       "\t  9803046 &  4 & 101215465 & 2018-11-05 & 1 & ICD10CM:F32.2  & 693 & EE8AF3E9-5679-4EBB-BAF7-358CD9801CFB & 21.23 & 104 & ⋯ & 0 & 0 & 0 & 0 & 0 & 0 & 0 & 0 & 0 & 0\\\\\n",
       "\t  9807179 & 12 &  38343441 & 2015-09-22 & 1 & ICD9CM:296.32  & 678 & 2569E5AD-CFC7-40C1-9277-1742BC53D4AF & 24.98 & 100 & ⋯ & 0 & 0 & 0 & 0 & 0 & 0 & 0 & 0 & 0 & 0\\\\\n",
       "\t  9852643 & 11 &  37150384 & 2014-02-10 & 1 & ICD9CM:311     & 692 & A10BA0C1-AC14-4914-B220-2B4864F6A033 & 27.22 &  98 & ⋯ & 0 & 0 & 0 & 0 & 0 & 0 & 0 & 0 & 0 & 0\\\\\n",
       "\t  9854610 & 26 &  39190495 & 2015-06-04 & 1 & ICD9CM:296.33  & 678 & 76AE5385-B6D0-4640-BC59-6E4DCE1F9B23 & 27.06 & 118 & ⋯ & 0 & 0 & 0 & 0 & 0 & 0 & 0 & 0 & 0 & 0\\\\\n",
       "\t 10038245 & 19 &  22528679 & 2017-12-08 & 1 & ICD10CM:F33.1  & 684 & 04767FAD-72AB-4968-82FF-AE0CBFB7C3B7 & 17.92 &  96 & ⋯ & 0 & 0 & 0 & 0 & 0 & 0 & 0 & 0 & 0 & 0\\\\\n",
       "\t 10053831 & 18 &  58449811 & 2015-09-21 & 1 & ICD9CM:311     & 609 & 415C91CC-8727-40A2-9475-DC79464B3F32 & 37.92 & 110 & ⋯ & 0 & 0 & 0 & 0 & 0 & 0 & 0 & 0 & 0 & 0\\\\\n",
       "\t 10087240 & 25 &  30021716 & 2017-11-20 & 1 & ICD10CM:F33.9  & 662 & C27DBCBE-521A-4304-B7B0-B3A470879A3C & 32.81 & 114 & ⋯ & 0 & 0 & 0 & 0 & 0 & 0 & 0 & 0 & 0 & 0\\\\\n",
       "\t 10280686 & 10 & 101037206 & 2018-10-31 & 1 & ICD10CM:F32.1  & NA  & 0E5E0608-5D53-4C76-9265-72B26757DAD1 & 28.13 & 122 & ⋯ & 0 & 0 & 0 & 0 & 0 & 0 & 0 & 0 & 0 & 0\\\\\n",
       "\t 10305811 & 23 & 120047785 & 2019-09-10 & 1 & ICD10CM:F32.2  & 577 & A4DC8132-4A24-4398-9A78-4DFE90F9F3C3 & 22.07 & 126 & ⋯ & 0 & 0 & 0 & 0 & 0 & 0 & 0 & 0 & 0 & 0\\\\\n",
       "\t 10366099 &  6 &  64350915 & 2016-10-10 & 1 & ICD10CM:F43.23 & 628 & 6D0C8BF8-995D-4863-B948-32635F9001AB & 20.80 & 120 & ⋯ & 0 & 0 & 0 & 0 & 0 & 0 & 0 & 0 & 0 & 0\\\\\n",
       "\t 10367560 & 13 &  18890634 & 2014-07-02 & 1 & ICD9CM:300.4   & 682 & 128D1D75-FE1C-4FD0-96FB-D2B05433D1E3 & 38.67 & 128 & ⋯ & 0 & 0 & 0 & 0 & 0 & 0 & 0 & 0 & 0 & 0\\\\\n",
       "\t 10473814 &  0 & 101802110 & 2018-11-14 & 1 & ICD10CM:F32.9  & 632 & 8CEE2E8B-BBEB-473B-AAF2-27507AF446A8 & 18.88 & 108 & ⋯ & 0 & 0 & 0 & 0 & 0 & 0 & 0 & 0 & 0 & 0\\\\\n",
       "\t 10530593 & 19 &  97799364 & 2018-08-27 & 1 & ICD10CM:F33.1  & 692 & C9C30DC1-36A4-47DC-82F2-10B1D19BD089 & 36.36 &  94 & ⋯ & 0 & 0 & 0 & 0 & 0 & 0 & 0 & 0 & 0 & 0\\\\\n",
       "\t 10535135 & 20 &  25109989 & 2016-12-19 & 1 & ICD10CM:F34.1  & 578 & 292222BD-9DB6-4DE1-AC91-2B9707C087BD & 19.74 & 102 & ⋯ & 0 & 0 & 0 & 0 & 0 & 0 & 0 & 0 & 0 & 0\\\\\n",
       "\t 10566415 & 22 &  39232351 & 2014-12-30 & 1 & ICD9CM:311     & 678 & 0838A91C-423E-4844-B541-19BD973D7066 & 23.13 & 124 & ⋯ & 0 & 0 & 0 & 0 & 0 & 0 & 0 & 0 & 0 & 0\\\\\n",
       "\t 10655443 & 13 &  39571659 & 2017-04-17 & 1 & ICD10CM:F32.1  & 678 & A9186D6B-AEDF-4743-8DB6-5D79D37DD093 & 47.25 & 132 & ⋯ & 0 & 0 & 0 & 0 & 0 & 0 & 0 & 0 & 0 & 0\\\\\n",
       "\t 10658043 & 15 &  31455438 & 2013-09-05 & 1 & ICD9CM:296.20  & 564 & BA38BC62-0985-4229-9A71-C4EDC3C60621 & 23.51 & 150 & ⋯ & 0 & 0 & 0 & 0 & 0 & 0 & 0 & 0 & 0 & 0\\\\\n",
       "\t 10664655 & 18 &  39138128 & 2015-06-23 & 1 & ICD9CM:296.56  & 678 & 5F008A54-5EB5-495E-9ACF-107652601705 & 31.54 & 120 & ⋯ & 0 & 0 & 0 & 0 & 0 & 0 & 0 & 0 & 0 & 0\\\\\n",
       "\t 10687987 & 27 &  58141086 & 2018-05-30 & 1 & ICD10CM:F33.1  & 693 & 52D7EFFB-8430-48F9-ACE7-0E9C4C487429 & 33.47 & 130 & ⋯ & 0 & 0 & 0 & 0 & 0 & 0 & 0 & 0 & 0 & 0\\\\\n",
       "\t 10791343 &  6 &  25994533 & 2015-03-11 & 1 & ICD9CM:296.80  & 578 & 2333C2E4-FA08-4B58-B284-EC5D84E5FAB0 & 25.12 & 112 & ⋯ & 0 & 0 & 0 & 0 & 0 & 0 & 0 & 0 & 0 & 0\\\\\n",
       "\t 10822797 & 14 & 109805352 & 2019-04-18 & 1 & ICD10CM:F33.1  & 671 & DF6BE73F-7C4E-4621-B723-20C0CF029294 & 26.26 &  98 & ⋯ & 0 & 0 & 0 & 0 & 0 & 0 & 0 & 0 & 0 & 0\\\\\n",
       "\t 10864994 & 14 & 106003234 & 2019-02-21 & 1 & ICD10CM:F32.1  & 610 & 4B058D9E-0630-4DC7-96AF-D0BA75E1229C & 21.62 &  90 & ⋯ & 0 & 0 & 0 & 0 & 0 & 0 & 0 & 0 & 0 & 0\\\\\n",
       "\t 10900315 & 14 &  58207538 & 2014-02-03 & 1 & ICD9CM:296.30  & 609 & 2AFF00F7-526D-4BFF-BA7C-76FF5B23CC97 & 32.37 & 144 & ⋯ & 0 & 0 & 0 & 0 & 0 & 0 & 0 & 0 & 0 & 0\\\\\n",
       "\t 10904011 &  8 &  49655533 & 2016-07-05 & 1 & ICD10CM:F32.9  & 671 & 3ABFA9D4-CF4D-4317-865F-DBA8A4876670 & 24.69 &  94 & ⋯ & 0 & 0 & 0 & 0 & 0 & 0 & 0 & 0 & 0 & 0\\\\\n",
       "\t 10948655 & 25 &  37299774 & 2014-02-14 & 1 & ICD9CM:296.32  & 692 & 4203738A-A4C6-4554-8E37-177B1232D59D & 28.24 & 126 & ⋯ & 0 & 0 & 0 & 0 & 0 & 0 & 0 & 0 & 0 & 0\\\\\n",
       "\t 11012890 & 15 &  13441972 & 2017-02-02 & 1 & ICD10CM:F32.9  & 624 & 5B7E434D-3730-4FD4-8B5D-B8568A7A600B & 31.65 & 138 & ⋯ & 0 & 0 & 0 & 0 & 0 & 0 & 0 & 0 & 0 & 0\\\\\n",
       "\t 11013219 & 14 &  35175567 & 2013-08-19 & 1 & ICD9CM:309.0   & 692 & C9C30DC1-36A4-47DC-82F2-10B1D19BD089 & 27.77 & 100 & ⋯ & 0 & 0 & 0 & 0 & 0 & 0 & 0 & 0 & 0 & 0\\\\\n",
       "\t 11038190 & 21 &  54274236 & 2014-04-21 & 1 & ICD9CM:296.30  & 671 & 5A5BBEE6-BBFF-47A8-A07B-2C9E9F85AABD & 25.54 & 127 & ⋯ & 0 & 0 & 0 & 0 & 0 & 0 & 0 & 0 & 0 & 0\\\\\n",
       "\t 11070346 & 10 &  13942215 & 2017-02-03 & 1 & ICD10CM:F33.1  & 648 & C3EAB852-A57E-4F32-9645-A6D923285DC1 & 26.26 & 142 & ⋯ & 0 & 0 & 0 & 0 & 0 & 0 & 0 & 0 & 0 & 0\\\\\n",
       "\t 11074654 & 19 &  12961076 & 2018-07-20 & 1 & ICD10CM:F32.89 & 624 & 886A684C-1D85-495A-997E-64D6C3FFE4CA & 25.83 & 121 & ⋯ & 0 & 0 & 0 & 0 & 0 & 0 & 0 & 0 & 0 & 0\\\\\n",
       "\\end{tabular}\n"
      ],
      "text/markdown": [
       "\n",
       "A grouped_df: 65531 × 29\n",
       "\n",
       "| phqPT &lt;int&gt; | PhqScore &lt;dbl&gt; | phqEnc &lt;int&gt; | AdminDate &lt;dttm&gt; | INSTANCE_NUM &lt;int&gt; | CONCEPT_CD &lt;chr&gt; | HEALTH_SYSTEM_ID &lt;chr&gt; | PROVIDER_ID &lt;chr&gt; | BMI &lt;dbl&gt; | SystolicBP &lt;dbl&gt; | ⋯ ⋯ | Anxiety &lt;dbl&gt; | Alcohol &lt;dbl&gt; | Sleep &lt;dbl&gt; | SUD &lt;dbl&gt; | Tobacco &lt;dbl&gt; | SchizophreniaSpectrum &lt;dbl&gt; | Adjustment &lt;dbl&gt; | EatingDisorders &lt;dbl&gt; | Hypertension &lt;dbl&gt; | PTSD &lt;dbl&gt; |\n",
       "|---|---|---|---|---|---|---|---|---|---|---|---|---|---|---|---|---|---|---|---|---|\n",
       "|  560 | 19 |  32305700 | 2013-08-05 | 1 | ICD9CM:311     | 564 | AE5F21AE-72A1-4004-9F4C-3B29714EE261 | 38.22 | 140 | ⋯ | 0 | 0 | 0 | 0 | 0 | 0 | 0 | 0 | 0 | 0 |\n",
       "|  647 | 14 |  18173681 | 2017-10-02 | 1 | ICD10CM:F33.1  | 667 | D214E73D-D93B-4151-9166-019096D31829 | 20.18 | 112 | ⋯ | 0 | 0 | 0 | 0 | 0 | 0 | 0 | 0 | 0 | 0 |\n",
       "|  817 | 21 |  14906683 | 2017-09-06 | 1 | ICD10CM:F32.89 | 648 | 5207C678-C587-462D-B25D-DF2C2ED9E14F | 24.33 | 103 | ⋯ | 0 | 0 | 0 | 0 | 0 | 0 | 0 | 0 | 0 | 0 |\n",
       "|  867 |  4 |  20652705 | 2016-11-09 | 1 | ICD10CM:F32.5  | 605 | 0C8B1024-34BE-4A5D-8363-ECCB8F8903F7 | 22.13 | 146 | ⋯ | 0 | 0 | 0 | 0 | 0 | 0 | 0 | 0 | 0 | 0 |\n",
       "|  921 | 11 |  60038328 | 2012-12-19 | 1 | ICD9CM:311     | 558 | 55612BAD-6F99-4520-A887-686786E34CE6 | 25.31 | 126 | ⋯ | 0 | 0 | 0 | 0 | 0 | 0 | 0 | 0 | 0 | 0 |\n",
       "| 1248 | 11 |  71981807 | 2017-12-12 | 1 | ICD10CM:F32.9  | 594 | D67BA8E5-BF1F-47D8-94D9-16ADADD575D9 | 23.00 | 108 | ⋯ | 0 | 0 | 0 | 0 | 0 | 0 | 0 | 0 | 0 | 0 |\n",
       "| 1278 | 17 |  75148316 | 2017-09-21 | 1 | ICD10CM:F33.2  | 606 | C7B48665-59E2-4E91-B19E-73192D727C8E | 37.40 | 157 | ⋯ | 0 | 0 | 0 | 0 | 0 | 0 | 0 | 0 | 0 | 0 |\n",
       "| 1491 | 11 |  40227280 | 2017-01-25 | 1 | ICD10CM:F33.1  | 678 | 0838A91C-423E-4844-B541-19BD973D7066 | 36.91 |  98 | ⋯ | 0 | 0 | 0 | 0 | 0 | 0 | 0 | 0 | 0 | 0 |\n",
       "| 1529 | 14 |  28185859 | 2018-02-12 | 1 | ICD10CM:F33.1  | 679 | 691A946E-1C87-4902-B384-F690CC65C3E8 | 32.35 | 116 | ⋯ | 0 | 0 | 0 | 0 | 0 | 0 | 0 | 0 | 0 | 0 |\n",
       "| 1686 |  9 |  32503551 | 2014-11-18 | 1 | ICD9CM:311     | 564 | 4A2955DB-7AFB-4BFB-8190-6ED43EB1E35E | 32.00 | 110 | ⋯ | 0 | 0 | 0 | 0 | 0 | 0 | 0 | 0 | 0 | 0 |\n",
       "| 1787 |  5 | 108543117 | 2019-03-29 | 1 | ICD10CM:F32.0  | 682 | D7663BC6-227D-4A7F-B037-2D312EB7D31D | 26.30 | 132 | ⋯ | 0 | 0 | 0 | 0 | 0 | 0 | 0 | 0 | 0 | 0 |\n",
       "| 1978 | 21 |  34815011 | 2016-08-16 | 1 | ICD10CM:F33.1  | 692 | 7473A1B3-5DB9-47BB-8C3A-7C5C6C2F38CD | 31.60 | 120 | ⋯ | 0 | 0 | 0 | 0 | 0 | 0 | 0 | 0 | 0 | 0 |\n",
       "| 2043 |  2 |  93361511 | 2018-08-01 | 1 | ICD10CM:F32.9  | 602 | 18D17F81-BD34-4C0B-8F28-F15FE692C379 | 38.80 | 130 | ⋯ | 0 | 0 | 0 | 0 | 0 | 0 | 0 | 0 | 0 | 0 |\n",
       "| 2255 | 15 |  31109031 | 2015-03-28 | 1 | ICD9CM:311     | 586 | 357F37E8-DF17-4F0C-BABE-0E7CF305DEC4 | 26.31 | 120 | ⋯ | 0 | 0 | 0 | 0 | 0 | 0 | 0 | 0 | 0 | 0 |\n",
       "| 2343 |  7 |  40037042 | 2016-08-10 | 1 | ICD10CM:F32.5  | 638 | 82D0D2F3-490D-4880-AD23-83C9949E0EC2 | 20.04 | 110 | ⋯ | 0 | 0 | 0 | 0 | 0 | 0 | 0 | 0 | 0 | 0 |\n",
       "| 2441 | 12 |  30614693 | 2017-03-30 | 1 | ICD10CM:F53.0  | 662 | 6F17D46F-1061-4F5E-A8F7-D7F1E168104F | 39.33 | 108 | ⋯ | 0 | 0 | 0 | 0 | 0 | 0 | 0 | 0 | 0 | 0 |\n",
       "| 2688 | 15 |  21245697 | 2018-06-28 | 1 | ICD10CM:F33.1  | 684 | B733A231-4F42-454C-9237-06920E632909 | 20.00 | 116 | ⋯ | 0 | 0 | 0 | 0 | 0 | 0 | 0 | 0 | 0 | 0 |\n",
       "| 2782 | 19 |  76251324 | 2017-12-28 | 1 | ICD10CM:F32.9  | 606 | 014BFE57-9717-4E62-A253-86CCB376AF80 | 30.10 | 117 | ⋯ | 0 | 0 | 0 | 0 | 0 | 0 | 0 | 0 | 0 | 0 |\n",
       "| 3030 | 21 |  70986485 | 2017-02-15 | 1 | ICD10CM:F32.9  | 590 | 2B48EE57-74E1-49CB-8BAA-FDC8EB9E08F0 | 37.10 | 154 | ⋯ | 0 | 0 | 0 | 0 | 0 | 0 | 0 | 0 | 0 | 0 |\n",
       "| 3147 | 19 |  99978339 | 2018-09-25 | 1 | ICD10CM:F32.9  | 589 | DFA07D7D-E861-40AC-AB1B-C46973AC32FA | 33.50 | 122 | ⋯ | 0 | 0 | 0 | 0 | 0 | 0 | 0 | 0 | 0 | 0 |\n",
       "| 3234 | 10 |  24627815 | 2015-03-06 | 1 | ICD9CM:296.20  | 578 | 91A55941-82B8-435D-ADB6-B383CB9CCCBC | 28.74 | 126 | ⋯ | 0 | 0 | 0 | 0 | 0 | 0 | 0 | 0 | 0 | 0 |\n",
       "| 3291 | 11 |  57844402 | 2015-03-25 | 1 | ICD9CM:296.20  | 693 | 77DE22CD-F6EE-49C0-9057-84668FE106DB | 24.03 |  94 | ⋯ | 0 | 0 | 0 | 0 | 0 | 0 | 0 | 0 | 0 | 0 |\n",
       "| 3585 | 20 |   7445209 | 2015-03-11 | 1 | ICD9CM:296.32  | 612 | 3BDFB4B1-7B16-46DC-9EE2-264BB46A72BF | 19.20 | 100 | ⋯ | 0 | 0 | 0 | 0 | 0 | 0 | 0 | 0 | 0 | 0 |\n",
       "| 3604 | 23 |   1950453 | 2015-07-27 | 1 | ICD9CM:296.32  | 610 | 900F2B18-24F5-4207-9B0F-DEA3DD910ABE | 26.56 | 111 | ⋯ | 0 | 0 | 0 | 0 | 0 | 0 | 0 | 0 | 0 | 0 |\n",
       "| 3670 | 12 |   7408251 | 2013-07-16 | 1 | ICD9CM:311     | 612 | ACDC554A-9431-4D81-9697-C54C1CFE7206 | 35.22 | 157 | ⋯ | 0 | 0 | 0 | 0 | 0 | 0 | 0 | 0 | 0 | 0 |\n",
       "| 3805 | 14 |  75874633 | 2018-05-22 | 1 | ICD10CM:F32.9  | 606 | C15629B9-BAD0-467B-9FD0-B268D894CA17 | 29.10 | 106 | ⋯ | 0 | 0 | 0 | 0 | 0 | 0 | 0 | 0 | 0 | 0 |\n",
       "| 3944 |  9 |  14900265 | 2016-05-27 | 1 | ICD10CM:F32.9  | 568 | FFCC6862-23ED-4A2F-9DA2-A9FCE1698ED6 | 28.87 | 120 | ⋯ | 0 | 0 | 0 | 0 | 0 | 0 | 0 | 0 | 0 | 0 |\n",
       "| 4156 |  6 |  36314956 | 2016-12-16 | 1 | ICD10CM:F33.1  | 692 | FA5E5ED0-7673-4437-8E89-067BBDDD1935 | 32.50 | 131 | ⋯ | 0 | 0 | 0 | 0 | 0 | 0 | 0 | 0 | 0 | 0 |\n",
       "| 4296 | 25 |  23440642 | 2016-01-26 | 1 | ICD10CM:F32.9  | 665 | 31EB01C1-F7ED-40D5-BAC0-5F8E48FD4FF1 | 22.82 | 114 | ⋯ | 0 | 0 | 0 | 0 | 0 | 0 | 0 | 0 | 0 | 0 |\n",
       "| 4321 |  0 |  92357454 | 2017-02-27 | 1 | ICD10CM:F32.9  | 589 | AF5EBBA5-E9AC-4F27-B9A5-3B10E49B625F | 23.90 | 180 | ⋯ | 0 | 0 | 0 | 0 | 0 | 0 | 0 | 0 | 0 | 0 |\n",
       "| ⋮ | ⋮ | ⋮ | ⋮ | ⋮ | ⋮ | ⋮ | ⋮ | ⋮ | ⋮ | ⋱ | ⋮ | ⋮ | ⋮ | ⋮ | ⋮ | ⋮ | ⋮ | ⋮ | ⋮ | ⋮ |\n",
       "|  9803046 |  4 | 101215465 | 2018-11-05 | 1 | ICD10CM:F32.2  | 693 | EE8AF3E9-5679-4EBB-BAF7-358CD9801CFB | 21.23 | 104 | ⋯ | 0 | 0 | 0 | 0 | 0 | 0 | 0 | 0 | 0 | 0 |\n",
       "|  9807179 | 12 |  38343441 | 2015-09-22 | 1 | ICD9CM:296.32  | 678 | 2569E5AD-CFC7-40C1-9277-1742BC53D4AF | 24.98 | 100 | ⋯ | 0 | 0 | 0 | 0 | 0 | 0 | 0 | 0 | 0 | 0 |\n",
       "|  9852643 | 11 |  37150384 | 2014-02-10 | 1 | ICD9CM:311     | 692 | A10BA0C1-AC14-4914-B220-2B4864F6A033 | 27.22 |  98 | ⋯ | 0 | 0 | 0 | 0 | 0 | 0 | 0 | 0 | 0 | 0 |\n",
       "|  9854610 | 26 |  39190495 | 2015-06-04 | 1 | ICD9CM:296.33  | 678 | 76AE5385-B6D0-4640-BC59-6E4DCE1F9B23 | 27.06 | 118 | ⋯ | 0 | 0 | 0 | 0 | 0 | 0 | 0 | 0 | 0 | 0 |\n",
       "| 10038245 | 19 |  22528679 | 2017-12-08 | 1 | ICD10CM:F33.1  | 684 | 04767FAD-72AB-4968-82FF-AE0CBFB7C3B7 | 17.92 |  96 | ⋯ | 0 | 0 | 0 | 0 | 0 | 0 | 0 | 0 | 0 | 0 |\n",
       "| 10053831 | 18 |  58449811 | 2015-09-21 | 1 | ICD9CM:311     | 609 | 415C91CC-8727-40A2-9475-DC79464B3F32 | 37.92 | 110 | ⋯ | 0 | 0 | 0 | 0 | 0 | 0 | 0 | 0 | 0 | 0 |\n",
       "| 10087240 | 25 |  30021716 | 2017-11-20 | 1 | ICD10CM:F33.9  | 662 | C27DBCBE-521A-4304-B7B0-B3A470879A3C | 32.81 | 114 | ⋯ | 0 | 0 | 0 | 0 | 0 | 0 | 0 | 0 | 0 | 0 |\n",
       "| 10280686 | 10 | 101037206 | 2018-10-31 | 1 | ICD10CM:F32.1  | NA  | 0E5E0608-5D53-4C76-9265-72B26757DAD1 | 28.13 | 122 | ⋯ | 0 | 0 | 0 | 0 | 0 | 0 | 0 | 0 | 0 | 0 |\n",
       "| 10305811 | 23 | 120047785 | 2019-09-10 | 1 | ICD10CM:F32.2  | 577 | A4DC8132-4A24-4398-9A78-4DFE90F9F3C3 | 22.07 | 126 | ⋯ | 0 | 0 | 0 | 0 | 0 | 0 | 0 | 0 | 0 | 0 |\n",
       "| 10366099 |  6 |  64350915 | 2016-10-10 | 1 | ICD10CM:F43.23 | 628 | 6D0C8BF8-995D-4863-B948-32635F9001AB | 20.80 | 120 | ⋯ | 0 | 0 | 0 | 0 | 0 | 0 | 0 | 0 | 0 | 0 |\n",
       "| 10367560 | 13 |  18890634 | 2014-07-02 | 1 | ICD9CM:300.4   | 682 | 128D1D75-FE1C-4FD0-96FB-D2B05433D1E3 | 38.67 | 128 | ⋯ | 0 | 0 | 0 | 0 | 0 | 0 | 0 | 0 | 0 | 0 |\n",
       "| 10473814 |  0 | 101802110 | 2018-11-14 | 1 | ICD10CM:F32.9  | 632 | 8CEE2E8B-BBEB-473B-AAF2-27507AF446A8 | 18.88 | 108 | ⋯ | 0 | 0 | 0 | 0 | 0 | 0 | 0 | 0 | 0 | 0 |\n",
       "| 10530593 | 19 |  97799364 | 2018-08-27 | 1 | ICD10CM:F33.1  | 692 | C9C30DC1-36A4-47DC-82F2-10B1D19BD089 | 36.36 |  94 | ⋯ | 0 | 0 | 0 | 0 | 0 | 0 | 0 | 0 | 0 | 0 |\n",
       "| 10535135 | 20 |  25109989 | 2016-12-19 | 1 | ICD10CM:F34.1  | 578 | 292222BD-9DB6-4DE1-AC91-2B9707C087BD | 19.74 | 102 | ⋯ | 0 | 0 | 0 | 0 | 0 | 0 | 0 | 0 | 0 | 0 |\n",
       "| 10566415 | 22 |  39232351 | 2014-12-30 | 1 | ICD9CM:311     | 678 | 0838A91C-423E-4844-B541-19BD973D7066 | 23.13 | 124 | ⋯ | 0 | 0 | 0 | 0 | 0 | 0 | 0 | 0 | 0 | 0 |\n",
       "| 10655443 | 13 |  39571659 | 2017-04-17 | 1 | ICD10CM:F32.1  | 678 | A9186D6B-AEDF-4743-8DB6-5D79D37DD093 | 47.25 | 132 | ⋯ | 0 | 0 | 0 | 0 | 0 | 0 | 0 | 0 | 0 | 0 |\n",
       "| 10658043 | 15 |  31455438 | 2013-09-05 | 1 | ICD9CM:296.20  | 564 | BA38BC62-0985-4229-9A71-C4EDC3C60621 | 23.51 | 150 | ⋯ | 0 | 0 | 0 | 0 | 0 | 0 | 0 | 0 | 0 | 0 |\n",
       "| 10664655 | 18 |  39138128 | 2015-06-23 | 1 | ICD9CM:296.56  | 678 | 5F008A54-5EB5-495E-9ACF-107652601705 | 31.54 | 120 | ⋯ | 0 | 0 | 0 | 0 | 0 | 0 | 0 | 0 | 0 | 0 |\n",
       "| 10687987 | 27 |  58141086 | 2018-05-30 | 1 | ICD10CM:F33.1  | 693 | 52D7EFFB-8430-48F9-ACE7-0E9C4C487429 | 33.47 | 130 | ⋯ | 0 | 0 | 0 | 0 | 0 | 0 | 0 | 0 | 0 | 0 |\n",
       "| 10791343 |  6 |  25994533 | 2015-03-11 | 1 | ICD9CM:296.80  | 578 | 2333C2E4-FA08-4B58-B284-EC5D84E5FAB0 | 25.12 | 112 | ⋯ | 0 | 0 | 0 | 0 | 0 | 0 | 0 | 0 | 0 | 0 |\n",
       "| 10822797 | 14 | 109805352 | 2019-04-18 | 1 | ICD10CM:F33.1  | 671 | DF6BE73F-7C4E-4621-B723-20C0CF029294 | 26.26 |  98 | ⋯ | 0 | 0 | 0 | 0 | 0 | 0 | 0 | 0 | 0 | 0 |\n",
       "| 10864994 | 14 | 106003234 | 2019-02-21 | 1 | ICD10CM:F32.1  | 610 | 4B058D9E-0630-4DC7-96AF-D0BA75E1229C | 21.62 |  90 | ⋯ | 0 | 0 | 0 | 0 | 0 | 0 | 0 | 0 | 0 | 0 |\n",
       "| 10900315 | 14 |  58207538 | 2014-02-03 | 1 | ICD9CM:296.30  | 609 | 2AFF00F7-526D-4BFF-BA7C-76FF5B23CC97 | 32.37 | 144 | ⋯ | 0 | 0 | 0 | 0 | 0 | 0 | 0 | 0 | 0 | 0 |\n",
       "| 10904011 |  8 |  49655533 | 2016-07-05 | 1 | ICD10CM:F32.9  | 671 | 3ABFA9D4-CF4D-4317-865F-DBA8A4876670 | 24.69 |  94 | ⋯ | 0 | 0 | 0 | 0 | 0 | 0 | 0 | 0 | 0 | 0 |\n",
       "| 10948655 | 25 |  37299774 | 2014-02-14 | 1 | ICD9CM:296.32  | 692 | 4203738A-A4C6-4554-8E37-177B1232D59D | 28.24 | 126 | ⋯ | 0 | 0 | 0 | 0 | 0 | 0 | 0 | 0 | 0 | 0 |\n",
       "| 11012890 | 15 |  13441972 | 2017-02-02 | 1 | ICD10CM:F32.9  | 624 | 5B7E434D-3730-4FD4-8B5D-B8568A7A600B | 31.65 | 138 | ⋯ | 0 | 0 | 0 | 0 | 0 | 0 | 0 | 0 | 0 | 0 |\n",
       "| 11013219 | 14 |  35175567 | 2013-08-19 | 1 | ICD9CM:309.0   | 692 | C9C30DC1-36A4-47DC-82F2-10B1D19BD089 | 27.77 | 100 | ⋯ | 0 | 0 | 0 | 0 | 0 | 0 | 0 | 0 | 0 | 0 |\n",
       "| 11038190 | 21 |  54274236 | 2014-04-21 | 1 | ICD9CM:296.30  | 671 | 5A5BBEE6-BBFF-47A8-A07B-2C9E9F85AABD | 25.54 | 127 | ⋯ | 0 | 0 | 0 | 0 | 0 | 0 | 0 | 0 | 0 | 0 |\n",
       "| 11070346 | 10 |  13942215 | 2017-02-03 | 1 | ICD10CM:F33.1  | 648 | C3EAB852-A57E-4F32-9645-A6D923285DC1 | 26.26 | 142 | ⋯ | 0 | 0 | 0 | 0 | 0 | 0 | 0 | 0 | 0 | 0 |\n",
       "| 11074654 | 19 |  12961076 | 2018-07-20 | 1 | ICD10CM:F32.89 | 624 | 886A684C-1D85-495A-997E-64D6C3FFE4CA | 25.83 | 121 | ⋯ | 0 | 0 | 0 | 0 | 0 | 0 | 0 | 0 | 0 | 0 |\n",
       "\n"
      ],
      "text/plain": [
       "      phqPT    PhqScore phqEnc    AdminDate  INSTANCE_NUM CONCEPT_CD    \n",
       "1      560     19        32305700 2013-08-05 1            ICD9CM:311    \n",
       "2      647     14        18173681 2017-10-02 1            ICD10CM:F33.1 \n",
       "3      817     21        14906683 2017-09-06 1            ICD10CM:F32.89\n",
       "4      867      4        20652705 2016-11-09 1            ICD10CM:F32.5 \n",
       "5      921     11        60038328 2012-12-19 1            ICD9CM:311    \n",
       "6     1248     11        71981807 2017-12-12 1            ICD10CM:F32.9 \n",
       "7     1278     17        75148316 2017-09-21 1            ICD10CM:F33.2 \n",
       "8     1491     11        40227280 2017-01-25 1            ICD10CM:F33.1 \n",
       "9     1529     14        28185859 2018-02-12 1            ICD10CM:F33.1 \n",
       "10    1686      9        32503551 2014-11-18 1            ICD9CM:311    \n",
       "11    1787      5       108543117 2019-03-29 1            ICD10CM:F32.0 \n",
       "12    1978     21        34815011 2016-08-16 1            ICD10CM:F33.1 \n",
       "13    2043      2        93361511 2018-08-01 1            ICD10CM:F32.9 \n",
       "14    2255     15        31109031 2015-03-28 1            ICD9CM:311    \n",
       "15    2343      7        40037042 2016-08-10 1            ICD10CM:F32.5 \n",
       "16    2441     12        30614693 2017-03-30 1            ICD10CM:F53.0 \n",
       "17    2688     15        21245697 2018-06-28 1            ICD10CM:F33.1 \n",
       "18    2782     19        76251324 2017-12-28 1            ICD10CM:F32.9 \n",
       "19    3030     21        70986485 2017-02-15 1            ICD10CM:F32.9 \n",
       "20    3147     19        99978339 2018-09-25 1            ICD10CM:F32.9 \n",
       "21    3234     10        24627815 2015-03-06 1            ICD9CM:296.20 \n",
       "22    3291     11        57844402 2015-03-25 1            ICD9CM:296.20 \n",
       "23    3585     20         7445209 2015-03-11 1            ICD9CM:296.32 \n",
       "24    3604     23         1950453 2015-07-27 1            ICD9CM:296.32 \n",
       "25    3670     12         7408251 2013-07-16 1            ICD9CM:311    \n",
       "26    3805     14        75874633 2018-05-22 1            ICD10CM:F32.9 \n",
       "27    3944      9        14900265 2016-05-27 1            ICD10CM:F32.9 \n",
       "28    4156      6        36314956 2016-12-16 1            ICD10CM:F33.1 \n",
       "29    4296     25        23440642 2016-01-26 1            ICD10CM:F32.9 \n",
       "30    4321      0        92357454 2017-02-27 1            ICD10CM:F32.9 \n",
       "⋮     ⋮        ⋮        ⋮         ⋮          ⋮            ⋮             \n",
       "65502  9803046  4       101215465 2018-11-05 1            ICD10CM:F32.2 \n",
       "65503  9807179 12        38343441 2015-09-22 1            ICD9CM:296.32 \n",
       "65504  9852643 11        37150384 2014-02-10 1            ICD9CM:311    \n",
       "65505  9854610 26        39190495 2015-06-04 1            ICD9CM:296.33 \n",
       "65506 10038245 19        22528679 2017-12-08 1            ICD10CM:F33.1 \n",
       "65507 10053831 18        58449811 2015-09-21 1            ICD9CM:311    \n",
       "65508 10087240 25        30021716 2017-11-20 1            ICD10CM:F33.9 \n",
       "65509 10280686 10       101037206 2018-10-31 1            ICD10CM:F32.1 \n",
       "65510 10305811 23       120047785 2019-09-10 1            ICD10CM:F32.2 \n",
       "65511 10366099  6        64350915 2016-10-10 1            ICD10CM:F43.23\n",
       "65512 10367560 13        18890634 2014-07-02 1            ICD9CM:300.4  \n",
       "65513 10473814  0       101802110 2018-11-14 1            ICD10CM:F32.9 \n",
       "65514 10530593 19        97799364 2018-08-27 1            ICD10CM:F33.1 \n",
       "65515 10535135 20        25109989 2016-12-19 1            ICD10CM:F34.1 \n",
       "65516 10566415 22        39232351 2014-12-30 1            ICD9CM:311    \n",
       "65517 10655443 13        39571659 2017-04-17 1            ICD10CM:F32.1 \n",
       "65518 10658043 15        31455438 2013-09-05 1            ICD9CM:296.20 \n",
       "65519 10664655 18        39138128 2015-06-23 1            ICD9CM:296.56 \n",
       "65520 10687987 27        58141086 2018-05-30 1            ICD10CM:F33.1 \n",
       "65521 10791343  6        25994533 2015-03-11 1            ICD9CM:296.80 \n",
       "65522 10822797 14       109805352 2019-04-18 1            ICD10CM:F33.1 \n",
       "65523 10864994 14       106003234 2019-02-21 1            ICD10CM:F32.1 \n",
       "65524 10900315 14        58207538 2014-02-03 1            ICD9CM:296.30 \n",
       "65525 10904011  8        49655533 2016-07-05 1            ICD10CM:F32.9 \n",
       "65526 10948655 25        37299774 2014-02-14 1            ICD9CM:296.32 \n",
       "65527 11012890 15        13441972 2017-02-02 1            ICD10CM:F32.9 \n",
       "65528 11013219 14        35175567 2013-08-19 1            ICD9CM:309.0  \n",
       "65529 11038190 21        54274236 2014-04-21 1            ICD9CM:296.30 \n",
       "65530 11070346 10        13942215 2017-02-03 1            ICD10CM:F33.1 \n",
       "65531 11074654 19        12961076 2018-07-20 1            ICD10CM:F32.89\n",
       "      HEALTH_SYSTEM_ID PROVIDER_ID                          BMI   SystolicBP ⋯\n",
       "1     564              AE5F21AE-72A1-4004-9F4C-3B29714EE261 38.22 140        ⋯\n",
       "2     667              D214E73D-D93B-4151-9166-019096D31829 20.18 112        ⋯\n",
       "3     648              5207C678-C587-462D-B25D-DF2C2ED9E14F 24.33 103        ⋯\n",
       "4     605              0C8B1024-34BE-4A5D-8363-ECCB8F8903F7 22.13 146        ⋯\n",
       "5     558              55612BAD-6F99-4520-A887-686786E34CE6 25.31 126        ⋯\n",
       "6     594              D67BA8E5-BF1F-47D8-94D9-16ADADD575D9 23.00 108        ⋯\n",
       "7     606              C7B48665-59E2-4E91-B19E-73192D727C8E 37.40 157        ⋯\n",
       "8     678              0838A91C-423E-4844-B541-19BD973D7066 36.91  98        ⋯\n",
       "9     679              691A946E-1C87-4902-B384-F690CC65C3E8 32.35 116        ⋯\n",
       "10    564              4A2955DB-7AFB-4BFB-8190-6ED43EB1E35E 32.00 110        ⋯\n",
       "11    682              D7663BC6-227D-4A7F-B037-2D312EB7D31D 26.30 132        ⋯\n",
       "12    692              7473A1B3-5DB9-47BB-8C3A-7C5C6C2F38CD 31.60 120        ⋯\n",
       "13    602              18D17F81-BD34-4C0B-8F28-F15FE692C379 38.80 130        ⋯\n",
       "14    586              357F37E8-DF17-4F0C-BABE-0E7CF305DEC4 26.31 120        ⋯\n",
       "15    638              82D0D2F3-490D-4880-AD23-83C9949E0EC2 20.04 110        ⋯\n",
       "16    662              6F17D46F-1061-4F5E-A8F7-D7F1E168104F 39.33 108        ⋯\n",
       "17    684              B733A231-4F42-454C-9237-06920E632909 20.00 116        ⋯\n",
       "18    606              014BFE57-9717-4E62-A253-86CCB376AF80 30.10 117        ⋯\n",
       "19    590              2B48EE57-74E1-49CB-8BAA-FDC8EB9E08F0 37.10 154        ⋯\n",
       "20    589              DFA07D7D-E861-40AC-AB1B-C46973AC32FA 33.50 122        ⋯\n",
       "21    578              91A55941-82B8-435D-ADB6-B383CB9CCCBC 28.74 126        ⋯\n",
       "22    693              77DE22CD-F6EE-49C0-9057-84668FE106DB 24.03  94        ⋯\n",
       "23    612              3BDFB4B1-7B16-46DC-9EE2-264BB46A72BF 19.20 100        ⋯\n",
       "24    610              900F2B18-24F5-4207-9B0F-DEA3DD910ABE 26.56 111        ⋯\n",
       "25    612              ACDC554A-9431-4D81-9697-C54C1CFE7206 35.22 157        ⋯\n",
       "26    606              C15629B9-BAD0-467B-9FD0-B268D894CA17 29.10 106        ⋯\n",
       "27    568              FFCC6862-23ED-4A2F-9DA2-A9FCE1698ED6 28.87 120        ⋯\n",
       "28    692              FA5E5ED0-7673-4437-8E89-067BBDDD1935 32.50 131        ⋯\n",
       "29    665              31EB01C1-F7ED-40D5-BAC0-5F8E48FD4FF1 22.82 114        ⋯\n",
       "30    589              AF5EBBA5-E9AC-4F27-B9A5-3B10E49B625F 23.90 180        ⋯\n",
       "⋮     ⋮                ⋮                                    ⋮     ⋮          ⋱\n",
       "65502 693              EE8AF3E9-5679-4EBB-BAF7-358CD9801CFB 21.23 104        ⋯\n",
       "65503 678              2569E5AD-CFC7-40C1-9277-1742BC53D4AF 24.98 100        ⋯\n",
       "65504 692              A10BA0C1-AC14-4914-B220-2B4864F6A033 27.22  98        ⋯\n",
       "65505 678              76AE5385-B6D0-4640-BC59-6E4DCE1F9B23 27.06 118        ⋯\n",
       "65506 684              04767FAD-72AB-4968-82FF-AE0CBFB7C3B7 17.92  96        ⋯\n",
       "65507 609              415C91CC-8727-40A2-9475-DC79464B3F32 37.92 110        ⋯\n",
       "65508 662              C27DBCBE-521A-4304-B7B0-B3A470879A3C 32.81 114        ⋯\n",
       "65509 NA               0E5E0608-5D53-4C76-9265-72B26757DAD1 28.13 122        ⋯\n",
       "65510 577              A4DC8132-4A24-4398-9A78-4DFE90F9F3C3 22.07 126        ⋯\n",
       "65511 628              6D0C8BF8-995D-4863-B948-32635F9001AB 20.80 120        ⋯\n",
       "65512 682              128D1D75-FE1C-4FD0-96FB-D2B05433D1E3 38.67 128        ⋯\n",
       "65513 632              8CEE2E8B-BBEB-473B-AAF2-27507AF446A8 18.88 108        ⋯\n",
       "65514 692              C9C30DC1-36A4-47DC-82F2-10B1D19BD089 36.36  94        ⋯\n",
       "65515 578              292222BD-9DB6-4DE1-AC91-2B9707C087BD 19.74 102        ⋯\n",
       "65516 678              0838A91C-423E-4844-B541-19BD973D7066 23.13 124        ⋯\n",
       "65517 678              A9186D6B-AEDF-4743-8DB6-5D79D37DD093 47.25 132        ⋯\n",
       "65518 564              BA38BC62-0985-4229-9A71-C4EDC3C60621 23.51 150        ⋯\n",
       "65519 678              5F008A54-5EB5-495E-9ACF-107652601705 31.54 120        ⋯\n",
       "65520 693              52D7EFFB-8430-48F9-ACE7-0E9C4C487429 33.47 130        ⋯\n",
       "65521 578              2333C2E4-FA08-4B58-B284-EC5D84E5FAB0 25.12 112        ⋯\n",
       "65522 671              DF6BE73F-7C4E-4621-B723-20C0CF029294 26.26  98        ⋯\n",
       "65523 610              4B058D9E-0630-4DC7-96AF-D0BA75E1229C 21.62  90        ⋯\n",
       "65524 609              2AFF00F7-526D-4BFF-BA7C-76FF5B23CC97 32.37 144        ⋯\n",
       "65525 671              3ABFA9D4-CF4D-4317-865F-DBA8A4876670 24.69  94        ⋯\n",
       "65526 692              4203738A-A4C6-4554-8E37-177B1232D59D 28.24 126        ⋯\n",
       "65527 624              5B7E434D-3730-4FD4-8B5D-B8568A7A600B 31.65 138        ⋯\n",
       "65528 692              C9C30DC1-36A4-47DC-82F2-10B1D19BD089 27.77 100        ⋯\n",
       "65529 671              5A5BBEE6-BBFF-47A8-A07B-2C9E9F85AABD 25.54 127        ⋯\n",
       "65530 648              C3EAB852-A57E-4F32-9645-A6D923285DC1 26.26 142        ⋯\n",
       "65531 624              886A684C-1D85-495A-997E-64D6C3FFE4CA 25.83 121        ⋯\n",
       "      Anxiety Alcohol Sleep SUD Tobacco SchizophreniaSpectrum Adjustment\n",
       "1     0       0       0     0   0       0                     0         \n",
       "2     0       0       0     0   0       0                     0         \n",
       "3     0       0       0     0   0       0                     0         \n",
       "4     0       0       0     0   0       0                     0         \n",
       "5     0       0       0     0   0       0                     0         \n",
       "6     0       0       0     0   0       0                     0         \n",
       "7     0       0       0     0   0       0                     0         \n",
       "8     0       0       0     0   0       0                     0         \n",
       "9     0       0       0     0   0       0                     0         \n",
       "10    0       0       0     0   0       0                     0         \n",
       "11    0       0       0     0   0       0                     0         \n",
       "12    0       0       0     0   0       0                     0         \n",
       "13    0       0       0     0   0       0                     0         \n",
       "14    0       0       0     0   0       0                     0         \n",
       "15    0       0       0     0   0       0                     0         \n",
       "16    0       0       0     0   0       0                     0         \n",
       "17    0       0       0     0   0       0                     0         \n",
       "18    0       0       0     0   0       0                     0         \n",
       "19    0       0       0     0   0       0                     0         \n",
       "20    0       0       0     0   0       0                     0         \n",
       "21    0       0       0     0   0       0                     0         \n",
       "22    0       0       0     0   0       0                     0         \n",
       "23    0       0       0     0   0       0                     0         \n",
       "24    0       0       0     0   0       0                     0         \n",
       "25    0       0       0     0   0       0                     0         \n",
       "26    0       0       0     0   0       0                     0         \n",
       "27    0       0       0     0   0       0                     0         \n",
       "28    0       0       0     0   0       0                     0         \n",
       "29    0       0       0     0   0       0                     0         \n",
       "30    0       0       0     0   0       0                     0         \n",
       "⋮     ⋮       ⋮       ⋮     ⋮   ⋮       ⋮                     ⋮         \n",
       "65502 0       0       0     0   0       0                     0         \n",
       "65503 0       0       0     0   0       0                     0         \n",
       "65504 0       0       0     0   0       0                     0         \n",
       "65505 0       0       0     0   0       0                     0         \n",
       "65506 0       0       0     0   0       0                     0         \n",
       "65507 0       0       0     0   0       0                     0         \n",
       "65508 0       0       0     0   0       0                     0         \n",
       "65509 0       0       0     0   0       0                     0         \n",
       "65510 0       0       0     0   0       0                     0         \n",
       "65511 0       0       0     0   0       0                     0         \n",
       "65512 0       0       0     0   0       0                     0         \n",
       "65513 0       0       0     0   0       0                     0         \n",
       "65514 0       0       0     0   0       0                     0         \n",
       "65515 0       0       0     0   0       0                     0         \n",
       "65516 0       0       0     0   0       0                     0         \n",
       "65517 0       0       0     0   0       0                     0         \n",
       "65518 0       0       0     0   0       0                     0         \n",
       "65519 0       0       0     0   0       0                     0         \n",
       "65520 0       0       0     0   0       0                     0         \n",
       "65521 0       0       0     0   0       0                     0         \n",
       "65522 0       0       0     0   0       0                     0         \n",
       "65523 0       0       0     0   0       0                     0         \n",
       "65524 0       0       0     0   0       0                     0         \n",
       "65525 0       0       0     0   0       0                     0         \n",
       "65526 0       0       0     0   0       0                     0         \n",
       "65527 0       0       0     0   0       0                     0         \n",
       "65528 0       0       0     0   0       0                     0         \n",
       "65529 0       0       0     0   0       0                     0         \n",
       "65530 0       0       0     0   0       0                     0         \n",
       "65531 0       0       0     0   0       0                     0         \n",
       "      EatingDisorders Hypertension PTSD\n",
       "1     0               0            0   \n",
       "2     0               0            0   \n",
       "3     0               0            0   \n",
       "4     0               0            0   \n",
       "5     0               0            0   \n",
       "6     0               0            0   \n",
       "7     0               0            0   \n",
       "8     0               0            0   \n",
       "9     0               0            0   \n",
       "10    0               0            0   \n",
       "11    0               0            0   \n",
       "12    0               0            0   \n",
       "13    0               0            0   \n",
       "14    0               0            0   \n",
       "15    0               0            0   \n",
       "16    0               0            0   \n",
       "17    0               0            0   \n",
       "18    0               0            0   \n",
       "19    0               0            0   \n",
       "20    0               0            0   \n",
       "21    0               0            0   \n",
       "22    0               0            0   \n",
       "23    0               0            0   \n",
       "24    0               0            0   \n",
       "25    0               0            0   \n",
       "26    0               0            0   \n",
       "27    0               0            0   \n",
       "28    0               0            0   \n",
       "29    0               0            0   \n",
       "30    0               0            0   \n",
       "⋮     ⋮               ⋮            ⋮   \n",
       "65502 0               0            0   \n",
       "65503 0               0            0   \n",
       "65504 0               0            0   \n",
       "65505 0               0            0   \n",
       "65506 0               0            0   \n",
       "65507 0               0            0   \n",
       "65508 0               0            0   \n",
       "65509 0               0            0   \n",
       "65510 0               0            0   \n",
       "65511 0               0            0   \n",
       "65512 0               0            0   \n",
       "65513 0               0            0   \n",
       "65514 0               0            0   \n",
       "65515 0               0            0   \n",
       "65516 0               0            0   \n",
       "65517 0               0            0   \n",
       "65518 0               0            0   \n",
       "65519 0               0            0   \n",
       "65520 0               0            0   \n",
       "65521 0               0            0   \n",
       "65522 0               0            0   \n",
       "65523 0               0            0   \n",
       "65524 0               0            0   \n",
       "65525 0               0            0   \n",
       "65526 0               0            0   \n",
       "65527 0               0            0   \n",
       "65528 0               0            0   \n",
       "65529 0               0            0   \n",
       "65530 0               0            0   \n",
       "65531 0               0            0   "
      ]
     },
     "metadata": {},
     "output_type": "display_data"
    }
   ],
   "source": [
    "phqfirst2 %>% filter(Depressed==1)"
   ]
  },
  {
   "cell_type": "code",
   "execution_count": 56,
   "id": "8785a94f",
   "metadata": {},
   "outputs": [
    {
     "data": {
      "text/html": [
       "<style>\n",
       ".list-inline {list-style: none; margin:0; padding: 0}\n",
       ".list-inline>li {display: inline-block}\n",
       ".list-inline>li:not(:last-child)::after {content: \"\\00b7\"; padding: 0 .5ex}\n",
       "</style>\n",
       "<ol class=list-inline><li>'phqPT'</li><li>'PhqScore'</li><li>'phqEnc'</li><li>'AdminDate'</li><li>'INSTANCE_NUM'</li><li>'CONCEPT_CD'</li><li>'HEALTH_SYSTEM_ID'</li><li>'PROVIDER_ID'</li><li>'BMI'</li><li>'SystolicBP'</li><li>'DiastolicBP'</li><li>'Diabetes'</li><li>'NA'</li><li>'Obesity'</li><li>'Hyperlipidemia'</li><li>'Depressed'</li><li>'Hypertension'</li><li>'BIRTH_DATE'</li><li>'CURRENT_FPL_CD'</li><li>'HISPANIC_CD'</li><li>'GENDER_CD'</li><li>'HOMELESS_CD'</li><li>'LANGUAGE_CD'</li><li>'MARITAL_STATUS_CD'</li><li>'RACE_CD'</li><li>'RURAL_CD'</li><li>'SEX_CD'</li><li>'SEXORIENTATION_CD'</li><li>'VITAL_STATUS_CD'</li><li>'phqDepressed'</li><li>'phqSevereDepressed'</li><li>'DepAny'</li><li>'Age'</li><li>'FPL'</li><li>'Marital'</li><li>'Gender'</li><li>'Race'</li><li>'Rural'</li><li>'Sex'</li><li>'Sexor'</li></ol>\n"
      ],
      "text/latex": [
       "\\begin{enumerate*}\n",
       "\\item 'phqPT'\n",
       "\\item 'PhqScore'\n",
       "\\item 'phqEnc'\n",
       "\\item 'AdminDate'\n",
       "\\item 'INSTANCE\\_NUM'\n",
       "\\item 'CONCEPT\\_CD'\n",
       "\\item 'HEALTH\\_SYSTEM\\_ID'\n",
       "\\item 'PROVIDER\\_ID'\n",
       "\\item 'BMI'\n",
       "\\item 'SystolicBP'\n",
       "\\item 'DiastolicBP'\n",
       "\\item 'Diabetes'\n",
       "\\item 'NA'\n",
       "\\item 'Obesity'\n",
       "\\item 'Hyperlipidemia'\n",
       "\\item 'Depressed'\n",
       "\\item 'Hypertension'\n",
       "\\item 'BIRTH\\_DATE'\n",
       "\\item 'CURRENT\\_FPL\\_CD'\n",
       "\\item 'HISPANIC\\_CD'\n",
       "\\item 'GENDER\\_CD'\n",
       "\\item 'HOMELESS\\_CD'\n",
       "\\item 'LANGUAGE\\_CD'\n",
       "\\item 'MARITAL\\_STATUS\\_CD'\n",
       "\\item 'RACE\\_CD'\n",
       "\\item 'RURAL\\_CD'\n",
       "\\item 'SEX\\_CD'\n",
       "\\item 'SEXORIENTATION\\_CD'\n",
       "\\item 'VITAL\\_STATUS\\_CD'\n",
       "\\item 'phqDepressed'\n",
       "\\item 'phqSevereDepressed'\n",
       "\\item 'DepAny'\n",
       "\\item 'Age'\n",
       "\\item 'FPL'\n",
       "\\item 'Marital'\n",
       "\\item 'Gender'\n",
       "\\item 'Race'\n",
       "\\item 'Rural'\n",
       "\\item 'Sex'\n",
       "\\item 'Sexor'\n",
       "\\end{enumerate*}\n"
      ],
      "text/markdown": [
       "1. 'phqPT'\n",
       "2. 'PhqScore'\n",
       "3. 'phqEnc'\n",
       "4. 'AdminDate'\n",
       "5. 'INSTANCE_NUM'\n",
       "6. 'CONCEPT_CD'\n",
       "7. 'HEALTH_SYSTEM_ID'\n",
       "8. 'PROVIDER_ID'\n",
       "9. 'BMI'\n",
       "10. 'SystolicBP'\n",
       "11. 'DiastolicBP'\n",
       "12. 'Diabetes'\n",
       "13. 'NA'\n",
       "14. 'Obesity'\n",
       "15. 'Hyperlipidemia'\n",
       "16. 'Depressed'\n",
       "17. 'Hypertension'\n",
       "18. 'BIRTH_DATE'\n",
       "19. 'CURRENT_FPL_CD'\n",
       "20. 'HISPANIC_CD'\n",
       "21. 'GENDER_CD'\n",
       "22. 'HOMELESS_CD'\n",
       "23. 'LANGUAGE_CD'\n",
       "24. 'MARITAL_STATUS_CD'\n",
       "25. 'RACE_CD'\n",
       "26. 'RURAL_CD'\n",
       "27. 'SEX_CD'\n",
       "28. 'SEXORIENTATION_CD'\n",
       "29. 'VITAL_STATUS_CD'\n",
       "30. 'phqDepressed'\n",
       "31. 'phqSevereDepressed'\n",
       "32. 'DepAny'\n",
       "33. 'Age'\n",
       "34. 'FPL'\n",
       "35. 'Marital'\n",
       "36. 'Gender'\n",
       "37. 'Race'\n",
       "38. 'Rural'\n",
       "39. 'Sex'\n",
       "40. 'Sexor'\n",
       "\n",
       "\n"
      ],
      "text/plain": [
       " [1] \"phqPT\"              \"PhqScore\"           \"phqEnc\"            \n",
       " [4] \"AdminDate\"          \"INSTANCE_NUM\"       \"CONCEPT_CD\"        \n",
       " [7] \"HEALTH_SYSTEM_ID\"   \"PROVIDER_ID\"        \"BMI\"               \n",
       "[10] \"SystolicBP\"         \"DiastolicBP\"        \"Diabetes\"          \n",
       "[13] \"NA\"                 \"Obesity\"            \"Hyperlipidemia\"    \n",
       "[16] \"Depressed\"          \"Hypertension\"       \"BIRTH_DATE\"        \n",
       "[19] \"CURRENT_FPL_CD\"     \"HISPANIC_CD\"        \"GENDER_CD\"         \n",
       "[22] \"HOMELESS_CD\"        \"LANGUAGE_CD\"        \"MARITAL_STATUS_CD\" \n",
       "[25] \"RACE_CD\"            \"RURAL_CD\"           \"SEX_CD\"            \n",
       "[28] \"SEXORIENTATION_CD\"  \"VITAL_STATUS_CD\"    \"phqDepressed\"      \n",
       "[31] \"phqSevereDepressed\" \"DepAny\"             \"Age\"               \n",
       "[34] \"FPL\"                \"Marital\"            \"Gender\"            \n",
       "[37] \"Race\"               \"Rural\"              \"Sex\"               \n",
       "[40] \"Sexor\"             "
      ]
     },
     "metadata": {},
     "output_type": "display_data"
    }
   ],
   "source": [
    "complete.demo %>% colnames()"
   ]
  },
  {
   "cell_type": "code",
   "execution_count": 57,
   "id": "cd75b652",
   "metadata": {
    "scrolled": true
   },
   "outputs": [],
   "source": [
    "demomerge<-complete.demo %>% select(phqPT,phqEnc,AdminDate,phqDepressed:Sexor)"
   ]
  },
  {
   "cell_type": "markdown",
   "id": "a368137f",
   "metadata": {},
   "source": [
    "THis is real slipshod but I when I loaded the coded demographic data, some of the fields no longer matched the main phq file"
   ]
  },
  {
   "cell_type": "code",
   "execution_count": 98,
   "id": "cd6ac1bc",
   "metadata": {},
   "outputs": [
    {
     "data": {
      "text/html": [
       "<table class=\"dataframe\">\n",
       "<caption>A data.frame: 6 × 14</caption>\n",
       "<thead>\n",
       "\t<tr><th></th><th scope=col>phqPT</th><th scope=col>phqEnc</th><th scope=col>AdminDate</th><th scope=col>phqDepressed</th><th scope=col>phqSevereDepressed</th><th scope=col>DepAny</th><th scope=col>Age</th><th scope=col>FPL</th><th scope=col>Marital</th><th scope=col>Gender</th><th scope=col>Race</th><th scope=col>Rural</th><th scope=col>Sex</th><th scope=col>Sexor</th></tr>\n",
       "\t<tr><th></th><th scope=col>&lt;chr&gt;</th><th scope=col>&lt;chr&gt;</th><th scope=col>&lt;date&gt;</th><th scope=col>&lt;chr&gt;</th><th scope=col>&lt;chr&gt;</th><th scope=col>&lt;chr&gt;</th><th scope=col>&lt;dbl&gt;</th><th scope=col>&lt;fct&gt;</th><th scope=col>&lt;fct&gt;</th><th scope=col>&lt;fct&gt;</th><th scope=col>&lt;fct&gt;</th><th scope=col>&lt;fct&gt;</th><th scope=col>&lt;fct&gt;</th><th scope=col>&lt;fct&gt;</th></tr>\n",
       "</thead>\n",
       "<tbody>\n",
       "\t<tr><th scope=row>1</th><td>     555</td><td> 35344548</td><td>2014-08-08</td><td>1</td><td>1</td><td>1</td><td>55.18904</td><td>FPL Below 100</td><td>Marital NI</td><td>Unknown / Missing</td><td>White</td><td>Yes</td><td>Male  </td><td>Unknown/ Missing</td></tr>\n",
       "\t<tr><th scope=row>2</th><td>     560</td><td> 31580615</td><td>2013-08-12</td><td>1</td><td>0</td><td>1</td><td>62.58356</td><td>FPL Unknown  </td><td>Marital NI</td><td>Unknown / Missing</td><td>White</td><td>No </td><td>Female</td><td>Unknown/ Missing</td></tr>\n",
       "\t<tr><th scope=row>3</th><td>     560</td><td> 32305700</td><td>2013-08-05</td><td>1</td><td>0</td><td>1</td><td>62.56438</td><td>FPL Unknown  </td><td>Marital NI</td><td>Unknown / Missing</td><td>White</td><td>No </td><td>Female</td><td>Unknown/ Missing</td></tr>\n",
       "\t<tr><th scope=row>4</th><td>     573</td><td> 82437185</td><td>2018-08-15</td><td>0</td><td>0</td><td>0</td><td>50.44932</td><td>FPL Below 100</td><td>Married   </td><td>Unknown / Missing</td><td>White</td><td>No </td><td>Male  </td><td>Unknown/ Missing</td></tr>\n",
       "\t<tr><th scope=row>5</th><td>     573</td><td> 82985825</td><td>2018-05-22</td><td>0</td><td>0</td><td>0</td><td>50.21644</td><td>FPL Below 100</td><td>Married   </td><td>Unknown / Missing</td><td>White</td><td>No </td><td>Male  </td><td>Unknown/ Missing</td></tr>\n",
       "\t<tr><th scope=row>6</th><td>     573</td><td> 84586881</td><td>2018-04-20</td><td>0</td><td>0</td><td>0</td><td>50.12877</td><td>FPL Below 100</td><td>Married   </td><td>Unknown / Missing</td><td>White</td><td>No </td><td>Male  </td><td>Unknown/ Missing</td></tr>\n",
       "</tbody>\n",
       "</table>\n"
      ],
      "text/latex": [
       "A data.frame: 6 × 14\n",
       "\\begin{tabular}{r|llllllllllllll}\n",
       "  & phqPT & phqEnc & AdminDate & phqDepressed & phqSevereDepressed & DepAny & Age & FPL & Marital & Gender & Race & Rural & Sex & Sexor\\\\\n",
       "  & <chr> & <chr> & <date> & <chr> & <chr> & <chr> & <dbl> & <fct> & <fct> & <fct> & <fct> & <fct> & <fct> & <fct>\\\\\n",
       "\\hline\n",
       "\t1 &      555 &  35344548 & 2014-08-08 & 1 & 1 & 1 & 55.18904 & FPL Below 100 & Marital NI & Unknown / Missing & White & Yes & Male   & Unknown/ Missing\\\\\n",
       "\t2 &      560 &  31580615 & 2013-08-12 & 1 & 0 & 1 & 62.58356 & FPL Unknown   & Marital NI & Unknown / Missing & White & No  & Female & Unknown/ Missing\\\\\n",
       "\t3 &      560 &  32305700 & 2013-08-05 & 1 & 0 & 1 & 62.56438 & FPL Unknown   & Marital NI & Unknown / Missing & White & No  & Female & Unknown/ Missing\\\\\n",
       "\t4 &      573 &  82437185 & 2018-08-15 & 0 & 0 & 0 & 50.44932 & FPL Below 100 & Married    & Unknown / Missing & White & No  & Male   & Unknown/ Missing\\\\\n",
       "\t5 &      573 &  82985825 & 2018-05-22 & 0 & 0 & 0 & 50.21644 & FPL Below 100 & Married    & Unknown / Missing & White & No  & Male   & Unknown/ Missing\\\\\n",
       "\t6 &      573 &  84586881 & 2018-04-20 & 0 & 0 & 0 & 50.12877 & FPL Below 100 & Married    & Unknown / Missing & White & No  & Male   & Unknown/ Missing\\\\\n",
       "\\end{tabular}\n"
      ],
      "text/markdown": [
       "\n",
       "A data.frame: 6 × 14\n",
       "\n",
       "| <!--/--> | phqPT &lt;chr&gt; | phqEnc &lt;chr&gt; | AdminDate &lt;date&gt; | phqDepressed &lt;chr&gt; | phqSevereDepressed &lt;chr&gt; | DepAny &lt;chr&gt; | Age &lt;dbl&gt; | FPL &lt;fct&gt; | Marital &lt;fct&gt; | Gender &lt;fct&gt; | Race &lt;fct&gt; | Rural &lt;fct&gt; | Sex &lt;fct&gt; | Sexor &lt;fct&gt; |\n",
       "|---|---|---|---|---|---|---|---|---|---|---|---|---|---|---|\n",
       "| 1 |      555 |  35344548 | 2014-08-08 | 1 | 1 | 1 | 55.18904 | FPL Below 100 | Marital NI | Unknown / Missing | White | Yes | Male   | Unknown/ Missing |\n",
       "| 2 |      560 |  31580615 | 2013-08-12 | 1 | 0 | 1 | 62.58356 | FPL Unknown   | Marital NI | Unknown / Missing | White | No  | Female | Unknown/ Missing |\n",
       "| 3 |      560 |  32305700 | 2013-08-05 | 1 | 0 | 1 | 62.56438 | FPL Unknown   | Marital NI | Unknown / Missing | White | No  | Female | Unknown/ Missing |\n",
       "| 4 |      573 |  82437185 | 2018-08-15 | 0 | 0 | 0 | 50.44932 | FPL Below 100 | Married    | Unknown / Missing | White | No  | Male   | Unknown/ Missing |\n",
       "| 5 |      573 |  82985825 | 2018-05-22 | 0 | 0 | 0 | 50.21644 | FPL Below 100 | Married    | Unknown / Missing | White | No  | Male   | Unknown/ Missing |\n",
       "| 6 |      573 |  84586881 | 2018-04-20 | 0 | 0 | 0 | 50.12877 | FPL Below 100 | Married    | Unknown / Missing | White | No  | Male   | Unknown/ Missing |\n",
       "\n"
      ],
      "text/plain": [
       "  phqPT    phqEnc    AdminDate  phqDepressed phqSevereDepressed DepAny Age     \n",
       "1      555  35344548 2014-08-08 1            1                  1      55.18904\n",
       "2      560  31580615 2013-08-12 1            0                  1      62.58356\n",
       "3      560  32305700 2013-08-05 1            0                  1      62.56438\n",
       "4      573  82437185 2018-08-15 0            0                  0      50.44932\n",
       "5      573  82985825 2018-05-22 0            0                  0      50.21644\n",
       "6      573  84586881 2018-04-20 0            0                  0      50.12877\n",
       "  FPL           Marital    Gender            Race  Rural Sex   \n",
       "1 FPL Below 100 Marital NI Unknown / Missing White Yes   Male  \n",
       "2 FPL Unknown   Marital NI Unknown / Missing White No    Female\n",
       "3 FPL Unknown   Marital NI Unknown / Missing White No    Female\n",
       "4 FPL Below 100 Married    Unknown / Missing White No    Male  \n",
       "5 FPL Below 100 Married    Unknown / Missing White No    Male  \n",
       "6 FPL Below 100 Married    Unknown / Missing White No    Male  \n",
       "  Sexor           \n",
       "1 Unknown/ Missing\n",
       "2 Unknown/ Missing\n",
       "3 Unknown/ Missing\n",
       "4 Unknown/ Missing\n",
       "5 Unknown/ Missing\n",
       "6 Unknown/ Missing"
      ]
     },
     "metadata": {},
     "output_type": "display_data"
    }
   ],
   "source": [
    "demomerge %>% head()\n",
    "demomergenum<-demomerge\n",
    "demomergenum$phqPT<-as.numeric(as.character(demomerge$phqPT))\n",
    "demomergenum$phqEnc<-as.numeric(as.character(demomerge$phqEnc))\n",
    "demomergenum$phqDepressed<-as.numeric(as.character(demomerge$phqDepressed))\n",
    "demomergenum$phqSevereDepressed<-as.numeric(as.character(demomerge$phqSevereDepressed))\n",
    "demomergenum$DepAny<-as.numeric(as.character(demomerge$DepAny))"
   ]
  },
  {
   "cell_type": "code",
   "execution_count": 59,
   "id": "d82bcda6",
   "metadata": {},
   "outputs": [],
   "source": [
    "phqfirst2<-phqfirst2 %>% as.matrix() %>% as.data.frame()"
   ]
  },
  {
   "cell_type": "code",
   "execution_count": 99,
   "id": "198d6e26",
   "metadata": {},
   "outputs": [],
   "source": [
    "phq.df<-left_join(phqfirst2,demomergenum,by=join_by(phqPT,phqEnc))"
   ]
  },
  {
   "cell_type": "code",
   "execution_count": 100,
   "id": "dd526733",
   "metadata": {},
   "outputs": [
    {
     "data": {
      "text/html": [
       "985645"
      ],
      "text/latex": [
       "985645"
      ],
      "text/markdown": [
       "985645"
      ],
      "text/plain": [
       "[1] 985645"
      ]
     },
     "metadata": {},
     "output_type": "display_data"
    },
    {
     "data": {
      "text/html": [
       "985645"
      ],
      "text/latex": [
       "985645"
      ],
      "text/markdown": [
       "985645"
      ],
      "text/plain": [
       "[1] 985645"
      ]
     },
     "metadata": {},
     "output_type": "display_data"
    }
   ],
   "source": [
    "phqfirst2 %>% nrow() #985645\n",
    "phq.df %>% nrow() #985645"
   ]
  },
  {
   "cell_type": "code",
   "execution_count": 102,
   "id": "12b15d08",
   "metadata": {},
   "outputs": [],
   "source": [
    "save(phq.df,file=\"phqall_demo.RData\")"
   ]
  },
  {
   "cell_type": "code",
   "execution_count": 75,
   "id": "1e152a74",
   "metadata": {},
   "outputs": [
    {
     "data": {
      "text/html": [
       "43342"
      ],
      "text/latex": [
       "43342"
      ],
      "text/markdown": [
       "43342"
      ],
      "text/plain": [
       "[1] 43342"
      ]
     },
     "metadata": {},
     "output_type": "display_data"
    }
   ],
   "source": [
    "# temp to get code to run uses complete cases. It's like a 40% reduction in sample :( and it would be better to impute)\n",
    "completecases.df<-phq.df %>% ungroup() %>% rowwise() %>%  drop_na(HEALTH_SYSTEM_ID:Sexor)\n",
    "completecases.df %>% nrow()"
   ]
  },
  {
   "cell_type": "code",
   "execution_count": 103,
   "id": "00ce7706",
   "metadata": {},
   "outputs": [
    {
     "data": {
      "text/html": [
       "<table class=\"dataframe\">\n",
       "<caption>A grouped_df: 65531 × 41</caption>\n",
       "<thead>\n",
       "\t<tr><th scope=col>phqPT</th><th scope=col>PhqScore</th><th scope=col>phqEnc</th><th scope=col>AdminDate.x</th><th scope=col>INSTANCE_NUM</th><th scope=col>CONCEPT_CD</th><th scope=col>HEALTH_SYSTEM_ID</th><th scope=col>PROVIDER_ID</th><th scope=col>BMI</th><th scope=col>SystolicBP</th><th scope=col>⋯</th><th scope=col>phqSevereDepressed</th><th scope=col>DepAny</th><th scope=col>Age</th><th scope=col>FPL</th><th scope=col>Marital</th><th scope=col>Gender</th><th scope=col>Race</th><th scope=col>Rural</th><th scope=col>Sex</th><th scope=col>Sexor</th></tr>\n",
       "\t<tr><th scope=col>&lt;dbl&gt;</th><th scope=col>&lt;dbl&gt;</th><th scope=col>&lt;dbl&gt;</th><th scope=col>&lt;dttm&gt;</th><th scope=col>&lt;int&gt;</th><th scope=col>&lt;chr&gt;</th><th scope=col>&lt;chr&gt;</th><th scope=col>&lt;chr&gt;</th><th scope=col>&lt;dbl&gt;</th><th scope=col>&lt;dbl&gt;</th><th scope=col>⋯</th><th scope=col>&lt;dbl&gt;</th><th scope=col>&lt;dbl&gt;</th><th scope=col>&lt;dbl&gt;</th><th scope=col>&lt;fct&gt;</th><th scope=col>&lt;fct&gt;</th><th scope=col>&lt;fct&gt;</th><th scope=col>&lt;fct&gt;</th><th scope=col>&lt;fct&gt;</th><th scope=col>&lt;fct&gt;</th><th scope=col>&lt;fct&gt;</th></tr>\n",
       "</thead>\n",
       "<tbody>\n",
       "\t<tr><td> 560</td><td>19</td><td> 32305700</td><td>2013-08-05</td><td>1</td><td>ICD9CM:311    </td><td>564</td><td>AE5F21AE-72A1-4004-9F4C-3B29714EE261</td><td>38.22</td><td>140</td><td>⋯</td><td> 0</td><td> 1</td><td>62.56438</td><td>FPL Unknown  </td><td>Marital NI</td><td>Unknown / Missing</td><td>White                    </td><td>No </td><td>Female</td><td>Unknown/ Missing</td></tr>\n",
       "\t<tr><td> 647</td><td>14</td><td> 18173681</td><td>2017-10-02</td><td>1</td><td>ICD10CM:F33.1 </td><td>667</td><td>D214E73D-D93B-4151-9166-019096D31829</td><td>20.18</td><td>112</td><td>⋯</td><td> 0</td><td> 1</td><td>27.17808</td><td>FPL Unknown  </td><td>Single    </td><td>Woman            </td><td>White                    </td><td>No </td><td>Female</td><td>Straight        </td></tr>\n",
       "\t<tr><td> 817</td><td>21</td><td> 14906683</td><td>2017-09-06</td><td>1</td><td>ICD10CM:F32.89</td><td>648</td><td>5207C678-C587-462D-B25D-DF2C2ED9E14F</td><td>24.33</td><td>103</td><td>⋯</td><td> 1</td><td> 1</td><td>36.45753</td><td>FPL Below 100</td><td>Marital NI</td><td>Man              </td><td>White                    </td><td>No </td><td>Male  </td><td>Unknown/ Missing</td></tr>\n",
       "\t<tr><td> 867</td><td> 4</td><td> 20652705</td><td>2016-11-09</td><td>1</td><td>ICD10CM:F32.5 </td><td>605</td><td>0C8B1024-34BE-4A5D-8363-ECCB8F8903F7</td><td>22.13</td><td>146</td><td>⋯</td><td> 0</td><td> 1</td><td>43.27869</td><td>FPL Below 100</td><td>Single    </td><td>Woman            </td><td>NA                       </td><td>No </td><td>Female</td><td>Straight        </td></tr>\n",
       "\t<tr><td> 921</td><td>11</td><td> 60038328</td><td>2012-12-19</td><td>1</td><td>ICD9CM:311    </td><td>558</td><td>55612BAD-6F99-4520-A887-686786E34CE6</td><td>25.31</td><td>126</td><td>⋯</td><td> 0</td><td> 1</td><td>58.33333</td><td>FPL 101-150  </td><td>Widowed   </td><td>Woman            </td><td>White                    </td><td>Yes</td><td>Female</td><td>Unknown/ Missing</td></tr>\n",
       "\t<tr><td>1248</td><td>11</td><td> 71981807</td><td>2017-12-12</td><td>1</td><td>ICD10CM:F32.9 </td><td>594</td><td>D67BA8E5-BF1F-47D8-94D9-16ADADD575D9</td><td>23.00</td><td>108</td><td>⋯</td><td> 0</td><td> 1</td><td>19.68219</td><td>FPL Below 100</td><td>Single    </td><td>Unknown / Missing</td><td>White                    </td><td>No </td><td>Male  </td><td>Unknown/ Missing</td></tr>\n",
       "\t<tr><td>1278</td><td>17</td><td> 75148316</td><td>2017-09-21</td><td>1</td><td>ICD10CM:F33.2 </td><td>606</td><td>C7B48665-59E2-4E91-B19E-73192D727C8E</td><td>37.40</td><td>157</td><td>⋯</td><td> 0</td><td> 1</td><td>62.33425</td><td>NA           </td><td>Divorced  </td><td>Unknown / Missing</td><td>White                    </td><td>No </td><td>Female</td><td>Unknown/ Missing</td></tr>\n",
       "\t<tr><td>1491</td><td>11</td><td> 40227280</td><td>2017-01-25</td><td>1</td><td>ICD10CM:F33.1 </td><td>678</td><td>0838A91C-423E-4844-B541-19BD973D7066</td><td>36.91</td><td> 98</td><td>⋯</td><td> 0</td><td> 1</td><td>36.55209</td><td>FPL Unknown  </td><td>Divorced  </td><td>Woman            </td><td>White                    </td><td>No </td><td>Female</td><td>Unknown/ Missing</td></tr>\n",
       "\t<tr><td>1529</td><td>14</td><td> 28185859</td><td>2018-02-12</td><td>1</td><td>ICD10CM:F33.1 </td><td>679</td><td>691A946E-1C87-4902-B384-F690CC65C3E8</td><td>32.35</td><td>116</td><td>⋯</td><td> 0</td><td> 1</td><td>24.60000</td><td>FPL Below 100</td><td>Marital NI</td><td>Man              </td><td>White                    </td><td>No </td><td>Male  </td><td>Straight        </td></tr>\n",
       "\t<tr><td>1686</td><td> 9</td><td> 32503551</td><td>2014-11-18</td><td>1</td><td>ICD9CM:311    </td><td>564</td><td>4A2955DB-7AFB-4BFB-8190-6ED43EB1E35E</td><td>32.00</td><td>110</td><td>⋯</td><td>NA</td><td>NA</td><td>      NA</td><td>NA           </td><td>NA        </td><td>NA               </td><td>NA                       </td><td>NA </td><td>NA    </td><td>NA              </td></tr>\n",
       "\t<tr><td>1787</td><td> 5</td><td>108543117</td><td>2019-03-29</td><td>1</td><td>ICD10CM:F32.0 </td><td>682</td><td>D7663BC6-227D-4A7F-B037-2D312EB7D31D</td><td>26.30</td><td>132</td><td>⋯</td><td>NA</td><td>NA</td><td>      NA</td><td>NA           </td><td>NA        </td><td>NA               </td><td>NA                       </td><td>NA </td><td>NA    </td><td>NA              </td></tr>\n",
       "\t<tr><td>1978</td><td>21</td><td> 34815011</td><td>2016-08-16</td><td>1</td><td>ICD10CM:F33.1 </td><td>692</td><td>7473A1B3-5DB9-47BB-8C3A-7C5C6C2F38CD</td><td>31.60</td><td>120</td><td>⋯</td><td> 1</td><td> 1</td><td>19.95082</td><td>FPL Below 100</td><td>Marital NI</td><td>Woman            </td><td>White                    </td><td>No </td><td>Female</td><td>Unknown/ Missing</td></tr>\n",
       "\t<tr><td>2043</td><td> 2</td><td> 93361511</td><td>2018-08-01</td><td>1</td><td>ICD10CM:F32.9 </td><td>602</td><td>18D17F81-BD34-4C0B-8F28-F15FE692C379</td><td>38.80</td><td>130</td><td>⋯</td><td> 0</td><td> 1</td><td>56.20274</td><td>FPL Below 100</td><td>Married   </td><td>Unknown / Missing</td><td>White                    </td><td>No </td><td>Female</td><td>Unknown/ Missing</td></tr>\n",
       "\t<tr><td>2255</td><td>15</td><td> 31109031</td><td>2015-03-28</td><td>1</td><td>ICD9CM:311    </td><td>586</td><td>357F37E8-DF17-4F0C-BABE-0E7CF305DEC4</td><td>26.31</td><td>120</td><td>⋯</td><td> 0</td><td> 1</td><td>42.03014</td><td>FPL 151-200  </td><td>Single    </td><td>Unknown / Missing</td><td>Black or African American</td><td>No </td><td>Female</td><td>Straight        </td></tr>\n",
       "\t<tr><td>2343</td><td> 7</td><td> 40037042</td><td>2016-08-10</td><td>1</td><td>ICD10CM:F32.5 </td><td>638</td><td>82D0D2F3-490D-4880-AD23-83C9949E0EC2</td><td>20.04</td><td>110</td><td>⋯</td><td>NA</td><td>NA</td><td>      NA</td><td>NA           </td><td>NA        </td><td>NA               </td><td>NA                       </td><td>NA </td><td>NA    </td><td>NA              </td></tr>\n",
       "\t<tr><td>2441</td><td>12</td><td> 30614693</td><td>2017-03-30</td><td>1</td><td>ICD10CM:F53.0 </td><td>662</td><td>6F17D46F-1061-4F5E-A8F7-D7F1E168104F</td><td>39.33</td><td>108</td><td>⋯</td><td> 0</td><td> 1</td><td>21.57260</td><td>FPL 101-150  </td><td>Single    </td><td>Woman            </td><td>White                    </td><td>No </td><td>Female</td><td>Straight        </td></tr>\n",
       "\t<tr><td>2688</td><td>15</td><td> 21245697</td><td>2018-06-28</td><td>1</td><td>ICD10CM:F33.1 </td><td>684</td><td>B733A231-4F42-454C-9237-06920E632909</td><td>20.00</td><td>116</td><td>⋯</td><td> 0</td><td> 1</td><td>22.35342</td><td>FPL Below 100</td><td>Marital NI</td><td>Woman            </td><td>NA                       </td><td>No </td><td>Female</td><td>Straight        </td></tr>\n",
       "\t<tr><td>2782</td><td>19</td><td> 76251324</td><td>2017-12-28</td><td>1</td><td>ICD10CM:F32.9 </td><td>606</td><td>014BFE57-9717-4E62-A253-86CCB376AF80</td><td>30.10</td><td>117</td><td>⋯</td><td> 0</td><td> 1</td><td>61.08219</td><td>FPL 101-150  </td><td>Divorced  </td><td>Unknown / Missing</td><td>White                    </td><td>No </td><td>Female</td><td>Unknown/ Missing</td></tr>\n",
       "\t<tr><td>3030</td><td>21</td><td> 70986485</td><td>2017-02-15</td><td>1</td><td>ICD10CM:F32.9 </td><td>590</td><td>2B48EE57-74E1-49CB-8BAA-FDC8EB9E08F0</td><td>37.10</td><td>154</td><td>⋯</td><td> 1</td><td> 1</td><td>46.24110</td><td>FPL Unknown  </td><td>Married   </td><td>Man              </td><td>Black or African American</td><td>No </td><td>Male  </td><td>Straight        </td></tr>\n",
       "\t<tr><td>3147</td><td>19</td><td> 99978339</td><td>2018-09-25</td><td>1</td><td>ICD10CM:F32.9 </td><td>589</td><td>DFA07D7D-E861-40AC-AB1B-C46973AC32FA</td><td>33.50</td><td>122</td><td>⋯</td><td> 0</td><td> 1</td><td>41.83533</td><td>FPL 151-200  </td><td>Single    </td><td>Unknown / Missing</td><td>Black or African American</td><td>No </td><td>Female</td><td>Unknown/ Missing</td></tr>\n",
       "\t<tr><td>3234</td><td>10</td><td> 24627815</td><td>2015-03-06</td><td>1</td><td>ICD9CM:296.20 </td><td>578</td><td>91A55941-82B8-435D-ADB6-B383CB9CCCBC</td><td>28.74</td><td>126</td><td>⋯</td><td> 0</td><td> 1</td><td>37.10685</td><td>FPL Below 100</td><td>Marital NI</td><td>Unknown / Missing</td><td>White                    </td><td>Yes</td><td>Male  </td><td>Unknown/ Missing</td></tr>\n",
       "\t<tr><td>3291</td><td>11</td><td> 57844402</td><td>2015-03-25</td><td>1</td><td>ICD9CM:296.20 </td><td>693</td><td>77DE22CD-F6EE-49C0-9057-84668FE106DB</td><td>24.03</td><td> 94</td><td>⋯</td><td> 0</td><td> 1</td><td>17.51233</td><td>FPL Below 100</td><td>Marital NI</td><td>Unknown / Missing</td><td>White                    </td><td>Yes</td><td>Female</td><td>Unknown/ Missing</td></tr>\n",
       "\t<tr><td>3585</td><td>20</td><td>  7445209</td><td>2015-03-11</td><td>1</td><td>ICD9CM:296.32 </td><td>612</td><td>3BDFB4B1-7B16-46DC-9EE2-264BB46A72BF</td><td>19.20</td><td>100</td><td>⋯</td><td> 1</td><td> 1</td><td>35.50137</td><td>FPL Below 100</td><td>Marital NI</td><td>Man              </td><td>Multiple race            </td><td>No </td><td>Male  </td><td>Unknown/ Missing</td></tr>\n",
       "\t<tr><td>3604</td><td>23</td><td>  1950453</td><td>2015-07-27</td><td>1</td><td>ICD9CM:296.32 </td><td>610</td><td>900F2B18-24F5-4207-9B0F-DEA3DD910ABE</td><td>26.56</td><td>111</td><td>⋯</td><td> 1</td><td> 1</td><td>66.01096</td><td>FPL Below 100</td><td>Marital NI</td><td>Man              </td><td>White                    </td><td>No </td><td>Male  </td><td>Straight        </td></tr>\n",
       "\t<tr><td>3670</td><td>12</td><td>  7408251</td><td>2013-07-16</td><td>1</td><td>ICD9CM:311    </td><td>612</td><td>ACDC554A-9431-4D81-9697-C54C1CFE7206</td><td>35.22</td><td>157</td><td>⋯</td><td> 0</td><td> 1</td><td>65.97808</td><td>FPL 151-200  </td><td>Marital NI</td><td>Unknown / Missing</td><td>White                    </td><td>No </td><td>Female</td><td>Unknown/ Missing</td></tr>\n",
       "\t<tr><td>3805</td><td>14</td><td> 75874633</td><td>2018-05-22</td><td>1</td><td>ICD10CM:F32.9 </td><td>606</td><td>C15629B9-BAD0-467B-9FD0-B268D894CA17</td><td>29.10</td><td>106</td><td>⋯</td><td> 0</td><td> 1</td><td>46.45753</td><td>FPL Unknown  </td><td>Single    </td><td>Unknown / Missing</td><td>White                    </td><td>No </td><td>Female</td><td>Unknown/ Missing</td></tr>\n",
       "\t<tr><td>3944</td><td> 9</td><td> 14900265</td><td>2016-05-27</td><td>1</td><td>ICD10CM:F32.9 </td><td>568</td><td>FFCC6862-23ED-4A2F-9DA2-A9FCE1698ED6</td><td>28.87</td><td>120</td><td>⋯</td><td>NA</td><td>NA</td><td>      NA</td><td>NA           </td><td>NA        </td><td>NA               </td><td>NA                       </td><td>NA </td><td>NA    </td><td>NA              </td></tr>\n",
       "\t<tr><td>4156</td><td> 6</td><td> 36314956</td><td>2016-12-16</td><td>1</td><td>ICD10CM:F33.1 </td><td>692</td><td>FA5E5ED0-7673-4437-8E89-067BBDDD1935</td><td>32.50</td><td>131</td><td>⋯</td><td>NA</td><td>NA</td><td>      NA</td><td>NA           </td><td>NA        </td><td>NA               </td><td>NA                       </td><td>NA </td><td>NA    </td><td>NA              </td></tr>\n",
       "\t<tr><td>4296</td><td>25</td><td> 23440642</td><td>2016-01-26</td><td>1</td><td>ICD10CM:F32.9 </td><td>665</td><td>31EB01C1-F7ED-40D5-BAC0-5F8E48FD4FF1</td><td>22.82</td><td>114</td><td>⋯</td><td> 1</td><td> 1</td><td>31.39617</td><td>FPL Below 100</td><td>Married   </td><td>Woman            </td><td>White                    </td><td>Yes</td><td>Female</td><td>Straight        </td></tr>\n",
       "\t<tr><td>4321</td><td> 0</td><td> 92357454</td><td>2017-02-27</td><td>1</td><td>ICD10CM:F32.9 </td><td>589</td><td>AF5EBBA5-E9AC-4F27-B9A5-3B10E49B625F</td><td>23.90</td><td>180</td><td>⋯</td><td> 0</td><td> 1</td><td>65.77808</td><td>FPL Below 100</td><td>Married   </td><td>Unknown / Missing</td><td>Refuse to answer         </td><td>No </td><td>Male  </td><td>Unknown/ Missing</td></tr>\n",
       "\t<tr><td>⋮</td><td>⋮</td><td>⋮</td><td>⋮</td><td>⋮</td><td>⋮</td><td>⋮</td><td>⋮</td><td>⋮</td><td>⋮</td><td>⋱</td><td>⋮</td><td>⋮</td><td>⋮</td><td>⋮</td><td>⋮</td><td>⋮</td><td>⋮</td><td>⋮</td><td>⋮</td><td>⋮</td></tr>\n",
       "\t<tr><td> 9803046</td><td> 4</td><td>101215465</td><td>2018-11-05</td><td>1</td><td>ICD10CM:F32.2 </td><td>693</td><td>EE8AF3E9-5679-4EBB-BAF7-358CD9801CFB</td><td>21.23</td><td>104</td><td>⋯</td><td> 0</td><td> 1</td><td>16.60274</td><td>FPL Below 100</td><td>Marital NI</td><td>Man              </td><td>NA                               </td><td>Yes</td><td>Male  </td><td>Straight                    </td></tr>\n",
       "\t<tr><td> 9807179</td><td>12</td><td> 38343441</td><td>2015-09-22</td><td>1</td><td>ICD9CM:296.32 </td><td>678</td><td>2569E5AD-CFC7-40C1-9277-1742BC53D4AF</td><td>24.98</td><td>100</td><td>⋯</td><td> 0</td><td> 1</td><td>83.84932</td><td>FPL Below 100</td><td>Marital NI</td><td>Woman            </td><td>Refuse to answer                 </td><td>No </td><td>Female</td><td>Straight                    </td></tr>\n",
       "\t<tr><td> 9852643</td><td>11</td><td> 37150384</td><td>2014-02-10</td><td>1</td><td>ICD9CM:311    </td><td>692</td><td>A10BA0C1-AC14-4914-B220-2B4864F6A033</td><td>27.22</td><td> 98</td><td>⋯</td><td> 0</td><td> 1</td><td>17.78172</td><td>FPL 101-150  </td><td>Marital NI</td><td>Genderqueer      </td><td>White                            </td><td>No </td><td>Female</td><td>Multiple sexual orientations</td></tr>\n",
       "\t<tr><td> 9854610</td><td>26</td><td> 39190495</td><td>2015-06-04</td><td>1</td><td>ICD9CM:296.33 </td><td>678</td><td>76AE5385-B6D0-4640-BC59-6E4DCE1F9B23</td><td>27.06</td><td>118</td><td>⋯</td><td> 1</td><td> 1</td><td>34.06301</td><td>FPL 101-150  </td><td>Marital NI</td><td>Woman            </td><td>American Indian or Alaskan Native</td><td>No </td><td>Female</td><td>Straight                    </td></tr>\n",
       "\t<tr><td>10038245</td><td>19</td><td> 22528679</td><td>2017-12-08</td><td>1</td><td>ICD10CM:F33.1 </td><td>684</td><td>04767FAD-72AB-4968-82FF-AE0CBFB7C3B7</td><td>17.92</td><td> 96</td><td>⋯</td><td> 0</td><td> 1</td><td>24.13973</td><td>FPL 101-150  </td><td>Married   </td><td>Woman            </td><td>White                            </td><td>No </td><td>Female</td><td>Straight                    </td></tr>\n",
       "\t<tr><td>10053831</td><td>18</td><td> 58449811</td><td>2015-09-21</td><td>1</td><td>ICD9CM:311    </td><td>609</td><td>415C91CC-8727-40A2-9475-DC79464B3F32</td><td>37.92</td><td>110</td><td>⋯</td><td> 0</td><td> 1</td><td>20.36164</td><td>FPL Below 100</td><td>Married   </td><td>Woman            </td><td>White                            </td><td>Yes</td><td>Female</td><td>Unknown/ Missing            </td></tr>\n",
       "\t<tr><td>10087240</td><td>25</td><td> 30021716</td><td>2017-11-20</td><td>1</td><td>ICD10CM:F33.9 </td><td>662</td><td>C27DBCBE-521A-4304-B7B0-B3A470879A3C</td><td>32.81</td><td>114</td><td>⋯</td><td> 1</td><td> 1</td><td>19.23562</td><td>FPL 101-150  </td><td>Single    </td><td>Woman            </td><td>NA                               </td><td>No </td><td>Female</td><td>Straight                    </td></tr>\n",
       "\t<tr><td>10280686</td><td>10</td><td>101037206</td><td>2018-10-31</td><td>1</td><td>ICD10CM:F32.1 </td><td>NA </td><td>0E5E0608-5D53-4C76-9265-72B26757DAD1</td><td>28.13</td><td>122</td><td>⋯</td><td>NA</td><td>NA</td><td>      NA</td><td>NA           </td><td>NA        </td><td>NA               </td><td>NA                               </td><td>NA </td><td>NA    </td><td>NA                          </td></tr>\n",
       "\t<tr><td>10305811</td><td>23</td><td>120047785</td><td>2019-09-10</td><td>1</td><td>ICD10CM:F32.2 </td><td>577</td><td>A4DC8132-4A24-4398-9A78-4DFE90F9F3C3</td><td>22.07</td><td>126</td><td>⋯</td><td> 1</td><td> 1</td><td>25.06027</td><td>FPL Below 100</td><td>Single    </td><td>Woman            </td><td>NA                               </td><td>No </td><td>Female</td><td>Straight                    </td></tr>\n",
       "\t<tr><td>10366099</td><td> 6</td><td> 64350915</td><td>2016-10-10</td><td>1</td><td>ICD10CM:F43.23</td><td>628</td><td>6D0C8BF8-995D-4863-B948-32635F9001AB</td><td>20.80</td><td>120</td><td>⋯</td><td>NA</td><td>NA</td><td>      NA</td><td>NA           </td><td>NA        </td><td>NA               </td><td>NA                               </td><td>NA </td><td>NA    </td><td>NA                          </td></tr>\n",
       "\t<tr><td>10367560</td><td>13</td><td> 18890634</td><td>2014-07-02</td><td>1</td><td>ICD9CM:300.4  </td><td>682</td><td>128D1D75-FE1C-4FD0-96FB-D2B05433D1E3</td><td>38.67</td><td>128</td><td>⋯</td><td> 0</td><td> 1</td><td>30.09863</td><td>FPL Below 100</td><td>Married   </td><td>Unknown / Missing</td><td>NA                               </td><td>Yes</td><td>Female</td><td>Unknown/ Missing            </td></tr>\n",
       "\t<tr><td>10473814</td><td> 0</td><td>101802110</td><td>2018-11-14</td><td>1</td><td>ICD10CM:F32.9 </td><td>632</td><td>8CEE2E8B-BBEB-473B-AAF2-27507AF446A8</td><td>18.88</td><td>108</td><td>⋯</td><td> 0</td><td> 1</td><td>24.63014</td><td>FPL 101-150  </td><td>Marital NI</td><td>Woman            </td><td>White                            </td><td>No </td><td>Female</td><td>Straight                    </td></tr>\n",
       "\t<tr><td>10530593</td><td>19</td><td> 97799364</td><td>2018-08-27</td><td>1</td><td>ICD10CM:F33.1 </td><td>692</td><td>C9C30DC1-36A4-47DC-82F2-10B1D19BD089</td><td>36.36</td><td> 94</td><td>⋯</td><td> 0</td><td> 1</td><td>17.22192</td><td>FPL Below 100</td><td>Marital NI</td><td>Woman            </td><td>White                            </td><td>No </td><td>Female</td><td>Unknown/ Missing            </td></tr>\n",
       "\t<tr><td>10535135</td><td>20</td><td> 25109989</td><td>2016-12-19</td><td>1</td><td>ICD10CM:F34.1 </td><td>578</td><td>292222BD-9DB6-4DE1-AC91-2B9707C087BD</td><td>19.74</td><td>102</td><td>⋯</td><td> 1</td><td> 1</td><td>15.07104</td><td>FPL Below 100</td><td>Marital NI</td><td>Woman            </td><td>White                            </td><td>Yes</td><td>Female</td><td>Straight                    </td></tr>\n",
       "\t<tr><td>10566415</td><td>22</td><td> 39232351</td><td>2014-12-30</td><td>1</td><td>ICD9CM:311    </td><td>678</td><td>0838A91C-423E-4844-B541-19BD973D7066</td><td>23.13</td><td>124</td><td>⋯</td><td> 1</td><td> 1</td><td>58.78630</td><td>FPL Below 100</td><td>Marital NI</td><td>Man              </td><td>Asian                            </td><td>No </td><td>Male  </td><td>Straight                    </td></tr>\n",
       "\t<tr><td>10655443</td><td>13</td><td> 39571659</td><td>2017-04-17</td><td>1</td><td>ICD10CM:F32.1 </td><td>678</td><td>A9186D6B-AEDF-4743-8DB6-5D79D37DD093</td><td>47.25</td><td>132</td><td>⋯</td><td> 0</td><td> 1</td><td>51.98904</td><td>FPL Unknown  </td><td>Single    </td><td>Woman            </td><td>Refuse to answer                 </td><td>No </td><td>Female</td><td>Straight                    </td></tr>\n",
       "\t<tr><td>10658043</td><td>15</td><td> 31455438</td><td>2013-09-05</td><td>1</td><td>ICD9CM:296.20 </td><td>564</td><td>BA38BC62-0985-4229-9A71-C4EDC3C60621</td><td>23.51</td><td>150</td><td>⋯</td><td> 0</td><td> 1</td><td>58.16164</td><td>FPL Below 100</td><td>Single    </td><td>Man              </td><td>White                            </td><td>Yes</td><td>Male  </td><td>Unknown/ Missing            </td></tr>\n",
       "\t<tr><td>10664655</td><td>18</td><td> 39138128</td><td>2015-06-23</td><td>1</td><td>ICD9CM:296.56 </td><td>678</td><td>5F008A54-5EB5-495E-9ACF-107652601705</td><td>31.54</td><td>120</td><td>⋯</td><td> 0</td><td> 1</td><td>26.74173</td><td>FPL Below 100</td><td>Single    </td><td>Man              </td><td>White                            </td><td>No </td><td>Male  </td><td>Unknown/ Missing            </td></tr>\n",
       "\t<tr><td>10687987</td><td>27</td><td> 58141086</td><td>2018-05-30</td><td>1</td><td>ICD10CM:F33.1 </td><td>693</td><td>52D7EFFB-8430-48F9-ACE7-0E9C4C487429</td><td>33.47</td><td>130</td><td>⋯</td><td> 1</td><td> 1</td><td>58.17260</td><td>FPL Below 100</td><td>Single    </td><td>Man              </td><td>White                            </td><td>No </td><td>Male  </td><td>Straight                    </td></tr>\n",
       "\t<tr><td>10791343</td><td> 6</td><td> 25994533</td><td>2015-03-11</td><td>1</td><td>ICD9CM:296.80 </td><td>578</td><td>2333C2E4-FA08-4B58-B284-EC5D84E5FAB0</td><td>25.12</td><td>112</td><td>⋯</td><td>NA</td><td>NA</td><td>      NA</td><td>NA           </td><td>NA        </td><td>NA               </td><td>NA                               </td><td>NA </td><td>NA    </td><td>NA                          </td></tr>\n",
       "\t<tr><td>10822797</td><td>14</td><td>109805352</td><td>2019-04-18</td><td>1</td><td>ICD10CM:F33.1 </td><td>671</td><td>DF6BE73F-7C4E-4621-B723-20C0CF029294</td><td>26.26</td><td> 98</td><td>⋯</td><td> 0</td><td> 1</td><td>28.59178</td><td>NA           </td><td>Marital NI</td><td>Woman            </td><td>White                            </td><td>No </td><td>Female</td><td>Straight                    </td></tr>\n",
       "\t<tr><td>10864994</td><td>14</td><td>106003234</td><td>2019-02-21</td><td>1</td><td>ICD10CM:F32.1 </td><td>610</td><td>4B058D9E-0630-4DC7-96AF-D0BA75E1229C</td><td>21.62</td><td> 90</td><td>⋯</td><td> 0</td><td> 1</td><td>22.02192</td><td>FPL Unknown  </td><td>Single    </td><td>Transgender      </td><td>White                            </td><td>No </td><td>Male  </td><td>Unknown/ Missing            </td></tr>\n",
       "\t<tr><td>10900315</td><td>14</td><td> 58207538</td><td>2014-02-03</td><td>1</td><td>ICD9CM:296.30 </td><td>609</td><td>2AFF00F7-526D-4BFF-BA7C-76FF5B23CC97</td><td>32.37</td><td>144</td><td>⋯</td><td> 0</td><td> 1</td><td>42.24110</td><td>NA           </td><td>Single    </td><td>Woman            </td><td>White                            </td><td>No </td><td>Female</td><td>Straight                    </td></tr>\n",
       "\t<tr><td>10904011</td><td> 8</td><td> 49655533</td><td>2016-07-05</td><td>1</td><td>ICD10CM:F32.9 </td><td>671</td><td>3ABFA9D4-CF4D-4317-865F-DBA8A4876670</td><td>24.69</td><td> 94</td><td>⋯</td><td>NA</td><td>NA</td><td>      NA</td><td>NA           </td><td>NA        </td><td>NA               </td><td>NA                               </td><td>NA </td><td>NA    </td><td>NA                          </td></tr>\n",
       "\t<tr><td>10948655</td><td>25</td><td> 37299774</td><td>2014-02-14</td><td>1</td><td>ICD9CM:296.32 </td><td>692</td><td>4203738A-A4C6-4554-8E37-177B1232D59D</td><td>28.24</td><td>126</td><td>⋯</td><td> 1</td><td> 1</td><td>18.92055</td><td>FPL Below 100</td><td>NA        </td><td>Unknown / Missing</td><td>Black or African American        </td><td>No </td><td>Female</td><td>Unknown/ Missing            </td></tr>\n",
       "\t<tr><td>11012890</td><td>15</td><td> 13441972</td><td>2017-02-02</td><td>1</td><td>ICD10CM:F32.9 </td><td>624</td><td>5B7E434D-3730-4FD4-8B5D-B8568A7A600B</td><td>31.65</td><td>138</td><td>⋯</td><td> 0</td><td> 1</td><td>50.56986</td><td>FPL Unknown  </td><td>Marital NI</td><td>Man              </td><td>NA                               </td><td>No </td><td>Male  </td><td>Straight                    </td></tr>\n",
       "\t<tr><td>11013219</td><td>14</td><td> 35175567</td><td>2013-08-19</td><td>1</td><td>ICD9CM:309.0  </td><td>692</td><td>C9C30DC1-36A4-47DC-82F2-10B1D19BD089</td><td>27.77</td><td>100</td><td>⋯</td><td> 0</td><td> 1</td><td>21.13973</td><td>FPL Below 100</td><td>Marital NI</td><td>Woman            </td><td>White                            </td><td>No </td><td>Female</td><td>Straight                    </td></tr>\n",
       "\t<tr><td>11038190</td><td>21</td><td> 54274236</td><td>2014-04-21</td><td>1</td><td>ICD9CM:296.30 </td><td>671</td><td>5A5BBEE6-BBFF-47A8-A07B-2C9E9F85AABD</td><td>25.54</td><td>127</td><td>⋯</td><td> 1</td><td> 1</td><td>55.60274</td><td>FPL 151-200  </td><td>Marital NI</td><td>Man              </td><td>White                            </td><td>No </td><td>Male  </td><td>Straight                    </td></tr>\n",
       "\t<tr><td>11070346</td><td>10</td><td> 13942215</td><td>2017-02-03</td><td>1</td><td>ICD10CM:F33.1 </td><td>648</td><td>C3EAB852-A57E-4F32-9645-A6D923285DC1</td><td>26.26</td><td>142</td><td>⋯</td><td> 0</td><td> 1</td><td>60.36090</td><td>FPL Below 100</td><td>Marital NI</td><td>Man              </td><td>NA                               </td><td>No </td><td>Male  </td><td>Straight                    </td></tr>\n",
       "\t<tr><td>11074654</td><td>19</td><td> 12961076</td><td>2018-07-20</td><td>1</td><td>ICD10CM:F32.89</td><td>624</td><td>886A684C-1D85-495A-997E-64D6C3FFE4CA</td><td>25.83</td><td>121</td><td>⋯</td><td> 0</td><td> 1</td><td>40.94521</td><td>FPL Below 100</td><td>Married   </td><td>Man              </td><td>NA                               </td><td>No </td><td>Male  </td><td>Straight                    </td></tr>\n",
       "</tbody>\n",
       "</table>\n"
      ],
      "text/latex": [
       "A grouped\\_df: 65531 × 41\n",
       "\\begin{tabular}{lllllllllllllllllllll}\n",
       " phqPT & PhqScore & phqEnc & AdminDate.x & INSTANCE\\_NUM & CONCEPT\\_CD & HEALTH\\_SYSTEM\\_ID & PROVIDER\\_ID & BMI & SystolicBP & ⋯ & phqSevereDepressed & DepAny & Age & FPL & Marital & Gender & Race & Rural & Sex & Sexor\\\\\n",
       " <dbl> & <dbl> & <dbl> & <dttm> & <int> & <chr> & <chr> & <chr> & <dbl> & <dbl> & ⋯ & <dbl> & <dbl> & <dbl> & <fct> & <fct> & <fct> & <fct> & <fct> & <fct> & <fct>\\\\\n",
       "\\hline\n",
       "\t  560 & 19 &  32305700 & 2013-08-05 & 1 & ICD9CM:311     & 564 & AE5F21AE-72A1-4004-9F4C-3B29714EE261 & 38.22 & 140 & ⋯ &  0 &  1 & 62.56438 & FPL Unknown   & Marital NI & Unknown / Missing & White                     & No  & Female & Unknown/ Missing\\\\\n",
       "\t  647 & 14 &  18173681 & 2017-10-02 & 1 & ICD10CM:F33.1  & 667 & D214E73D-D93B-4151-9166-019096D31829 & 20.18 & 112 & ⋯ &  0 &  1 & 27.17808 & FPL Unknown   & Single     & Woman             & White                     & No  & Female & Straight        \\\\\n",
       "\t  817 & 21 &  14906683 & 2017-09-06 & 1 & ICD10CM:F32.89 & 648 & 5207C678-C587-462D-B25D-DF2C2ED9E14F & 24.33 & 103 & ⋯ &  1 &  1 & 36.45753 & FPL Below 100 & Marital NI & Man               & White                     & No  & Male   & Unknown/ Missing\\\\\n",
       "\t  867 &  4 &  20652705 & 2016-11-09 & 1 & ICD10CM:F32.5  & 605 & 0C8B1024-34BE-4A5D-8363-ECCB8F8903F7 & 22.13 & 146 & ⋯ &  0 &  1 & 43.27869 & FPL Below 100 & Single     & Woman             & NA                        & No  & Female & Straight        \\\\\n",
       "\t  921 & 11 &  60038328 & 2012-12-19 & 1 & ICD9CM:311     & 558 & 55612BAD-6F99-4520-A887-686786E34CE6 & 25.31 & 126 & ⋯ &  0 &  1 & 58.33333 & FPL 101-150   & Widowed    & Woman             & White                     & Yes & Female & Unknown/ Missing\\\\\n",
       "\t 1248 & 11 &  71981807 & 2017-12-12 & 1 & ICD10CM:F32.9  & 594 & D67BA8E5-BF1F-47D8-94D9-16ADADD575D9 & 23.00 & 108 & ⋯ &  0 &  1 & 19.68219 & FPL Below 100 & Single     & Unknown / Missing & White                     & No  & Male   & Unknown/ Missing\\\\\n",
       "\t 1278 & 17 &  75148316 & 2017-09-21 & 1 & ICD10CM:F33.2  & 606 & C7B48665-59E2-4E91-B19E-73192D727C8E & 37.40 & 157 & ⋯ &  0 &  1 & 62.33425 & NA            & Divorced   & Unknown / Missing & White                     & No  & Female & Unknown/ Missing\\\\\n",
       "\t 1491 & 11 &  40227280 & 2017-01-25 & 1 & ICD10CM:F33.1  & 678 & 0838A91C-423E-4844-B541-19BD973D7066 & 36.91 &  98 & ⋯ &  0 &  1 & 36.55209 & FPL Unknown   & Divorced   & Woman             & White                     & No  & Female & Unknown/ Missing\\\\\n",
       "\t 1529 & 14 &  28185859 & 2018-02-12 & 1 & ICD10CM:F33.1  & 679 & 691A946E-1C87-4902-B384-F690CC65C3E8 & 32.35 & 116 & ⋯ &  0 &  1 & 24.60000 & FPL Below 100 & Marital NI & Man               & White                     & No  & Male   & Straight        \\\\\n",
       "\t 1686 &  9 &  32503551 & 2014-11-18 & 1 & ICD9CM:311     & 564 & 4A2955DB-7AFB-4BFB-8190-6ED43EB1E35E & 32.00 & 110 & ⋯ & NA & NA &       NA & NA            & NA         & NA                & NA                        & NA  & NA     & NA              \\\\\n",
       "\t 1787 &  5 & 108543117 & 2019-03-29 & 1 & ICD10CM:F32.0  & 682 & D7663BC6-227D-4A7F-B037-2D312EB7D31D & 26.30 & 132 & ⋯ & NA & NA &       NA & NA            & NA         & NA                & NA                        & NA  & NA     & NA              \\\\\n",
       "\t 1978 & 21 &  34815011 & 2016-08-16 & 1 & ICD10CM:F33.1  & 692 & 7473A1B3-5DB9-47BB-8C3A-7C5C6C2F38CD & 31.60 & 120 & ⋯ &  1 &  1 & 19.95082 & FPL Below 100 & Marital NI & Woman             & White                     & No  & Female & Unknown/ Missing\\\\\n",
       "\t 2043 &  2 &  93361511 & 2018-08-01 & 1 & ICD10CM:F32.9  & 602 & 18D17F81-BD34-4C0B-8F28-F15FE692C379 & 38.80 & 130 & ⋯ &  0 &  1 & 56.20274 & FPL Below 100 & Married    & Unknown / Missing & White                     & No  & Female & Unknown/ Missing\\\\\n",
       "\t 2255 & 15 &  31109031 & 2015-03-28 & 1 & ICD9CM:311     & 586 & 357F37E8-DF17-4F0C-BABE-0E7CF305DEC4 & 26.31 & 120 & ⋯ &  0 &  1 & 42.03014 & FPL 151-200   & Single     & Unknown / Missing & Black or African American & No  & Female & Straight        \\\\\n",
       "\t 2343 &  7 &  40037042 & 2016-08-10 & 1 & ICD10CM:F32.5  & 638 & 82D0D2F3-490D-4880-AD23-83C9949E0EC2 & 20.04 & 110 & ⋯ & NA & NA &       NA & NA            & NA         & NA                & NA                        & NA  & NA     & NA              \\\\\n",
       "\t 2441 & 12 &  30614693 & 2017-03-30 & 1 & ICD10CM:F53.0  & 662 & 6F17D46F-1061-4F5E-A8F7-D7F1E168104F & 39.33 & 108 & ⋯ &  0 &  1 & 21.57260 & FPL 101-150   & Single     & Woman             & White                     & No  & Female & Straight        \\\\\n",
       "\t 2688 & 15 &  21245697 & 2018-06-28 & 1 & ICD10CM:F33.1  & 684 & B733A231-4F42-454C-9237-06920E632909 & 20.00 & 116 & ⋯ &  0 &  1 & 22.35342 & FPL Below 100 & Marital NI & Woman             & NA                        & No  & Female & Straight        \\\\\n",
       "\t 2782 & 19 &  76251324 & 2017-12-28 & 1 & ICD10CM:F32.9  & 606 & 014BFE57-9717-4E62-A253-86CCB376AF80 & 30.10 & 117 & ⋯ &  0 &  1 & 61.08219 & FPL 101-150   & Divorced   & Unknown / Missing & White                     & No  & Female & Unknown/ Missing\\\\\n",
       "\t 3030 & 21 &  70986485 & 2017-02-15 & 1 & ICD10CM:F32.9  & 590 & 2B48EE57-74E1-49CB-8BAA-FDC8EB9E08F0 & 37.10 & 154 & ⋯ &  1 &  1 & 46.24110 & FPL Unknown   & Married    & Man               & Black or African American & No  & Male   & Straight        \\\\\n",
       "\t 3147 & 19 &  99978339 & 2018-09-25 & 1 & ICD10CM:F32.9  & 589 & DFA07D7D-E861-40AC-AB1B-C46973AC32FA & 33.50 & 122 & ⋯ &  0 &  1 & 41.83533 & FPL 151-200   & Single     & Unknown / Missing & Black or African American & No  & Female & Unknown/ Missing\\\\\n",
       "\t 3234 & 10 &  24627815 & 2015-03-06 & 1 & ICD9CM:296.20  & 578 & 91A55941-82B8-435D-ADB6-B383CB9CCCBC & 28.74 & 126 & ⋯ &  0 &  1 & 37.10685 & FPL Below 100 & Marital NI & Unknown / Missing & White                     & Yes & Male   & Unknown/ Missing\\\\\n",
       "\t 3291 & 11 &  57844402 & 2015-03-25 & 1 & ICD9CM:296.20  & 693 & 77DE22CD-F6EE-49C0-9057-84668FE106DB & 24.03 &  94 & ⋯ &  0 &  1 & 17.51233 & FPL Below 100 & Marital NI & Unknown / Missing & White                     & Yes & Female & Unknown/ Missing\\\\\n",
       "\t 3585 & 20 &   7445209 & 2015-03-11 & 1 & ICD9CM:296.32  & 612 & 3BDFB4B1-7B16-46DC-9EE2-264BB46A72BF & 19.20 & 100 & ⋯ &  1 &  1 & 35.50137 & FPL Below 100 & Marital NI & Man               & Multiple race             & No  & Male   & Unknown/ Missing\\\\\n",
       "\t 3604 & 23 &   1950453 & 2015-07-27 & 1 & ICD9CM:296.32  & 610 & 900F2B18-24F5-4207-9B0F-DEA3DD910ABE & 26.56 & 111 & ⋯ &  1 &  1 & 66.01096 & FPL Below 100 & Marital NI & Man               & White                     & No  & Male   & Straight        \\\\\n",
       "\t 3670 & 12 &   7408251 & 2013-07-16 & 1 & ICD9CM:311     & 612 & ACDC554A-9431-4D81-9697-C54C1CFE7206 & 35.22 & 157 & ⋯ &  0 &  1 & 65.97808 & FPL 151-200   & Marital NI & Unknown / Missing & White                     & No  & Female & Unknown/ Missing\\\\\n",
       "\t 3805 & 14 &  75874633 & 2018-05-22 & 1 & ICD10CM:F32.9  & 606 & C15629B9-BAD0-467B-9FD0-B268D894CA17 & 29.10 & 106 & ⋯ &  0 &  1 & 46.45753 & FPL Unknown   & Single     & Unknown / Missing & White                     & No  & Female & Unknown/ Missing\\\\\n",
       "\t 3944 &  9 &  14900265 & 2016-05-27 & 1 & ICD10CM:F32.9  & 568 & FFCC6862-23ED-4A2F-9DA2-A9FCE1698ED6 & 28.87 & 120 & ⋯ & NA & NA &       NA & NA            & NA         & NA                & NA                        & NA  & NA     & NA              \\\\\n",
       "\t 4156 &  6 &  36314956 & 2016-12-16 & 1 & ICD10CM:F33.1  & 692 & FA5E5ED0-7673-4437-8E89-067BBDDD1935 & 32.50 & 131 & ⋯ & NA & NA &       NA & NA            & NA         & NA                & NA                        & NA  & NA     & NA              \\\\\n",
       "\t 4296 & 25 &  23440642 & 2016-01-26 & 1 & ICD10CM:F32.9  & 665 & 31EB01C1-F7ED-40D5-BAC0-5F8E48FD4FF1 & 22.82 & 114 & ⋯ &  1 &  1 & 31.39617 & FPL Below 100 & Married    & Woman             & White                     & Yes & Female & Straight        \\\\\n",
       "\t 4321 &  0 &  92357454 & 2017-02-27 & 1 & ICD10CM:F32.9  & 589 & AF5EBBA5-E9AC-4F27-B9A5-3B10E49B625F & 23.90 & 180 & ⋯ &  0 &  1 & 65.77808 & FPL Below 100 & Married    & Unknown / Missing & Refuse to answer          & No  & Male   & Unknown/ Missing\\\\\n",
       "\t ⋮ & ⋮ & ⋮ & ⋮ & ⋮ & ⋮ & ⋮ & ⋮ & ⋮ & ⋮ & ⋱ & ⋮ & ⋮ & ⋮ & ⋮ & ⋮ & ⋮ & ⋮ & ⋮ & ⋮ & ⋮\\\\\n",
       "\t  9803046 &  4 & 101215465 & 2018-11-05 & 1 & ICD10CM:F32.2  & 693 & EE8AF3E9-5679-4EBB-BAF7-358CD9801CFB & 21.23 & 104 & ⋯ &  0 &  1 & 16.60274 & FPL Below 100 & Marital NI & Man               & NA                                & Yes & Male   & Straight                    \\\\\n",
       "\t  9807179 & 12 &  38343441 & 2015-09-22 & 1 & ICD9CM:296.32  & 678 & 2569E5AD-CFC7-40C1-9277-1742BC53D4AF & 24.98 & 100 & ⋯ &  0 &  1 & 83.84932 & FPL Below 100 & Marital NI & Woman             & Refuse to answer                  & No  & Female & Straight                    \\\\\n",
       "\t  9852643 & 11 &  37150384 & 2014-02-10 & 1 & ICD9CM:311     & 692 & A10BA0C1-AC14-4914-B220-2B4864F6A033 & 27.22 &  98 & ⋯ &  0 &  1 & 17.78172 & FPL 101-150   & Marital NI & Genderqueer       & White                             & No  & Female & Multiple sexual orientations\\\\\n",
       "\t  9854610 & 26 &  39190495 & 2015-06-04 & 1 & ICD9CM:296.33  & 678 & 76AE5385-B6D0-4640-BC59-6E4DCE1F9B23 & 27.06 & 118 & ⋯ &  1 &  1 & 34.06301 & FPL 101-150   & Marital NI & Woman             & American Indian or Alaskan Native & No  & Female & Straight                    \\\\\n",
       "\t 10038245 & 19 &  22528679 & 2017-12-08 & 1 & ICD10CM:F33.1  & 684 & 04767FAD-72AB-4968-82FF-AE0CBFB7C3B7 & 17.92 &  96 & ⋯ &  0 &  1 & 24.13973 & FPL 101-150   & Married    & Woman             & White                             & No  & Female & Straight                    \\\\\n",
       "\t 10053831 & 18 &  58449811 & 2015-09-21 & 1 & ICD9CM:311     & 609 & 415C91CC-8727-40A2-9475-DC79464B3F32 & 37.92 & 110 & ⋯ &  0 &  1 & 20.36164 & FPL Below 100 & Married    & Woman             & White                             & Yes & Female & Unknown/ Missing            \\\\\n",
       "\t 10087240 & 25 &  30021716 & 2017-11-20 & 1 & ICD10CM:F33.9  & 662 & C27DBCBE-521A-4304-B7B0-B3A470879A3C & 32.81 & 114 & ⋯ &  1 &  1 & 19.23562 & FPL 101-150   & Single     & Woman             & NA                                & No  & Female & Straight                    \\\\\n",
       "\t 10280686 & 10 & 101037206 & 2018-10-31 & 1 & ICD10CM:F32.1  & NA  & 0E5E0608-5D53-4C76-9265-72B26757DAD1 & 28.13 & 122 & ⋯ & NA & NA &       NA & NA            & NA         & NA                & NA                                & NA  & NA     & NA                          \\\\\n",
       "\t 10305811 & 23 & 120047785 & 2019-09-10 & 1 & ICD10CM:F32.2  & 577 & A4DC8132-4A24-4398-9A78-4DFE90F9F3C3 & 22.07 & 126 & ⋯ &  1 &  1 & 25.06027 & FPL Below 100 & Single     & Woman             & NA                                & No  & Female & Straight                    \\\\\n",
       "\t 10366099 &  6 &  64350915 & 2016-10-10 & 1 & ICD10CM:F43.23 & 628 & 6D0C8BF8-995D-4863-B948-32635F9001AB & 20.80 & 120 & ⋯ & NA & NA &       NA & NA            & NA         & NA                & NA                                & NA  & NA     & NA                          \\\\\n",
       "\t 10367560 & 13 &  18890634 & 2014-07-02 & 1 & ICD9CM:300.4   & 682 & 128D1D75-FE1C-4FD0-96FB-D2B05433D1E3 & 38.67 & 128 & ⋯ &  0 &  1 & 30.09863 & FPL Below 100 & Married    & Unknown / Missing & NA                                & Yes & Female & Unknown/ Missing            \\\\\n",
       "\t 10473814 &  0 & 101802110 & 2018-11-14 & 1 & ICD10CM:F32.9  & 632 & 8CEE2E8B-BBEB-473B-AAF2-27507AF446A8 & 18.88 & 108 & ⋯ &  0 &  1 & 24.63014 & FPL 101-150   & Marital NI & Woman             & White                             & No  & Female & Straight                    \\\\\n",
       "\t 10530593 & 19 &  97799364 & 2018-08-27 & 1 & ICD10CM:F33.1  & 692 & C9C30DC1-36A4-47DC-82F2-10B1D19BD089 & 36.36 &  94 & ⋯ &  0 &  1 & 17.22192 & FPL Below 100 & Marital NI & Woman             & White                             & No  & Female & Unknown/ Missing            \\\\\n",
       "\t 10535135 & 20 &  25109989 & 2016-12-19 & 1 & ICD10CM:F34.1  & 578 & 292222BD-9DB6-4DE1-AC91-2B9707C087BD & 19.74 & 102 & ⋯ &  1 &  1 & 15.07104 & FPL Below 100 & Marital NI & Woman             & White                             & Yes & Female & Straight                    \\\\\n",
       "\t 10566415 & 22 &  39232351 & 2014-12-30 & 1 & ICD9CM:311     & 678 & 0838A91C-423E-4844-B541-19BD973D7066 & 23.13 & 124 & ⋯ &  1 &  1 & 58.78630 & FPL Below 100 & Marital NI & Man               & Asian                             & No  & Male   & Straight                    \\\\\n",
       "\t 10655443 & 13 &  39571659 & 2017-04-17 & 1 & ICD10CM:F32.1  & 678 & A9186D6B-AEDF-4743-8DB6-5D79D37DD093 & 47.25 & 132 & ⋯ &  0 &  1 & 51.98904 & FPL Unknown   & Single     & Woman             & Refuse to answer                  & No  & Female & Straight                    \\\\\n",
       "\t 10658043 & 15 &  31455438 & 2013-09-05 & 1 & ICD9CM:296.20  & 564 & BA38BC62-0985-4229-9A71-C4EDC3C60621 & 23.51 & 150 & ⋯ &  0 &  1 & 58.16164 & FPL Below 100 & Single     & Man               & White                             & Yes & Male   & Unknown/ Missing            \\\\\n",
       "\t 10664655 & 18 &  39138128 & 2015-06-23 & 1 & ICD9CM:296.56  & 678 & 5F008A54-5EB5-495E-9ACF-107652601705 & 31.54 & 120 & ⋯ &  0 &  1 & 26.74173 & FPL Below 100 & Single     & Man               & White                             & No  & Male   & Unknown/ Missing            \\\\\n",
       "\t 10687987 & 27 &  58141086 & 2018-05-30 & 1 & ICD10CM:F33.1  & 693 & 52D7EFFB-8430-48F9-ACE7-0E9C4C487429 & 33.47 & 130 & ⋯ &  1 &  1 & 58.17260 & FPL Below 100 & Single     & Man               & White                             & No  & Male   & Straight                    \\\\\n",
       "\t 10791343 &  6 &  25994533 & 2015-03-11 & 1 & ICD9CM:296.80  & 578 & 2333C2E4-FA08-4B58-B284-EC5D84E5FAB0 & 25.12 & 112 & ⋯ & NA & NA &       NA & NA            & NA         & NA                & NA                                & NA  & NA     & NA                          \\\\\n",
       "\t 10822797 & 14 & 109805352 & 2019-04-18 & 1 & ICD10CM:F33.1  & 671 & DF6BE73F-7C4E-4621-B723-20C0CF029294 & 26.26 &  98 & ⋯ &  0 &  1 & 28.59178 & NA            & Marital NI & Woman             & White                             & No  & Female & Straight                    \\\\\n",
       "\t 10864994 & 14 & 106003234 & 2019-02-21 & 1 & ICD10CM:F32.1  & 610 & 4B058D9E-0630-4DC7-96AF-D0BA75E1229C & 21.62 &  90 & ⋯ &  0 &  1 & 22.02192 & FPL Unknown   & Single     & Transgender       & White                             & No  & Male   & Unknown/ Missing            \\\\\n",
       "\t 10900315 & 14 &  58207538 & 2014-02-03 & 1 & ICD9CM:296.30  & 609 & 2AFF00F7-526D-4BFF-BA7C-76FF5B23CC97 & 32.37 & 144 & ⋯ &  0 &  1 & 42.24110 & NA            & Single     & Woman             & White                             & No  & Female & Straight                    \\\\\n",
       "\t 10904011 &  8 &  49655533 & 2016-07-05 & 1 & ICD10CM:F32.9  & 671 & 3ABFA9D4-CF4D-4317-865F-DBA8A4876670 & 24.69 &  94 & ⋯ & NA & NA &       NA & NA            & NA         & NA                & NA                                & NA  & NA     & NA                          \\\\\n",
       "\t 10948655 & 25 &  37299774 & 2014-02-14 & 1 & ICD9CM:296.32  & 692 & 4203738A-A4C6-4554-8E37-177B1232D59D & 28.24 & 126 & ⋯ &  1 &  1 & 18.92055 & FPL Below 100 & NA         & Unknown / Missing & Black or African American         & No  & Female & Unknown/ Missing            \\\\\n",
       "\t 11012890 & 15 &  13441972 & 2017-02-02 & 1 & ICD10CM:F32.9  & 624 & 5B7E434D-3730-4FD4-8B5D-B8568A7A600B & 31.65 & 138 & ⋯ &  0 &  1 & 50.56986 & FPL Unknown   & Marital NI & Man               & NA                                & No  & Male   & Straight                    \\\\\n",
       "\t 11013219 & 14 &  35175567 & 2013-08-19 & 1 & ICD9CM:309.0   & 692 & C9C30DC1-36A4-47DC-82F2-10B1D19BD089 & 27.77 & 100 & ⋯ &  0 &  1 & 21.13973 & FPL Below 100 & Marital NI & Woman             & White                             & No  & Female & Straight                    \\\\\n",
       "\t 11038190 & 21 &  54274236 & 2014-04-21 & 1 & ICD9CM:296.30  & 671 & 5A5BBEE6-BBFF-47A8-A07B-2C9E9F85AABD & 25.54 & 127 & ⋯ &  1 &  1 & 55.60274 & FPL 151-200   & Marital NI & Man               & White                             & No  & Male   & Straight                    \\\\\n",
       "\t 11070346 & 10 &  13942215 & 2017-02-03 & 1 & ICD10CM:F33.1  & 648 & C3EAB852-A57E-4F32-9645-A6D923285DC1 & 26.26 & 142 & ⋯ &  0 &  1 & 60.36090 & FPL Below 100 & Marital NI & Man               & NA                                & No  & Male   & Straight                    \\\\\n",
       "\t 11074654 & 19 &  12961076 & 2018-07-20 & 1 & ICD10CM:F32.89 & 624 & 886A684C-1D85-495A-997E-64D6C3FFE4CA & 25.83 & 121 & ⋯ &  0 &  1 & 40.94521 & FPL Below 100 & Married    & Man               & NA                                & No  & Male   & Straight                    \\\\\n",
       "\\end{tabular}\n"
      ],
      "text/markdown": [
       "\n",
       "A grouped_df: 65531 × 41\n",
       "\n",
       "| phqPT &lt;dbl&gt; | PhqScore &lt;dbl&gt; | phqEnc &lt;dbl&gt; | AdminDate.x &lt;dttm&gt; | INSTANCE_NUM &lt;int&gt; | CONCEPT_CD &lt;chr&gt; | HEALTH_SYSTEM_ID &lt;chr&gt; | PROVIDER_ID &lt;chr&gt; | BMI &lt;dbl&gt; | SystolicBP &lt;dbl&gt; | ⋯ ⋯ | phqSevereDepressed &lt;dbl&gt; | DepAny &lt;dbl&gt; | Age &lt;dbl&gt; | FPL &lt;fct&gt; | Marital &lt;fct&gt; | Gender &lt;fct&gt; | Race &lt;fct&gt; | Rural &lt;fct&gt; | Sex &lt;fct&gt; | Sexor &lt;fct&gt; |\n",
       "|---|---|---|---|---|---|---|---|---|---|---|---|---|---|---|---|---|---|---|---|---|\n",
       "|  560 | 19 |  32305700 | 2013-08-05 | 1 | ICD9CM:311     | 564 | AE5F21AE-72A1-4004-9F4C-3B29714EE261 | 38.22 | 140 | ⋯ |  0 |  1 | 62.56438 | FPL Unknown   | Marital NI | Unknown / Missing | White                     | No  | Female | Unknown/ Missing |\n",
       "|  647 | 14 |  18173681 | 2017-10-02 | 1 | ICD10CM:F33.1  | 667 | D214E73D-D93B-4151-9166-019096D31829 | 20.18 | 112 | ⋯ |  0 |  1 | 27.17808 | FPL Unknown   | Single     | Woman             | White                     | No  | Female | Straight         |\n",
       "|  817 | 21 |  14906683 | 2017-09-06 | 1 | ICD10CM:F32.89 | 648 | 5207C678-C587-462D-B25D-DF2C2ED9E14F | 24.33 | 103 | ⋯ |  1 |  1 | 36.45753 | FPL Below 100 | Marital NI | Man               | White                     | No  | Male   | Unknown/ Missing |\n",
       "|  867 |  4 |  20652705 | 2016-11-09 | 1 | ICD10CM:F32.5  | 605 | 0C8B1024-34BE-4A5D-8363-ECCB8F8903F7 | 22.13 | 146 | ⋯ |  0 |  1 | 43.27869 | FPL Below 100 | Single     | Woman             | NA                        | No  | Female | Straight         |\n",
       "|  921 | 11 |  60038328 | 2012-12-19 | 1 | ICD9CM:311     | 558 | 55612BAD-6F99-4520-A887-686786E34CE6 | 25.31 | 126 | ⋯ |  0 |  1 | 58.33333 | FPL 101-150   | Widowed    | Woman             | White                     | Yes | Female | Unknown/ Missing |\n",
       "| 1248 | 11 |  71981807 | 2017-12-12 | 1 | ICD10CM:F32.9  | 594 | D67BA8E5-BF1F-47D8-94D9-16ADADD575D9 | 23.00 | 108 | ⋯ |  0 |  1 | 19.68219 | FPL Below 100 | Single     | Unknown / Missing | White                     | No  | Male   | Unknown/ Missing |\n",
       "| 1278 | 17 |  75148316 | 2017-09-21 | 1 | ICD10CM:F33.2  | 606 | C7B48665-59E2-4E91-B19E-73192D727C8E | 37.40 | 157 | ⋯ |  0 |  1 | 62.33425 | NA            | Divorced   | Unknown / Missing | White                     | No  | Female | Unknown/ Missing |\n",
       "| 1491 | 11 |  40227280 | 2017-01-25 | 1 | ICD10CM:F33.1  | 678 | 0838A91C-423E-4844-B541-19BD973D7066 | 36.91 |  98 | ⋯ |  0 |  1 | 36.55209 | FPL Unknown   | Divorced   | Woman             | White                     | No  | Female | Unknown/ Missing |\n",
       "| 1529 | 14 |  28185859 | 2018-02-12 | 1 | ICD10CM:F33.1  | 679 | 691A946E-1C87-4902-B384-F690CC65C3E8 | 32.35 | 116 | ⋯ |  0 |  1 | 24.60000 | FPL Below 100 | Marital NI | Man               | White                     | No  | Male   | Straight         |\n",
       "| 1686 |  9 |  32503551 | 2014-11-18 | 1 | ICD9CM:311     | 564 | 4A2955DB-7AFB-4BFB-8190-6ED43EB1E35E | 32.00 | 110 | ⋯ | NA | NA |       NA | NA            | NA         | NA                | NA                        | NA  | NA     | NA               |\n",
       "| 1787 |  5 | 108543117 | 2019-03-29 | 1 | ICD10CM:F32.0  | 682 | D7663BC6-227D-4A7F-B037-2D312EB7D31D | 26.30 | 132 | ⋯ | NA | NA |       NA | NA            | NA         | NA                | NA                        | NA  | NA     | NA               |\n",
       "| 1978 | 21 |  34815011 | 2016-08-16 | 1 | ICD10CM:F33.1  | 692 | 7473A1B3-5DB9-47BB-8C3A-7C5C6C2F38CD | 31.60 | 120 | ⋯ |  1 |  1 | 19.95082 | FPL Below 100 | Marital NI | Woman             | White                     | No  | Female | Unknown/ Missing |\n",
       "| 2043 |  2 |  93361511 | 2018-08-01 | 1 | ICD10CM:F32.9  | 602 | 18D17F81-BD34-4C0B-8F28-F15FE692C379 | 38.80 | 130 | ⋯ |  0 |  1 | 56.20274 | FPL Below 100 | Married    | Unknown / Missing | White                     | No  | Female | Unknown/ Missing |\n",
       "| 2255 | 15 |  31109031 | 2015-03-28 | 1 | ICD9CM:311     | 586 | 357F37E8-DF17-4F0C-BABE-0E7CF305DEC4 | 26.31 | 120 | ⋯ |  0 |  1 | 42.03014 | FPL 151-200   | Single     | Unknown / Missing | Black or African American | No  | Female | Straight         |\n",
       "| 2343 |  7 |  40037042 | 2016-08-10 | 1 | ICD10CM:F32.5  | 638 | 82D0D2F3-490D-4880-AD23-83C9949E0EC2 | 20.04 | 110 | ⋯ | NA | NA |       NA | NA            | NA         | NA                | NA                        | NA  | NA     | NA               |\n",
       "| 2441 | 12 |  30614693 | 2017-03-30 | 1 | ICD10CM:F53.0  | 662 | 6F17D46F-1061-4F5E-A8F7-D7F1E168104F | 39.33 | 108 | ⋯ |  0 |  1 | 21.57260 | FPL 101-150   | Single     | Woman             | White                     | No  | Female | Straight         |\n",
       "| 2688 | 15 |  21245697 | 2018-06-28 | 1 | ICD10CM:F33.1  | 684 | B733A231-4F42-454C-9237-06920E632909 | 20.00 | 116 | ⋯ |  0 |  1 | 22.35342 | FPL Below 100 | Marital NI | Woman             | NA                        | No  | Female | Straight         |\n",
       "| 2782 | 19 |  76251324 | 2017-12-28 | 1 | ICD10CM:F32.9  | 606 | 014BFE57-9717-4E62-A253-86CCB376AF80 | 30.10 | 117 | ⋯ |  0 |  1 | 61.08219 | FPL 101-150   | Divorced   | Unknown / Missing | White                     | No  | Female | Unknown/ Missing |\n",
       "| 3030 | 21 |  70986485 | 2017-02-15 | 1 | ICD10CM:F32.9  | 590 | 2B48EE57-74E1-49CB-8BAA-FDC8EB9E08F0 | 37.10 | 154 | ⋯ |  1 |  1 | 46.24110 | FPL Unknown   | Married    | Man               | Black or African American | No  | Male   | Straight         |\n",
       "| 3147 | 19 |  99978339 | 2018-09-25 | 1 | ICD10CM:F32.9  | 589 | DFA07D7D-E861-40AC-AB1B-C46973AC32FA | 33.50 | 122 | ⋯ |  0 |  1 | 41.83533 | FPL 151-200   | Single     | Unknown / Missing | Black or African American | No  | Female | Unknown/ Missing |\n",
       "| 3234 | 10 |  24627815 | 2015-03-06 | 1 | ICD9CM:296.20  | 578 | 91A55941-82B8-435D-ADB6-B383CB9CCCBC | 28.74 | 126 | ⋯ |  0 |  1 | 37.10685 | FPL Below 100 | Marital NI | Unknown / Missing | White                     | Yes | Male   | Unknown/ Missing |\n",
       "| 3291 | 11 |  57844402 | 2015-03-25 | 1 | ICD9CM:296.20  | 693 | 77DE22CD-F6EE-49C0-9057-84668FE106DB | 24.03 |  94 | ⋯ |  0 |  1 | 17.51233 | FPL Below 100 | Marital NI | Unknown / Missing | White                     | Yes | Female | Unknown/ Missing |\n",
       "| 3585 | 20 |   7445209 | 2015-03-11 | 1 | ICD9CM:296.32  | 612 | 3BDFB4B1-7B16-46DC-9EE2-264BB46A72BF | 19.20 | 100 | ⋯ |  1 |  1 | 35.50137 | FPL Below 100 | Marital NI | Man               | Multiple race             | No  | Male   | Unknown/ Missing |\n",
       "| 3604 | 23 |   1950453 | 2015-07-27 | 1 | ICD9CM:296.32  | 610 | 900F2B18-24F5-4207-9B0F-DEA3DD910ABE | 26.56 | 111 | ⋯ |  1 |  1 | 66.01096 | FPL Below 100 | Marital NI | Man               | White                     | No  | Male   | Straight         |\n",
       "| 3670 | 12 |   7408251 | 2013-07-16 | 1 | ICD9CM:311     | 612 | ACDC554A-9431-4D81-9697-C54C1CFE7206 | 35.22 | 157 | ⋯ |  0 |  1 | 65.97808 | FPL 151-200   | Marital NI | Unknown / Missing | White                     | No  | Female | Unknown/ Missing |\n",
       "| 3805 | 14 |  75874633 | 2018-05-22 | 1 | ICD10CM:F32.9  | 606 | C15629B9-BAD0-467B-9FD0-B268D894CA17 | 29.10 | 106 | ⋯ |  0 |  1 | 46.45753 | FPL Unknown   | Single     | Unknown / Missing | White                     | No  | Female | Unknown/ Missing |\n",
       "| 3944 |  9 |  14900265 | 2016-05-27 | 1 | ICD10CM:F32.9  | 568 | FFCC6862-23ED-4A2F-9DA2-A9FCE1698ED6 | 28.87 | 120 | ⋯ | NA | NA |       NA | NA            | NA         | NA                | NA                        | NA  | NA     | NA               |\n",
       "| 4156 |  6 |  36314956 | 2016-12-16 | 1 | ICD10CM:F33.1  | 692 | FA5E5ED0-7673-4437-8E89-067BBDDD1935 | 32.50 | 131 | ⋯ | NA | NA |       NA | NA            | NA         | NA                | NA                        | NA  | NA     | NA               |\n",
       "| 4296 | 25 |  23440642 | 2016-01-26 | 1 | ICD10CM:F32.9  | 665 | 31EB01C1-F7ED-40D5-BAC0-5F8E48FD4FF1 | 22.82 | 114 | ⋯ |  1 |  1 | 31.39617 | FPL Below 100 | Married    | Woman             | White                     | Yes | Female | Straight         |\n",
       "| 4321 |  0 |  92357454 | 2017-02-27 | 1 | ICD10CM:F32.9  | 589 | AF5EBBA5-E9AC-4F27-B9A5-3B10E49B625F | 23.90 | 180 | ⋯ |  0 |  1 | 65.77808 | FPL Below 100 | Married    | Unknown / Missing | Refuse to answer          | No  | Male   | Unknown/ Missing |\n",
       "| ⋮ | ⋮ | ⋮ | ⋮ | ⋮ | ⋮ | ⋮ | ⋮ | ⋮ | ⋮ | ⋱ | ⋮ | ⋮ | ⋮ | ⋮ | ⋮ | ⋮ | ⋮ | ⋮ | ⋮ | ⋮ |\n",
       "|  9803046 |  4 | 101215465 | 2018-11-05 | 1 | ICD10CM:F32.2  | 693 | EE8AF3E9-5679-4EBB-BAF7-358CD9801CFB | 21.23 | 104 | ⋯ |  0 |  1 | 16.60274 | FPL Below 100 | Marital NI | Man               | NA                                | Yes | Male   | Straight                     |\n",
       "|  9807179 | 12 |  38343441 | 2015-09-22 | 1 | ICD9CM:296.32  | 678 | 2569E5AD-CFC7-40C1-9277-1742BC53D4AF | 24.98 | 100 | ⋯ |  0 |  1 | 83.84932 | FPL Below 100 | Marital NI | Woman             | Refuse to answer                  | No  | Female | Straight                     |\n",
       "|  9852643 | 11 |  37150384 | 2014-02-10 | 1 | ICD9CM:311     | 692 | A10BA0C1-AC14-4914-B220-2B4864F6A033 | 27.22 |  98 | ⋯ |  0 |  1 | 17.78172 | FPL 101-150   | Marital NI | Genderqueer       | White                             | No  | Female | Multiple sexual orientations |\n",
       "|  9854610 | 26 |  39190495 | 2015-06-04 | 1 | ICD9CM:296.33  | 678 | 76AE5385-B6D0-4640-BC59-6E4DCE1F9B23 | 27.06 | 118 | ⋯ |  1 |  1 | 34.06301 | FPL 101-150   | Marital NI | Woman             | American Indian or Alaskan Native | No  | Female | Straight                     |\n",
       "| 10038245 | 19 |  22528679 | 2017-12-08 | 1 | ICD10CM:F33.1  | 684 | 04767FAD-72AB-4968-82FF-AE0CBFB7C3B7 | 17.92 |  96 | ⋯ |  0 |  1 | 24.13973 | FPL 101-150   | Married    | Woman             | White                             | No  | Female | Straight                     |\n",
       "| 10053831 | 18 |  58449811 | 2015-09-21 | 1 | ICD9CM:311     | 609 | 415C91CC-8727-40A2-9475-DC79464B3F32 | 37.92 | 110 | ⋯ |  0 |  1 | 20.36164 | FPL Below 100 | Married    | Woman             | White                             | Yes | Female | Unknown/ Missing             |\n",
       "| 10087240 | 25 |  30021716 | 2017-11-20 | 1 | ICD10CM:F33.9  | 662 | C27DBCBE-521A-4304-B7B0-B3A470879A3C | 32.81 | 114 | ⋯ |  1 |  1 | 19.23562 | FPL 101-150   | Single     | Woman             | NA                                | No  | Female | Straight                     |\n",
       "| 10280686 | 10 | 101037206 | 2018-10-31 | 1 | ICD10CM:F32.1  | NA  | 0E5E0608-5D53-4C76-9265-72B26757DAD1 | 28.13 | 122 | ⋯ | NA | NA |       NA | NA            | NA         | NA                | NA                                | NA  | NA     | NA                           |\n",
       "| 10305811 | 23 | 120047785 | 2019-09-10 | 1 | ICD10CM:F32.2  | 577 | A4DC8132-4A24-4398-9A78-4DFE90F9F3C3 | 22.07 | 126 | ⋯ |  1 |  1 | 25.06027 | FPL Below 100 | Single     | Woman             | NA                                | No  | Female | Straight                     |\n",
       "| 10366099 |  6 |  64350915 | 2016-10-10 | 1 | ICD10CM:F43.23 | 628 | 6D0C8BF8-995D-4863-B948-32635F9001AB | 20.80 | 120 | ⋯ | NA | NA |       NA | NA            | NA         | NA                | NA                                | NA  | NA     | NA                           |\n",
       "| 10367560 | 13 |  18890634 | 2014-07-02 | 1 | ICD9CM:300.4   | 682 | 128D1D75-FE1C-4FD0-96FB-D2B05433D1E3 | 38.67 | 128 | ⋯ |  0 |  1 | 30.09863 | FPL Below 100 | Married    | Unknown / Missing | NA                                | Yes | Female | Unknown/ Missing             |\n",
       "| 10473814 |  0 | 101802110 | 2018-11-14 | 1 | ICD10CM:F32.9  | 632 | 8CEE2E8B-BBEB-473B-AAF2-27507AF446A8 | 18.88 | 108 | ⋯ |  0 |  1 | 24.63014 | FPL 101-150   | Marital NI | Woman             | White                             | No  | Female | Straight                     |\n",
       "| 10530593 | 19 |  97799364 | 2018-08-27 | 1 | ICD10CM:F33.1  | 692 | C9C30DC1-36A4-47DC-82F2-10B1D19BD089 | 36.36 |  94 | ⋯ |  0 |  1 | 17.22192 | FPL Below 100 | Marital NI | Woman             | White                             | No  | Female | Unknown/ Missing             |\n",
       "| 10535135 | 20 |  25109989 | 2016-12-19 | 1 | ICD10CM:F34.1  | 578 | 292222BD-9DB6-4DE1-AC91-2B9707C087BD | 19.74 | 102 | ⋯ |  1 |  1 | 15.07104 | FPL Below 100 | Marital NI | Woman             | White                             | Yes | Female | Straight                     |\n",
       "| 10566415 | 22 |  39232351 | 2014-12-30 | 1 | ICD9CM:311     | 678 | 0838A91C-423E-4844-B541-19BD973D7066 | 23.13 | 124 | ⋯ |  1 |  1 | 58.78630 | FPL Below 100 | Marital NI | Man               | Asian                             | No  | Male   | Straight                     |\n",
       "| 10655443 | 13 |  39571659 | 2017-04-17 | 1 | ICD10CM:F32.1  | 678 | A9186D6B-AEDF-4743-8DB6-5D79D37DD093 | 47.25 | 132 | ⋯ |  0 |  1 | 51.98904 | FPL Unknown   | Single     | Woman             | Refuse to answer                  | No  | Female | Straight                     |\n",
       "| 10658043 | 15 |  31455438 | 2013-09-05 | 1 | ICD9CM:296.20  | 564 | BA38BC62-0985-4229-9A71-C4EDC3C60621 | 23.51 | 150 | ⋯ |  0 |  1 | 58.16164 | FPL Below 100 | Single     | Man               | White                             | Yes | Male   | Unknown/ Missing             |\n",
       "| 10664655 | 18 |  39138128 | 2015-06-23 | 1 | ICD9CM:296.56  | 678 | 5F008A54-5EB5-495E-9ACF-107652601705 | 31.54 | 120 | ⋯ |  0 |  1 | 26.74173 | FPL Below 100 | Single     | Man               | White                             | No  | Male   | Unknown/ Missing             |\n",
       "| 10687987 | 27 |  58141086 | 2018-05-30 | 1 | ICD10CM:F33.1  | 693 | 52D7EFFB-8430-48F9-ACE7-0E9C4C487429 | 33.47 | 130 | ⋯ |  1 |  1 | 58.17260 | FPL Below 100 | Single     | Man               | White                             | No  | Male   | Straight                     |\n",
       "| 10791343 |  6 |  25994533 | 2015-03-11 | 1 | ICD9CM:296.80  | 578 | 2333C2E4-FA08-4B58-B284-EC5D84E5FAB0 | 25.12 | 112 | ⋯ | NA | NA |       NA | NA            | NA         | NA                | NA                                | NA  | NA     | NA                           |\n",
       "| 10822797 | 14 | 109805352 | 2019-04-18 | 1 | ICD10CM:F33.1  | 671 | DF6BE73F-7C4E-4621-B723-20C0CF029294 | 26.26 |  98 | ⋯ |  0 |  1 | 28.59178 | NA            | Marital NI | Woman             | White                             | No  | Female | Straight                     |\n",
       "| 10864994 | 14 | 106003234 | 2019-02-21 | 1 | ICD10CM:F32.1  | 610 | 4B058D9E-0630-4DC7-96AF-D0BA75E1229C | 21.62 |  90 | ⋯ |  0 |  1 | 22.02192 | FPL Unknown   | Single     | Transgender       | White                             | No  | Male   | Unknown/ Missing             |\n",
       "| 10900315 | 14 |  58207538 | 2014-02-03 | 1 | ICD9CM:296.30  | 609 | 2AFF00F7-526D-4BFF-BA7C-76FF5B23CC97 | 32.37 | 144 | ⋯ |  0 |  1 | 42.24110 | NA            | Single     | Woman             | White                             | No  | Female | Straight                     |\n",
       "| 10904011 |  8 |  49655533 | 2016-07-05 | 1 | ICD10CM:F32.9  | 671 | 3ABFA9D4-CF4D-4317-865F-DBA8A4876670 | 24.69 |  94 | ⋯ | NA | NA |       NA | NA            | NA         | NA                | NA                                | NA  | NA     | NA                           |\n",
       "| 10948655 | 25 |  37299774 | 2014-02-14 | 1 | ICD9CM:296.32  | 692 | 4203738A-A4C6-4554-8E37-177B1232D59D | 28.24 | 126 | ⋯ |  1 |  1 | 18.92055 | FPL Below 100 | NA         | Unknown / Missing | Black or African American         | No  | Female | Unknown/ Missing             |\n",
       "| 11012890 | 15 |  13441972 | 2017-02-02 | 1 | ICD10CM:F32.9  | 624 | 5B7E434D-3730-4FD4-8B5D-B8568A7A600B | 31.65 | 138 | ⋯ |  0 |  1 | 50.56986 | FPL Unknown   | Marital NI | Man               | NA                                | No  | Male   | Straight                     |\n",
       "| 11013219 | 14 |  35175567 | 2013-08-19 | 1 | ICD9CM:309.0   | 692 | C9C30DC1-36A4-47DC-82F2-10B1D19BD089 | 27.77 | 100 | ⋯ |  0 |  1 | 21.13973 | FPL Below 100 | Marital NI | Woman             | White                             | No  | Female | Straight                     |\n",
       "| 11038190 | 21 |  54274236 | 2014-04-21 | 1 | ICD9CM:296.30  | 671 | 5A5BBEE6-BBFF-47A8-A07B-2C9E9F85AABD | 25.54 | 127 | ⋯ |  1 |  1 | 55.60274 | FPL 151-200   | Marital NI | Man               | White                             | No  | Male   | Straight                     |\n",
       "| 11070346 | 10 |  13942215 | 2017-02-03 | 1 | ICD10CM:F33.1  | 648 | C3EAB852-A57E-4F32-9645-A6D923285DC1 | 26.26 | 142 | ⋯ |  0 |  1 | 60.36090 | FPL Below 100 | Marital NI | Man               | NA                                | No  | Male   | Straight                     |\n",
       "| 11074654 | 19 |  12961076 | 2018-07-20 | 1 | ICD10CM:F32.89 | 624 | 886A684C-1D85-495A-997E-64D6C3FFE4CA | 25.83 | 121 | ⋯ |  0 |  1 | 40.94521 | FPL Below 100 | Married    | Man               | NA                                | No  | Male   | Straight                     |\n",
       "\n"
      ],
      "text/plain": [
       "      phqPT    PhqScore phqEnc    AdminDate.x INSTANCE_NUM CONCEPT_CD    \n",
       "1      560     19        32305700 2013-08-05  1            ICD9CM:311    \n",
       "2      647     14        18173681 2017-10-02  1            ICD10CM:F33.1 \n",
       "3      817     21        14906683 2017-09-06  1            ICD10CM:F32.89\n",
       "4      867      4        20652705 2016-11-09  1            ICD10CM:F32.5 \n",
       "5      921     11        60038328 2012-12-19  1            ICD9CM:311    \n",
       "6     1248     11        71981807 2017-12-12  1            ICD10CM:F32.9 \n",
       "7     1278     17        75148316 2017-09-21  1            ICD10CM:F33.2 \n",
       "8     1491     11        40227280 2017-01-25  1            ICD10CM:F33.1 \n",
       "9     1529     14        28185859 2018-02-12  1            ICD10CM:F33.1 \n",
       "10    1686      9        32503551 2014-11-18  1            ICD9CM:311    \n",
       "11    1787      5       108543117 2019-03-29  1            ICD10CM:F32.0 \n",
       "12    1978     21        34815011 2016-08-16  1            ICD10CM:F33.1 \n",
       "13    2043      2        93361511 2018-08-01  1            ICD10CM:F32.9 \n",
       "14    2255     15        31109031 2015-03-28  1            ICD9CM:311    \n",
       "15    2343      7        40037042 2016-08-10  1            ICD10CM:F32.5 \n",
       "16    2441     12        30614693 2017-03-30  1            ICD10CM:F53.0 \n",
       "17    2688     15        21245697 2018-06-28  1            ICD10CM:F33.1 \n",
       "18    2782     19        76251324 2017-12-28  1            ICD10CM:F32.9 \n",
       "19    3030     21        70986485 2017-02-15  1            ICD10CM:F32.9 \n",
       "20    3147     19        99978339 2018-09-25  1            ICD10CM:F32.9 \n",
       "21    3234     10        24627815 2015-03-06  1            ICD9CM:296.20 \n",
       "22    3291     11        57844402 2015-03-25  1            ICD9CM:296.20 \n",
       "23    3585     20         7445209 2015-03-11  1            ICD9CM:296.32 \n",
       "24    3604     23         1950453 2015-07-27  1            ICD9CM:296.32 \n",
       "25    3670     12         7408251 2013-07-16  1            ICD9CM:311    \n",
       "26    3805     14        75874633 2018-05-22  1            ICD10CM:F32.9 \n",
       "27    3944      9        14900265 2016-05-27  1            ICD10CM:F32.9 \n",
       "28    4156      6        36314956 2016-12-16  1            ICD10CM:F33.1 \n",
       "29    4296     25        23440642 2016-01-26  1            ICD10CM:F32.9 \n",
       "30    4321      0        92357454 2017-02-27  1            ICD10CM:F32.9 \n",
       "⋮     ⋮        ⋮        ⋮         ⋮           ⋮            ⋮             \n",
       "65502  9803046  4       101215465 2018-11-05  1            ICD10CM:F32.2 \n",
       "65503  9807179 12        38343441 2015-09-22  1            ICD9CM:296.32 \n",
       "65504  9852643 11        37150384 2014-02-10  1            ICD9CM:311    \n",
       "65505  9854610 26        39190495 2015-06-04  1            ICD9CM:296.33 \n",
       "65506 10038245 19        22528679 2017-12-08  1            ICD10CM:F33.1 \n",
       "65507 10053831 18        58449811 2015-09-21  1            ICD9CM:311    \n",
       "65508 10087240 25        30021716 2017-11-20  1            ICD10CM:F33.9 \n",
       "65509 10280686 10       101037206 2018-10-31  1            ICD10CM:F32.1 \n",
       "65510 10305811 23       120047785 2019-09-10  1            ICD10CM:F32.2 \n",
       "65511 10366099  6        64350915 2016-10-10  1            ICD10CM:F43.23\n",
       "65512 10367560 13        18890634 2014-07-02  1            ICD9CM:300.4  \n",
       "65513 10473814  0       101802110 2018-11-14  1            ICD10CM:F32.9 \n",
       "65514 10530593 19        97799364 2018-08-27  1            ICD10CM:F33.1 \n",
       "65515 10535135 20        25109989 2016-12-19  1            ICD10CM:F34.1 \n",
       "65516 10566415 22        39232351 2014-12-30  1            ICD9CM:311    \n",
       "65517 10655443 13        39571659 2017-04-17  1            ICD10CM:F32.1 \n",
       "65518 10658043 15        31455438 2013-09-05  1            ICD9CM:296.20 \n",
       "65519 10664655 18        39138128 2015-06-23  1            ICD9CM:296.56 \n",
       "65520 10687987 27        58141086 2018-05-30  1            ICD10CM:F33.1 \n",
       "65521 10791343  6        25994533 2015-03-11  1            ICD9CM:296.80 \n",
       "65522 10822797 14       109805352 2019-04-18  1            ICD10CM:F33.1 \n",
       "65523 10864994 14       106003234 2019-02-21  1            ICD10CM:F32.1 \n",
       "65524 10900315 14        58207538 2014-02-03  1            ICD9CM:296.30 \n",
       "65525 10904011  8        49655533 2016-07-05  1            ICD10CM:F32.9 \n",
       "65526 10948655 25        37299774 2014-02-14  1            ICD9CM:296.32 \n",
       "65527 11012890 15        13441972 2017-02-02  1            ICD10CM:F32.9 \n",
       "65528 11013219 14        35175567 2013-08-19  1            ICD9CM:309.0  \n",
       "65529 11038190 21        54274236 2014-04-21  1            ICD9CM:296.30 \n",
       "65530 11070346 10        13942215 2017-02-03  1            ICD10CM:F33.1 \n",
       "65531 11074654 19        12961076 2018-07-20  1            ICD10CM:F32.89\n",
       "      HEALTH_SYSTEM_ID PROVIDER_ID                          BMI   SystolicBP ⋯\n",
       "1     564              AE5F21AE-72A1-4004-9F4C-3B29714EE261 38.22 140        ⋯\n",
       "2     667              D214E73D-D93B-4151-9166-019096D31829 20.18 112        ⋯\n",
       "3     648              5207C678-C587-462D-B25D-DF2C2ED9E14F 24.33 103        ⋯\n",
       "4     605              0C8B1024-34BE-4A5D-8363-ECCB8F8903F7 22.13 146        ⋯\n",
       "5     558              55612BAD-6F99-4520-A887-686786E34CE6 25.31 126        ⋯\n",
       "6     594              D67BA8E5-BF1F-47D8-94D9-16ADADD575D9 23.00 108        ⋯\n",
       "7     606              C7B48665-59E2-4E91-B19E-73192D727C8E 37.40 157        ⋯\n",
       "8     678              0838A91C-423E-4844-B541-19BD973D7066 36.91  98        ⋯\n",
       "9     679              691A946E-1C87-4902-B384-F690CC65C3E8 32.35 116        ⋯\n",
       "10    564              4A2955DB-7AFB-4BFB-8190-6ED43EB1E35E 32.00 110        ⋯\n",
       "11    682              D7663BC6-227D-4A7F-B037-2D312EB7D31D 26.30 132        ⋯\n",
       "12    692              7473A1B3-5DB9-47BB-8C3A-7C5C6C2F38CD 31.60 120        ⋯\n",
       "13    602              18D17F81-BD34-4C0B-8F28-F15FE692C379 38.80 130        ⋯\n",
       "14    586              357F37E8-DF17-4F0C-BABE-0E7CF305DEC4 26.31 120        ⋯\n",
       "15    638              82D0D2F3-490D-4880-AD23-83C9949E0EC2 20.04 110        ⋯\n",
       "16    662              6F17D46F-1061-4F5E-A8F7-D7F1E168104F 39.33 108        ⋯\n",
       "17    684              B733A231-4F42-454C-9237-06920E632909 20.00 116        ⋯\n",
       "18    606              014BFE57-9717-4E62-A253-86CCB376AF80 30.10 117        ⋯\n",
       "19    590              2B48EE57-74E1-49CB-8BAA-FDC8EB9E08F0 37.10 154        ⋯\n",
       "20    589              DFA07D7D-E861-40AC-AB1B-C46973AC32FA 33.50 122        ⋯\n",
       "21    578              91A55941-82B8-435D-ADB6-B383CB9CCCBC 28.74 126        ⋯\n",
       "22    693              77DE22CD-F6EE-49C0-9057-84668FE106DB 24.03  94        ⋯\n",
       "23    612              3BDFB4B1-7B16-46DC-9EE2-264BB46A72BF 19.20 100        ⋯\n",
       "24    610              900F2B18-24F5-4207-9B0F-DEA3DD910ABE 26.56 111        ⋯\n",
       "25    612              ACDC554A-9431-4D81-9697-C54C1CFE7206 35.22 157        ⋯\n",
       "26    606              C15629B9-BAD0-467B-9FD0-B268D894CA17 29.10 106        ⋯\n",
       "27    568              FFCC6862-23ED-4A2F-9DA2-A9FCE1698ED6 28.87 120        ⋯\n",
       "28    692              FA5E5ED0-7673-4437-8E89-067BBDDD1935 32.50 131        ⋯\n",
       "29    665              31EB01C1-F7ED-40D5-BAC0-5F8E48FD4FF1 22.82 114        ⋯\n",
       "30    589              AF5EBBA5-E9AC-4F27-B9A5-3B10E49B625F 23.90 180        ⋯\n",
       "⋮     ⋮                ⋮                                    ⋮     ⋮          ⋱\n",
       "65502 693              EE8AF3E9-5679-4EBB-BAF7-358CD9801CFB 21.23 104        ⋯\n",
       "65503 678              2569E5AD-CFC7-40C1-9277-1742BC53D4AF 24.98 100        ⋯\n",
       "65504 692              A10BA0C1-AC14-4914-B220-2B4864F6A033 27.22  98        ⋯\n",
       "65505 678              76AE5385-B6D0-4640-BC59-6E4DCE1F9B23 27.06 118        ⋯\n",
       "65506 684              04767FAD-72AB-4968-82FF-AE0CBFB7C3B7 17.92  96        ⋯\n",
       "65507 609              415C91CC-8727-40A2-9475-DC79464B3F32 37.92 110        ⋯\n",
       "65508 662              C27DBCBE-521A-4304-B7B0-B3A470879A3C 32.81 114        ⋯\n",
       "65509 NA               0E5E0608-5D53-4C76-9265-72B26757DAD1 28.13 122        ⋯\n",
       "65510 577              A4DC8132-4A24-4398-9A78-4DFE90F9F3C3 22.07 126        ⋯\n",
       "65511 628              6D0C8BF8-995D-4863-B948-32635F9001AB 20.80 120        ⋯\n",
       "65512 682              128D1D75-FE1C-4FD0-96FB-D2B05433D1E3 38.67 128        ⋯\n",
       "65513 632              8CEE2E8B-BBEB-473B-AAF2-27507AF446A8 18.88 108        ⋯\n",
       "65514 692              C9C30DC1-36A4-47DC-82F2-10B1D19BD089 36.36  94        ⋯\n",
       "65515 578              292222BD-9DB6-4DE1-AC91-2B9707C087BD 19.74 102        ⋯\n",
       "65516 678              0838A91C-423E-4844-B541-19BD973D7066 23.13 124        ⋯\n",
       "65517 678              A9186D6B-AEDF-4743-8DB6-5D79D37DD093 47.25 132        ⋯\n",
       "65518 564              BA38BC62-0985-4229-9A71-C4EDC3C60621 23.51 150        ⋯\n",
       "65519 678              5F008A54-5EB5-495E-9ACF-107652601705 31.54 120        ⋯\n",
       "65520 693              52D7EFFB-8430-48F9-ACE7-0E9C4C487429 33.47 130        ⋯\n",
       "65521 578              2333C2E4-FA08-4B58-B284-EC5D84E5FAB0 25.12 112        ⋯\n",
       "65522 671              DF6BE73F-7C4E-4621-B723-20C0CF029294 26.26  98        ⋯\n",
       "65523 610              4B058D9E-0630-4DC7-96AF-D0BA75E1229C 21.62  90        ⋯\n",
       "65524 609              2AFF00F7-526D-4BFF-BA7C-76FF5B23CC97 32.37 144        ⋯\n",
       "65525 671              3ABFA9D4-CF4D-4317-865F-DBA8A4876670 24.69  94        ⋯\n",
       "65526 692              4203738A-A4C6-4554-8E37-177B1232D59D 28.24 126        ⋯\n",
       "65527 624              5B7E434D-3730-4FD4-8B5D-B8568A7A600B 31.65 138        ⋯\n",
       "65528 692              C9C30DC1-36A4-47DC-82F2-10B1D19BD089 27.77 100        ⋯\n",
       "65529 671              5A5BBEE6-BBFF-47A8-A07B-2C9E9F85AABD 25.54 127        ⋯\n",
       "65530 648              C3EAB852-A57E-4F32-9645-A6D923285DC1 26.26 142        ⋯\n",
       "65531 624              886A684C-1D85-495A-997E-64D6C3FFE4CA 25.83 121        ⋯\n",
       "      phqSevereDepressed DepAny Age      FPL           Marital   \n",
       "1      0                  1     62.56438 FPL Unknown   Marital NI\n",
       "2      0                  1     27.17808 FPL Unknown   Single    \n",
       "3      1                  1     36.45753 FPL Below 100 Marital NI\n",
       "4      0                  1     43.27869 FPL Below 100 Single    \n",
       "5      0                  1     58.33333 FPL 101-150   Widowed   \n",
       "6      0                  1     19.68219 FPL Below 100 Single    \n",
       "7      0                  1     62.33425 NA            Divorced  \n",
       "8      0                  1     36.55209 FPL Unknown   Divorced  \n",
       "9      0                  1     24.60000 FPL Below 100 Marital NI\n",
       "10    NA                 NA           NA NA            NA        \n",
       "11    NA                 NA           NA NA            NA        \n",
       "12     1                  1     19.95082 FPL Below 100 Marital NI\n",
       "13     0                  1     56.20274 FPL Below 100 Married   \n",
       "14     0                  1     42.03014 FPL 151-200   Single    \n",
       "15    NA                 NA           NA NA            NA        \n",
       "16     0                  1     21.57260 FPL 101-150   Single    \n",
       "17     0                  1     22.35342 FPL Below 100 Marital NI\n",
       "18     0                  1     61.08219 FPL 101-150   Divorced  \n",
       "19     1                  1     46.24110 FPL Unknown   Married   \n",
       "20     0                  1     41.83533 FPL 151-200   Single    \n",
       "21     0                  1     37.10685 FPL Below 100 Marital NI\n",
       "22     0                  1     17.51233 FPL Below 100 Marital NI\n",
       "23     1                  1     35.50137 FPL Below 100 Marital NI\n",
       "24     1                  1     66.01096 FPL Below 100 Marital NI\n",
       "25     0                  1     65.97808 FPL 151-200   Marital NI\n",
       "26     0                  1     46.45753 FPL Unknown   Single    \n",
       "27    NA                 NA           NA NA            NA        \n",
       "28    NA                 NA           NA NA            NA        \n",
       "29     1                  1     31.39617 FPL Below 100 Married   \n",
       "30     0                  1     65.77808 FPL Below 100 Married   \n",
       "⋮     ⋮                  ⋮      ⋮        ⋮             ⋮         \n",
       "65502  0                  1     16.60274 FPL Below 100 Marital NI\n",
       "65503  0                  1     83.84932 FPL Below 100 Marital NI\n",
       "65504  0                  1     17.78172 FPL 101-150   Marital NI\n",
       "65505  1                  1     34.06301 FPL 101-150   Marital NI\n",
       "65506  0                  1     24.13973 FPL 101-150   Married   \n",
       "65507  0                  1     20.36164 FPL Below 100 Married   \n",
       "65508  1                  1     19.23562 FPL 101-150   Single    \n",
       "65509 NA                 NA           NA NA            NA        \n",
       "65510  1                  1     25.06027 FPL Below 100 Single    \n",
       "65511 NA                 NA           NA NA            NA        \n",
       "65512  0                  1     30.09863 FPL Below 100 Married   \n",
       "65513  0                  1     24.63014 FPL 101-150   Marital NI\n",
       "65514  0                  1     17.22192 FPL Below 100 Marital NI\n",
       "65515  1                  1     15.07104 FPL Below 100 Marital NI\n",
       "65516  1                  1     58.78630 FPL Below 100 Marital NI\n",
       "65517  0                  1     51.98904 FPL Unknown   Single    \n",
       "65518  0                  1     58.16164 FPL Below 100 Single    \n",
       "65519  0                  1     26.74173 FPL Below 100 Single    \n",
       "65520  1                  1     58.17260 FPL Below 100 Single    \n",
       "65521 NA                 NA           NA NA            NA        \n",
       "65522  0                  1     28.59178 NA            Marital NI\n",
       "65523  0                  1     22.02192 FPL Unknown   Single    \n",
       "65524  0                  1     42.24110 NA            Single    \n",
       "65525 NA                 NA           NA NA            NA        \n",
       "65526  1                  1     18.92055 FPL Below 100 NA        \n",
       "65527  0                  1     50.56986 FPL Unknown   Marital NI\n",
       "65528  0                  1     21.13973 FPL Below 100 Marital NI\n",
       "65529  1                  1     55.60274 FPL 151-200   Marital NI\n",
       "65530  0                  1     60.36090 FPL Below 100 Marital NI\n",
       "65531  0                  1     40.94521 FPL Below 100 Married   \n",
       "      Gender            Race                              Rural Sex   \n",
       "1     Unknown / Missing White                             No    Female\n",
       "2     Woman             White                             No    Female\n",
       "3     Man               White                             No    Male  \n",
       "4     Woman             NA                                No    Female\n",
       "5     Woman             White                             Yes   Female\n",
       "6     Unknown / Missing White                             No    Male  \n",
       "7     Unknown / Missing White                             No    Female\n",
       "8     Woman             White                             No    Female\n",
       "9     Man               White                             No    Male  \n",
       "10    NA                NA                                NA    NA    \n",
       "11    NA                NA                                NA    NA    \n",
       "12    Woman             White                             No    Female\n",
       "13    Unknown / Missing White                             No    Female\n",
       "14    Unknown / Missing Black or African American         No    Female\n",
       "15    NA                NA                                NA    NA    \n",
       "16    Woman             White                             No    Female\n",
       "17    Woman             NA                                No    Female\n",
       "18    Unknown / Missing White                             No    Female\n",
       "19    Man               Black or African American         No    Male  \n",
       "20    Unknown / Missing Black or African American         No    Female\n",
       "21    Unknown / Missing White                             Yes   Male  \n",
       "22    Unknown / Missing White                             Yes   Female\n",
       "23    Man               Multiple race                     No    Male  \n",
       "24    Man               White                             No    Male  \n",
       "25    Unknown / Missing White                             No    Female\n",
       "26    Unknown / Missing White                             No    Female\n",
       "27    NA                NA                                NA    NA    \n",
       "28    NA                NA                                NA    NA    \n",
       "29    Woman             White                             Yes   Female\n",
       "30    Unknown / Missing Refuse to answer                  No    Male  \n",
       "⋮     ⋮                 ⋮                                 ⋮     ⋮     \n",
       "65502 Man               NA                                Yes   Male  \n",
       "65503 Woman             Refuse to answer                  No    Female\n",
       "65504 Genderqueer       White                             No    Female\n",
       "65505 Woman             American Indian or Alaskan Native No    Female\n",
       "65506 Woman             White                             No    Female\n",
       "65507 Woman             White                             Yes   Female\n",
       "65508 Woman             NA                                No    Female\n",
       "65509 NA                NA                                NA    NA    \n",
       "65510 Woman             NA                                No    Female\n",
       "65511 NA                NA                                NA    NA    \n",
       "65512 Unknown / Missing NA                                Yes   Female\n",
       "65513 Woman             White                             No    Female\n",
       "65514 Woman             White                             No    Female\n",
       "65515 Woman             White                             Yes   Female\n",
       "65516 Man               Asian                             No    Male  \n",
       "65517 Woman             Refuse to answer                  No    Female\n",
       "65518 Man               White                             Yes   Male  \n",
       "65519 Man               White                             No    Male  \n",
       "65520 Man               White                             No    Male  \n",
       "65521 NA                NA                                NA    NA    \n",
       "65522 Woman             White                             No    Female\n",
       "65523 Transgender       White                             No    Male  \n",
       "65524 Woman             White                             No    Female\n",
       "65525 NA                NA                                NA    NA    \n",
       "65526 Unknown / Missing Black or African American         No    Female\n",
       "65527 Man               NA                                No    Male  \n",
       "65528 Woman             White                             No    Female\n",
       "65529 Man               White                             No    Male  \n",
       "65530 Man               NA                                No    Male  \n",
       "65531 Man               NA                                No    Male  \n",
       "      Sexor                       \n",
       "1     Unknown/ Missing            \n",
       "2     Straight                    \n",
       "3     Unknown/ Missing            \n",
       "4     Straight                    \n",
       "5     Unknown/ Missing            \n",
       "6     Unknown/ Missing            \n",
       "7     Unknown/ Missing            \n",
       "8     Unknown/ Missing            \n",
       "9     Straight                    \n",
       "10    NA                          \n",
       "11    NA                          \n",
       "12    Unknown/ Missing            \n",
       "13    Unknown/ Missing            \n",
       "14    Straight                    \n",
       "15    NA                          \n",
       "16    Straight                    \n",
       "17    Straight                    \n",
       "18    Unknown/ Missing            \n",
       "19    Straight                    \n",
       "20    Unknown/ Missing            \n",
       "21    Unknown/ Missing            \n",
       "22    Unknown/ Missing            \n",
       "23    Unknown/ Missing            \n",
       "24    Straight                    \n",
       "25    Unknown/ Missing            \n",
       "26    Unknown/ Missing            \n",
       "27    NA                          \n",
       "28    NA                          \n",
       "29    Straight                    \n",
       "30    Unknown/ Missing            \n",
       "⋮     ⋮                           \n",
       "65502 Straight                    \n",
       "65503 Straight                    \n",
       "65504 Multiple sexual orientations\n",
       "65505 Straight                    \n",
       "65506 Straight                    \n",
       "65507 Unknown/ Missing            \n",
       "65508 Straight                    \n",
       "65509 NA                          \n",
       "65510 Straight                    \n",
       "65511 NA                          \n",
       "65512 Unknown/ Missing            \n",
       "65513 Straight                    \n",
       "65514 Unknown/ Missing            \n",
       "65515 Straight                    \n",
       "65516 Straight                    \n",
       "65517 Straight                    \n",
       "65518 Unknown/ Missing            \n",
       "65519 Unknown/ Missing            \n",
       "65520 Straight                    \n",
       "65521 NA                          \n",
       "65522 Straight                    \n",
       "65523 Unknown/ Missing            \n",
       "65524 Straight                    \n",
       "65525 NA                          \n",
       "65526 Unknown/ Missing            \n",
       "65527 Straight                    \n",
       "65528 Straight                    \n",
       "65529 Straight                    \n",
       "65530 Straight                    \n",
       "65531 Straight                    "
      ]
     },
     "metadata": {},
     "output_type": "display_data"
    }
   ],
   "source": [
    "phq.df %>% filter(Depressed==1)"
   ]
  },
  {
   "cell_type": "code",
   "execution_count": 108,
   "id": "78a3427f",
   "metadata": {},
   "outputs": [
    {
     "data": {
      "text/html": [
       "<table class=\"dataframe\">\n",
       "<caption>A tibble: 2 × 5</caption>\n",
       "<thead>\n",
       "\t<tr><th scope=col>Depressed</th><th scope=col>mean</th><th scope=col>sd</th><th scope=col>min</th><th scope=col>max</th></tr>\n",
       "\t<tr><th scope=col>&lt;dbl&gt;</th><th scope=col>&lt;dbl&gt;</th><th scope=col>&lt;dbl&gt;</th><th scope=col>&lt;dbl&gt;</th><th scope=col>&lt;dbl&gt;</th></tr>\n",
       "</thead>\n",
       "<tbody>\n",
       "\t<tr><td>0</td><td> 9.051658</td><td>6.505694</td><td>0</td><td>27</td></tr>\n",
       "\t<tr><td>1</td><td>14.107443</td><td>6.460548</td><td>0</td><td>27</td></tr>\n",
       "</tbody>\n",
       "</table>\n"
      ],
      "text/latex": [
       "A tibble: 2 × 5\n",
       "\\begin{tabular}{lllll}\n",
       " Depressed & mean & sd & min & max\\\\\n",
       " <dbl> & <dbl> & <dbl> & <dbl> & <dbl>\\\\\n",
       "\\hline\n",
       "\t 0 &  9.051658 & 6.505694 & 0 & 27\\\\\n",
       "\t 1 & 14.107443 & 6.460548 & 0 & 27\\\\\n",
       "\\end{tabular}\n"
      ],
      "text/markdown": [
       "\n",
       "A tibble: 2 × 5\n",
       "\n",
       "| Depressed &lt;dbl&gt; | mean &lt;dbl&gt; | sd &lt;dbl&gt; | min &lt;dbl&gt; | max &lt;dbl&gt; |\n",
       "|---|---|---|---|---|\n",
       "| 0 |  9.051658 | 6.505694 | 0 | 27 |\n",
       "| 1 | 14.107443 | 6.460548 | 0 | 27 |\n",
       "\n"
      ],
      "text/plain": [
       "  Depressed mean      sd       min max\n",
       "1 0          9.051658 6.505694 0   27 \n",
       "2 1         14.107443 6.460548 0   27 "
      ]
     },
     "metadata": {},
     "output_type": "display_data"
    }
   ],
   "source": [
    "# then get rid of bad values in phq, round some of the weird values and summarise to check\n",
    "cleanphq.df<-phq.df %>% filter(PhqScore>0 & PhqScore<28)  %>% mutate(PhqScore=round(PhqScore))\n",
    "cleanphq.df%>% group_by(Depressed) %>% summarise(mean=mean(PhqScore),sd=sd(PhqScore),min=min(PhqScore),max=max(PhqScore))"
   ]
  },
  {
   "cell_type": "code",
   "execution_count": 110,
   "id": "c5a31624",
   "metadata": {},
   "outputs": [],
   "source": [
    "providers<-read.csv('/home/ec2-user/SageMaker/providersepped.csv')\n"
   ]
  },
  {
   "cell_type": "code",
   "execution_count": null,
   "id": "e10c79f1",
   "metadata": {},
   "outputs": [],
   "source": [
    "nrow(providers)"
   ]
  },
  {
   "cell_type": "code",
   "execution_count": 115,
   "id": "f2da9c50",
   "metadata": {
    "scrolled": true
   },
   "outputs": [
    {
     "data": {
      "text/html": [
       "<table class=\"dataframe\">\n",
       "<caption>A tibble: 23 × 2</caption>\n",
       "<thead>\n",
       "\t<tr><th scope=col>L1</th><th scope=col>n</th></tr>\n",
       "\t<tr><th scope=col>&lt;chr&gt;</th><th scope=col>&lt;int&gt;</th></tr>\n",
       "</thead>\n",
       "<tbody>\n",
       "\t<tr><td><span style=white-space:pre-wrap>Allopathic &amp; Osteopathic Physicians                                         </span></td><td>6706</td></tr>\n",
       "\t<tr><td><span style=white-space:pre-wrap>Physician Assistants &amp; Advanced Practice Nursing Providers                  </span></td><td>4227</td></tr>\n",
       "\t<tr><td><span style=white-space:pre-wrap>Behavioral Health &amp; Social Service Providers                                </span></td><td>2747</td></tr>\n",
       "\t<tr><td>Other Service Providers                                                     </td><td> 909</td></tr>\n",
       "\t<tr><td>Dental Providers                                                            </td><td> 795</td></tr>\n",
       "\t<tr><td>Nursing Service Providers                                                   </td><td> 780</td></tr>\n",
       "\t<tr><td>Student, Health Care                                                        </td><td> 495</td></tr>\n",
       "\t<tr><td>Eye and Vision Services Providers                                           </td><td> 210</td></tr>\n",
       "\t<tr><td>Pharmacy Service Providers                                                  </td><td> 186</td></tr>\n",
       "\t<tr><td>Ambulatory Health Care Facilities                                           </td><td> 176</td></tr>\n",
       "\t<tr><td><span style=white-space:pre-wrap>Dietary &amp; Nutritional Service Providers                                     </span></td><td> 164</td></tr>\n",
       "\t<tr><td><span style=white-space:pre-wrap>Podiatric Medicine &amp; Surgery Service Providers                              </span></td><td><span style=white-space:pre-wrap>  89</span></td></tr>\n",
       "\t<tr><td>Respiratory, Developmental, Rehabilitative and Restorative Service Providers</td><td>  86</td></tr>\n",
       "\t<tr><td>Chiropractic Providers                                                      </td><td>  78</td></tr>\n",
       "\t<tr><td>Nursing Service Related Providers                                           </td><td>  57</td></tr>\n",
       "\t<tr><td>Speech, Language and Hearing Service Providers                              </td><td>  25</td></tr>\n",
       "\t<tr><td>Agencies                                                                    </td><td>  24</td></tr>\n",
       "\t<tr><td>Laboratories                                                                </td><td>   7</td></tr>\n",
       "\t<tr><td>Hospitals                                                                   </td><td>   5</td></tr>\n",
       "\t<tr><td><span style=white-space:pre-wrap>Technologists, Technicians &amp; Other Technical Service Providers              </span></td><td><span style=white-space:pre-wrap>   4</span></td></tr>\n",
       "\t<tr><td>Emergency Medical Service Providers                                         </td><td>   2</td></tr>\n",
       "\t<tr><td>Suppliers                                                                   </td><td>   2</td></tr>\n",
       "\t<tr><td>Managed Care Organizations                                                  </td><td>   1</td></tr>\n",
       "</tbody>\n",
       "</table>\n"
      ],
      "text/latex": [
       "A tibble: 23 × 2\n",
       "\\begin{tabular}{ll}\n",
       " L1 & n\\\\\n",
       " <chr> & <int>\\\\\n",
       "\\hline\n",
       "\t Allopathic \\& Osteopathic Physicians                                          & 6706\\\\\n",
       "\t Physician Assistants \\& Advanced Practice Nursing Providers                   & 4227\\\\\n",
       "\t Behavioral Health \\& Social Service Providers                                 & 2747\\\\\n",
       "\t Other Service Providers                                                      &  909\\\\\n",
       "\t Dental Providers                                                             &  795\\\\\n",
       "\t Nursing Service Providers                                                    &  780\\\\\n",
       "\t Student, Health Care                                                         &  495\\\\\n",
       "\t Eye and Vision Services Providers                                            &  210\\\\\n",
       "\t Pharmacy Service Providers                                                   &  186\\\\\n",
       "\t Ambulatory Health Care Facilities                                            &  176\\\\\n",
       "\t Dietary \\& Nutritional Service Providers                                      &  164\\\\\n",
       "\t Podiatric Medicine \\& Surgery Service Providers                               &   89\\\\\n",
       "\t Respiratory, Developmental, Rehabilitative and Restorative Service Providers &   86\\\\\n",
       "\t Chiropractic Providers                                                       &   78\\\\\n",
       "\t Nursing Service Related Providers                                            &   57\\\\\n",
       "\t Speech, Language and Hearing Service Providers                               &   25\\\\\n",
       "\t Agencies                                                                     &   24\\\\\n",
       "\t Laboratories                                                                 &    7\\\\\n",
       "\t Hospitals                                                                    &    5\\\\\n",
       "\t Technologists, Technicians \\& Other Technical Service Providers               &    4\\\\\n",
       "\t Emergency Medical Service Providers                                          &    2\\\\\n",
       "\t Suppliers                                                                    &    2\\\\\n",
       "\t Managed Care Organizations                                                   &    1\\\\\n",
       "\\end{tabular}\n"
      ],
      "text/markdown": [
       "\n",
       "A tibble: 23 × 2\n",
       "\n",
       "| L1 &lt;chr&gt; | n &lt;int&gt; |\n",
       "|---|---|\n",
       "| Allopathic &amp; Osteopathic Physicians                                          | 6706 |\n",
       "| Physician Assistants &amp; Advanced Practice Nursing Providers                   | 4227 |\n",
       "| Behavioral Health &amp; Social Service Providers                                 | 2747 |\n",
       "| Other Service Providers                                                      |  909 |\n",
       "| Dental Providers                                                             |  795 |\n",
       "| Nursing Service Providers                                                    |  780 |\n",
       "| Student, Health Care                                                         |  495 |\n",
       "| Eye and Vision Services Providers                                            |  210 |\n",
       "| Pharmacy Service Providers                                                   |  186 |\n",
       "| Ambulatory Health Care Facilities                                            |  176 |\n",
       "| Dietary &amp; Nutritional Service Providers                                      |  164 |\n",
       "| Podiatric Medicine &amp; Surgery Service Providers                               |   89 |\n",
       "| Respiratory, Developmental, Rehabilitative and Restorative Service Providers |   86 |\n",
       "| Chiropractic Providers                                                       |   78 |\n",
       "| Nursing Service Related Providers                                            |   57 |\n",
       "| Speech, Language and Hearing Service Providers                               |   25 |\n",
       "| Agencies                                                                     |   24 |\n",
       "| Laboratories                                                                 |    7 |\n",
       "| Hospitals                                                                    |    5 |\n",
       "| Technologists, Technicians &amp; Other Technical Service Providers               |    4 |\n",
       "| Emergency Medical Service Providers                                          |    2 |\n",
       "| Suppliers                                                                    |    2 |\n",
       "| Managed Care Organizations                                                   |    1 |\n",
       "\n"
      ],
      "text/plain": [
       "   L1                                                                          \n",
       "1  Allopathic & Osteopathic Physicians                                         \n",
       "2  Physician Assistants & Advanced Practice Nursing Providers                  \n",
       "3  Behavioral Health & Social Service Providers                                \n",
       "4  Other Service Providers                                                     \n",
       "5  Dental Providers                                                            \n",
       "6  Nursing Service Providers                                                   \n",
       "7  Student, Health Care                                                        \n",
       "8  Eye and Vision Services Providers                                           \n",
       "9  Pharmacy Service Providers                                                  \n",
       "10 Ambulatory Health Care Facilities                                           \n",
       "11 Dietary & Nutritional Service Providers                                     \n",
       "12 Podiatric Medicine & Surgery Service Providers                              \n",
       "13 Respiratory, Developmental, Rehabilitative and Restorative Service Providers\n",
       "14 Chiropractic Providers                                                      \n",
       "15 Nursing Service Related Providers                                           \n",
       "16 Speech, Language and Hearing Service Providers                              \n",
       "17 Agencies                                                                    \n",
       "18 Laboratories                                                                \n",
       "19 Hospitals                                                                   \n",
       "20 Technologists, Technicians & Other Technical Service Providers              \n",
       "21 Emergency Medical Service Providers                                         \n",
       "22 Suppliers                                                                   \n",
       "23 Managed Care Organizations                                                  \n",
       "   n   \n",
       "1  6706\n",
       "2  4227\n",
       "3  2747\n",
       "4   909\n",
       "5   795\n",
       "6   780\n",
       "7   495\n",
       "8   210\n",
       "9   186\n",
       "10  176\n",
       "11  164\n",
       "12   89\n",
       "13   86\n",
       "14   78\n",
       "15   57\n",
       "16   25\n",
       "17   24\n",
       "18    7\n",
       "19    5\n",
       "20    4\n",
       "21    2\n",
       "22    2\n",
       "23    1"
      ]
     },
     "metadata": {},
     "output_type": "display_data"
    }
   ],
   "source": [
    "providers %>% group_by(L1) %>% tally() %>% arrange(desc(n))"
   ]
  },
  {
   "cell_type": "code",
   "execution_count": 111,
   "id": "40700fae",
   "metadata": {},
   "outputs": [
    {
     "name": "stderr",
     "output_type": "stream",
     "text": [
      "\u001b[1m\u001b[22mJoining with `by = join_by(PROVIDER_ID)`\n"
     ]
    }
   ],
   "source": [
    "phqdfproviders<-cleanphq.df %>% left_join(providers)"
   ]
  },
  {
   "cell_type": "code",
   "execution_count": 119,
   "id": "2d27b58c",
   "metadata": {},
   "outputs": [],
   "source": [
    "phqdfproviders %>% group_by(L1) %>% tally() %>% arrange(desc(n)) %>% write.csv(\"L1_count.csv\")\n",
    "phqdfproviders %>% group_by(L2) %>% tally() %>% arrange(desc(n)) %>% write.csv(\"L2_count.csv\")\n",
    "phqdfproviders %>% group_by(L3) %>% tally() %>% arrange(desc(n)) %>% write.csv(\"L3_count.csv\")"
   ]
  },
  {
   "cell_type": "markdown",
   "id": "2d8e8710",
   "metadata": {},
   "source": [
    "# Rates of dx"
   ]
  },
  {
   "cell_type": "code",
   "execution_count": 120,
   "id": "01b89bdf",
   "metadata": {},
   "outputs": [],
   "source": [
    "# create new column for the standard cutoff and a severe cutoff and a totally depressed cutoff\n",
    "phqdfproviders<-phqdfproviders %>% mutate(phqDepressed=case_when(PhqScore>=10~1,PhqScore<10~0),\n",
    "                                    phqSevereDepressed=case_when(PhqScore>=20~1,PhqScore<20~0),\n",
    "                                    phqDefDepressed=case_when(PhqScore>=26~1,PhqScore<26~0))"
   ]
  },
  {
   "cell_type": "code",
   "execution_count": 121,
   "id": "217f7361",
   "metadata": {},
   "outputs": [],
   "source": [
    "save(phqdfproviders,file=\"phqdf_ready.RData\")"
   ]
  },
  {
   "cell_type": "code",
   "execution_count": 122,
   "id": "fb067215",
   "metadata": {},
   "outputs": [],
   "source": [
    "#count of Depression from Any Source\n",
    "table(phqdfproviders$DepAny)  %>% write.csv(\"EncDepression_Any_Source.csv\")"
   ]
  },
  {
   "cell_type": "code",
   "execution_count": 135,
   "id": "7098f51a",
   "metadata": {},
   "outputs": [
    {
     "data": {
      "text/html": [
       "<table class=\"dataframe\">\n",
       "<caption>A data.frame: 2 × 2</caption>\n",
       "<thead>\n",
       "\t<tr><th scope=col>phqDepressed</th><th scope=col>n</th></tr>\n",
       "\t<tr><th scope=col>&lt;dbl&gt;</th><th scope=col>&lt;int&gt;</th></tr>\n",
       "</thead>\n",
       "<tbody>\n",
       "\t<tr><td>0</td><td>365358</td></tr>\n",
       "\t<tr><td>1</td><td>279033</td></tr>\n",
       "</tbody>\n",
       "</table>\n"
      ],
      "text/latex": [
       "A data.frame: 2 × 2\n",
       "\\begin{tabular}{ll}\n",
       " phqDepressed & n\\\\\n",
       " <dbl> & <int>\\\\\n",
       "\\hline\n",
       "\t 0 & 365358\\\\\n",
       "\t 1 & 279033\\\\\n",
       "\\end{tabular}\n"
      ],
      "text/markdown": [
       "\n",
       "A data.frame: 2 × 2\n",
       "\n",
       "| phqDepressed &lt;dbl&gt; | n &lt;int&gt; |\n",
       "|---|---|\n",
       "| 0 | 365358 |\n",
       "| 1 | 279033 |\n",
       "\n"
      ],
      "text/plain": [
       "  phqDepressed n     \n",
       "1 0            365358\n",
       "2 1            279033"
      ]
     },
     "metadata": {},
     "output_type": "display_data"
    },
    {
     "data": {
      "text/html": [
       "<table class=\"dataframe\">\n",
       "<caption>A data.frame: 2 × 2</caption>\n",
       "<thead>\n",
       "\t<tr><th scope=col>phqSevereDepressed</th><th scope=col>n</th></tr>\n",
       "\t<tr><th scope=col>&lt;dbl&gt;</th><th scope=col>&lt;int&gt;</th></tr>\n",
       "</thead>\n",
       "<tbody>\n",
       "\t<tr><td>0</td><td>578090</td></tr>\n",
       "\t<tr><td>1</td><td> 66301</td></tr>\n",
       "</tbody>\n",
       "</table>\n"
      ],
      "text/latex": [
       "A data.frame: 2 × 2\n",
       "\\begin{tabular}{ll}\n",
       " phqSevereDepressed & n\\\\\n",
       " <dbl> & <int>\\\\\n",
       "\\hline\n",
       "\t 0 & 578090\\\\\n",
       "\t 1 &  66301\\\\\n",
       "\\end{tabular}\n"
      ],
      "text/markdown": [
       "\n",
       "A data.frame: 2 × 2\n",
       "\n",
       "| phqSevereDepressed &lt;dbl&gt; | n &lt;int&gt; |\n",
       "|---|---|\n",
       "| 0 | 578090 |\n",
       "| 1 |  66301 |\n",
       "\n"
      ],
      "text/plain": [
       "  phqSevereDepressed n     \n",
       "1 0                  578090\n",
       "2 1                   66301"
      ]
     },
     "metadata": {},
     "output_type": "display_data"
    },
    {
     "data": {
      "text/html": [
       "<table class=\"dataframe\">\n",
       "<caption>A data.frame: 2 × 2</caption>\n",
       "<thead>\n",
       "\t<tr><th scope=col>phqDefDepressed</th><th scope=col>n</th></tr>\n",
       "\t<tr><th scope=col>&lt;dbl&gt;</th><th scope=col>&lt;int&gt;</th></tr>\n",
       "</thead>\n",
       "<tbody>\n",
       "\t<tr><td>0</td><td>636329</td></tr>\n",
       "\t<tr><td>1</td><td>  8062</td></tr>\n",
       "</tbody>\n",
       "</table>\n"
      ],
      "text/latex": [
       "A data.frame: 2 × 2\n",
       "\\begin{tabular}{ll}\n",
       " phqDefDepressed & n\\\\\n",
       " <dbl> & <int>\\\\\n",
       "\\hline\n",
       "\t 0 & 636329\\\\\n",
       "\t 1 &   8062\\\\\n",
       "\\end{tabular}\n"
      ],
      "text/markdown": [
       "\n",
       "A data.frame: 2 × 2\n",
       "\n",
       "| phqDefDepressed &lt;dbl&gt; | n &lt;int&gt; |\n",
       "|---|---|\n",
       "| 0 | 636329 |\n",
       "| 1 |   8062 |\n",
       "\n"
      ],
      "text/plain": [
       "  phqDefDepressed n     \n",
       "1 0               636329\n",
       "2 1                 8062"
      ]
     },
     "metadata": {},
     "output_type": "display_data"
    }
   ],
   "source": [
    "phqDepTally<-phqdfproviders %>% group_by(phqDepressed) %>% tally()%>% as.data.frame()\n",
    "phqSevDepTally<-phqdfproviders %>% group_by(phqSevereDepressed) %>% tally() %>% as.data.frame()\n",
    "phqDefDepTally<-phqdfproviders %>% group_by(phqDefDepressed) %>% tally()%>% as.data.frame()\n",
    "\n",
    "\n",
    "phqDepTally\n",
    "phqSevDepTally\n",
    "phqDefDepTally"
   ]
  },
  {
   "cell_type": "code",
   "execution_count": null,
   "id": "734eed30",
   "metadata": {},
   "outputs": [],
   "source": [
    "phqdfproviders %>% group_by(Depressed) %>% tally(phqDepressed==0) %>% mutate(percent=n/nrow(complete.df))"
   ]
  },
  {
   "cell_type": "markdown",
   "id": "264a463b",
   "metadata": {},
   "source": [
    "63% of patients with Phq had a low PHQ score and were absent a diagnosis in the record. Only 1% had a low score and a diagnosis in the record."
   ]
  },
  {
   "cell_type": "code",
   "execution_count": 136,
   "id": "6e9cd13e",
   "metadata": {
    "scrolled": true
   },
   "outputs": [
    {
     "data": {
      "text/html": [
       "<table class=\"dataframe\">\n",
       "<caption>A tibble: 2 × 3</caption>\n",
       "<thead>\n",
       "\t<tr><th scope=col>Depressed</th><th scope=col>n</th><th scope=col>percent</th></tr>\n",
       "\t<tr><th scope=col>&lt;dbl&gt;</th><th scope=col>&lt;dbl&gt;</th><th scope=col>&lt;dbl&gt;</th></tr>\n",
       "</thead>\n",
       "<tbody>\n",
       "\t<tr><td>0</td><td>233088</td><td>0.36171827</td></tr>\n",
       "\t<tr><td>1</td><td> 45945</td><td>0.07129988</td></tr>\n",
       "</tbody>\n",
       "</table>\n"
      ],
      "text/latex": [
       "A tibble: 2 × 3\n",
       "\\begin{tabular}{lll}\n",
       " Depressed & n & percent\\\\\n",
       " <dbl> & <dbl> & <dbl>\\\\\n",
       "\\hline\n",
       "\t 0 & 233088 & 0.36171827\\\\\n",
       "\t 1 &  45945 & 0.07129988\\\\\n",
       "\\end{tabular}\n"
      ],
      "text/markdown": [
       "\n",
       "A tibble: 2 × 3\n",
       "\n",
       "| Depressed &lt;dbl&gt; | n &lt;dbl&gt; | percent &lt;dbl&gt; |\n",
       "|---|---|---|\n",
       "| 0 | 233088 | 0.36171827 |\n",
       "| 1 |  45945 | 0.07129988 |\n",
       "\n"
      ],
      "text/plain": [
       "  Depressed n      percent   \n",
       "1 0         233088 0.36171827\n",
       "2 1          45945 0.07129988"
      ]
     },
     "metadata": {},
     "output_type": "display_data"
    },
    {
     "data": {
      "text/html": [
       "<table class=\"dataframe\">\n",
       "<caption>A tibble: 2 × 3</caption>\n",
       "<thead>\n",
       "\t<tr><th scope=col>Depressed</th><th scope=col>n</th><th scope=col>percent</th></tr>\n",
       "\t<tr><th scope=col>&lt;dbl&gt;</th><th scope=col>&lt;dbl&gt;</th><th scope=col>&lt;dbl&gt;</th></tr>\n",
       "</thead>\n",
       "<tbody>\n",
       "\t<tr><td>0</td><td>233088</td><td>0.8353421</td></tr>\n",
       "\t<tr><td>1</td><td> 45945</td><td>0.1646579</td></tr>\n",
       "</tbody>\n",
       "</table>\n"
      ],
      "text/latex": [
       "A tibble: 2 × 3\n",
       "\\begin{tabular}{lll}\n",
       " Depressed & n & percent\\\\\n",
       " <dbl> & <dbl> & <dbl>\\\\\n",
       "\\hline\n",
       "\t 0 & 233088 & 0.8353421\\\\\n",
       "\t 1 &  45945 & 0.1646579\\\\\n",
       "\\end{tabular}\n"
      ],
      "text/markdown": [
       "\n",
       "A tibble: 2 × 3\n",
       "\n",
       "| Depressed &lt;dbl&gt; | n &lt;dbl&gt; | percent &lt;dbl&gt; |\n",
       "|---|---|---|\n",
       "| 0 | 233088 | 0.8353421 |\n",
       "| 1 |  45945 | 0.1646579 |\n",
       "\n"
      ],
      "text/plain": [
       "  Depressed n      percent  \n",
       "1 0         233088 0.8353421\n",
       "2 1          45945 0.1646579"
      ]
     },
     "metadata": {},
     "output_type": "display_data"
    }
   ],
   "source": [
    "phqdfproviders %>% group_by(Depressed) %>% tally(phqDepressed) %>% mutate(percent=n/nrow(phqdfproviders))\n",
    "phqdfproviders %>% group_by(Depressed) %>% tally(phqDepressed) %>% mutate(percent=n/phqDepTally[2,2])"
   ]
  },
  {
   "cell_type": "markdown",
   "id": "fa56256f",
   "metadata": {},
   "source": [
    "However, 28% of people with a PHQ  scored >10 did not have a diagnosis in the record. Only 6% of people with a PhQ and elevated score had a corresponding diagnosis in the record. Taken as a proportion of those with elevated sxs, only 18.4% had a depression entry in the record. "
   ]
  },
  {
   "cell_type": "code",
   "execution_count": 137,
   "id": "61fc199b",
   "metadata": {},
   "outputs": [
    {
     "data": {
      "text/html": [
       "<table class=\"dataframe\">\n",
       "<caption>A tibble: 2 × 3</caption>\n",
       "<thead>\n",
       "\t<tr><th scope=col>Depressed</th><th scope=col>n</th><th scope=col>percent</th></tr>\n",
       "\t<tr><th scope=col>&lt;dbl&gt;</th><th scope=col>&lt;dbl&gt;</th><th scope=col>&lt;dbl&gt;</th></tr>\n",
       "</thead>\n",
       "<tbody>\n",
       "\t<tr><td>0</td><td>51562</td><td>0.08001664</td></tr>\n",
       "\t<tr><td>1</td><td>14739</td><td>0.02287276</td></tr>\n",
       "</tbody>\n",
       "</table>\n"
      ],
      "text/latex": [
       "A tibble: 2 × 3\n",
       "\\begin{tabular}{lll}\n",
       " Depressed & n & percent\\\\\n",
       " <dbl> & <dbl> & <dbl>\\\\\n",
       "\\hline\n",
       "\t 0 & 51562 & 0.08001664\\\\\n",
       "\t 1 & 14739 & 0.02287276\\\\\n",
       "\\end{tabular}\n"
      ],
      "text/markdown": [
       "\n",
       "A tibble: 2 × 3\n",
       "\n",
       "| Depressed &lt;dbl&gt; | n &lt;dbl&gt; | percent &lt;dbl&gt; |\n",
       "|---|---|---|\n",
       "| 0 | 51562 | 0.08001664 |\n",
       "| 1 | 14739 | 0.02287276 |\n",
       "\n"
      ],
      "text/plain": [
       "  Depressed n     percent   \n",
       "1 0         51562 0.08001664\n",
       "2 1         14739 0.02287276"
      ]
     },
     "metadata": {},
     "output_type": "display_data"
    },
    {
     "data": {
      "text/html": [
       "<table class=\"dataframe\">\n",
       "<caption>A tibble: 2 × 3</caption>\n",
       "<thead>\n",
       "\t<tr><th scope=col>Depressed</th><th scope=col>n</th><th scope=col>percent</th></tr>\n",
       "\t<tr><th scope=col>&lt;dbl&gt;</th><th scope=col>&lt;dbl&gt;</th><th scope=col>&lt;dbl&gt;</th></tr>\n",
       "</thead>\n",
       "<tbody>\n",
       "\t<tr><td>0</td><td>51562</td><td>0.7776957</td></tr>\n",
       "\t<tr><td>1</td><td>14739</td><td>0.2223043</td></tr>\n",
       "</tbody>\n",
       "</table>\n"
      ],
      "text/latex": [
       "A tibble: 2 × 3\n",
       "\\begin{tabular}{lll}\n",
       " Depressed & n & percent\\\\\n",
       " <dbl> & <dbl> & <dbl>\\\\\n",
       "\\hline\n",
       "\t 0 & 51562 & 0.7776957\\\\\n",
       "\t 1 & 14739 & 0.2223043\\\\\n",
       "\\end{tabular}\n"
      ],
      "text/markdown": [
       "\n",
       "A tibble: 2 × 3\n",
       "\n",
       "| Depressed &lt;dbl&gt; | n &lt;dbl&gt; | percent &lt;dbl&gt; |\n",
       "|---|---|---|\n",
       "| 0 | 51562 | 0.7776957 |\n",
       "| 1 | 14739 | 0.2223043 |\n",
       "\n"
      ],
      "text/plain": [
       "  Depressed n     percent  \n",
       "1 0         51562 0.7776957\n",
       "2 1         14739 0.2223043"
      ]
     },
     "metadata": {},
     "output_type": "display_data"
    }
   ],
   "source": [
    "phqdfproviders %>% group_by(Depressed) %>% tally(phqSevereDepressed) %>% mutate(percent=n/nrow(phqdfproviders))\n",
    "phqdfproviders %>% group_by(Depressed) %>% tally(phqSevereDepressed) %>% mutate(percent=n/phqSevDepTally[2,2])"
   ]
  },
  {
   "cell_type": "markdown",
   "id": "26e6beae",
   "metadata": {},
   "source": [
    "If we use the cutoff of 20 where we expect high symptom reporting, we see only 2% of patients with severe scores have a corresponding record of Depressed. 6% of people with severe depression indicated by the phq are listed as not depressed. \n",
    "Bottom table is for the same proportions taken out of the number of severely depressed. 76% with high scores are categorized as not depressed and only 23% diagnosed as not depressed."
   ]
  },
  {
   "cell_type": "code",
   "execution_count": 138,
   "id": "ea0a60bb",
   "metadata": {},
   "outputs": [
    {
     "data": {
      "text/html": [
       "<table class=\"dataframe\">\n",
       "<caption>A tibble: 2 × 3</caption>\n",
       "<thead>\n",
       "\t<tr><th scope=col>Depressed</th><th scope=col>n</th><th scope=col>percent</th></tr>\n",
       "\t<tr><th scope=col>&lt;dbl&gt;</th><th scope=col>&lt;dbl&gt;</th><th scope=col>&lt;dbl&gt;</th></tr>\n",
       "</thead>\n",
       "<tbody>\n",
       "\t<tr><td>0</td><td>51562</td><td>0.08001664</td></tr>\n",
       "\t<tr><td>1</td><td>14739</td><td>0.02287276</td></tr>\n",
       "</tbody>\n",
       "</table>\n"
      ],
      "text/latex": [
       "A tibble: 2 × 3\n",
       "\\begin{tabular}{lll}\n",
       " Depressed & n & percent\\\\\n",
       " <dbl> & <dbl> & <dbl>\\\\\n",
       "\\hline\n",
       "\t 0 & 51562 & 0.08001664\\\\\n",
       "\t 1 & 14739 & 0.02287276\\\\\n",
       "\\end{tabular}\n"
      ],
      "text/markdown": [
       "\n",
       "A tibble: 2 × 3\n",
       "\n",
       "| Depressed &lt;dbl&gt; | n &lt;dbl&gt; | percent &lt;dbl&gt; |\n",
       "|---|---|---|\n",
       "| 0 | 51562 | 0.08001664 |\n",
       "| 1 | 14739 | 0.02287276 |\n",
       "\n"
      ],
      "text/plain": [
       "  Depressed n     percent   \n",
       "1 0         51562 0.08001664\n",
       "2 1         14739 0.02287276"
      ]
     },
     "metadata": {},
     "output_type": "display_data"
    },
    {
     "data": {
      "text/html": [
       "<table class=\"dataframe\">\n",
       "<caption>A tibble: 2 × 3</caption>\n",
       "<thead>\n",
       "\t<tr><th scope=col>Depressed</th><th scope=col>n</th><th scope=col>percent</th></tr>\n",
       "\t<tr><th scope=col>&lt;dbl&gt;</th><th scope=col>&lt;dbl&gt;</th><th scope=col>&lt;dbl&gt;</th></tr>\n",
       "</thead>\n",
       "<tbody>\n",
       "\t<tr><td>0</td><td>6152</td><td>0.7630861</td></tr>\n",
       "\t<tr><td>1</td><td>1910</td><td>0.2369139</td></tr>\n",
       "</tbody>\n",
       "</table>\n"
      ],
      "text/latex": [
       "A tibble: 2 × 3\n",
       "\\begin{tabular}{lll}\n",
       " Depressed & n & percent\\\\\n",
       " <dbl> & <dbl> & <dbl>\\\\\n",
       "\\hline\n",
       "\t 0 & 6152 & 0.7630861\\\\\n",
       "\t 1 & 1910 & 0.2369139\\\\\n",
       "\\end{tabular}\n"
      ],
      "text/markdown": [
       "\n",
       "A tibble: 2 × 3\n",
       "\n",
       "| Depressed &lt;dbl&gt; | n &lt;dbl&gt; | percent &lt;dbl&gt; |\n",
       "|---|---|---|\n",
       "| 0 | 6152 | 0.7630861 |\n",
       "| 1 | 1910 | 0.2369139 |\n",
       "\n"
      ],
      "text/plain": [
       "  Depressed n    percent  \n",
       "1 0         6152 0.7630861\n",
       "2 1         1910 0.2369139"
      ]
     },
     "metadata": {},
     "output_type": "display_data"
    }
   ],
   "source": [
    "phqdfproviders %>% group_by(Depressed) %>% tally(phqSevereDepressed) %>% mutate(percent=n/nrow(phqdfproviders))\n",
    "phqdfproviders %>% group_by(Depressed) %>% tally(phqDefDepressed) %>% mutate(percent=n/phqDefDepTally[2,2])"
   ]
  },
  {
   "cell_type": "code",
   "execution_count": 158,
   "id": "a5183618",
   "metadata": {},
   "outputs": [],
   "source": [
    "Phqscoretable<-table(phqdfproviders$PhqScore)\n",
    "Depressedtable<-table(phqdfproviders$Depressed)\n",
    "phqDepressedtable<-table(phqdfproviders$phqDepressed)\n",
    "phqSevDeptable<-table(phqdfproviders$phqSevereDepressed)\n",
    "phqDefDeptable<-table(phqdfproviders$phqDefDepressed)\n",
    "\n",
    "save(Phqscoretable,Depressedtable,phqDepressedtable,phqSevDeptable,phqDefDeptable,file=\"PhqCounts.RData\")\n",
    "\n"
   ]
  },
  {
   "cell_type": "code",
   "execution_count": 161,
   "id": "6a048355",
   "metadata": {},
   "outputs": [
    {
     "name": "stderr",
     "output_type": "stream",
     "text": [
      "\u001b[1m\u001b[22m`stat_bin()` using `bins = 30`. Pick better value with `binwidth`.\n"
     ]
    },
    {
     "data": {
      "image/png": "[encoded data removed]",
      "text/plain": [
       "plot without title"
      ]
     },
     "metadata": {
      "image/png": {
       "height": 420,
       "width": 420
      }
     },
     "output_type": "display_data"
    }
   ],
   "source": [
    "library(ggplot2)\n",
    "ggplot(phqdfproviders,aes(x=PhqScore)) +\n",
    "  stat_bin(aes(y=cumsum(after_stat(count))))"
   ]
  },
  {
   "cell_type": "markdown",
   "id": "c341b9bf",
   "metadata": {},
   "source": [
    "# ML models"
   ]
  },
  {
   "cell_type": "markdown",
   "id": "f5285967",
   "metadata": {},
   "source": [
    "### Prep ML model "
   ]
  },
  {
   "cell_type": "code",
   "execution_count": null,
   "id": "549e8ddf",
   "metadata": {},
   "outputs": [],
   "source": [
    "mlsubset<-phqdfproviders %>% slice_sample(n=10000)"
   ]
  },
  {
   "cell_type": "code",
   "execution_count": 186,
   "id": "dfcaa694",
   "metadata": {},
   "outputs": [],
   "source": [
    "mlsubset<-mutate(mlsubset,Depressed=as.factor(Depressed),DepAny=as.factor(DepAny),phqDepressed=as.factor(phqDepressed),phqSevereDepressed=as.factor(phqSevereDepressed))"
   ]
  },
  {
   "cell_type": "code",
   "execution_count": 187,
   "id": "abf49151",
   "metadata": {},
   "outputs": [],
   "source": [
    "mlsubset %>% save(file=\"mlsubset.RData\")"
   ]
  },
  {
   "cell_type": "code",
   "execution_count": null,
   "id": "a5ae044a",
   "metadata": {},
   "outputs": [],
   "source": [
    "mlsubset %>% table(mlsubset$Depressed)"
   ]
  },
  {
   "cell_type": "markdown",
   "id": "42aa8a55",
   "metadata": {},
   "source": [
    "### SVM Model"
   ]
  },
  {
   "cell_type": "code",
   "execution_count": 199,
   "id": "5f8a0813",
   "metadata": {},
   "outputs": [],
   "source": [
    "#set seed for random number generation\n",
    "set.seed(10)\n",
    "mlsubset<-mlsubset %>% ungroup() %>% select(BMI:phqDefDepressed,-X,-`NA`)\n",
    "#split train and test data 80/20\n",
    "mlsubset[,\"train\"] <- ifelse(runif(nrow(mlsubset))<0.8,1,0)\n",
    "trainset <- mlsubset[mlsubset$train==1,]\n",
    "testset <- mlsubset[mlsubset$train==0,]\n",
    "#find “train” column index\n",
    "trainColNum <- grep(\"train\",names(trainset))\n",
    "#remove column from train and test sets\n",
    "trainset <- trainset[,-trainColNum]\n",
    "testset <- testset[,-trainColNum]"
   ]
  },
  {
   "cell_type": "code",
   "execution_count": 200,
   "id": "2e351b4d",
   "metadata": {},
   "outputs": [
    {
     "data": {
      "text/html": [
       "<style>\n",
       ".list-inline {list-style: none; margin:0; padding: 0}\n",
       ".list-inline>li {display: inline-block}\n",
       ".list-inline>li:not(:last-child)::after {content: \"\\00b7\"; padding: 0 .5ex}\n",
       "</style>\n",
       "<ol class=list-inline><li>'BMI'</li><li>'SystolicBP'</li><li>'DiastolicBP'</li><li>'Audit'</li><li>'Phq2'</li><li>'Diabetes'</li><li>'Obesity'</li><li>'Hyperlipidemia'</li><li>'Depressed'</li><li>'Bipolar'</li><li>'Anxiety'</li><li>'Alcohol'</li><li>'Sleep'</li><li>'SUD'</li><li>'Tobacco'</li><li>'SchizophreniaSpectrum'</li><li>'Adjustment'</li><li>'EatingDisorders'</li><li>'Hypertension'</li><li>'PTSD'</li><li>'AdminDate.y'</li><li>'phqDepressed'</li><li>'phqSevereDepressed'</li><li>'DepAny'</li><li>'Age'</li><li>'FPL'</li><li>'Marital'</li><li>'Gender'</li><li>'Race'</li><li>'Rural'</li><li>'Sex'</li><li>'Sexor'</li><li>'L1'</li><li>'L2'</li><li>'L3'</li><li>'phqDefDepressed'</li></ol>\n"
      ],
      "text/latex": [
       "\\begin{enumerate*}\n",
       "\\item 'BMI'\n",
       "\\item 'SystolicBP'\n",
       "\\item 'DiastolicBP'\n",
       "\\item 'Audit'\n",
       "\\item 'Phq2'\n",
       "\\item 'Diabetes'\n",
       "\\item 'Obesity'\n",
       "\\item 'Hyperlipidemia'\n",
       "\\item 'Depressed'\n",
       "\\item 'Bipolar'\n",
       "\\item 'Anxiety'\n",
       "\\item 'Alcohol'\n",
       "\\item 'Sleep'\n",
       "\\item 'SUD'\n",
       "\\item 'Tobacco'\n",
       "\\item 'SchizophreniaSpectrum'\n",
       "\\item 'Adjustment'\n",
       "\\item 'EatingDisorders'\n",
       "\\item 'Hypertension'\n",
       "\\item 'PTSD'\n",
       "\\item 'AdminDate.y'\n",
       "\\item 'phqDepressed'\n",
       "\\item 'phqSevereDepressed'\n",
       "\\item 'DepAny'\n",
       "\\item 'Age'\n",
       "\\item 'FPL'\n",
       "\\item 'Marital'\n",
       "\\item 'Gender'\n",
       "\\item 'Race'\n",
       "\\item 'Rural'\n",
       "\\item 'Sex'\n",
       "\\item 'Sexor'\n",
       "\\item 'L1'\n",
       "\\item 'L2'\n",
       "\\item 'L3'\n",
       "\\item 'phqDefDepressed'\n",
       "\\end{enumerate*}\n"
      ],
      "text/markdown": [
       "1. 'BMI'\n",
       "2. 'SystolicBP'\n",
       "3. 'DiastolicBP'\n",
       "4. 'Audit'\n",
       "5. 'Phq2'\n",
       "6. 'Diabetes'\n",
       "7. 'Obesity'\n",
       "8. 'Hyperlipidemia'\n",
       "9. 'Depressed'\n",
       "10. 'Bipolar'\n",
       "11. 'Anxiety'\n",
       "12. 'Alcohol'\n",
       "13. 'Sleep'\n",
       "14. 'SUD'\n",
       "15. 'Tobacco'\n",
       "16. 'SchizophreniaSpectrum'\n",
       "17. 'Adjustment'\n",
       "18. 'EatingDisorders'\n",
       "19. 'Hypertension'\n",
       "20. 'PTSD'\n",
       "21. 'AdminDate.y'\n",
       "22. 'phqDepressed'\n",
       "23. 'phqSevereDepressed'\n",
       "24. 'DepAny'\n",
       "25. 'Age'\n",
       "26. 'FPL'\n",
       "27. 'Marital'\n",
       "28. 'Gender'\n",
       "29. 'Race'\n",
       "30. 'Rural'\n",
       "31. 'Sex'\n",
       "32. 'Sexor'\n",
       "33. 'L1'\n",
       "34. 'L2'\n",
       "35. 'L3'\n",
       "36. 'phqDefDepressed'\n",
       "\n",
       "\n"
      ],
      "text/plain": [
       " [1] \"BMI\"                   \"SystolicBP\"            \"DiastolicBP\"          \n",
       " [4] \"Audit\"                 \"Phq2\"                  \"Diabetes\"             \n",
       " [7] \"Obesity\"               \"Hyperlipidemia\"        \"Depressed\"            \n",
       "[10] \"Bipolar\"               \"Anxiety\"               \"Alcohol\"              \n",
       "[13] \"Sleep\"                 \"SUD\"                   \"Tobacco\"              \n",
       "[16] \"SchizophreniaSpectrum\" \"Adjustment\"            \"EatingDisorders\"      \n",
       "[19] \"Hypertension\"          \"PTSD\"                  \"AdminDate.y\"          \n",
       "[22] \"phqDepressed\"          \"phqSevereDepressed\"    \"DepAny\"               \n",
       "[25] \"Age\"                   \"FPL\"                   \"Marital\"              \n",
       "[28] \"Gender\"                \"Race\"                  \"Rural\"                \n",
       "[31] \"Sex\"                   \"Sexor\"                 \"L1\"                   \n",
       "[34] \"L2\"                    \"L3\"                    \"phqDefDepressed\"      "
      ]
     },
     "metadata": {},
     "output_type": "display_data"
    }
   ],
   "source": [
    "trainset %>% colnames()"
   ]
  },
  {
   "cell_type": "code",
   "execution_count": null,
   "id": "d8640086",
   "metadata": {},
   "outputs": [],
   "source": [
    "#build default cost model with Encounter Diagnoses\n",
    "library(e1071)\n",
    "svm_model<- svm(Depressed~., data=trainset,type=\"C-classification\", kernel=\"linear\",cross=10)"
   ]
  },
  {
   "cell_type": "code",
   "execution_count": null,
   "id": "1a1267f8",
   "metadata": {
    "scrolled": false
   },
   "outputs": [],
   "source": [
    "summary(svm_model)"
   ]
  },
  {
   "cell_type": "code",
   "execution_count": 177,
   "id": "c6850633",
   "metadata": {},
   "outputs": [],
   "source": [
    "#training accuracy\n",
    "pred_train <- predict(svm_model,trainset)"
   ]
  },
  {
   "cell_type": "code",
   "execution_count": 178,
   "id": "48158798",
   "metadata": {},
   "outputs": [
    {
     "name": "stderr",
     "output_type": "stream",
     "text": [
      "Warning message in `==.default`(pred_train, trainset$Depressed):\n",
      "“longer object length is not a multiple of shorter object length”\n",
      "Warning message in is.na(e1) | is.na(e2):\n",
      "“longer object length is not a multiple of shorter object length”\n"
     ]
    },
    {
     "data": {
      "text/html": [
       "0.892432364316664"
      ],
      "text/latex": [
       "0.892432364316664"
      ],
      "text/markdown": [
       "0.892432364316664"
      ],
      "text/plain": [
       "[1] 0.8924324"
      ]
     },
     "metadata": {},
     "output_type": "display_data"
    }
   ],
   "source": [
    "mean(pred_train==trainset$Depressed)\n",
    "\n"
   ]
  },
  {
   "cell_type": "code",
   "execution_count": 192,
   "id": "049c400c",
   "metadata": {},
   "outputs": [
    {
     "data": {
      "text/html": [
       "25030"
      ],
      "text/latex": [
       "25030"
      ],
      "text/markdown": [
       "25030"
      ],
      "text/plain": [
       "[1] 25030"
      ]
     },
     "metadata": {},
     "output_type": "display_data"
    },
    {
     "data": {
      "text/html": [
       "515815"
      ],
      "text/latex": [
       "515815"
      ],
      "text/markdown": [
       "515815"
      ],
      "text/plain": [
       "[1] 515815"
      ]
     },
     "metadata": {},
     "output_type": "display_data"
    }
   ],
   "source": [
    "length(pred_train)\n",
    "length(trainset$Depressed)"
   ]
  },
  {
   "cell_type": "code",
   "execution_count": 191,
   "id": "a3f5432d",
   "metadata": {},
   "outputs": [
    {
     "ename": "ERROR",
     "evalue": "Error in table(data, reference, dnn = dnn, ...): all arguments must have the same length\n",
     "output_type": "error",
     "traceback": [
      "Error in table(data, reference, dnn = dnn, ...): all arguments must have the same length\nTraceback:\n",
      "1. confusionMatrix(data = pred_train, reference = trainset$Depressed)",
      "2. confusionMatrix.default(data = pred_train, reference = trainset$Depressed)",
      "3. table(data, reference, dnn = dnn, ...)",
      "4. stop(\"all arguments must have the same length\")"
     ]
    }
   ],
   "source": [
    "# Confusion matrix\n",
    "library(caret)\n",
    "confusionMatrix(data=pred_train,reference=trainset)"
   ]
  },
  {
   "cell_type": "code",
   "execution_count": null,
   "id": "56df118c",
   "metadata": {},
   "outputs": [],
   "source": [
    "cm = table(test_set[, 3], pred_train)"
   ]
  },
  {
   "cell_type": "code",
   "execution_count": 193,
   "id": "f25d6554",
   "metadata": {},
   "outputs": [
    {
     "ename": "ERROR",
     "evalue": "Error in model.frame.default(object, data, xlev = xlev): factor L3 has new levels Acute Care, Neonatal-Perinatal Medicine\n",
     "output_type": "error",
     "traceback": [
      "Error in model.frame.default(object, data, xlev = xlev): factor L3 has new levels Acute Care, Neonatal-Perinatal Medicine\nTraceback:\n",
      "1. predict(svm_model, testset)",
      "2. predict.svm(svm_model, testset)",
      "3. model.matrix(delete.response(terms(object)), as.data.frame(newdata), \n .     xlev = object$xlevels)",
      "4. model.matrix.default(delete.response(terms(object)), as.data.frame(newdata), \n .     xlev = object$xlevels)",
      "5. model.frame(object, data, xlev = xlev)",
      "6. model.frame.default(object, data, xlev = xlev)",
      "7. stop(sprintf(ngettext(length(m), \"factor %s has new level %s\", \n .     \"factor %s has new levels %s\"), nm, paste(nxl[m], collapse = \", \")), \n .     domain = NA)"
     ]
    }
   ],
   "source": [
    "pred_test <- predict(svm_model,testset)\n",
    "mean(pred_test==testset$Depressed)\n"
   ]
  },
  {
   "cell_type": "code",
   "execution_count": 167,
   "id": "4565dfc3",
   "metadata": {},
   "outputs": [
    {
     "ename": "ERROR",
     "evalue": "Error in eval(predvars, data, env): object 'AdminDate' not found\n",
     "output_type": "error",
     "traceback": [
      "Error in eval(predvars, data, env): object 'AdminDate' not found\nTraceback:\n",
      "1. svm(Depressed ~ AdminDate, data = trainset, type = \"C-classification\", \n .     kernel = \"linear\")",
      "2. svm.formula(Depressed ~ AdminDate, data = trainset, type = \"C-classification\", \n .     kernel = \"linear\")",
      "3. eval(m, parent.frame())",
      "4. eval(m, parent.frame())",
      "5. stats::model.frame(formula = Depressed ~ AdminDate, data = trainset, \n .     na.action = function (object, ...) \n .     UseMethod(\"na.omit\"))",
      "6. model.frame.default(formula = Depressed ~ AdminDate, data = trainset, \n .     na.action = function (object, ...) \n .     UseMethod(\"na.omit\"))",
      "7. eval(predvars, data, env)",
      "8. eval(predvars, data, env)"
     ]
    }
   ],
   "source": [
    "set.seed(10)\n",
    "accuracy <- rep(NA,100)\n",
    "#calculate test accuracy for 100 different partitions\n",
    "for (i in 1:100){\n",
    "mlsubset[,\"train\"] <- ifelse(runif(nrow(mlsubset))<0.8,1,0)\n",
    "trainColNum <- grep(\"train\",names(mlsubset))\n",
    "trainset <- mlsubset[mlsubset$train==1,-trainColNum]\n",
    "testset <- mlsubset[mlsubset$train==0,-trainColNum]\n",
    "svm_model <- svm(Depressed~ AdminDate, data=trainset, type=\"C-classification\", kernel=\"linear\")\n",
    "pred_test <- predict(svm_model,testset)\n",
    "accuracy[i] <- mean(pred_test==testset$Depressed)\n",
    "}\n",
    "mean(accuracy)\n",
    "sd(accuracy)\n"
   ]
  },
  {
   "cell_type": "markdown",
   "id": "8154d775",
   "metadata": {},
   "source": [
    "The models perform too well, even with information that should be basically random like Admin date"
   ]
  },
  {
   "cell_type": "markdown",
   "id": "39cebf15",
   "metadata": {},
   "source": [
    "## Same as above but trying DepAny"
   ]
  },
  {
   "cell_type": "code",
   "execution_count": 165,
   "id": "c3bc0bc5",
   "metadata": {
    "scrolled": true
   },
   "outputs": [
    {
     "ename": "ERROR",
     "evalue": "Error in eval(expr, p): object 'trainset' not found\n",
     "output_type": "error",
     "traceback": [
      "Error in eval(expr, p): object 'trainset' not found\nTraceback:\n",
      "1. svm(DepAny ~ phqEnc, data = trainset, type = \"C-classification\", \n .     kernel = \"linear\")",
      "2. svm.formula(DepAny ~ phqEnc, data = trainset, type = \"C-classification\", \n .     kernel = \"linear\")",
      "3. eval.parent(m$data)",
      "4. eval(expr, p)",
      "5. eval(expr, p)"
     ]
    }
   ],
   "source": [
    "#build default cost model with DepAny Diagnosis\n",
    "library(e1071)\n",
    "svm_model<- svm(DepAny~phqEnc, data=trainset,type=\"C-classification\", kernel=\"linear\")"
   ]
  },
  {
   "cell_type": "code",
   "execution_count": null,
   "id": "3c988160",
   "metadata": {
    "scrolled": false
   },
   "outputs": [],
   "source": [
    "svm_model"
   ]
  },
  {
   "cell_type": "code",
   "execution_count": null,
   "id": "fe042b74",
   "metadata": {},
   "outputs": [],
   "source": [
    "#training accuracy\n",
    "pred_train <- predict(svm_model,trainset)"
   ]
  },
  {
   "cell_type": "code",
   "execution_count": null,
   "id": "4723fc30",
   "metadata": {},
   "outputs": [],
   "source": [
    "mean(pred_train==trainset$DepAny)\n",
    "\n"
   ]
  },
  {
   "cell_type": "code",
   "execution_count": null,
   "id": "79effe38",
   "metadata": {},
   "outputs": [],
   "source": [
    "pred_test <- predict(svm_model,testset)\n",
    "mean(pred_test==testset$DepAny)\n"
   ]
  },
  {
   "cell_type": "code",
   "execution_count": null,
   "id": "7d47bd1d",
   "metadata": {},
   "outputs": [],
   "source": [
    "\n",
    "set.seed(10)\n",
    "accuracy <- rep(NA,100)\n",
    "#calculate test accuracy for 100 different partitions\n",
    "for (i in 1:100){\n",
    "mlsubset[,\"train\"] <- ifelse(runif(nrow(mlsubset))<0.8,1,0)\n",
    "trainColNum <- grep(\"train\",names(mlsubset))\n",
    "trainset <- mlsubset[mlsubset$train==1,-trainColNum]\n",
    "testset <- mlsubset[mlsubset$train==0,-trainColNum]\n",
    "svm_model <- svm(DepAny~ AdminDate, data=trainset, type=\"C-classification\", kernel=\"linear\")\n",
    "pred_test <- predict(svm_model,testset)\n",
    "accuracy[i] <- mean(pred_test==testset$DepAny)\n",
    "}\n",
    "mean(accuracy) #.637\n",
    "sd(accuracy) #.008\n",
    "\n"
   ]
  },
  {
   "cell_type": "code",
   "execution_count": null,
   "id": "9a1b349c",
   "metadata": {},
   "outputs": [],
   "source": [
    "# test of a full model with features \n",
    "mlsubsetSVM<-mlsubset  %>% select(AdminDate,INSTANCE_NUM,HEALTH_SYSTEM_ID,BMI:SEXORIENTATION_CD,DepAny,-`NA`,-train)"
   ]
  },
  {
   "cell_type": "code",
   "execution_count": null,
   "id": "7fbee1a1",
   "metadata": {},
   "outputs": [],
   "source": [
    "mlsubsetSVM %>% colnames()"
   ]
  },
  {
   "cell_type": "code",
   "execution_count": null,
   "id": "583abeff",
   "metadata": {},
   "outputs": [],
   "source": [
    "# results of model with no demographic features\n",
    "set.seed(10)\n",
    "accuracy <- rep(NA,100)\n",
    "#calculate test accuracy for 100 different partitions\n",
    "for (i in 1:100){\n",
    "mlsubsetSVM[,\"train\"] <- ifelse(runif(nrow(mlsubsetSVM))<0.8,1,0)\n",
    "trainColNum <- grep(\"train\",names(mlsubsetSVM))\n",
    "trainset <- mlsubsetSVM[mlsubsetSVM$train==1,-trainColNum]\n",
    "testset <- mlsubsetSVM[mlsubsetSVM$train==0,-trainColNum]\n",
    "svm_model <- svm(DepAny~INSTANCE_NUM+BMI+SystolicBP+DiastolicBP+Diabetes+Obesity+Hyperlipidemia+Hypertension, data=trainset, type=\"C-classification\", kernel=\"linear\")\n",
    "pred_test <- predict(svm_model,testset)\n",
    "accuracy[i] <- mean(pred_test==testset$DepAny)\n",
    "}\n",
    "mean(accuracy) #.7145\n",
    "sd(accuracy) #.00922\n",
    "\n"
   ]
  },
  {
   "cell_type": "code",
   "execution_count": null,
   "id": "b7d9f000",
   "metadata": {},
   "outputs": [],
   "source": [
    "#"
   ]
  },
  {
   "cell_type": "markdown",
   "id": "3a0776c6",
   "metadata": {},
   "source": [
    "### Decision Tree"
   ]
  },
  {
   "cell_type": "code",
   "execution_count": null,
   "id": "4d3a99d1",
   "metadata": {},
   "outputs": [],
   "source": [
    "library(rpart)\n",
    "#install.packages(\"rpart.plot\")\n",
    "#install.packages(\"rattle\")\n",
    "\n",
    "library(rpart.plot)"
   ]
  },
  {
   "cell_type": "code",
   "execution_count": null,
   "id": "53f075c8",
   "metadata": {},
   "outputs": [],
   "source": [
    "Deptree <- rpart(mlsubset$Depressed ~ mlsubset$PhqScore)"
   ]
  },
  {
   "cell_type": "code",
   "execution_count": null,
   "id": "b5a22696",
   "metadata": {},
   "outputs": [],
   "source": [
    "#provider tree with depressed encounter\n",
    "Deptreeprov <- rpart(mlsubset$Depressed ~ mlsubset$L2+mlsubset$PhqScore)"
   ]
  },
  {
   "cell_type": "code",
   "execution_count": null,
   "id": "04e1a6c1",
   "metadata": {},
   "outputs": [],
   "source": [
    "#provider tree with depressed any\n",
    "Deptreeprov <- rpart(mlsubset$DepAny ~ mlsubset$L2+mlsubset$Race)"
   ]
  },
  {
   "cell_type": "code",
   "execution_count": null,
   "id": "b0b04af7",
   "metadata": {},
   "outputs": [],
   "source": [
    "Deptreeprov"
   ]
  },
  {
   "cell_type": "code",
   "execution_count": null,
   "id": "c0db0fee",
   "metadata": {},
   "outputs": [],
   "source": [
    "rpart.plot(Deptreeprov, cex=.3)"
   ]
  },
  {
   "cell_type": "code",
   "execution_count": null,
   "id": "faef70e6",
   "metadata": {},
   "outputs": [],
   "source": [
    "Depanytree <- rpart(mlsubset$DepAny ~ mlsubset$HOMELESS_CD+mlsubset$HISPANIC_CD+mlsubset$RURAL_CD+mlsubset$CURRENT_FPL_CD+mlsubset$SEXORIENTATION_CD+mlsubset$SEX_CD\n",
    "                    +mlsubset$RACE_CD+mlsubset$BMI+mlsubset$SystolicBP+mlsubset$DiastolicBP+mlsubset$Obesity+mlsubset$Hyperlipidemia+mlsubset$Hypertension)"
   ]
  },
  {
   "cell_type": "code",
   "execution_count": null,
   "id": "dea9dd84",
   "metadata": {},
   "outputs": [],
   "source": [
    "Depanytree"
   ]
  },
  {
   "cell_type": "code",
   "execution_count": null,
   "id": "bbf54aca",
   "metadata": {},
   "outputs": [],
   "source": [
    "rpart.plot(Depanytree, cex=.3)"
   ]
  },
  {
   "cell_type": "code",
   "execution_count": null,
   "id": "9f7db96f",
   "metadata": {},
   "outputs": [],
   "source": [
    "library(rattle)\n",
    "fancyRpartPlot(Depanytree, caption = NULL)\n",
    "\n",
    "pdf(file=\"depanytree1.pdf\")\n",
    "fancyRpartPlot(Depanytree, caption = NULL,cex=.3)\n",
    "dev.off()"
   ]
  }
 ],
 "metadata": {
  "kernelspec": {
   "display_name": "R",
   "language": "R",
   "name": "ir"
  },
  "language_info": {
   "codemirror_mode": "r",
   "file_extension": ".r",
   "mimetype": "text/x-r-source",
   "name": "R",
   "pygments_lexer": "r",
   "version": "4.3.2"
  }
 },
 "nbformat": 4,
 "nbformat_minor": 5
}
